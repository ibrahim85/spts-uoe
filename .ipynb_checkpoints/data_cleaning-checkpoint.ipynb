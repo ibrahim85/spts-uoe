{
 "cells": [
  {
   "cell_type": "markdown",
   "metadata": {
    "collapsed": true
   },
   "source": [
    "# Data Cleaning"
   ]
  },
  {
   "cell_type": "markdown",
   "metadata": {},
   "source": [
    "### Data Dictionary\n",
    "\n",
    "The raw data contains the following data per station per reading:\n",
    "\n",
    "* Id - String - API Resource Id\n",
    "* Name - String - The common name of the station\n",
    "* PlaceType - String ?\n",
    "* TerminalName - String - ?\n",
    "* NbBikes - Integer - The number of available bikes\n",
    "* NbDocks - Integer - The total number of docking spaces\n",
    "* NbEmptyDocks - Integer - The number of available empty docking spaces\n",
    "* Timestamp - DateTime - The moment this reading was captured\n",
    "* InstallDate - DateTime - Date when the station was installed\n",
    "* RemovalDate - DateTime - Date when the station was removed\n",
    "* LastUpdated - DateTime - ?\n",
    "* Installed - Boolean - If the station is installed or not\n",
    "* Locked - Boolean - If the station is locked or not\n",
    "* Temporary - Boolean - If the station is temporary or not (TfL adds temporary stations to cope with demand.)\n",
    "* Latitude - Float - Latitude Coordinate\n",
    "* Longitude - Float - Longitude Coordinate\n",
    "\n",
    "The following variables will be derived from the raw data.\n",
    "\n",
    "* NbUnusableDocks - Integer - The number of non-working docking spaces. Computed with NbUnusableDocks = NbDocks - (NbBikes + NbEmptyDocks)"
   ]
  },
  {
   "cell_type": "markdown",
   "metadata": {},
   "source": [
    "## Set up"
   ]
  },
  {
   "cell_type": "markdown",
   "metadata": {},
   "source": [
    "### Imports"
   ]
  },
  {
   "cell_type": "code",
   "execution_count": 1,
   "metadata": {
    "collapsed": false
   },
   "outputs": [],
   "source": [
    "import logging\n",
    "import itertools\n",
    "import json\n",
    "import os\n",
    "import pandas as pd\n",
    "import pickle\n",
    "\n",
    "from datetime import datetime\n",
    "from os import listdir\n",
    "from os.path import isfile, join\n",
    "from src.data.parse_dataset import parse_dir, parse_json\n",
    "\n",
    "logger = logging.getLogger()\n",
    "logger.setLevel(logging.INFO)"
   ]
  },
  {
   "cell_type": "markdown",
   "metadata": {},
   "source": [
    "### Parse Raw Data "
   ]
  },
  {
   "cell_type": "markdown",
   "metadata": {},
   "source": [
    "#### Define the Parsing Functions"
   ]
  },
  {
   "cell_type": "code",
   "execution_count": 5,
   "metadata": {
    "collapsed": true
   },
   "outputs": [],
   "source": [
    "def parse_cycles(json_obj):\n",
    "    \"\"\"Parses TfL's BikePoint JSON response\"\"\"\n",
    "\n",
    "    return [parse_station(element) for element in json_obj]\n",
    "\n",
    "def parse_station(element):\n",
    "    \"\"\"Parses a JSON bicycle station object to a dictionary\"\"\"\n",
    "\n",
    "    obj = {\n",
    "        'Id': element['id'],\n",
    "        'Name': element['commonName'],\n",
    "        'Latitude': element['lat'],\n",
    "        'Longitude': element['lon'],\n",
    "        'PlaceType': element['placeType'],\n",
    "    }\n",
    "\n",
    "    for p in element['additionalProperties']:\n",
    "        obj[p['key']] = p['value']\n",
    "\n",
    "        if 'timestamp' not in obj:\n",
    "            obj['Timestamp'] = p['modified']\n",
    "        elif obj['Timestamp'] != p['modified']:\n",
    "            raise ValueError('The properties\\' timestamps for station %s do not match: %s != %s' % (\n",
    "            obj['id'], obj['Timestamp'], p['modified']))\n",
    "\n",
    "    return obj"
   ]
  },
  {
   "cell_type": "code",
   "execution_count": 6,
   "metadata": {
    "collapsed": false
   },
   "outputs": [],
   "source": [
    "def bike_file_date_fn(file_name):\n",
    "    \"\"\"Gets the file's date\"\"\"\n",
    "\n",
    "    return datetime.strptime(os.path.basename(file_name), 'BIKE-%Y-%m-%d:%H:%M:%S.json')\n",
    "\n",
    "def create_between_dates_filter(file_date_fn, date_start, date_end):\n",
    "    def filter_fn(file_name):\n",
    "        file_date = file_date_fn(file_name)\n",
    "        return file_date >= date_start and file_date <= date_end\n",
    "    \n",
    "    return filter_fn"
   ]
  },
  {
   "cell_type": "code",
   "execution_count": 7,
   "metadata": {
    "collapsed": false
   },
   "outputs": [],
   "source": [
    "filter_fn = create_between_dates_filter(bike_file_date_fn, \n",
    "                                       datetime(2016, 5, 16, 0, 0, 0),\n",
    "                                       datetime(2016, 5, 16, 23, 59, 59))\n",
    "\n",
    "#records = parse_dir('/home/jfconavarrete/Documents/Work/Dissertation/spts-uoe/data/dev_json', \n",
    "#                    parse_cycles, sort_fn=bike_file_date_fn, filter_fn=filter_fn)\n",
    "\n",
    "records = pickle.load(open(\"data/parsed/dataset.pickle\", \"rb\"))\n",
    "\n",
    "# records is a list of lists of dicts\n",
    "df = pd.DataFrame(list(itertools.chain.from_iterable(records))) \n",
    "\n",
    "df = remove_redundant_candidate_keys(df)"
   ]
  },
  {
   "cell_type": "markdown",
   "metadata": {},
   "source": [
    "#### Duplicate Removal\n",
    "\n",
    "We suspect that Id, Name and TerminalName have the same values in each record, meaning they can be used interchangeably. If this is the case, then we drop Name and TerminalName to reduce memory usage."
   ]
  },
  {
   "cell_type": "code",
   "execution_count": 59,
   "metadata": {
    "collapsed": false
   },
   "outputs": [],
   "source": [
    "def remove_redundant_candidate_keys(df):\n",
    "    nunique_col_vals = len(pd.DataFrame(df, columns=['Id', 'Name', 'TerminalName']).drop_duplicates())\n",
    "    \n",
    "    if nunique_col_vals == dataset['Id'].nunique():\n",
    "        return df.drop(['Name', 'TerminalName'], 1)\n",
    "    else:\n",
    "        raise ValueError('Id, Name and TerminalName are not interchangeable')"
   ]
  },
  {
   "cell_type": "markdown",
   "metadata": {},
   "source": [
    "Values are not updated frequently, causing the data to have lots of duplicate rows. Therefore, we'll remove rows where Id, Timestam, NbBikes, NbDocks and NbEmptyDocks have the same value."
   ]
  },
  {
   "cell_type": "code",
   "execution_count": 61,
   "metadata": {
    "collapsed": true
   },
   "outputs": [],
   "source": [
    "def drop_duplicate_rows(df):\n",
    "    return df.drop_duplicates(['Id', 'Timestamp', 'NbBikes', 'NbDocks' , 'NbEmptyDocks'])\n"
   ]
  },
  {
   "cell_type": "code",
   "execution_count": 60,
   "metadata": {
    "collapsed": true
   },
   "outputs": [],
   "source": [
    "#### Parse Slices of the JSON files"
   ]
  },
  {
   "cell_type": "code",
   "execution_count": null,
   "metadata": {
    "collapsed": true
   },
   "outputs": [],
   "source": []
  },
  {
   "cell_type": "code",
   "execution_count": 8,
   "metadata": {
    "collapsed": true
   },
   "outputs": [],
   "source": [
    "pickle.dump(records, open('data/parsed/dataset.pickle', 'wb' ) )"
   ]
  },
  {
   "cell_type": "code",
   "execution_count": 7,
   "metadata": {
    "collapsed": false
   },
   "outputs": [],
   "source": [
    "filter_fn = create_between_dates_filter(bike_file_date_fn, \n",
    "                                       datetime(2016, 5, 16, 0, 0, 0),\n",
    "                                       datetime(2016, 5, 16, 23, 59, 59))\n",
    "\n",
    "#records = parse_dir('/home/jfconavarrete/Documents/Work/Dissertation/spts-uoe/data/dev_json', \n",
    "#                    parse_cycles, sort_fn=bike_file_date_fn, filter_fn=filter_fn)\n",
    "\n",
    "records = pickle.load(open(\"data/parsed/dataset.pickle\", \"rb\"))\n",
    "\n",
    "# records is a list of lists of dicts\n",
    "df = pd.DataFrame(list(itertools.chain.from_iterable(records))) \n",
    "\n",
    "df = remove_redundant_candidate_keys(df)"
   ]
  },
  {
   "cell_type": "markdown",
   "metadata": {},
   "source": [
    "### Import into Pandas"
   ]
  },
  {
   "cell_type": "code",
   "execution_count": 4,
   "metadata": {
    "collapsed": false
   },
   "outputs": [],
   "source": []
  },
  {
   "cell_type": "code",
   "execution_count": 5,
   "metadata": {
    "collapsed": false
   },
   "outputs": [
    {
     "data": {
      "text/plain": [
       "(219635, 15)"
      ]
     },
     "execution_count": 5,
     "metadata": {},
     "output_type": "execute_result"
    }
   ],
   "source": [
    "dataset = pd.DataFrame(list(itertools.chain.from_iterable(records)))\n",
    "dataset = dataset.sort_values(by=['Timestamp'], ascending=True)\n",
    "\n",
    "dataset.shape"
   ]
  },
  {
   "cell_type": "code",
   "execution_count": 5,
   "metadata": {
    "collapsed": false,
    "scrolled": true
   },
   "outputs": [
    {
     "data": {
      "text/html": [
       "<div>\n",
       "<table border=\"1\" class=\"dataframe\">\n",
       "  <thead>\n",
       "    <tr style=\"text-align: right;\">\n",
       "      <th></th>\n",
       "      <th>Id</th>\n",
       "      <th>InstallDate</th>\n",
       "      <th>Installed</th>\n",
       "      <th>Latitude</th>\n",
       "      <th>Locked</th>\n",
       "      <th>Longitude</th>\n",
       "      <th>Name</th>\n",
       "      <th>NbBikes</th>\n",
       "      <th>NbDocks</th>\n",
       "      <th>NbEmptyDocks</th>\n",
       "      <th>PlaceType</th>\n",
       "      <th>RemovalDate</th>\n",
       "      <th>Temporary</th>\n",
       "      <th>TerminalName</th>\n",
       "      <th>Timestamp</th>\n",
       "    </tr>\n",
       "  </thead>\n",
       "  <tbody>\n",
       "    <tr>\n",
       "      <th>44184</th>\n",
       "      <td>BikePoints_791</td>\n",
       "      <td>1452861540000</td>\n",
       "      <td>false</td>\n",
       "      <td>0.0</td>\n",
       "      <td>false</td>\n",
       "      <td>0.0</td>\n",
       "      <td>Test Desktop</td>\n",
       "      <td>0</td>\n",
       "      <td>0</td>\n",
       "      <td>0</td>\n",
       "      <td>BikePoint</td>\n",
       "      <td></td>\n",
       "      <td>false</td>\n",
       "      <td>666666</td>\n",
       "      <td>2016-05-10T15:34:07.137</td>\n",
       "    </tr>\n",
       "    <tr>\n",
       "      <th>91428</th>\n",
       "      <td>BikePoints_791</td>\n",
       "      <td>1452861540000</td>\n",
       "      <td>false</td>\n",
       "      <td>0.0</td>\n",
       "      <td>false</td>\n",
       "      <td>0.0</td>\n",
       "      <td>Test Desktop</td>\n",
       "      <td>0</td>\n",
       "      <td>0</td>\n",
       "      <td>0</td>\n",
       "      <td>BikePoint</td>\n",
       "      <td></td>\n",
       "      <td>false</td>\n",
       "      <td>666666</td>\n",
       "      <td>2016-05-10T15:34:07.137</td>\n",
       "    </tr>\n",
       "    <tr>\n",
       "      <th>148607</th>\n",
       "      <td>BikePoints_791</td>\n",
       "      <td>1452861540000</td>\n",
       "      <td>false</td>\n",
       "      <td>0.0</td>\n",
       "      <td>false</td>\n",
       "      <td>0.0</td>\n",
       "      <td>Test Desktop</td>\n",
       "      <td>0</td>\n",
       "      <td>0</td>\n",
       "      <td>0</td>\n",
       "      <td>BikePoint</td>\n",
       "      <td></td>\n",
       "      <td>false</td>\n",
       "      <td>666666</td>\n",
       "      <td>2016-05-10T15:34:07.137</td>\n",
       "    </tr>\n",
       "    <tr>\n",
       "      <th>34278</th>\n",
       "      <td>BikePoints_791</td>\n",
       "      <td>1452861540000</td>\n",
       "      <td>false</td>\n",
       "      <td>0.0</td>\n",
       "      <td>false</td>\n",
       "      <td>0.0</td>\n",
       "      <td>Test Desktop</td>\n",
       "      <td>0</td>\n",
       "      <td>0</td>\n",
       "      <td>0</td>\n",
       "      <td>BikePoint</td>\n",
       "      <td></td>\n",
       "      <td>false</td>\n",
       "      <td>666666</td>\n",
       "      <td>2016-05-10T15:34:07.137</td>\n",
       "    </tr>\n",
       "    <tr>\n",
       "      <th>149370</th>\n",
       "      <td>BikePoints_791</td>\n",
       "      <td>1452861540000</td>\n",
       "      <td>false</td>\n",
       "      <td>0.0</td>\n",
       "      <td>false</td>\n",
       "      <td>0.0</td>\n",
       "      <td>Test Desktop</td>\n",
       "      <td>0</td>\n",
       "      <td>0</td>\n",
       "      <td>0</td>\n",
       "      <td>BikePoint</td>\n",
       "      <td></td>\n",
       "      <td>false</td>\n",
       "      <td>666666</td>\n",
       "      <td>2016-05-10T15:34:07.137</td>\n",
       "    </tr>\n",
       "  </tbody>\n",
       "</table>\n",
       "</div>"
      ],
      "text/plain": [
       "                    Id    InstallDate Installed  Latitude Locked  Longitude  \\\n",
       "44184   BikePoints_791  1452861540000     false       0.0  false        0.0   \n",
       "91428   BikePoints_791  1452861540000     false       0.0  false        0.0   \n",
       "148607  BikePoints_791  1452861540000     false       0.0  false        0.0   \n",
       "34278   BikePoints_791  1452861540000     false       0.0  false        0.0   \n",
       "149370  BikePoints_791  1452861540000     false       0.0  false        0.0   \n",
       "\n",
       "                 Name NbBikes NbDocks NbEmptyDocks  PlaceType RemovalDate  \\\n",
       "44184   Test Desktop        0       0            0  BikePoint               \n",
       "91428   Test Desktop        0       0            0  BikePoint               \n",
       "148607  Test Desktop        0       0            0  BikePoint               \n",
       "34278   Test Desktop        0       0            0  BikePoint               \n",
       "149370  Test Desktop        0       0            0  BikePoint               \n",
       "\n",
       "       Temporary TerminalName                Timestamp  \n",
       "44184      false       666666  2016-05-10T15:34:07.137  \n",
       "91428      false       666666  2016-05-10T15:34:07.137  \n",
       "148607     false       666666  2016-05-10T15:34:07.137  \n",
       "34278      false       666666  2016-05-10T15:34:07.137  \n",
       "149370     false       666666  2016-05-10T15:34:07.137  "
      ]
     },
     "execution_count": 5,
     "metadata": {},
     "output_type": "execute_result"
    }
   ],
   "source": [
    "\n",
    "dataset.head()"
   ]
  },
  {
   "cell_type": "code",
   "execution_count": 8,
   "metadata": {
    "collapsed": false
   },
   "outputs": [
    {
     "name": "stdout",
     "output_type": "stream",
     "text": [
      "Constant columns: Index([u'LastUpdated', u'Locked', u'PlaceType', u'Temporary'], dtype='object')\n"
     ]
    }
   ],
   "source": [
    "\n",
    "nuniques = dataset.apply(lambda x:x.nunique())\n",
    "constant_cols = nuniques[nuniques == 1].index\n",
    "print 'Constant columns: %s' % constant_cols\n",
    "dataset = dataset.drop(constant_cols, axis=1)"
   ]
  },
  {
   "cell_type": "markdown",
   "metadata": {},
   "source": [
    "## Technically Correct Data\n",
    "\n",
    "The data is set to be technically correct if it:\n",
    "\n",
    "1. can be directly recognized as belonging to a certain variable\n",
    "2. is stored in a data type that represents the value domain of the real-world variable."
   ]
  },
  {
   "cell_type": "markdown",
   "metadata": {},
   "source": [
    "### Convert to Appropriate DataTypes"
   ]
  },
  {
   "cell_type": "code",
   "execution_count": 9,
   "metadata": {
    "collapsed": false
   },
   "outputs": [],
   "source": [
    "# convert columns to their appropriate datatypes\n",
    "dataset['InstallDate'] = pd.to_numeric(dataset['InstallDate'], errors='raise')\n",
    "dataset['Installed'] = dataset['Installed'].astype('bool_')\n",
    "dataset['Temporary'] = dataset['Temporary'].astype('bool_')\n",
    "dataset['Locked'] = dataset['Locked'].astype('bool_')\n",
    "dataset['NbBikes'] = dataset['NbBikes'].astype('uint16')\n",
    "dataset['NbDocks'] = dataset['NbDocks'].astype('uint16')\n",
    "dataset['NbEmptyDocks'] = dataset['NbEmptyDocks'].astype('uint16')\n",
    "\n",
    "# convert string timestamp to datetime\n",
    "dataset['Timestamp'] =  pd.to_datetime(dataset['Timestamp'], format='%Y-%m-%dT%H:%M:%S.%f')\n",
    "dataset['InstallDate'] = pd.to_datetime(dataset['InstallDate'], unit='ms')"
   ]
  },
  {
   "cell_type": "markdown",
   "metadata": {},
   "source": [
    "### Derive Variables"
   ]
  },
  {
   "cell_type": "code",
   "execution_count": 10,
   "metadata": {
    "collapsed": false
   },
   "outputs": [],
   "source": [
    "dataset['NbUnusableDocks'] = dataset['NbDocks'] - (dataset['NbBikes'] + dataset['NbEmptyDocks'])"
   ]
  },
  {
   "cell_type": "markdown",
   "metadata": {},
   "source": [
    "### Data Description"
   ]
  },
  {
   "cell_type": "code",
   "execution_count": 11,
   "metadata": {
    "collapsed": false
   },
   "outputs": [
    {
     "name": "stdout",
     "output_type": "stream",
     "text": [
      "<class 'pandas.core.frame.DataFrame'>\n",
      "Int64Index: 100894 entries, 176838 to 654026\n",
      "Data columns (total 13 columns):\n",
      "Id                 100894 non-null object\n",
      "InstallDate        90556 non-null datetime64[ns]\n",
      "Installed          100894 non-null bool\n",
      "Latitude           100894 non-null float64\n",
      "Longitude          100894 non-null float64\n",
      "Name               100894 non-null object\n",
      "NbBikes            100894 non-null uint16\n",
      "NbDocks            100894 non-null uint16\n",
      "NbEmptyDocks       100894 non-null uint16\n",
      "RemovalDate        100894 non-null object\n",
      "TerminalName       100894 non-null object\n",
      "Timestamp          100894 non-null datetime64[ns]\n",
      "NbUnusableDocks    100894 non-null uint16\n",
      "dtypes: bool(1), datetime64[ns](2), float64(2), object(4), uint16(4)\n",
      "memory usage: 45.9 MB\n"
     ]
    }
   ],
   "source": [
    "dataset.info(memory_usage='deep')"
   ]
  },
  {
   "cell_type": "code",
   "execution_count": null,
   "metadata": {
    "collapsed": false
   },
   "outputs": [],
   "source": []
  },
  {
   "cell_type": "markdown",
   "metadata": {
    "collapsed": false
   },
   "source": []
  },
  {
   "cell_type": "markdown",
   "metadata": {
    "collapsed": true
   },
   "source": [
    "## Consistent Correct Data"
   ]
  },
  {
   "cell_type": "code",
   "execution_count": 12,
   "metadata": {
    "collapsed": false
   },
   "outputs": [
    {
     "data": {
      "text/html": [
       "<div>\n",
       "<table border=\"1\" class=\"dataframe\">\n",
       "  <thead>\n",
       "    <tr style=\"text-align: right;\">\n",
       "      <th></th>\n",
       "      <th>Latitude</th>\n",
       "      <th>Longitude</th>\n",
       "      <th>NbBikes</th>\n",
       "      <th>NbDocks</th>\n",
       "      <th>NbEmptyDocks</th>\n",
       "      <th>NbUnusableDocks</th>\n",
       "    </tr>\n",
       "  </thead>\n",
       "  <tbody>\n",
       "    <tr>\n",
       "      <th>count</th>\n",
       "      <td>100894.000000</td>\n",
       "      <td>100894.000000</td>\n",
       "      <td>100894.000000</td>\n",
       "      <td>100894.000000</td>\n",
       "      <td>100894.000000</td>\n",
       "      <td>100894.000000</td>\n",
       "    </tr>\n",
       "    <tr>\n",
       "      <th>mean</th>\n",
       "      <td>51.507157</td>\n",
       "      <td>-0.127769</td>\n",
       "      <td>12.926923</td>\n",
       "      <td>27.334906</td>\n",
       "      <td>13.725217</td>\n",
       "      <td>0.682766</td>\n",
       "    </tr>\n",
       "    <tr>\n",
       "      <th>std</th>\n",
       "      <td>0.163196</td>\n",
       "      <td>0.050149</td>\n",
       "      <td>9.248575</td>\n",
       "      <td>9.547941</td>\n",
       "      <td>9.666593</td>\n",
       "      <td>1.025080</td>\n",
       "    </tr>\n",
       "    <tr>\n",
       "      <th>min</th>\n",
       "      <td>0.000000</td>\n",
       "      <td>-0.236769</td>\n",
       "      <td>0.000000</td>\n",
       "      <td>0.000000</td>\n",
       "      <td>0.000000</td>\n",
       "      <td>0.000000</td>\n",
       "    </tr>\n",
       "    <tr>\n",
       "      <th>25%</th>\n",
       "      <td>51.494881</td>\n",
       "      <td>-0.166878</td>\n",
       "      <td>6.000000</td>\n",
       "      <td>20.000000</td>\n",
       "      <td>6.000000</td>\n",
       "      <td>0.000000</td>\n",
       "    </tr>\n",
       "    <tr>\n",
       "      <th>50%</th>\n",
       "      <td>51.510701</td>\n",
       "      <td>-0.126021</td>\n",
       "      <td>12.000000</td>\n",
       "      <td>25.000000</td>\n",
       "      <td>12.000000</td>\n",
       "      <td>0.000000</td>\n",
       "    </tr>\n",
       "    <tr>\n",
       "      <th>75%</th>\n",
       "      <td>51.521113</td>\n",
       "      <td>-0.092940</td>\n",
       "      <td>18.000000</td>\n",
       "      <td>33.000000</td>\n",
       "      <td>19.000000</td>\n",
       "      <td>1.000000</td>\n",
       "    </tr>\n",
       "    <tr>\n",
       "      <th>max</th>\n",
       "      <td>51.549369</td>\n",
       "      <td>0.000000</td>\n",
       "      <td>61.000000</td>\n",
       "      <td>63.000000</td>\n",
       "      <td>63.000000</td>\n",
       "      <td>11.000000</td>\n",
       "    </tr>\n",
       "  </tbody>\n",
       "</table>\n",
       "</div>"
      ],
      "text/plain": [
       "            Latitude      Longitude        NbBikes        NbDocks  \\\n",
       "count  100894.000000  100894.000000  100894.000000  100894.000000   \n",
       "mean       51.507157      -0.127769      12.926923      27.334906   \n",
       "std         0.163196       0.050149       9.248575       9.547941   \n",
       "min         0.000000      -0.236769       0.000000       0.000000   \n",
       "25%        51.494881      -0.166878       6.000000      20.000000   \n",
       "50%        51.510701      -0.126021      12.000000      25.000000   \n",
       "75%        51.521113      -0.092940      18.000000      33.000000   \n",
       "max        51.549369       0.000000      61.000000      63.000000   \n",
       "\n",
       "        NbEmptyDocks  NbUnusableDocks  \n",
       "count  100894.000000    100894.000000  \n",
       "mean       13.725217         0.682766  \n",
       "std         9.666593         1.025080  \n",
       "min         0.000000         0.000000  \n",
       "25%         6.000000         0.000000  \n",
       "50%        12.000000         0.000000  \n",
       "75%        19.000000         1.000000  \n",
       "max        63.000000        11.000000  "
      ]
     },
     "execution_count": 12,
     "metadata": {},
     "output_type": "execute_result"
    }
   ],
   "source": [
    "dataset.describe()"
   ]
  },
  {
   "cell_type": "markdown",
   "metadata": {},
   "source": [
    "### Missing Values\n",
    "\n"
   ]
  },
  {
   "cell_type": "markdown",
   "metadata": {},
   "source": [
    "### Outliers"
   ]
  },
  {
   "cell_type": "markdown",
   "metadata": {},
   "source": [
    "### Errors"
   ]
  },
  {
   "cell_type": "markdown",
   "metadata": {},
   "source": [
    "### Consistency"
   ]
  },
  {
   "cell_type": "markdown",
   "metadata": {},
   "source": [
    "## Exploratory Data Analysis"
   ]
  },
  {
   "cell_type": "markdown",
   "metadata": {},
   "source": [
    "### Visual Representation"
   ]
  },
  {
   "cell_type": "markdown",
   "metadata": {},
   "source": [
    "### Examine Variable Relationships"
   ]
  },
  {
   "cell_type": "markdown",
   "metadata": {},
   "source": [
    "### Analyze Variable Over Time"
   ]
  },
  {
   "cell_type": "markdown",
   "metadata": {},
   "source": [
    "## Conclusions"
   ]
  },
  {
   "cell_type": "code",
   "execution_count": null,
   "metadata": {
    "collapsed": true
   },
   "outputs": [],
   "source": []
  }
 ],
 "metadata": {
  "kernelspec": {
   "display_name": "Python 2",
   "language": "python",
   "name": "python2"
  },
  "language_info": {
   "codemirror_mode": {
    "name": "ipython",
    "version": 2
   },
   "file_extension": ".py",
   "mimetype": "text/x-python",
   "name": "python",
   "nbconvert_exporter": "python",
   "pygments_lexer": "ipython2",
   "version": "2.7.11"
  }
 },
 "nbformat": 4,
 "nbformat_minor": 0
}
