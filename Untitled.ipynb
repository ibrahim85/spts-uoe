{
 "cells": [
  {
   "cell_type": "markdown",
   "metadata": {},
   "source": [
    "# Performance Indicators"
   ]
  },
  {
   "cell_type": "markdown",
   "metadata": {},
   "source": [
    "## Set Up"
   ]
  },
  {
   "cell_type": "code",
   "execution_count": 92,
   "metadata": {
    "collapsed": true
   },
   "outputs": [],
   "source": [
    "import seaborn as sns\n",
    "\n",
    "%matplotlib inline"
   ]
  },
  {
   "cell_type": "code",
   "execution_count": 165,
   "metadata": {
    "collapsed": false,
    "scrolled": true
   },
   "outputs": [],
   "source": [
    "%run src/data/helper.py"
   ]
  },
  {
   "cell_type": "code",
   "execution_count": 166,
   "metadata": {
    "collapsed": false
   },
   "outputs": [],
   "source": [
    "%run src/data/periods.py"
   ]
  },
  {
   "cell_type": "code",
   "execution_count": 95,
   "metadata": {
    "collapsed": true
   },
   "outputs": [],
   "source": [
    "import pickle\n",
    "\n",
    "readings = pickle.load(open(\"data/parsed/readings_weather_dataset_final.p\", \"rb\"))\n",
    "stations = pickle.load(open('data/parsed/stations_dataset_final.p', 'rb'))"
   ]
  },
  {
   "cell_type": "markdown",
   "metadata": {},
   "source": [
    "## Introduction"
   ]
  },
  {
   "cell_type": "markdown",
   "metadata": {},
   "source": [
    "The Service Level Agreement (SLA) signed by TfL and Serco outlines 34 performance indicators (PI) to measure the quality of the provided service. In this research we focused on the PIs that are related to bicycle distribution, PIs 24, 25, 26 and 27. These PIs take into account the following distinctions of time and stations:\n",
    "\n",
    "* **Station Priority**: Each docking station was classified as **Priority 1 or Priority 2** based on it's importance for the overall operation of the London Cycle Hire Scheme. The 100 most used docking stations were given the Priority 1 classification, while the remaining stations were classified as Priority 2.\n",
    "* ** Peak Hours**: The hours during which crowding on the public transportation system and the traffic on roads are  the highest are called **Peak Hours**. The SLA defines them to be from 7:00 to 10:00 and 16:00 to 19:00, all the other times are considered non-peak hours."
   ]
  },
  {
   "cell_type": "markdown",
   "metadata": {},
   "source": [
    "## Empty Stations PI"
   ]
  },
  {
   "cell_type": "markdown",
   "metadata": {},
   "source": [
    "A docking docking station with no fully functional bicycles is considered to be **empty**. One or more biycles marked for repair can be present in an empty docking station. \n",
    "\n",
    "TO-REPHRASE The number of minutes, in whole minutes, that each Docking Station is full shall be accumulated over a calendar day. For avoidance of doubt, minutes shall not accumulate until a Docking Station has been empty for a full minute."
   ]
  },
  {
   "cell_type": "code",
   "execution_count": 167,
   "metadata": {
    "collapsed": false,
    "scrolled": true
   },
   "outputs": [],
   "source": [
    "empty_entries = find_zero_periods(readings, 'NbBikes', group=False)"
   ]
  },
  {
   "cell_type": "markdown",
   "metadata": {},
   "source": [
    "The data has been processed to compute the periods in which the stations were empty. The following dataframe contains this information."
   ]
  },
  {
   "cell_type": "code",
   "execution_count": 168,
   "metadata": {
    "collapsed": false
   },
   "outputs": [
    {
     "data": {
      "text/html": [
       "<div>\n",
       "<table border=\"1\" class=\"dataframe\">\n",
       "  <thead>\n",
       "    <tr style=\"text-align: right;\">\n",
       "      <th></th>\n",
       "      <th>Id</th>\n",
       "      <th>PeriodId</th>\n",
       "      <th>Timestamp</th>\n",
       "    </tr>\n",
       "  </thead>\n",
       "  <tbody>\n",
       "    <tr>\n",
       "      <th>0</th>\n",
       "      <td>BikePoints_359</td>\n",
       "      <td>dc765159-c6c8-4e13-b889-c5eef6a6c216</td>\n",
       "      <td>2016-05-16 17:16:40.373000</td>\n",
       "    </tr>\n",
       "    <tr>\n",
       "      <th>1</th>\n",
       "      <td>BikePoints_359</td>\n",
       "      <td>dc765159-c6c8-4e13-b889-c5eef6a6c216</td>\n",
       "      <td>2016-05-16 18:06:46.650000</td>\n",
       "    </tr>\n",
       "    <tr>\n",
       "      <th>2</th>\n",
       "      <td>BikePoints_359</td>\n",
       "      <td>af7946e6-a10c-4abc-af65-0a55ccf788b1</td>\n",
       "      <td>2016-05-16 20:13:09.770000</td>\n",
       "    </tr>\n",
       "    <tr>\n",
       "      <th>3</th>\n",
       "      <td>BikePoints_359</td>\n",
       "      <td>af7946e6-a10c-4abc-af65-0a55ccf788b1</td>\n",
       "      <td>2016-05-16 23:59:59.999999</td>\n",
       "    </tr>\n",
       "    <tr>\n",
       "      <th>4</th>\n",
       "      <td>BikePoints_359</td>\n",
       "      <td>3f24903e-07ca-427c-bb3b-e263d9688448</td>\n",
       "      <td>2016-05-17 00:00:00.000000</td>\n",
       "    </tr>\n",
       "  </tbody>\n",
       "</table>\n",
       "</div>"
      ],
      "text/plain": [
       "               Id                              PeriodId  \\\n",
       "0  BikePoints_359  dc765159-c6c8-4e13-b889-c5eef6a6c216   \n",
       "1  BikePoints_359  dc765159-c6c8-4e13-b889-c5eef6a6c216   \n",
       "2  BikePoints_359  af7946e6-a10c-4abc-af65-0a55ccf788b1   \n",
       "3  BikePoints_359  af7946e6-a10c-4abc-af65-0a55ccf788b1   \n",
       "4  BikePoints_359  3f24903e-07ca-427c-bb3b-e263d9688448   \n",
       "\n",
       "                   Timestamp  \n",
       "0 2016-05-16 17:16:40.373000  \n",
       "1 2016-05-16 18:06:46.650000  \n",
       "2 2016-05-16 20:13:09.770000  \n",
       "3 2016-05-16 23:59:59.999999  \n",
       "4 2016-05-17 00:00:00.000000  "
      ]
     },
     "execution_count": 168,
     "metadata": {},
     "output_type": "execute_result"
    }
   ],
   "source": [
    "empty_entries.head()"
   ]
  },
  {
   "cell_type": "markdown",
   "metadata": {},
   "source": [
    "### PI 24 - Accumulated Empty Time\n",
    "\n",
    "The number of minutes for which each docking station is empty over a calendar day shall be accumulated. Then, these empty periods will be summed and grouped to assess the goodness of the bicycle distribution according to the following criteria:\n",
    "\n",
    "|Classification|Time|Acceptable Service Level|\n",
    "|-----|------|------|\n",
    "|Priority 1|Non-Peak Hours|Less than 3000 minutes for all stations|\n",
    "|Priority 1|Peak Hours|Less than 1000 minutes for all stations per peak period |\n",
    "|Priority 2|Non-Peak Hours|Less than 9000 minutes for all stations|\n",
    "|Priority 2|Peak Hours|Less than 18000 minutes for all stations per peak period |\n",
    "\n",
    "\n"
   ]
  },
  {
   "cell_type": "code",
   "execution_count": null,
   "metadata": {
    "collapsed": false,
    "scrolled": true
   },
   "outputs": [],
   "source": [
    "empty_periods = group_ellapsed(empty_entries)\n",
    "empty_periods = add_station_info(empty_periods, stations, ['Priority', 'Id'])"
   ]
  },
  {
   "cell_type": "code",
   "execution_count": null,
   "metadata": {
    "collapsed": false
   },
   "outputs": [],
   "source": [
    "for i, row in empty_periods.iterrows():\n",
    "    print i, row['Period'], get_period_day(row['Period'])"
   ]
  },
  {
   "cell_type": "code",
   "execution_count": null,
   "metadata": {
    "collapsed": true
   },
   "outputs": [],
   "source": [
    "#empty_periods['PeakHours'].apply(lambda x: get_peak_hours(x))\n",
    "empty_periods"
   ]
  },
  {
   "cell_type": "markdown",
   "metadata": {},
   "source": [
    "The data shows that several stations were empty during entire days. It is very unlikely that these stations did not receive any bike during these time periods as the stations had fairly regular activity before and after. Therefore, we'll assume that these empty periods were caused by malfunctions in the stations or in the data collection process and should be discarded. In order to remove this erroneous readings, we will delete any empty periods of more than or equal to 720 minutes (12 hours). This number is what we consider the worst case scenario for an inactive station. It was computed by taking into account the 10 hours restriction placed by some boroughs that forbids the service provider to redistribute bicycles between 22:00 and 8:00 and the 2 hours that might be needed for the redistribution to take place."
   ]
  },
  {
   "cell_type": "code",
   "execution_count": null,
   "metadata": {
    "collapsed": true
   },
   "outputs": [],
   "source": [
    "empty_periods = empty_periods[~(empty_periods['Ellapsed'] > 720)]"
   ]
  },
  {
   "cell_type": "code",
   "execution_count": null,
   "metadata": {
    "collapsed": false
   },
   "outputs": [],
   "source": [
    "empty_periods.describe()"
   ]
  },
  {
   "cell_type": "code",
   "execution_count": null,
   "metadata": {
    "collapsed": false
   },
   "outputs": [],
   "source": [
    "sns.distplot(empty_periods.Ellapsed, kde=False)"
   ]
  },
  {
   "cell_type": "code",
   "execution_count": null,
   "metadata": {
    "collapsed": true
   },
   "outputs": [],
   "source": []
  },
  {
   "cell_type": "markdown",
   "metadata": {},
   "source": [
    "### PI 24. Bicycle Distribution – Empty Docking Stations"
   ]
  },
  {
   "cell_type": "code",
   "execution_count": null,
   "metadata": {
    "collapsed": true
   },
   "outputs": [],
   "source": []
  },
  {
   "cell_type": "markdown",
   "metadata": {},
   "source": [
    "### PI 26. Empty Station Maximum Time Period – Priority 1 Docking Stations"
   ]
  },
  {
   "cell_type": "code",
   "execution_count": null,
   "metadata": {
    "collapsed": false
   },
   "outputs": [],
   "source": [
    "empty_periods.describe()"
   ]
  },
  {
   "cell_type": "code",
   "execution_count": null,
   "metadata": {
    "collapsed": false
   },
   "outputs": [],
   "source": [
    "sns.distplot(empty_periods.Ellapsed, kde=False)"
   ]
  },
  {
   "cell_type": "code",
   "execution_count": null,
   "metadata": {
    "collapsed": false
   },
   "outputs": [],
   "source": [
    "highp_stationids = stations[stations['Priority'] == 1].Id\n",
    "highp_readings = readings[readings['Id'].isin(highp_stationids)]"
   ]
  }
 ],
 "metadata": {
  "kernelspec": {
   "display_name": "Python 2",
   "language": "python",
   "name": "python2"
  },
  "language_info": {
   "codemirror_mode": {
    "name": "ipython",
    "version": 2
   },
   "file_extension": ".py",
   "mimetype": "text/x-python",
   "name": "python",
   "nbconvert_exporter": "python",
   "pygments_lexer": "ipython2",
   "version": "2.7.11"
  }
 },
 "nbformat": 4,
 "nbformat_minor": 0
}
