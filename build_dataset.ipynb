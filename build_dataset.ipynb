{
 "cells": [
  {
   "cell_type": "markdown",
   "metadata": {},
   "source": [
    "# Merge Datasets"
   ]
  },
  {
   "cell_type": "markdown",
   "metadata": {},
   "source": [
    "## Set Up"
   ]
  },
  {
   "cell_type": "code",
   "execution_count": 188,
   "metadata": {
    "collapsed": true
   },
   "outputs": [],
   "source": [
    "%matplotlib inline\n",
    "\n",
    "import logging\n",
    "import itertools\n",
    "import json\n",
    "import os\n",
    "import pickle\n",
    "import folium\n",
    "import math\n",
    "import pandas as pd\n",
    "import numpy as np\n",
    "import seaborn as sns\n",
    "import matplotlib.pyplot as plt\n",
    "\n",
    "from mpl_toolkits.basemap import Basemap\n",
    "from datetime import datetime\n",
    "from os import listdir\n",
    "from os.path import isfile, join\n",
    "from src.data.parse_dataset import parse_dir, parse_json_files, get_file_list\n",
    "from IPython.display import Image\n",
    "from datetime import date\n",
    "\n",
    "logger = logging.getLogger()\n",
    "logger.setLevel(logging.INFO)"
   ]
  },
  {
   "cell_type": "code",
   "execution_count": 189,
   "metadata": {
    "collapsed": false
   },
   "outputs": [],
   "source": [
    "stations_dataset = pickle.load(open('data/parsed/stations_dataset_final.p', 'rb'))\n",
    "readings_dataset = pickle.load(open('data/parsed/readings_dataset_final.p', 'rb'))\n",
    "weather_dataset = pickle.load(open('data/parsed/weather_dataset_final.p', 'rb'))"
   ]
  },
  {
   "cell_type": "code",
   "execution_count": 190,
   "metadata": {
    "collapsed": false
   },
   "outputs": [
    {
     "name": "stdout",
     "output_type": "stream",
     "text": [
      "(739335, 6)\n",
      "(775, 13)\n",
      "(1670, 15)\n"
     ]
    }
   ],
   "source": [
    "print readings_dataset.shape\n",
    "print stations_dataset.shape\n",
    "print weather_dataset.shape"
   ]
  },
  {
   "cell_type": "markdown",
   "metadata": {},
   "source": [
    "## Merge Readings and Weather"
   ]
  },
  {
   "cell_type": "markdown",
   "metadata": {},
   "source": [
    "Use binary search to look for the closest date to the given reading."
   ]
  },
  {
   "cell_type": "code",
   "execution_count": 191,
   "metadata": {
    "collapsed": false
   },
   "outputs": [],
   "source": [
    "def binarySearch(data, val):\n",
    "    \"\"\"Find the closest val in data\"\"\"\n",
    "    \n",
    "    lo, hi = 0, len(data) - 1\n",
    "    best_ind = lo\n",
    "    while lo <= hi:\n",
    "        mid = lo + (hi - lo) / 2\n",
    "        if data.iat[mid] < val:\n",
    "            lo = mid + 1\n",
    "        elif data.iat[mid] > val:\n",
    "            hi = mid - 1\n",
    "        else:\n",
    "            best_ind = mid\n",
    "            break\n",
    "        # check if data[mid] is closer to val than data[best_ind] \n",
    "        if abs(data.iat[mid] - val) < abs(data.iat[best_ind] - val):\n",
    "            best_ind = mid\n",
    "    return best_ind"
   ]
  },
  {
   "cell_type": "code",
   "execution_count": 192,
   "metadata": {
    "collapsed": false
   },
   "outputs": [],
   "source": [
    "readings_dataset['WeatherIdx'] = readings_dataset['Timestamp'].apply(lambda val: weather_dataset['Timestamp'].index[binarySearch(weather_dataset['Timestamp'], val)])"
   ]
  },
  {
   "cell_type": "code",
   "execution_count": 193,
   "metadata": {
    "collapsed": false
   },
   "outputs": [],
   "source": [
    "readings_weather = pd.merge(readings_dataset, weather_dataset, right_index=True, left_on='WeatherIdx')\n",
    "readings_weather['DifferenceS'] = (readings_weather['Timestamp_x'] - readings_weather['Timestamp_y']) / pd.np.timedelta64(1, 's')\n",
    "readings_weather['DifferenceS'] = readings_weather['DifferenceS'].apply(math.fabs)"
   ]
  },
  {
   "cell_type": "code",
   "execution_count": 194,
   "metadata": {
    "collapsed": true
   },
   "outputs": [],
   "source": [
    "readings_weather_view = readings_weather[['Timestamp_x', 'Timestamp_y', 'DifferenceS']]"
   ]
  },
  {
   "cell_type": "code",
   "execution_count": 200,
   "metadata": {
    "collapsed": false
   },
   "outputs": [
    {
     "data": {
      "text/html": [
       "<div>\n",
       "<table border=\"1\" class=\"dataframe\">\n",
       "  <thead>\n",
       "    <tr style=\"text-align: right;\">\n",
       "      <th></th>\n",
       "      <th>Timestamp_x</th>\n",
       "      <th>Timestamp_y</th>\n",
       "      <th>DifferenceS</th>\n",
       "    </tr>\n",
       "  </thead>\n",
       "  <tbody>\n",
       "    <tr>\n",
       "      <th>604214</th>\n",
       "      <td>2016-06-13 17:28:17.703</td>\n",
       "      <td>2016-06-13 17:20:00</td>\n",
       "      <td>497.703</td>\n",
       "    </tr>\n",
       "    <tr>\n",
       "      <th>48405</th>\n",
       "      <td>2016-05-18 08:21:29.533</td>\n",
       "      <td>2016-05-18 08:20:00</td>\n",
       "      <td>89.533</td>\n",
       "    </tr>\n",
       "    <tr>\n",
       "      <th>17581</th>\n",
       "      <td>2016-05-16 18:06:46.650</td>\n",
       "      <td>2016-05-16 18:00:00</td>\n",
       "      <td>406.650</td>\n",
       "    </tr>\n",
       "    <tr>\n",
       "      <th>503521</th>\n",
       "      <td>2016-06-08 18:27:47.903</td>\n",
       "      <td>2016-06-08 18:20:00</td>\n",
       "      <td>467.903</td>\n",
       "    </tr>\n",
       "    <tr>\n",
       "      <th>650202</th>\n",
       "      <td>2016-06-15 17:53:29.147</td>\n",
       "      <td>2016-06-15 17:50:00</td>\n",
       "      <td>209.147</td>\n",
       "    </tr>\n",
       "    <tr>\n",
       "      <th>375393</th>\n",
       "      <td>2016-06-02 20:04:31.460</td>\n",
       "      <td>2016-06-02 20:00:00</td>\n",
       "      <td>271.460</td>\n",
       "    </tr>\n",
       "    <tr>\n",
       "      <th>265198</th>\n",
       "      <td>2016-05-27 18:28:37.773</td>\n",
       "      <td>2016-05-27 18:20:00</td>\n",
       "      <td>517.773</td>\n",
       "    </tr>\n",
       "    <tr>\n",
       "      <th>295902</th>\n",
       "      <td>2016-05-29 13:13:17.800</td>\n",
       "      <td>2016-05-29 13:20:00</td>\n",
       "      <td>402.200</td>\n",
       "    </tr>\n",
       "    <tr>\n",
       "      <th>700258</th>\n",
       "      <td>2016-06-17 19:34:12.770</td>\n",
       "      <td>2016-06-17 19:20:00</td>\n",
       "      <td>852.770</td>\n",
       "    </tr>\n",
       "    <tr>\n",
       "      <th>388478</th>\n",
       "      <td>2016-06-03 14:53:00.173</td>\n",
       "      <td>2016-06-03 14:50:00</td>\n",
       "      <td>180.173</td>\n",
       "    </tr>\n",
       "  </tbody>\n",
       "</table>\n",
       "</div>"
      ],
      "text/plain": [
       "                   Timestamp_x         Timestamp_y  DifferenceS\n",
       "604214 2016-06-13 17:28:17.703 2016-06-13 17:20:00      497.703\n",
       "48405  2016-05-18 08:21:29.533 2016-05-18 08:20:00       89.533\n",
       "17581  2016-05-16 18:06:46.650 2016-05-16 18:00:00      406.650\n",
       "503521 2016-06-08 18:27:47.903 2016-06-08 18:20:00      467.903\n",
       "650202 2016-06-15 17:53:29.147 2016-06-15 17:50:00      209.147\n",
       "375393 2016-06-02 20:04:31.460 2016-06-02 20:00:00      271.460\n",
       "265198 2016-05-27 18:28:37.773 2016-05-27 18:20:00      517.773\n",
       "295902 2016-05-29 13:13:17.800 2016-05-29 13:20:00      402.200\n",
       "700258 2016-06-17 19:34:12.770 2016-06-17 19:20:00      852.770\n",
       "388478 2016-06-03 14:53:00.173 2016-06-03 14:50:00      180.173"
      ]
     },
     "execution_count": 200,
     "metadata": {},
     "output_type": "execute_result"
    }
   ],
   "source": [
    "readings_weather_view.sample(10)"
   ]
  },
  {
   "cell_type": "code",
   "execution_count": 201,
   "metadata": {
    "collapsed": false
   },
   "outputs": [
    {
     "data": {
      "text/html": [
       "<div>\n",
       "<table border=\"1\" class=\"dataframe\">\n",
       "  <thead>\n",
       "    <tr style=\"text-align: right;\">\n",
       "      <th></th>\n",
       "      <th>DifferenceS</th>\n",
       "    </tr>\n",
       "  </thead>\n",
       "  <tbody>\n",
       "    <tr>\n",
       "      <th>count</th>\n",
       "      <td>739335.000000</td>\n",
       "    </tr>\n",
       "    <tr>\n",
       "      <th>mean</th>\n",
       "      <td>351.707642</td>\n",
       "    </tr>\n",
       "    <tr>\n",
       "      <th>std</th>\n",
       "      <td>235.590068</td>\n",
       "    </tr>\n",
       "    <tr>\n",
       "      <th>min</th>\n",
       "      <td>0.013000</td>\n",
       "    </tr>\n",
       "    <tr>\n",
       "      <th>25%</th>\n",
       "      <td>149.393000</td>\n",
       "    </tr>\n",
       "    <tr>\n",
       "      <th>50%</th>\n",
       "      <td>306.127000</td>\n",
       "    </tr>\n",
       "    <tr>\n",
       "      <th>75%</th>\n",
       "      <td>497.223000</td>\n",
       "    </tr>\n",
       "    <tr>\n",
       "      <th>max</th>\n",
       "      <td>2392.833000</td>\n",
       "    </tr>\n",
       "  </tbody>\n",
       "</table>\n",
       "</div>"
      ],
      "text/plain": [
       "         DifferenceS\n",
       "count  739335.000000\n",
       "mean      351.707642\n",
       "std       235.590068\n",
       "min         0.013000\n",
       "25%       149.393000\n",
       "50%       306.127000\n",
       "75%       497.223000\n",
       "max      2392.833000"
      ]
     },
     "execution_count": 201,
     "metadata": {},
     "output_type": "execute_result"
    }
   ],
   "source": [
    "readings_weather_view.describe()"
   ]
  },
  {
   "cell_type": "code",
   "execution_count": 197,
   "metadata": {
    "collapsed": false
   },
   "outputs": [],
   "source": [
    "readings_weather.rename(columns={'Timestamp_x': 'Timestamp'}, inplace=True)\n",
    "readings_weather.drop(['Timestamp_y', 'WeatherIdx'], axis=1, inplace=True)"
   ]
  },
  {
   "cell_type": "code",
   "execution_count": 198,
   "metadata": {
    "collapsed": false
   },
   "outputs": [
    {
     "name": "stdout",
     "output_type": "stream",
     "text": [
      "<class 'pandas.core.frame.DataFrame'>\n",
      "Int64Index: 739335 entries, 0 to 739334\n",
      "Data columns (total 21 columns):\n",
      "Id                 739335 non-null object\n",
      "Timestamp          739335 non-null datetime64[ns]\n",
      "NbBikes            739335 non-null uint16\n",
      "NbDocks            739335 non-null uint16\n",
      "NbEmptyDocks       739335 non-null uint16\n",
      "NbUnusableDocks    739335 non-null uint16\n",
      "DewPt              739335 non-null float32\n",
      "Fog                739335 non-null bool\n",
      "Hail               739335 non-null bool\n",
      "Humidity           739335 non-null float32\n",
      "Pressure           739335 non-null float32\n",
      "Rain               739335 non-null bool\n",
      "Snow               739335 non-null bool\n",
      "Temp               739335 non-null float32\n",
      "Thunder            739335 non-null bool\n",
      "Tornado            739335 non-null bool\n",
      "Visibility         739335 non-null float32\n",
      "WindDirD           739335 non-null float32\n",
      "WindDirE           739335 non-null object\n",
      "WindSpeed          739335 non-null float32\n",
      "DifferenceS        739335 non-null float64\n",
      "dtypes: bool(6), datetime64[ns](1), float32(7), float64(1), object(2), uint16(4)\n",
      "memory usage: 57.8+ MB\n"
     ]
    }
   ],
   "source": [
    "readings_weather.info()"
   ]
  },
  {
   "cell_type": "code",
   "execution_count": 202,
   "metadata": {
    "collapsed": true
   },
   "outputs": [],
   "source": [
    "pickle.dump(readings_weather, open(\"data/parsed/readings_weather_dataset_final.p\", \"wb\"))"
   ]
  },
  {
   "cell_type": "code",
   "execution_count": null,
   "metadata": {
    "collapsed": true
   },
   "outputs": [],
   "source": []
  }
 ],
 "metadata": {
  "kernelspec": {
   "display_name": "Python 2",
   "language": "python",
   "name": "python2"
  },
  "language_info": {
   "codemirror_mode": {
    "name": "ipython",
    "version": 2
   },
   "file_extension": ".py",
   "mimetype": "text/x-python",
   "name": "python",
   "nbconvert_exporter": "python",
   "pygments_lexer": "ipython2",
   "version": "2.7.11"
  }
 },
 "nbformat": 4,
 "nbformat_minor": 0
}
