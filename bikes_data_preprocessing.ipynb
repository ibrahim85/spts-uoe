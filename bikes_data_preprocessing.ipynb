{
 "cells": [
  {
   "cell_type": "markdown",
   "metadata": {
    "collapsed": true
   },
   "source": [
    "# Data Cleaning"
   ]
  },
  {
   "cell_type": "markdown",
   "metadata": {},
   "source": [
    "## Data Dictionary\n",
    "\n",
    "The raw data contains the following data per station per reading:\n",
    "\n",
    "* Id - String - API Resource Id\n",
    "* Name - String - The common name of the station\n",
    "* PlaceType - String ?\n",
    "* TerminalName - String - ?\n",
    "* NbBikes - Integer - The number of available bikes\n",
    "* NbDocks - Integer - The total number of docking spaces\n",
    "* NbEmptyDocks - Integer - The number of available empty docking spaces\n",
    "* Timestamp - DateTime - The moment this reading was captured\n",
    "* InstallDate - DateTime - Date when the station was installed\n",
    "* RemovalDate - DateTime - Date when the station was removed\n",
    "* Installed - Boolean - If the station is installed or not\n",
    "* Locked - Boolean - ?\n",
    "* Temporary - Boolean - If the station is temporary or not (TfL adds temporary stations to cope with demand.)\n",
    "* Latitude - Float - Latitude Coordinate\n",
    "* Longitude - Float - Longitude Coordinate\n",
    "\n",
    "The following variables will be derived from the raw data.\n",
    "\n",
    "* NbUnusableDocks - Integer - The number of non-working docking spaces. Computed with NbUnusableDocks = NbDocks - (NbBikes + NbEmptyDocks)"
   ]
  },
  {
   "cell_type": "markdown",
   "metadata": {},
   "source": [
    "## Set up"
   ]
  },
  {
   "cell_type": "markdown",
   "metadata": {},
   "source": [
    "### Imports"
   ]
  },
  {
   "cell_type": "code",
   "execution_count": 375,
   "metadata": {
    "collapsed": false
   },
   "outputs": [],
   "source": [
    "%matplotlib inline\n",
    "\n",
    "import logging\n",
    "import itertools\n",
    "import json\n",
    "import os\n",
    "import re\n",
    "import pickle\n",
    "import folium\n",
    "import pandas as pd\n",
    "import numpy as np\n",
    "import seaborn as sns\n",
    "import matplotlib.pyplot as plt\n",
    "\n",
    "from mpl_toolkits.basemap import Basemap\n",
    "from datetime import datetime\n",
    "from os import listdir\n",
    "from os.path import isfile, join\n",
    "from src.data.parse_dataset import parse_dir, parse_json_files, get_file_list\n",
    "from IPython.display import Image\n",
    "from datetime import date\n",
    "\n",
    "logger = logging.getLogger()\n",
    "logger.setLevel(logging.INFO)"
   ]
  },
  {
   "cell_type": "markdown",
   "metadata": {},
   "source": [
    "## Parse Raw Data "
   ]
  },
  {
   "cell_type": "markdown",
   "metadata": {},
   "source": [
    "### Define the Parsing Functions"
   ]
  },
  {
   "cell_type": "code",
   "execution_count": 376,
   "metadata": {
    "collapsed": true
   },
   "outputs": [],
   "source": [
    "def parse_cycles(json_obj):\n",
    "    \"\"\"Parses TfL's BikePoint JSON response\"\"\"\n",
    "\n",
    "    return [parse_station(element) for element in json_obj]\n",
    "\n",
    "def parse_station(element):\n",
    "    \"\"\"Parses a JSON bicycle station object to a dictionary\"\"\"\n",
    "\n",
    "    obj = {\n",
    "        'Id': element['id'],\n",
    "        'Name': element['commonName'],\n",
    "        'Latitude': element['lat'],\n",
    "        'Longitude': element['lon'],\n",
    "        'PlaceType': element['placeType'],\n",
    "    }\n",
    "\n",
    "    for p in element['additionalProperties']:\n",
    "        obj[p['key']] = p['value']\n",
    "\n",
    "        if 'timestamp' not in obj:\n",
    "            obj['Timestamp'] = p['modified']\n",
    "        elif obj['Timestamp'] != p['modified']:\n",
    "            raise ValueError('The properties\\' timestamps for station %s do not match: %s != %s' % (\n",
    "            obj['id'], obj['Timestamp'], p['modified']))\n",
    "\n",
    "    return obj"
   ]
  },
  {
   "cell_type": "code",
   "execution_count": 377,
   "metadata": {
    "collapsed": false
   },
   "outputs": [],
   "source": [
    "def bike_file_date_fn(file_name):\n",
    "    \"\"\"Gets the file's date\"\"\"\n",
    "\n",
    "    return datetime.strptime(os.path.basename(file_name), 'BIKE-%Y-%m-%d:%H:%M:%S.json')\n",
    "\n",
    "def create_between_dates_filter(file_date_fn, date_start, date_end):\n",
    "    def filter_fn(file_name):\n",
    "        file_date = file_date_fn(file_name)\n",
    "        return file_date >= date_start and file_date <= date_end\n",
    "    \n",
    "    return filter_fn"
   ]
  },
  {
   "cell_type": "markdown",
   "metadata": {},
   "source": [
    "### Quick Data View"
   ]
  },
  {
   "cell_type": "markdown",
   "metadata": {},
   "source": [
    "#### Load Single Day Data"
   ]
  },
  {
   "cell_type": "code",
   "execution_count": 378,
   "metadata": {
    "collapsed": false
   },
   "outputs": [],
   "source": [
    "filter_fn = create_between_dates_filter(bike_file_date_fn, \n",
    "                                       datetime(2016, 5, 16, 7, 0, 0),\n",
    "                                       datetime(2016, 5, 16, 23, 59, 59))\n",
    "\n",
    "records = parse_dir('/home/jfconavarrete/Documents/Work/Dissertation/spts-uoe/data/raw/cycles', \n",
    "                    parse_cycles, sort_fn=bike_file_date_fn, filter_fn=filter_fn)\n",
    "\n",
    "# records is a list of lists of dicts\n",
    "df = pd.DataFrame(list(itertools.chain.from_iterable(records))) "
   ]
  },
  {
   "cell_type": "markdown",
   "metadata": {},
   "source": [
    "####  All Station View"
   ]
  },
  {
   "cell_type": "code",
   "execution_count": 379,
   "metadata": {
    "collapsed": false,
    "scrolled": true
   },
   "outputs": [
    {
     "data": {
      "text/html": [
       "<div>\n",
       "<table border=\"1\" class=\"dataframe\">\n",
       "  <thead>\n",
       "    <tr style=\"text-align: right;\">\n",
       "      <th></th>\n",
       "      <th>Id</th>\n",
       "      <th>InstallDate</th>\n",
       "      <th>Installed</th>\n",
       "      <th>Latitude</th>\n",
       "      <th>Locked</th>\n",
       "      <th>Longitude</th>\n",
       "      <th>Name</th>\n",
       "      <th>NbBikes</th>\n",
       "      <th>NbDocks</th>\n",
       "      <th>NbEmptyDocks</th>\n",
       "      <th>PlaceType</th>\n",
       "      <th>RemovalDate</th>\n",
       "      <th>Temporary</th>\n",
       "      <th>TerminalName</th>\n",
       "      <th>Timestamp</th>\n",
       "    </tr>\n",
       "  </thead>\n",
       "  <tbody>\n",
       "    <tr>\n",
       "      <th>0</th>\n",
       "      <td>BikePoints_1</td>\n",
       "      <td>1278947280000</td>\n",
       "      <td>true</td>\n",
       "      <td>51.529163</td>\n",
       "      <td>false</td>\n",
       "      <td>-0.109970</td>\n",
       "      <td>River Street , Clerkenwell</td>\n",
       "      <td>11</td>\n",
       "      <td>19</td>\n",
       "      <td>7</td>\n",
       "      <td>BikePoint</td>\n",
       "      <td></td>\n",
       "      <td>false</td>\n",
       "      <td>001023</td>\n",
       "      <td>2016-05-16T06:26:24.037</td>\n",
       "    </tr>\n",
       "    <tr>\n",
       "      <th>1</th>\n",
       "      <td>BikePoints_2</td>\n",
       "      <td>1278585780000</td>\n",
       "      <td>true</td>\n",
       "      <td>51.499606</td>\n",
       "      <td>false</td>\n",
       "      <td>-0.197574</td>\n",
       "      <td>Phillimore Gardens, Kensington</td>\n",
       "      <td>12</td>\n",
       "      <td>37</td>\n",
       "      <td>25</td>\n",
       "      <td>BikePoint</td>\n",
       "      <td></td>\n",
       "      <td>false</td>\n",
       "      <td>001018</td>\n",
       "      <td>2016-05-16T06:26:24.037</td>\n",
       "    </tr>\n",
       "    <tr>\n",
       "      <th>2</th>\n",
       "      <td>BikePoints_3</td>\n",
       "      <td>1278240360000</td>\n",
       "      <td>true</td>\n",
       "      <td>51.521283</td>\n",
       "      <td>false</td>\n",
       "      <td>-0.084605</td>\n",
       "      <td>Christopher Street, Liverpool Street</td>\n",
       "      <td>6</td>\n",
       "      <td>32</td>\n",
       "      <td>26</td>\n",
       "      <td>BikePoint</td>\n",
       "      <td></td>\n",
       "      <td>false</td>\n",
       "      <td>001012</td>\n",
       "      <td>2016-05-16T06:51:27.5</td>\n",
       "    </tr>\n",
       "    <tr>\n",
       "      <th>3</th>\n",
       "      <td>BikePoints_4</td>\n",
       "      <td>1278241080000</td>\n",
       "      <td>true</td>\n",
       "      <td>51.530059</td>\n",
       "      <td>false</td>\n",
       "      <td>-0.120973</td>\n",
       "      <td>St. Chad's Street, King's Cross</td>\n",
       "      <td>14</td>\n",
       "      <td>23</td>\n",
       "      <td>9</td>\n",
       "      <td>BikePoint</td>\n",
       "      <td></td>\n",
       "      <td>false</td>\n",
       "      <td>001013</td>\n",
       "      <td>2016-05-16T06:51:27.5</td>\n",
       "    </tr>\n",
       "    <tr>\n",
       "      <th>4</th>\n",
       "      <td>BikePoints_5</td>\n",
       "      <td>1278241440000</td>\n",
       "      <td>true</td>\n",
       "      <td>51.493130</td>\n",
       "      <td>false</td>\n",
       "      <td>-0.156876</td>\n",
       "      <td>Sedding Street, Sloane Square</td>\n",
       "      <td>27</td>\n",
       "      <td>27</td>\n",
       "      <td>0</td>\n",
       "      <td>BikePoint</td>\n",
       "      <td></td>\n",
       "      <td>false</td>\n",
       "      <td>003420</td>\n",
       "      <td>2016-05-16T06:46:27.237</td>\n",
       "    </tr>\n",
       "  </tbody>\n",
       "</table>\n",
       "</div>"
      ],
      "text/plain": [
       "             Id    InstallDate Installed   Latitude Locked  Longitude  \\\n",
       "0  BikePoints_1  1278947280000      true  51.529163  false  -0.109970   \n",
       "1  BikePoints_2  1278585780000      true  51.499606  false  -0.197574   \n",
       "2  BikePoints_3  1278240360000      true  51.521283  false  -0.084605   \n",
       "3  BikePoints_4  1278241080000      true  51.530059  false  -0.120973   \n",
       "4  BikePoints_5  1278241440000      true  51.493130  false  -0.156876   \n",
       "\n",
       "                                   Name NbBikes NbDocks NbEmptyDocks  \\\n",
       "0            River Street , Clerkenwell      11      19            7   \n",
       "1        Phillimore Gardens, Kensington      12      37           25   \n",
       "2  Christopher Street, Liverpool Street       6      32           26   \n",
       "3       St. Chad's Street, King's Cross      14      23            9   \n",
       "4         Sedding Street, Sloane Square      27      27            0   \n",
       "\n",
       "   PlaceType RemovalDate Temporary TerminalName                Timestamp  \n",
       "0  BikePoint                 false       001023  2016-05-16T06:26:24.037  \n",
       "1  BikePoint                 false       001018  2016-05-16T06:26:24.037  \n",
       "2  BikePoint                 false       001012    2016-05-16T06:51:27.5  \n",
       "3  BikePoint                 false       001013    2016-05-16T06:51:27.5  \n",
       "4  BikePoint                 false       003420  2016-05-16T06:46:27.237  "
      ]
     },
     "execution_count": 379,
     "metadata": {},
     "output_type": "execute_result"
    }
   ],
   "source": [
    "df.head()"
   ]
  },
  {
   "cell_type": "markdown",
   "metadata": {},
   "source": [
    "####  Single Station View"
   ]
  },
  {
   "cell_type": "code",
   "execution_count": 380,
   "metadata": {
    "collapsed": false,
    "scrolled": true
   },
   "outputs": [
    {
     "data": {
      "text/html": [
       "<div>\n",
       "<table border=\"1\" class=\"dataframe\">\n",
       "  <thead>\n",
       "    <tr style=\"text-align: right;\">\n",
       "      <th></th>\n",
       "      <th>Id</th>\n",
       "      <th>InstallDate</th>\n",
       "      <th>Installed</th>\n",
       "      <th>Latitude</th>\n",
       "      <th>Locked</th>\n",
       "      <th>Longitude</th>\n",
       "      <th>Name</th>\n",
       "      <th>NbBikes</th>\n",
       "      <th>NbDocks</th>\n",
       "      <th>NbEmptyDocks</th>\n",
       "      <th>PlaceType</th>\n",
       "      <th>RemovalDate</th>\n",
       "      <th>Temporary</th>\n",
       "      <th>TerminalName</th>\n",
       "      <th>Timestamp</th>\n",
       "    </tr>\n",
       "  </thead>\n",
       "  <tbody>\n",
       "    <tr>\n",
       "      <th>0</th>\n",
       "      <td>BikePoints_1</td>\n",
       "      <td>1278947280000</td>\n",
       "      <td>true</td>\n",
       "      <td>51.529163</td>\n",
       "      <td>false</td>\n",
       "      <td>-0.10997</td>\n",
       "      <td>River Street , Clerkenwell</td>\n",
       "      <td>11</td>\n",
       "      <td>19</td>\n",
       "      <td>7</td>\n",
       "      <td>BikePoint</td>\n",
       "      <td></td>\n",
       "      <td>false</td>\n",
       "      <td>001023</td>\n",
       "      <td>2016-05-16T06:26:24.037</td>\n",
       "    </tr>\n",
       "    <tr>\n",
       "      <th>762</th>\n",
       "      <td>BikePoints_1</td>\n",
       "      <td>1278947280000</td>\n",
       "      <td>true</td>\n",
       "      <td>51.529163</td>\n",
       "      <td>false</td>\n",
       "      <td>-0.10997</td>\n",
       "      <td>River Street , Clerkenwell</td>\n",
       "      <td>11</td>\n",
       "      <td>19</td>\n",
       "      <td>7</td>\n",
       "      <td>BikePoint</td>\n",
       "      <td></td>\n",
       "      <td>false</td>\n",
       "      <td>001023</td>\n",
       "      <td>2016-05-16T06:26:24.037</td>\n",
       "    </tr>\n",
       "    <tr>\n",
       "      <th>1524</th>\n",
       "      <td>BikePoints_1</td>\n",
       "      <td>1278947280000</td>\n",
       "      <td>true</td>\n",
       "      <td>51.529163</td>\n",
       "      <td>false</td>\n",
       "      <td>-0.10997</td>\n",
       "      <td>River Street , Clerkenwell</td>\n",
       "      <td>10</td>\n",
       "      <td>19</td>\n",
       "      <td>8</td>\n",
       "      <td>BikePoint</td>\n",
       "      <td></td>\n",
       "      <td>false</td>\n",
       "      <td>001023</td>\n",
       "      <td>2016-05-16T07:01:29.163</td>\n",
       "    </tr>\n",
       "    <tr>\n",
       "      <th>2286</th>\n",
       "      <td>BikePoints_1</td>\n",
       "      <td>1278947280000</td>\n",
       "      <td>true</td>\n",
       "      <td>51.529163</td>\n",
       "      <td>false</td>\n",
       "      <td>-0.10997</td>\n",
       "      <td>River Street , Clerkenwell</td>\n",
       "      <td>8</td>\n",
       "      <td>19</td>\n",
       "      <td>10</td>\n",
       "      <td>BikePoint</td>\n",
       "      <td></td>\n",
       "      <td>false</td>\n",
       "      <td>001023</td>\n",
       "      <td>2016-05-16T07:11:30.433</td>\n",
       "    </tr>\n",
       "    <tr>\n",
       "      <th>3048</th>\n",
       "      <td>BikePoints_1</td>\n",
       "      <td>1278947280000</td>\n",
       "      <td>true</td>\n",
       "      <td>51.529163</td>\n",
       "      <td>false</td>\n",
       "      <td>-0.10997</td>\n",
       "      <td>River Street , Clerkenwell</td>\n",
       "      <td>8</td>\n",
       "      <td>19</td>\n",
       "      <td>10</td>\n",
       "      <td>BikePoint</td>\n",
       "      <td></td>\n",
       "      <td>false</td>\n",
       "      <td>001023</td>\n",
       "      <td>2016-05-16T07:11:30.433</td>\n",
       "    </tr>\n",
       "  </tbody>\n",
       "</table>\n",
       "</div>"
      ],
      "text/plain": [
       "                Id    InstallDate Installed   Latitude Locked  Longitude  \\\n",
       "0     BikePoints_1  1278947280000      true  51.529163  false   -0.10997   \n",
       "762   BikePoints_1  1278947280000      true  51.529163  false   -0.10997   \n",
       "1524  BikePoints_1  1278947280000      true  51.529163  false   -0.10997   \n",
       "2286  BikePoints_1  1278947280000      true  51.529163  false   -0.10997   \n",
       "3048  BikePoints_1  1278947280000      true  51.529163  false   -0.10997   \n",
       "\n",
       "                            Name NbBikes NbDocks NbEmptyDocks  PlaceType  \\\n",
       "0     River Street , Clerkenwell      11      19            7  BikePoint   \n",
       "762   River Street , Clerkenwell      11      19            7  BikePoint   \n",
       "1524  River Street , Clerkenwell      10      19            8  BikePoint   \n",
       "2286  River Street , Clerkenwell       8      19           10  BikePoint   \n",
       "3048  River Street , Clerkenwell       8      19           10  BikePoint   \n",
       "\n",
       "     RemovalDate Temporary TerminalName                Timestamp  \n",
       "0                    false       001023  2016-05-16T06:26:24.037  \n",
       "762                  false       001023  2016-05-16T06:26:24.037  \n",
       "1524                 false       001023  2016-05-16T07:01:29.163  \n",
       "2286                 false       001023  2016-05-16T07:11:30.433  \n",
       "3048                 false       001023  2016-05-16T07:11:30.433  "
      ]
     },
     "execution_count": 380,
     "metadata": {},
     "output_type": "execute_result"
    }
   ],
   "source": [
    "df[df['Id'] == 'BikePoints_1'].head()"
   ]
  },
  {
   "cell_type": "markdown",
   "metadata": {},
   "source": [
    "#### Observations\n",
    "\n",
    "* There are some duplicate rows <- remove duplicates\n",
    "* RemovalDate may contain a lot of nulls <- remove if not helpful\n",
    "* Locked and Installed might be constant <- remove if not helpful"
   ]
  },
  {
   "cell_type": "markdown",
   "metadata": {},
   "source": [
    "### Build Dataset"
   ]
  },
  {
   "cell_type": "markdown",
   "metadata": {},
   "source": [
    "#### Work with Chunks"
   ]
  },
  {
   "cell_type": "markdown",
   "metadata": {},
   "source": [
    "Due to memory constraints we'll parse the data in chunks. In each chunk we'll remove the redundant candidate keys and also duplicate rows."
   ]
  },
  {
   "cell_type": "code",
   "execution_count": 381,
   "metadata": {
    "collapsed": true
   },
   "outputs": [],
   "source": [
    "def chunker(seq, size):\n",
    "    return (seq[pos:pos + size] for pos in xrange(0, len(seq), size))"
   ]
  },
  {
   "cell_type": "markdown",
   "metadata": {},
   "source": [
    "#### Tables\n",
    "\n",
    "We will have two different tables, one for the stations and one for the availability readings"
   ]
  },
  {
   "cell_type": "code",
   "execution_count": 382,
   "metadata": {
    "collapsed": true
   },
   "outputs": [],
   "source": [
    "def split_data(parsed_data):\n",
    "    master_df = pd.DataFrame(list(itertools.chain.from_iterable(parsed_data)))\n",
    "    \n",
    "    readings_df = pd.DataFrame(master_df, columns=['Id', 'Timestamp', 'NbBikes', 'NbDocks', 'NbEmptyDocks'])\n",
    "    stations_df = pd.DataFrame(master_df, columns=['Id', 'Name', 'TerminalName' , 'PlaceType', 'Latitude', \n",
    "                                                   'Longitude', 'Installed', 'Temporary', 'Locked',\n",
    "                                                   'RemovalDate', 'InstallDate'])\n",
    "    \n",
    "    return (readings_df, stations_df)"
   ]
  },
  {
   "cell_type": "markdown",
   "metadata": {},
   "source": [
    "#### Build the Dataset"
   ]
  },
  {
   "cell_type": "code",
   "execution_count": 383,
   "metadata": {
    "collapsed": true
   },
   "outputs": [],
   "source": [
    "# get the files to parse\n",
    "five_weekdays_filter = create_between_dates_filter(bike_file_date_fn, \n",
    "                                                   datetime(2016, 5, 15, 11, 0, 0), \n",
    "                                                   datetime(2016, 6, 11, 23, 59, 59))\n",
    "\n",
    "files = get_file_list('data/raw/cycles', filter_fn=None, sort_fn=bike_file_date_fn)\n",
    "\n",
    "# process the files in chunks\n",
    "files_batches = chunker(files, 500)"
   ]
  },
  {
   "cell_type": "code",
   "execution_count": 384,
   "metadata": {
    "collapsed": false
   },
   "outputs": [],
   "source": [
    "# start with an empty dataset\n",
    "readings_dataset = pd.DataFrame()\n",
    "stations_dataset = pd.DataFrame()\n",
    "\n",
    "# append each chunk to the datasets while removing duplicates\n",
    "for batch in files_batches:\n",
    "    parsed_data = parse_json_files(batch, parse_cycles)\n",
    "    \n",
    "    # split the data into two station data and readings data\n",
    "    readings_df, stations_df = split_data(parsed_data)\n",
    "    \n",
    "    # append the datasets\n",
    "    readings_dataset = pd.concat([readings_dataset, readings_df])\n",
    "    stations_dataset = pd.concat([stations_dataset, stations_df])\n",
    "    \n",
    "    # remove duplicated rows\n",
    "    readings_dataset.drop_duplicates(inplace=True)\n",
    "    stations_dataset.drop_duplicates(inplace=True)"
   ]
  },
  {
   "cell_type": "code",
   "execution_count": 385,
   "metadata": {
    "collapsed": true
   },
   "outputs": [],
   "source": [
    "# put the parsed data in pickle files\n",
    "pickle.dump(readings_dataset, open(\"data/parsed/readings_dataset_raw.p\", \"wb\"))\n",
    "pickle.dump(stations_dataset, open(\"data/parsed/stations_dataset_raw.p\", \"wb\"))"
   ]
  },
  {
   "cell_type": "markdown",
   "metadata": {},
   "source": [
    "## Read the Parsed Data"
   ]
  },
  {
   "cell_type": "code",
   "execution_count": 386,
   "metadata": {
    "collapsed": false
   },
   "outputs": [],
   "source": [
    "stations_dataset = pickle.load(open('data/parsed/stations_dataset_raw.p', 'rb'))\n",
    "readings_dataset = pickle.load(open('data/parsed/readings_dataset_raw.p', 'rb'))"
   ]
  },
  {
   "cell_type": "markdown",
   "metadata": {},
   "source": [
    "## Technically Correct Data\n",
    "\n",
    "The data is set to be technically correct if it:\n",
    "\n",
    "1. can be directly recognized as belonging to a certain variable\n",
    "2. is stored in a data type that represents the value domain of the real-world variable."
   ]
  },
  {
   "cell_type": "code",
   "execution_count": 387,
   "metadata": {
    "collapsed": false
   },
   "outputs": [],
   "source": [
    "# convert columns to their appropriate datatypes\n",
    "stations_dataset['InstallDate'] = pd.to_numeric(stations_dataset['InstallDate'], errors='raise')\n",
    "stations_dataset['RemovalDate'] = pd.to_numeric(stations_dataset['RemovalDate'], errors='raise')\n",
    "\n",
    "stations_dataset['Installed'].replace({'true': True, 'false': False}, inplace=True)\n",
    "stations_dataset['Temporary'].replace({'true': True, 'false': False}, inplace=True)\n",
    "stations_dataset['Locked'].replace({'true': True, 'false': False}, inplace=True)\n",
    "\n",
    "readings_dataset['NbBikes'] = readings_dataset['NbBikes'].astype('uint16')\n",
    "readings_dataset['NbDocks'] = readings_dataset['NbDocks'].astype('uint16')\n",
    "readings_dataset['NbEmptyDocks'] = readings_dataset['NbEmptyDocks'].astype('uint16')"
   ]
  },
  {
   "cell_type": "code",
   "execution_count": 388,
   "metadata": {
    "collapsed": false
   },
   "outputs": [],
   "source": [
    "# convert string timestamp to datetime\n",
    "stations_dataset['InstallDate'] = pd.to_datetime(stations_dataset['InstallDate'], unit='ms', errors='raise')\n",
    "stations_dataset['RemovalDate'] = pd.to_datetime(stations_dataset['RemovalDate'], unit='ms', errors='raise')\n",
    "\n",
    "readings_dataset['Timestamp'] =  pd.to_datetime(readings_dataset['Timestamp'], format='%Y-%m-%dT%H:%M:%S.%f', errors='raise')"
   ]
  },
  {
   "cell_type": "code",
   "execution_count": 389,
   "metadata": {
    "collapsed": false
   },
   "outputs": [],
   "source": [
    "# sort the datasets\n",
    "stations_dataset.sort_values(by=['Id'], ascending=True, inplace=True)\n",
    "\n",
    "readings_dataset.sort_values(by=['Timestamp'], ascending=True, inplace=True)"
   ]
  },
  {
   "cell_type": "markdown",
   "metadata": {},
   "source": [
    "## Derive Data"
   ]
  },
  {
   "cell_type": "code",
   "execution_count": 390,
   "metadata": {
    "collapsed": false,
    "scrolled": true
   },
   "outputs": [],
   "source": [
    "stations_dataset['ShortName'] = stations_dataset['Name'].apply(lambda x: re.sub('\\d*$', '', x.split(',')[0].strip()).strip())\n",
    "\n",
    "readings_dataset['NbUnusableDocks'] = readings_dataset['NbDocks'] - (readings_dataset['NbBikes'] + readings_dataset['NbEmptyDocks'])"
   ]
  },
  {
   "cell_type": "markdown",
   "metadata": {},
   "source": [
    "### Add Station Priority Column\n",
    "Priorities downloaded from https://www.whatdotheyknow.com/request/tfl_boris_bike_statistics?unfold=1"
   ]
  },
  {
   "cell_type": "code",
   "execution_count": 391,
   "metadata": {
    "collapsed": true
   },
   "outputs": [],
   "source": [
    "stations_priorities = pd.read_csv('data/priorities/station_priorities.csv', encoding='latin-1')\n",
    "stations_priorities['Site'] = stations_priorities['Site'].apply(lambda x: x.strip())"
   ]
  },
  {
   "cell_type": "code",
   "execution_count": 392,
   "metadata": {
    "collapsed": true
   },
   "outputs": [],
   "source": [
    "stations_dataset = pd.merge(stations_dataset, stations_priorities, how='left', left_on='ShortName', right_on='Site')\n",
    "stations_dataset['Priority'].replace({'One': 1, 'Two': 2}, inplace=True)\n",
    "stations_dataset.drop(['Site'], axis=1, inplace=True)\n",
    "stations_dataset.drop(['Borough'], axis=1, inplace=True)"
   ]
  },
  {
   "cell_type": "markdown",
   "metadata": {},
   "source": [
    "## Consistent Data"
   ]
  },
  {
   "cell_type": "markdown",
   "metadata": {},
   "source": [
    "### Stations Analysis\n",
    "\n",
    "#### Overview"
   ]
  },
  {
   "cell_type": "code",
   "execution_count": 393,
   "metadata": {
    "collapsed": false
   },
   "outputs": [
    {
     "data": {
      "text/plain": [
       "(784, 13)"
      ]
     },
     "execution_count": 393,
     "metadata": {},
     "output_type": "execute_result"
    }
   ],
   "source": [
    "stations_dataset.shape"
   ]
  },
  {
   "cell_type": "code",
   "execution_count": 394,
   "metadata": {
    "collapsed": false
   },
   "outputs": [
    {
     "name": "stdout",
     "output_type": "stream",
     "text": [
      "<class 'pandas.core.frame.DataFrame'>\n",
      "Int64Index: 784 entries, 0 to 783\n",
      "Data columns (total 13 columns):\n",
      "Id              784 non-null object\n",
      "Name            784 non-null object\n",
      "TerminalName    784 non-null object\n",
      "PlaceType       784 non-null object\n",
      "Latitude        784 non-null float64\n",
      "Longitude       784 non-null float64\n",
      "Installed       784 non-null bool\n",
      "Temporary       784 non-null bool\n",
      "Locked          784 non-null bool\n",
      "RemovalDate     3 non-null datetime64[ns]\n",
      "InstallDate     688 non-null datetime64[ns]\n",
      "ShortName       784 non-null object\n",
      "Priority        742 non-null object\n",
      "dtypes: bool(3), datetime64[ns](2), float64(2), object(6)\n",
      "memory usage: 505.3 KB\n"
     ]
    }
   ],
   "source": [
    "stations_dataset.info(memory_usage='deep')"
   ]
  },
  {
   "cell_type": "code",
   "execution_count": 395,
   "metadata": {
    "collapsed": false
   },
   "outputs": [
    {
     "data": {
      "text/html": [
       "<div>\n",
       "<table border=\"1\" class=\"dataframe\">\n",
       "  <thead>\n",
       "    <tr style=\"text-align: right;\">\n",
       "      <th></th>\n",
       "      <th>Id</th>\n",
       "      <th>Name</th>\n",
       "      <th>TerminalName</th>\n",
       "      <th>PlaceType</th>\n",
       "      <th>Latitude</th>\n",
       "      <th>Longitude</th>\n",
       "      <th>Installed</th>\n",
       "      <th>Temporary</th>\n",
       "      <th>Locked</th>\n",
       "      <th>RemovalDate</th>\n",
       "      <th>InstallDate</th>\n",
       "      <th>ShortName</th>\n",
       "      <th>Priority</th>\n",
       "    </tr>\n",
       "  </thead>\n",
       "  <tbody>\n",
       "    <tr>\n",
       "      <th>0</th>\n",
       "      <td>BikePoints_1</td>\n",
       "      <td>River Street , Clerkenwell</td>\n",
       "      <td>001023</td>\n",
       "      <td>BikePoint</td>\n",
       "      <td>51.529163</td>\n",
       "      <td>-0.109970</td>\n",
       "      <td>True</td>\n",
       "      <td>False</td>\n",
       "      <td>False</td>\n",
       "      <td>NaT</td>\n",
       "      <td>2010-07-12 15:08:00</td>\n",
       "      <td>River Street</td>\n",
       "      <td>2</td>\n",
       "    </tr>\n",
       "    <tr>\n",
       "      <th>1</th>\n",
       "      <td>BikePoints_10</td>\n",
       "      <td>Park Street, Bankside</td>\n",
       "      <td>001024</td>\n",
       "      <td>BikePoint</td>\n",
       "      <td>51.505974</td>\n",
       "      <td>-0.092754</td>\n",
       "      <td>True</td>\n",
       "      <td>False</td>\n",
       "      <td>False</td>\n",
       "      <td>NaT</td>\n",
       "      <td>2010-07-04 11:21:00</td>\n",
       "      <td>Park Street</td>\n",
       "      <td>2</td>\n",
       "    </tr>\n",
       "    <tr>\n",
       "      <th>2</th>\n",
       "      <td>BikePoints_100</td>\n",
       "      <td>Albert Embankment, Vauxhall</td>\n",
       "      <td>001059</td>\n",
       "      <td>BikePoint</td>\n",
       "      <td>51.490435</td>\n",
       "      <td>-0.122806</td>\n",
       "      <td>True</td>\n",
       "      <td>False</td>\n",
       "      <td>False</td>\n",
       "      <td>NaT</td>\n",
       "      <td>2010-07-14 09:31:00</td>\n",
       "      <td>Albert Embankment</td>\n",
       "      <td>2</td>\n",
       "    </tr>\n",
       "    <tr>\n",
       "      <th>3</th>\n",
       "      <td>BikePoints_101</td>\n",
       "      <td>Queen Street 1, Bank</td>\n",
       "      <td>000999</td>\n",
       "      <td>BikePoint</td>\n",
       "      <td>51.511553</td>\n",
       "      <td>-0.092940</td>\n",
       "      <td>True</td>\n",
       "      <td>False</td>\n",
       "      <td>False</td>\n",
       "      <td>NaT</td>\n",
       "      <td>2010-07-14 10:18:00</td>\n",
       "      <td>Queen Street</td>\n",
       "      <td>1</td>\n",
       "    </tr>\n",
       "    <tr>\n",
       "      <th>4</th>\n",
       "      <td>BikePoints_102</td>\n",
       "      <td>Jewry Street, Aldgate</td>\n",
       "      <td>001045</td>\n",
       "      <td>BikePoint</td>\n",
       "      <td>51.513406</td>\n",
       "      <td>-0.076793</td>\n",
       "      <td>True</td>\n",
       "      <td>False</td>\n",
       "      <td>False</td>\n",
       "      <td>NaT</td>\n",
       "      <td>2010-07-14 10:21:00</td>\n",
       "      <td>Jewry Street</td>\n",
       "      <td>2</td>\n",
       "    </tr>\n",
       "  </tbody>\n",
       "</table>\n",
       "</div>"
      ],
      "text/plain": [
       "               Id                         Name TerminalName  PlaceType  \\\n",
       "0    BikePoints_1   River Street , Clerkenwell       001023  BikePoint   \n",
       "1   BikePoints_10        Park Street, Bankside       001024  BikePoint   \n",
       "2  BikePoints_100  Albert Embankment, Vauxhall       001059  BikePoint   \n",
       "3  BikePoints_101         Queen Street 1, Bank       000999  BikePoint   \n",
       "4  BikePoints_102        Jewry Street, Aldgate       001045  BikePoint   \n",
       "\n",
       "    Latitude  Longitude Installed Temporary Locked RemovalDate  \\\n",
       "0  51.529163  -0.109970      True     False  False         NaT   \n",
       "1  51.505974  -0.092754      True     False  False         NaT   \n",
       "2  51.490435  -0.122806      True     False  False         NaT   \n",
       "3  51.511553  -0.092940      True     False  False         NaT   \n",
       "4  51.513406  -0.076793      True     False  False         NaT   \n",
       "\n",
       "          InstallDate          ShortName Priority  \n",
       "0 2010-07-12 15:08:00       River Street        2  \n",
       "1 2010-07-04 11:21:00        Park Street        2  \n",
       "2 2010-07-14 09:31:00  Albert Embankment        2  \n",
       "3 2010-07-14 10:18:00       Queen Street        1  \n",
       "4 2010-07-14 10:21:00       Jewry Street        2  "
      ]
     },
     "execution_count": 395,
     "metadata": {},
     "output_type": "execute_result"
    }
   ],
   "source": [
    "stations_dataset.head()"
   ]
  },
  {
   "cell_type": "code",
   "execution_count": 396,
   "metadata": {
    "collapsed": false
   },
   "outputs": [
    {
     "data": {
      "text/html": [
       "<div>\n",
       "<table border=\"1\" class=\"dataframe\">\n",
       "  <thead>\n",
       "    <tr style=\"text-align: right;\">\n",
       "      <th></th>\n",
       "      <th>Latitude</th>\n",
       "      <th>Longitude</th>\n",
       "    </tr>\n",
       "  </thead>\n",
       "  <tbody>\n",
       "    <tr>\n",
       "      <th>count</th>\n",
       "      <td>784.000000</td>\n",
       "      <td>784.000000</td>\n",
       "    </tr>\n",
       "    <tr>\n",
       "      <th>mean</th>\n",
       "      <td>51.440172</td>\n",
       "      <td>-0.128614</td>\n",
       "    </tr>\n",
       "    <tr>\n",
       "      <th>std</th>\n",
       "      <td>1.839604</td>\n",
       "      <td>0.056292</td>\n",
       "    </tr>\n",
       "    <tr>\n",
       "      <th>min</th>\n",
       "      <td>0.000000</td>\n",
       "      <td>-0.236769</td>\n",
       "    </tr>\n",
       "    <tr>\n",
       "      <th>25%</th>\n",
       "      <td>51.493142</td>\n",
       "      <td>-0.172804</td>\n",
       "    </tr>\n",
       "    <tr>\n",
       "      <th>50%</th>\n",
       "      <td>51.509191</td>\n",
       "      <td>-0.132007</td>\n",
       "    </tr>\n",
       "    <tr>\n",
       "      <th>75%</th>\n",
       "      <td>51.520867</td>\n",
       "      <td>-0.092881</td>\n",
       "    </tr>\n",
       "    <tr>\n",
       "      <th>max</th>\n",
       "      <td>51.549369</td>\n",
       "      <td>0.122299</td>\n",
       "    </tr>\n",
       "  </tbody>\n",
       "</table>\n",
       "</div>"
      ],
      "text/plain": [
       "         Latitude   Longitude\n",
       "count  784.000000  784.000000\n",
       "mean    51.440172   -0.128614\n",
       "std      1.839604    0.056292\n",
       "min      0.000000   -0.236769\n",
       "25%     51.493142   -0.172804\n",
       "50%     51.509191   -0.132007\n",
       "75%     51.520867   -0.092881\n",
       "max     51.549369    0.122299"
      ]
     },
     "execution_count": 396,
     "metadata": {},
     "output_type": "execute_result"
    }
   ],
   "source": [
    "stations_dataset.describe()"
   ]
  },
  {
   "cell_type": "code",
   "execution_count": 397,
   "metadata": {
    "collapsed": false,
    "scrolled": true
   },
   "outputs": [
    {
     "data": {
      "text/plain": [
       "Id              776\n",
       "Name            778\n",
       "TerminalName    776\n",
       "PlaceType         1\n",
       "Latitude        774\n",
       "Longitude       774\n",
       "Installed         2\n",
       "Temporary         1\n",
       "Locked            2\n",
       "RemovalDate       3\n",
       "InstallDate     684\n",
       "ShortName       766\n",
       "Priority          4\n",
       "dtype: int64"
      ]
     },
     "execution_count": 397,
     "metadata": {},
     "output_type": "execute_result"
    }
   ],
   "source": [
    "stations_dataset.apply(lambda x:x.nunique())"
   ]
  },
  {
   "cell_type": "code",
   "execution_count": 398,
   "metadata": {
    "collapsed": false
   },
   "outputs": [
    {
     "data": {
      "text/plain": [
       "Id                0\n",
       "Name              0\n",
       "TerminalName      0\n",
       "PlaceType         0\n",
       "Latitude          0\n",
       "Longitude         0\n",
       "Installed         0\n",
       "Temporary         0\n",
       "Locked            0\n",
       "RemovalDate     781\n",
       "InstallDate      96\n",
       "ShortName         0\n",
       "Priority         42\n",
       "dtype: int64"
      ]
     },
     "execution_count": 398,
     "metadata": {},
     "output_type": "execute_result"
    }
   ],
   "source": [
    "stations_dataset.isnull().sum()"
   ]
  },
  {
   "cell_type": "markdown",
   "metadata": {},
   "source": [
    "#### Observations:\n",
    "* Id, Name and Terminal name seem to be candidate keys\n",
    "* The minimum latitude and the maximum longitude are 0\n",
    "* Some stations have the same latitude or longitude\n",
    "* Id, TerminalName and Name have different unique values\n",
    "* Placetype, Installed, Temporary and Locked appear to be constant\n",
    "* Some stations do not have an install date\n",
    "* Some Stations have a removal date (very sparse)"
   ]
  },
  {
   "cell_type": "markdown",
   "metadata": {},
   "source": [
    "#### Remove Duplicate Stations"
   ]
  },
  {
   "cell_type": "code",
   "execution_count": 399,
   "metadata": {
    "collapsed": false,
    "scrolled": false
   },
   "outputs": [
    {
     "data": {
      "text/html": [
       "<div>\n",
       "<table border=\"1\" class=\"dataframe\">\n",
       "  <thead>\n",
       "    <tr style=\"text-align: right;\">\n",
       "      <th></th>\n",
       "      <th>Id</th>\n",
       "      <th>Name</th>\n",
       "      <th>TerminalName</th>\n",
       "      <th>PlaceType</th>\n",
       "      <th>Latitude</th>\n",
       "      <th>Longitude</th>\n",
       "      <th>Installed</th>\n",
       "      <th>Temporary</th>\n",
       "      <th>Locked</th>\n",
       "      <th>RemovalDate</th>\n",
       "      <th>InstallDate</th>\n",
       "      <th>ShortName</th>\n",
       "      <th>Priority</th>\n",
       "    </tr>\n",
       "  </thead>\n",
       "  <tbody>\n",
       "    <tr>\n",
       "      <th>415</th>\n",
       "      <td>BikePoints_497</td>\n",
       "      <td>Merchant Street, Bow</td>\n",
       "      <td>200242</td>\n",
       "      <td>BikePoint</td>\n",
       "      <td>51.526177</td>\n",
       "      <td>-0.027467</td>\n",
       "      <td>True</td>\n",
       "      <td>False</td>\n",
       "      <td>False</td>\n",
       "      <td>NaT</td>\n",
       "      <td>2012-01-24 09:47:00</td>\n",
       "      <td>Merchant Street</td>\n",
       "      <td>NaN</td>\n",
       "    </tr>\n",
       "    <tr>\n",
       "      <th>416</th>\n",
       "      <td>BikePoints_497</td>\n",
       "      <td>Merchant Street, Bow</td>\n",
       "      <td>200242</td>\n",
       "      <td>BikePoint</td>\n",
       "      <td>51.526535</td>\n",
       "      <td>-0.028619</td>\n",
       "      <td>True</td>\n",
       "      <td>False</td>\n",
       "      <td>False</td>\n",
       "      <td>NaT</td>\n",
       "      <td>2012-01-24 09:47:00</td>\n",
       "      <td>Merchant Street</td>\n",
       "      <td>NaN</td>\n",
       "    </tr>\n",
       "    <tr>\n",
       "      <th>724</th>\n",
       "      <td>BikePoints_780</td>\n",
       "      <td>Imperial Wharf Station, Sands End</td>\n",
       "      <td>300070</td>\n",
       "      <td>BikePoint</td>\n",
       "      <td>51.474665</td>\n",
       "      <td>-0.183165</td>\n",
       "      <td>True</td>\n",
       "      <td>False</td>\n",
       "      <td>False</td>\n",
       "      <td>NaT</td>\n",
       "      <td>2015-08-13 08:40:00</td>\n",
       "      <td>Imperial Wharf Station</td>\n",
       "      <td>2</td>\n",
       "    </tr>\n",
       "    <tr>\n",
       "      <th>725</th>\n",
       "      <td>BikePoints_780</td>\n",
       "      <td>Imperial Wharf Station</td>\n",
       "      <td>300070</td>\n",
       "      <td>BikePoint</td>\n",
       "      <td>51.474665</td>\n",
       "      <td>-0.183165</td>\n",
       "      <td>True</td>\n",
       "      <td>False</td>\n",
       "      <td>False</td>\n",
       "      <td>NaT</td>\n",
       "      <td>2015-08-13 08:40:00</td>\n",
       "      <td>Imperial Wharf Station</td>\n",
       "      <td>2</td>\n",
       "    </tr>\n",
       "    <tr>\n",
       "      <th>741</th>\n",
       "      <td>BikePoints_796</td>\n",
       "      <td>Coram Street, Bloomsbury</td>\n",
       "      <td>300201</td>\n",
       "      <td>BikePoint</td>\n",
       "      <td>51.524000</td>\n",
       "      <td>-0.126409</td>\n",
       "      <td>True</td>\n",
       "      <td>False</td>\n",
       "      <td>False</td>\n",
       "      <td>NaT</td>\n",
       "      <td>2016-02-29 11:47:00</td>\n",
       "      <td>Coram Street</td>\n",
       "      <td>NaN</td>\n",
       "    </tr>\n",
       "    <tr>\n",
       "      <th>742</th>\n",
       "      <td>BikePoints_796</td>\n",
       "      <td>Coram Street, Bloomsbury</td>\n",
       "      <td>300201</td>\n",
       "      <td>BikePoint</td>\n",
       "      <td>51.524000</td>\n",
       "      <td>-0.126409</td>\n",
       "      <td>True</td>\n",
       "      <td>False</td>\n",
       "      <td>True</td>\n",
       "      <td>NaT</td>\n",
       "      <td>2016-02-29 11:47:00</td>\n",
       "      <td>Coram Street</td>\n",
       "      <td>NaN</td>\n",
       "    </tr>\n",
       "    <tr>\n",
       "      <th>743</th>\n",
       "      <td>BikePoints_798</td>\n",
       "      <td>Birkenhead Street, King's Cross</td>\n",
       "      <td>300212</td>\n",
       "      <td>BikePoint</td>\n",
       "      <td>51.530199</td>\n",
       "      <td>-0.122299</td>\n",
       "      <td>True</td>\n",
       "      <td>False</td>\n",
       "      <td>False</td>\n",
       "      <td>NaT</td>\n",
       "      <td>NaT</td>\n",
       "      <td>Birkenhead Street</td>\n",
       "      <td>NaN</td>\n",
       "    </tr>\n",
       "    <tr>\n",
       "      <th>744</th>\n",
       "      <td>BikePoints_798</td>\n",
       "      <td>Birkenhead Street, King's Cross</td>\n",
       "      <td>300212</td>\n",
       "      <td>BikePoint</td>\n",
       "      <td>51.530199</td>\n",
       "      <td>0.122299</td>\n",
       "      <td>True</td>\n",
       "      <td>False</td>\n",
       "      <td>False</td>\n",
       "      <td>NaT</td>\n",
       "      <td>NaT</td>\n",
       "      <td>Birkenhead Street</td>\n",
       "      <td>NaN</td>\n",
       "    </tr>\n",
       "    <tr>\n",
       "      <th>745</th>\n",
       "      <td>BikePoints_799</td>\n",
       "      <td>Kings Gate House, Westminster</td>\n",
       "      <td>300202</td>\n",
       "      <td>BikePoint</td>\n",
       "      <td>51.497698</td>\n",
       "      <td>-0.137598</td>\n",
       "      <td>True</td>\n",
       "      <td>False</td>\n",
       "      <td>False</td>\n",
       "      <td>NaT</td>\n",
       "      <td>NaT</td>\n",
       "      <td>Kings Gate House</td>\n",
       "      <td>NaN</td>\n",
       "    </tr>\n",
       "    <tr>\n",
       "      <th>746</th>\n",
       "      <td>BikePoints_799</td>\n",
       "      <td>Kings Gate House, Westminster</td>\n",
       "      <td>300202</td>\n",
       "      <td>BikePoint</td>\n",
       "      <td>51.497698</td>\n",
       "      <td>-0.137598</td>\n",
       "      <td>True</td>\n",
       "      <td>False</td>\n",
       "      <td>False</td>\n",
       "      <td>NaT</td>\n",
       "      <td>2016-06-02 14:08:00</td>\n",
       "      <td>Kings Gate House</td>\n",
       "      <td>NaN</td>\n",
       "    </tr>\n",
       "    <tr>\n",
       "      <th>751</th>\n",
       "      <td>BikePoints_802</td>\n",
       "      <td>Albert Square, Stockwell</td>\n",
       "      <td>300209</td>\n",
       "      <td>BikePoint</td>\n",
       "      <td>51.476590</td>\n",
       "      <td>-0.118256</td>\n",
       "      <td>True</td>\n",
       "      <td>False</td>\n",
       "      <td>False</td>\n",
       "      <td>NaT</td>\n",
       "      <td>2016-06-02 11:05:00</td>\n",
       "      <td>Albert Square</td>\n",
       "      <td>NaN</td>\n",
       "    </tr>\n",
       "    <tr>\n",
       "      <th>752</th>\n",
       "      <td>BikePoints_802</td>\n",
       "      <td>Albert Square, Stockwell</td>\n",
       "      <td>300209</td>\n",
       "      <td>BikePoint</td>\n",
       "      <td>51.476590</td>\n",
       "      <td>-0.118256</td>\n",
       "      <td>True</td>\n",
       "      <td>False</td>\n",
       "      <td>False</td>\n",
       "      <td>NaT</td>\n",
       "      <td>NaT</td>\n",
       "      <td>Albert Square</td>\n",
       "      <td>NaN</td>\n",
       "    </tr>\n",
       "    <tr>\n",
       "      <th>759</th>\n",
       "      <td>BikePoints_814</td>\n",
       "      <td>Clapham Road, Lingham Street, Stockwell</td>\n",
       "      <td>300245</td>\n",
       "      <td>BikePoint</td>\n",
       "      <td>51.471433</td>\n",
       "      <td>-0.123670</td>\n",
       "      <td>True</td>\n",
       "      <td>False</td>\n",
       "      <td>False</td>\n",
       "      <td>NaT</td>\n",
       "      <td>2016-06-02 12:21:00</td>\n",
       "      <td>Clapham Road</td>\n",
       "      <td>NaN</td>\n",
       "    </tr>\n",
       "    <tr>\n",
       "      <th>760</th>\n",
       "      <td>BikePoints_814</td>\n",
       "      <td>Clapham Road, Lingham Street, Stockwell</td>\n",
       "      <td>300245</td>\n",
       "      <td>BikePoint</td>\n",
       "      <td>51.471433</td>\n",
       "      <td>-0.123670</td>\n",
       "      <td>True</td>\n",
       "      <td>False</td>\n",
       "      <td>False</td>\n",
       "      <td>NaT</td>\n",
       "      <td>NaT</td>\n",
       "      <td>Clapham Road</td>\n",
       "      <td>NaN</td>\n",
       "    </tr>\n",
       "    <tr>\n",
       "      <th>763</th>\n",
       "      <td>BikePoints_818</td>\n",
       "      <td>One Tower Bridge, Southwark</td>\n",
       "      <td>300249</td>\n",
       "      <td>BikePoint</td>\n",
       "      <td>51.503127</td>\n",
       "      <td>-0.078655</td>\n",
       "      <td>True</td>\n",
       "      <td>False</td>\n",
       "      <td>False</td>\n",
       "      <td>NaT</td>\n",
       "      <td>NaT</td>\n",
       "      <td>One Tower Bridge</td>\n",
       "      <td>NaN</td>\n",
       "    </tr>\n",
       "    <tr>\n",
       "      <th>764</th>\n",
       "      <td>BikePoints_818</td>\n",
       "      <td>One Tower Bridge, Bermondsey</td>\n",
       "      <td>300249</td>\n",
       "      <td>BikePoint</td>\n",
       "      <td>51.503127</td>\n",
       "      <td>-0.078655</td>\n",
       "      <td>True</td>\n",
       "      <td>False</td>\n",
       "      <td>False</td>\n",
       "      <td>NaT</td>\n",
       "      <td>NaT</td>\n",
       "      <td>One Tower Bridge</td>\n",
       "      <td>NaN</td>\n",
       "    </tr>\n",
       "  </tbody>\n",
       "</table>\n",
       "</div>"
      ],
      "text/plain": [
       "                 Id                                     Name TerminalName  \\\n",
       "415  BikePoints_497                     Merchant Street, Bow       200242   \n",
       "416  BikePoints_497                     Merchant Street, Bow       200242   \n",
       "724  BikePoints_780        Imperial Wharf Station, Sands End       300070   \n",
       "725  BikePoints_780                   Imperial Wharf Station       300070   \n",
       "741  BikePoints_796                 Coram Street, Bloomsbury       300201   \n",
       "742  BikePoints_796                 Coram Street, Bloomsbury       300201   \n",
       "743  BikePoints_798          Birkenhead Street, King's Cross       300212   \n",
       "744  BikePoints_798          Birkenhead Street, King's Cross       300212   \n",
       "745  BikePoints_799            Kings Gate House, Westminster       300202   \n",
       "746  BikePoints_799            Kings Gate House, Westminster       300202   \n",
       "751  BikePoints_802                 Albert Square, Stockwell       300209   \n",
       "752  BikePoints_802                 Albert Square, Stockwell       300209   \n",
       "759  BikePoints_814  Clapham Road, Lingham Street, Stockwell       300245   \n",
       "760  BikePoints_814  Clapham Road, Lingham Street, Stockwell       300245   \n",
       "763  BikePoints_818              One Tower Bridge, Southwark       300249   \n",
       "764  BikePoints_818             One Tower Bridge, Bermondsey       300249   \n",
       "\n",
       "     PlaceType   Latitude  Longitude Installed Temporary Locked RemovalDate  \\\n",
       "415  BikePoint  51.526177  -0.027467      True     False  False         NaT   \n",
       "416  BikePoint  51.526535  -0.028619      True     False  False         NaT   \n",
       "724  BikePoint  51.474665  -0.183165      True     False  False         NaT   \n",
       "725  BikePoint  51.474665  -0.183165      True     False  False         NaT   \n",
       "741  BikePoint  51.524000  -0.126409      True     False  False         NaT   \n",
       "742  BikePoint  51.524000  -0.126409      True     False   True         NaT   \n",
       "743  BikePoint  51.530199  -0.122299      True     False  False         NaT   \n",
       "744  BikePoint  51.530199   0.122299      True     False  False         NaT   \n",
       "745  BikePoint  51.497698  -0.137598      True     False  False         NaT   \n",
       "746  BikePoint  51.497698  -0.137598      True     False  False         NaT   \n",
       "751  BikePoint  51.476590  -0.118256      True     False  False         NaT   \n",
       "752  BikePoint  51.476590  -0.118256      True     False  False         NaT   \n",
       "759  BikePoint  51.471433  -0.123670      True     False  False         NaT   \n",
       "760  BikePoint  51.471433  -0.123670      True     False  False         NaT   \n",
       "763  BikePoint  51.503127  -0.078655      True     False  False         NaT   \n",
       "764  BikePoint  51.503127  -0.078655      True     False  False         NaT   \n",
       "\n",
       "            InstallDate               ShortName Priority  \n",
       "415 2012-01-24 09:47:00         Merchant Street      NaN  \n",
       "416 2012-01-24 09:47:00         Merchant Street      NaN  \n",
       "724 2015-08-13 08:40:00  Imperial Wharf Station        2  \n",
       "725 2015-08-13 08:40:00  Imperial Wharf Station        2  \n",
       "741 2016-02-29 11:47:00            Coram Street      NaN  \n",
       "742 2016-02-29 11:47:00            Coram Street      NaN  \n",
       "743                 NaT       Birkenhead Street      NaN  \n",
       "744                 NaT       Birkenhead Street      NaN  \n",
       "745                 NaT        Kings Gate House      NaN  \n",
       "746 2016-06-02 14:08:00        Kings Gate House      NaN  \n",
       "751 2016-06-02 11:05:00           Albert Square      NaN  \n",
       "752                 NaT           Albert Square      NaN  \n",
       "759 2016-06-02 12:21:00            Clapham Road      NaN  \n",
       "760                 NaT            Clapham Road      NaN  \n",
       "763                 NaT        One Tower Bridge      NaN  \n",
       "764                 NaT        One Tower Bridge      NaN  "
      ]
     },
     "execution_count": 399,
     "metadata": {},
     "output_type": "execute_result"
    }
   ],
   "source": [
    "def find_duplicate_ids(df):\n",
    "    \"\"\"Find Ids that have more than one value in the given columns\"\"\"\n",
    "    \n",
    "    df = df.drop_duplicates()\n",
    "    value_counts_grouped_by_id = df.groupby('Id').count()    \n",
    "    is_duplicate_id = value_counts_grouped_by_id.applymap(lambda x: x > 1).any(axis=1)\n",
    "    duplicate_ids = value_counts_grouped_by_id[is_duplicate_id == True].index.values\n",
    "    return df[df['Id'].isin(duplicate_ids)]\n",
    "\n",
    "diplicate_ids = find_duplicate_ids(stations_dataset)\n",
    "diplicate_ids"
   ]
  },
  {
   "cell_type": "markdown",
   "metadata": {},
   "source": [
    "Given these records have the same location and Id but different Name or TerminalName, we'll assume the station changed name and remove the first entries."
   ]
  },
  {
   "cell_type": "code",
   "execution_count": 400,
   "metadata": {
    "collapsed": false
   },
   "outputs": [],
   "source": [
    "# remove the one not in merchant street\n",
    "stations_dataset.drop(416, inplace=True)\n",
    "\n",
    "# remove the one with the shortest name\n",
    "stations_dataset.drop(725, inplace=True)\n",
    "\n",
    "# remve the one that is not in kings cross (as the name of the station implies)\n",
    "stations_dataset.drop(744, inplace=True)\n",
    "\n",
    "# remove the duplicated entries \n",
    "stations_dataset.drop([741, 745, 752, 760, 763],  inplace=True)"
   ]
  },
  {
   "cell_type": "code",
   "execution_count": 401,
   "metadata": {
    "collapsed": false
   },
   "outputs": [],
   "source": [
    "# make sure there are no repeated ids \n",
    "assert len(find_duplicate_ids(stations_dataset)) == 0"
   ]
  },
  {
   "cell_type": "markdown",
   "metadata": {},
   "source": [
    "#### Check Locations"
   ]
  },
  {
   "cell_type": "markdown",
   "metadata": {},
   "source": [
    "Let's have a closer look at the station locations. All of them should be in Greater London."
   ]
  },
  {
   "cell_type": "code",
   "execution_count": 402,
   "metadata": {
    "collapsed": false
   },
   "outputs": [
    {
     "data": {
      "text/html": [
       "<div>\n",
       "<table border=\"1\" class=\"dataframe\">\n",
       "  <thead>\n",
       "    <tr style=\"text-align: right;\">\n",
       "      <th></th>\n",
       "      <th>Id</th>\n",
       "      <th>Name</th>\n",
       "      <th>TerminalName</th>\n",
       "      <th>PlaceType</th>\n",
       "      <th>Latitude</th>\n",
       "      <th>Longitude</th>\n",
       "      <th>Installed</th>\n",
       "      <th>Temporary</th>\n",
       "      <th>Locked</th>\n",
       "      <th>RemovalDate</th>\n",
       "      <th>InstallDate</th>\n",
       "      <th>ShortName</th>\n",
       "      <th>Priority</th>\n",
       "    </tr>\n",
       "  </thead>\n",
       "  <tbody>\n",
       "    <tr>\n",
       "      <th>736</th>\n",
       "      <td>BikePoints_791</td>\n",
       "      <td>Test Desktop</td>\n",
       "      <td>666666</td>\n",
       "      <td>BikePoint</td>\n",
       "      <td>0.0</td>\n",
       "      <td>0.0</td>\n",
       "      <td>False</td>\n",
       "      <td>False</td>\n",
       "      <td>False</td>\n",
       "      <td>NaT</td>\n",
       "      <td>2016-01-15 12:39:00</td>\n",
       "      <td>Test Desktop</td>\n",
       "      <td>NaN</td>\n",
       "    </tr>\n",
       "  </tbody>\n",
       "</table>\n",
       "</div>"
      ],
      "text/plain": [
       "                 Id           Name TerminalName  PlaceType  Latitude  \\\n",
       "736  BikePoints_791  Test Desktop        666666  BikePoint       0.0   \n",
       "\n",
       "     Longitude Installed Temporary Locked RemovalDate         InstallDate  \\\n",
       "736        0.0     False     False  False         NaT 2016-01-15 12:39:00   \n",
       "\n",
       "        ShortName Priority  \n",
       "736  Test Desktop      NaN  "
      ]
     },
     "execution_count": 402,
     "metadata": {},
     "output_type": "execute_result"
    }
   ],
   "source": [
    "# bounding box for Greater London\n",
    "min_longitude = -0.489\n",
    "min_latitude = 51.28\n",
    "max_longitude = 0.236\n",
    "max_latitude = 51.686\n",
    "\n",
    "def find_locations_outside_box(locations, min_longitude, min_latitude, max_longitude, max_latitude):\n",
    "    latitude_check = ~(locations['Latitude'] >= min_latitude) & (locations['Latitude'] <= max_latitude) \n",
    "    longitude_check = ~(locations['Longitude'] >= min_longitude) & (locations['Longitude'] <= max_longitude) \n",
    "    return locations[(latitude_check | longitude_check)]\n",
    "\n",
    "outlier_locations_df = find_locations_outside_box(stations_dataset, min_longitude, min_latitude, max_longitude, max_latitude)\n",
    "outlier_locations_df"
   ]
  },
  {
   "cell_type": "markdown",
   "metadata": {},
   "source": [
    "This station looks like a test dation, so we'll remove it."
   ]
  },
  {
   "cell_type": "code",
   "execution_count": 403,
   "metadata": {
    "collapsed": false
   },
   "outputs": [],
   "source": [
    "outlier_locations_idx = outlier_locations_df.index.values\n",
    "\n",
    "stations_dataset.drop(outlier_locations_idx, inplace=True)"
   ]
  },
  {
   "cell_type": "code",
   "execution_count": 404,
   "metadata": {
    "collapsed": false
   },
   "outputs": [],
   "source": [
    "# make sure there are no stations outside London\n",
    "assert len(find_locations_outside_box(stations_dataset, min_longitude, min_latitude, max_longitude, max_latitude)) == 0"
   ]
  },
  {
   "cell_type": "markdown",
   "metadata": {},
   "source": [
    "We will investigate the fact that there are stations with duplicate latitude or longitude values."
   ]
  },
  {
   "cell_type": "code",
   "execution_count": 405,
   "metadata": {
    "collapsed": false
   },
   "outputs": [
    {
     "data": {
      "text/html": [
       "<div>\n",
       "<table border=\"1\" class=\"dataframe\">\n",
       "  <thead>\n",
       "    <tr style=\"text-align: right;\">\n",
       "      <th></th>\n",
       "      <th>Id</th>\n",
       "      <th>Name</th>\n",
       "      <th>TerminalName</th>\n",
       "      <th>PlaceType</th>\n",
       "      <th>Latitude</th>\n",
       "      <th>Longitude</th>\n",
       "      <th>Installed</th>\n",
       "      <th>Temporary</th>\n",
       "      <th>Locked</th>\n",
       "      <th>RemovalDate</th>\n",
       "      <th>InstallDate</th>\n",
       "      <th>ShortName</th>\n",
       "      <th>Priority</th>\n",
       "    </tr>\n",
       "  </thead>\n",
       "  <tbody>\n",
       "    <tr>\n",
       "      <th>127</th>\n",
       "      <td>BikePoints_216</td>\n",
       "      <td>Old Brompton Road, South Kensington</td>\n",
       "      <td>003479</td>\n",
       "      <td>BikePoint</td>\n",
       "      <td>51.490945</td>\n",
       "      <td>-0.181190</td>\n",
       "      <td>True</td>\n",
       "      <td>False</td>\n",
       "      <td>False</td>\n",
       "      <td>NaT</td>\n",
       "      <td>2010-07-19 11:12:00</td>\n",
       "      <td>Old Brompton Road</td>\n",
       "      <td>2</td>\n",
       "    </tr>\n",
       "    <tr>\n",
       "      <th>498</th>\n",
       "      <td>BikePoints_573</td>\n",
       "      <td>Limerston Street, West Chelsea</td>\n",
       "      <td>200001</td>\n",
       "      <td>BikePoint</td>\n",
       "      <td>51.485587</td>\n",
       "      <td>-0.181190</td>\n",
       "      <td>True</td>\n",
       "      <td>False</td>\n",
       "      <td>False</td>\n",
       "      <td>NaT</td>\n",
       "      <td>2012-03-15 07:21:00</td>\n",
       "      <td>Limerston Street</td>\n",
       "      <td>2</td>\n",
       "    </tr>\n",
       "    <tr>\n",
       "      <th>120</th>\n",
       "      <td>BikePoints_21</td>\n",
       "      <td>Hampstead Road (Cartmel), Euston</td>\n",
       "      <td>003426</td>\n",
       "      <td>BikePoint</td>\n",
       "      <td>51.530078</td>\n",
       "      <td>-0.138846</td>\n",
       "      <td>True</td>\n",
       "      <td>False</td>\n",
       "      <td>False</td>\n",
       "      <td>NaT</td>\n",
       "      <td>2010-07-06 14:49:00</td>\n",
       "      <td>Hampstead Road (Cartmel)</td>\n",
       "      <td>2</td>\n",
       "    </tr>\n",
       "    <tr>\n",
       "      <th>235</th>\n",
       "      <td>BikePoints_318</td>\n",
       "      <td>Sackville Street, Mayfair</td>\n",
       "      <td>001197</td>\n",
       "      <td>BikePoint</td>\n",
       "      <td>51.510048</td>\n",
       "      <td>-0.138846</td>\n",
       "      <td>True</td>\n",
       "      <td>False</td>\n",
       "      <td>False</td>\n",
       "      <td>NaT</td>\n",
       "      <td>2010-07-23 11:42:00</td>\n",
       "      <td>Sackville Street</td>\n",
       "      <td>2</td>\n",
       "    </tr>\n",
       "    <tr>\n",
       "      <th>10</th>\n",
       "      <td>BikePoints_108</td>\n",
       "      <td>Abbey Orchard Street, Westminster</td>\n",
       "      <td>003429</td>\n",
       "      <td>BikePoint</td>\n",
       "      <td>51.498125</td>\n",
       "      <td>-0.132102</td>\n",
       "      <td>True</td>\n",
       "      <td>False</td>\n",
       "      <td>False</td>\n",
       "      <td>NaT</td>\n",
       "      <td>2010-07-14 11:42:00</td>\n",
       "      <td>Abbey Orchard Street</td>\n",
       "      <td>1</td>\n",
       "    </tr>\n",
       "    <tr>\n",
       "      <th>552</th>\n",
       "      <td>BikePoints_624</td>\n",
       "      <td>Courland Grove, Wandsworth Road</td>\n",
       "      <td>200173</td>\n",
       "      <td>BikePoint</td>\n",
       "      <td>51.472918</td>\n",
       "      <td>-0.132102</td>\n",
       "      <td>True</td>\n",
       "      <td>False</td>\n",
       "      <td>False</td>\n",
       "      <td>NaT</td>\n",
       "      <td>2013-10-08 09:24:00</td>\n",
       "      <td>Courland Grove</td>\n",
       "      <td>2</td>\n",
       "    </tr>\n",
       "    <tr>\n",
       "      <th>3</th>\n",
       "      <td>BikePoints_101</td>\n",
       "      <td>Queen Street 1, Bank</td>\n",
       "      <td>000999</td>\n",
       "      <td>BikePoint</td>\n",
       "      <td>51.511553</td>\n",
       "      <td>-0.092940</td>\n",
       "      <td>True</td>\n",
       "      <td>False</td>\n",
       "      <td>False</td>\n",
       "      <td>NaT</td>\n",
       "      <td>2010-07-14 10:18:00</td>\n",
       "      <td>Queen Street</td>\n",
       "      <td>1</td>\n",
       "    </tr>\n",
       "    <tr>\n",
       "      <th>343</th>\n",
       "      <td>BikePoints_427</td>\n",
       "      <td>Cheapside, Bank</td>\n",
       "      <td>022180</td>\n",
       "      <td>BikePoint</td>\n",
       "      <td>51.513970</td>\n",
       "      <td>-0.092940</td>\n",
       "      <td>True</td>\n",
       "      <td>False</td>\n",
       "      <td>False</td>\n",
       "      <td>NaT</td>\n",
       "      <td>2011-07-15 10:28:00</td>\n",
       "      <td>Cheapside</td>\n",
       "      <td>1</td>\n",
       "    </tr>\n",
       "    <tr>\n",
       "      <th>10</th>\n",
       "      <td>BikePoints_108</td>\n",
       "      <td>Abbey Orchard Street, Westminster</td>\n",
       "      <td>003429</td>\n",
       "      <td>BikePoint</td>\n",
       "      <td>51.498125</td>\n",
       "      <td>-0.132102</td>\n",
       "      <td>True</td>\n",
       "      <td>False</td>\n",
       "      <td>False</td>\n",
       "      <td>NaT</td>\n",
       "      <td>2010-07-14 11:42:00</td>\n",
       "      <td>Abbey Orchard Street</td>\n",
       "      <td>1</td>\n",
       "    </tr>\n",
       "    <tr>\n",
       "      <th>391</th>\n",
       "      <td>BikePoints_474</td>\n",
       "      <td>Castalia Square, Cubitt Town</td>\n",
       "      <td>200155</td>\n",
       "      <td>BikePoint</td>\n",
       "      <td>51.498125</td>\n",
       "      <td>-0.011457</td>\n",
       "      <td>True</td>\n",
       "      <td>False</td>\n",
       "      <td>False</td>\n",
       "      <td>NaT</td>\n",
       "      <td>2012-01-17 17:56:00</td>\n",
       "      <td>Castalia Square</td>\n",
       "      <td>2</td>\n",
       "    </tr>\n",
       "    <tr>\n",
       "      <th>384</th>\n",
       "      <td>BikePoints_468</td>\n",
       "      <td>Cantrell Road, Bow</td>\n",
       "      <td>200150</td>\n",
       "      <td>BikePoint</td>\n",
       "      <td>51.521564</td>\n",
       "      <td>-0.022694</td>\n",
       "      <td>True</td>\n",
       "      <td>False</td>\n",
       "      <td>False</td>\n",
       "      <td>NaT</td>\n",
       "      <td>2012-01-12 13:42:00</td>\n",
       "      <td>Cantrell Road</td>\n",
       "      <td>2</td>\n",
       "    </tr>\n",
       "    <tr>\n",
       "      <th>474</th>\n",
       "      <td>BikePoints_550</td>\n",
       "      <td>Harford Street, Mile End</td>\n",
       "      <td>200102</td>\n",
       "      <td>BikePoint</td>\n",
       "      <td>51.521564</td>\n",
       "      <td>-0.039264</td>\n",
       "      <td>True</td>\n",
       "      <td>False</td>\n",
       "      <td>False</td>\n",
       "      <td>NaT</td>\n",
       "      <td>NaT</td>\n",
       "      <td>Harford Street</td>\n",
       "      <td>2</td>\n",
       "    </tr>\n",
       "    <tr>\n",
       "      <th>245</th>\n",
       "      <td>BikePoints_327</td>\n",
       "      <td>New North Road 1, Hoxton</td>\n",
       "      <td>001128</td>\n",
       "      <td>BikePoint</td>\n",
       "      <td>51.530950</td>\n",
       "      <td>-0.085603</td>\n",
       "      <td>True</td>\n",
       "      <td>False</td>\n",
       "      <td>False</td>\n",
       "      <td>NaT</td>\n",
       "      <td>2010-07-26 08:37:00</td>\n",
       "      <td>New North Road</td>\n",
       "      <td>2</td>\n",
       "    </tr>\n",
       "    <tr>\n",
       "      <th>780</th>\n",
       "      <td>BikePoints_96</td>\n",
       "      <td>Falkirk Street, Hoxton</td>\n",
       "      <td>001047</td>\n",
       "      <td>BikePoint</td>\n",
       "      <td>51.530950</td>\n",
       "      <td>-0.078505</td>\n",
       "      <td>True</td>\n",
       "      <td>False</td>\n",
       "      <td>False</td>\n",
       "      <td>NaT</td>\n",
       "      <td>2010-07-14 08:43:00</td>\n",
       "      <td>Falkirk Street</td>\n",
       "      <td>2</td>\n",
       "    </tr>\n",
       "  </tbody>\n",
       "</table>\n",
       "</div>"
      ],
      "text/plain": [
       "                 Id                                 Name TerminalName  \\\n",
       "127  BikePoints_216  Old Brompton Road, South Kensington       003479   \n",
       "498  BikePoints_573       Limerston Street, West Chelsea       200001   \n",
       "120   BikePoints_21     Hampstead Road (Cartmel), Euston       003426   \n",
       "235  BikePoints_318            Sackville Street, Mayfair       001197   \n",
       "10   BikePoints_108    Abbey Orchard Street, Westminster       003429   \n",
       "552  BikePoints_624      Courland Grove, Wandsworth Road       200173   \n",
       "3    BikePoints_101                 Queen Street 1, Bank       000999   \n",
       "343  BikePoints_427                      Cheapside, Bank       022180   \n",
       "10   BikePoints_108    Abbey Orchard Street, Westminster       003429   \n",
       "391  BikePoints_474         Castalia Square, Cubitt Town       200155   \n",
       "384  BikePoints_468                   Cantrell Road, Bow       200150   \n",
       "474  BikePoints_550             Harford Street, Mile End       200102   \n",
       "245  BikePoints_327             New North Road 1, Hoxton       001128   \n",
       "780   BikePoints_96               Falkirk Street, Hoxton       001047   \n",
       "\n",
       "     PlaceType   Latitude  Longitude Installed Temporary Locked RemovalDate  \\\n",
       "127  BikePoint  51.490945  -0.181190      True     False  False         NaT   \n",
       "498  BikePoint  51.485587  -0.181190      True     False  False         NaT   \n",
       "120  BikePoint  51.530078  -0.138846      True     False  False         NaT   \n",
       "235  BikePoint  51.510048  -0.138846      True     False  False         NaT   \n",
       "10   BikePoint  51.498125  -0.132102      True     False  False         NaT   \n",
       "552  BikePoint  51.472918  -0.132102      True     False  False         NaT   \n",
       "3    BikePoint  51.511553  -0.092940      True     False  False         NaT   \n",
       "343  BikePoint  51.513970  -0.092940      True     False  False         NaT   \n",
       "10   BikePoint  51.498125  -0.132102      True     False  False         NaT   \n",
       "391  BikePoint  51.498125  -0.011457      True     False  False         NaT   \n",
       "384  BikePoint  51.521564  -0.022694      True     False  False         NaT   \n",
       "474  BikePoint  51.521564  -0.039264      True     False  False         NaT   \n",
       "245  BikePoint  51.530950  -0.085603      True     False  False         NaT   \n",
       "780  BikePoint  51.530950  -0.078505      True     False  False         NaT   \n",
       "\n",
       "            InstallDate                 ShortName Priority  \n",
       "127 2010-07-19 11:12:00         Old Brompton Road        2  \n",
       "498 2012-03-15 07:21:00          Limerston Street        2  \n",
       "120 2010-07-06 14:49:00  Hampstead Road (Cartmel)        2  \n",
       "235 2010-07-23 11:42:00          Sackville Street        2  \n",
       "10  2010-07-14 11:42:00      Abbey Orchard Street        1  \n",
       "552 2013-10-08 09:24:00            Courland Grove        2  \n",
       "3   2010-07-14 10:18:00              Queen Street        1  \n",
       "343 2011-07-15 10:28:00                 Cheapside        1  \n",
       "10  2010-07-14 11:42:00      Abbey Orchard Street        1  \n",
       "391 2012-01-17 17:56:00           Castalia Square        2  \n",
       "384 2012-01-12 13:42:00             Cantrell Road        2  \n",
       "474                 NaT            Harford Street        2  \n",
       "245 2010-07-26 08:37:00            New North Road        2  \n",
       "780 2010-07-14 08:43:00            Falkirk Street        2  "
      ]
     },
     "execution_count": 405,
     "metadata": {},
     "output_type": "execute_result"
    }
   ],
   "source": [
    "# find stations with duplicate longitude\n",
    "id_counts_groupedby_longitude = stations_dataset.groupby('Longitude')['Id'].count()\n",
    "nonunique_longitudes = id_counts_groupedby_longitude[id_counts_groupedby_longitude != 1].index.values\n",
    "nonunique_longitude_stations = stations_dataset[stations_dataset['Longitude'].isin(nonunique_longitudes)].sort_values(by=['Longitude'])\n",
    "\n",
    "id_counts_groupedby_latitude = stations_dataset.groupby('Latitude')['Id'].count()\n",
    "nonunique_latitudes = id_counts_groupedby_latitude[id_counts_groupedby_latitude != 1].index.values\n",
    "nonunique_latitudes_stations = stations_dataset[stations_dataset['Latitude'].isin(nonunique_latitudes)].sort_values(by=['Latitude'])\n",
    "\n",
    "nonunique_coordinates_stations = pd.concat([nonunique_longitude_stations, nonunique_latitudes_stations])\n",
    "nonunique_coordinates_stations"
   ]
  },
  {
   "cell_type": "code",
   "execution_count": 406,
   "metadata": {
    "collapsed": true
   },
   "outputs": [],
   "source": [
    "def draw_stations_map(stations_df):\n",
    "    london_longitude = -0.127722\n",
    "    london_latitude = 51.507981\n",
    "    \n",
    "    stations_map = folium.Map(location=[london_latitude, london_longitude], zoom_start=12,\n",
    "                      min_lat=min_latitude, max_lat=max_latitude,\n",
    "                      min_lon=min_longitude, max_lon=max_longitude)\n",
    "\n",
    "    for index, station in stations_df.iterrows():\n",
    "        folium.Marker([station['Latitude'],station['Longitude']], popup=station['Name']).add_to(stations_map)\n",
    "    \n",
    "    return stations_map"
   ]
  },
  {
   "cell_type": "code",
   "execution_count": 407,
   "metadata": {
    "collapsed": false,
    "scrolled": false
   },
   "outputs": [
    {
     "data": {
      "text/html": [
       "<div style=\"width:100%;\"><div style=\"position:relative;width:100%;height:0;padding-bottom:60%;\"><iframe src=\"data:text/html;base64,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\" style=\"position:absolute;width:100%;height:100%;left:0;top:0;\"></iframe></div></div>"
      ],
      "text/plain": [
       "<folium.folium.Map at 0x7fde9038a5d0>"
      ]
     },
     "execution_count": 407,
     "metadata": {},
     "output_type": "execute_result"
    }
   ],
   "source": [
    "draw_stations_map(nonunique_coordinates_stations)"
   ]
  },
  {
   "cell_type": "markdown",
   "metadata": {},
   "source": [
    "We can observe that the stations are different and that having the same Longitude is just a coincidence."
   ]
  },
  {
   "cell_type": "markdown",
   "metadata": {},
   "source": [
    "Let's plot all the stations in a map to see how it looks"
   ]
  },
  {
   "cell_type": "code",
   "execution_count": 408,
   "metadata": {
    "collapsed": false
   },
   "outputs": [
    {
     "data": {
      "text/html": [
       "<div style=\"width:100%;\"><div style=\"position:relative;width:100%;height:0;padding-bottom:60%;\"><iframe src=\"data:text/html;base64,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\" style=\"position:absolute;width:100%;height:100%;left:0;top:0;\"></iframe></div></div>"
      ],
      "text/plain": [
       "<folium.folium.Map at 0x7fde9f68cd10>"
      ]
     },
     "execution_count": 408,
     "metadata": {},
     "output_type": "execute_result"
    }
   ],
   "source": [
    "london_longitude = -0.127722\n",
    "london_latitude = 51.507981\n",
    "\n",
    "MAX_RECORDS = 100\n",
    "\n",
    "stations_map = folium.Map(location=[london_latitude, london_longitude], zoom_start=12,\n",
    "                  min_lat=min_latitude, max_lat=max_latitude,\n",
    "                  min_lon=min_longitude, max_lon=max_longitude)\n",
    "\n",
    "for index, station in stations_dataset[0:MAX_RECORDS].iterrows():\n",
    "    folium.Marker([station['Latitude'],station['Longitude']], popup=station['Name']).add_to(stations_map)\n",
    "    \n",
    "stations_map\n",
    "\n",
    "#folium.Map.save(stations_map, 'reports/maps/stations_map.html')"
   ]
  },
  {
   "cell_type": "markdown",
   "metadata": {},
   "source": [
    "### Readings Analysis\n",
    "\n",
    "#### Overview"
   ]
  },
  {
   "cell_type": "code",
   "execution_count": 409,
   "metadata": {
    "collapsed": false
   },
   "outputs": [
    {
     "data": {
      "text/plain": [
       "(1302908, 6)"
      ]
     },
     "execution_count": 409,
     "metadata": {},
     "output_type": "execute_result"
    }
   ],
   "source": [
    "readings_dataset.shape"
   ]
  },
  {
   "cell_type": "code",
   "execution_count": 410,
   "metadata": {
    "collapsed": false
   },
   "outputs": [
    {
     "name": "stdout",
     "output_type": "stream",
     "text": [
      "<class 'pandas.core.frame.DataFrame'>\n",
      "Int64Index: 1302908 entries, 750 to 82044\n",
      "Data columns (total 6 columns):\n",
      "Id                 1302908 non-null object\n",
      "Timestamp          1302908 non-null datetime64[ns]\n",
      "NbBikes            1302908 non-null uint16\n",
      "NbDocks            1302908 non-null uint16\n",
      "NbEmptyDocks       1302908 non-null uint16\n",
      "NbUnusableDocks    1302908 non-null uint16\n",
      "dtypes: datetime64[ns](1), object(1), uint16(4)\n",
      "memory usage: 173.2 MB\n"
     ]
    }
   ],
   "source": [
    "readings_dataset.info(memory_usage='deep')"
   ]
  },
  {
   "cell_type": "code",
   "execution_count": 411,
   "metadata": {
    "collapsed": false
   },
   "outputs": [
    {
     "data": {
      "text/html": [
       "<div>\n",
       "<table border=\"1\" class=\"dataframe\">\n",
       "  <thead>\n",
       "    <tr style=\"text-align: right;\">\n",
       "      <th></th>\n",
       "      <th>Id</th>\n",
       "      <th>Timestamp</th>\n",
       "      <th>NbBikes</th>\n",
       "      <th>NbDocks</th>\n",
       "      <th>NbEmptyDocks</th>\n",
       "      <th>NbUnusableDocks</th>\n",
       "    </tr>\n",
       "  </thead>\n",
       "  <tbody>\n",
       "    <tr>\n",
       "      <th>750</th>\n",
       "      <td>BikePoints_791</td>\n",
       "      <td>2016-05-10 15:34:07.137</td>\n",
       "      <td>0</td>\n",
       "      <td>0</td>\n",
       "      <td>0</td>\n",
       "      <td>0</td>\n",
       "    </tr>\n",
       "    <tr>\n",
       "      <th>608</th>\n",
       "      <td>BikePoints_646</td>\n",
       "      <td>2016-05-14 20:36:22.417</td>\n",
       "      <td>0</td>\n",
       "      <td>0</td>\n",
       "      <td>0</td>\n",
       "      <td>0</td>\n",
       "    </tr>\n",
       "    <tr>\n",
       "      <th>570</th>\n",
       "      <td>BikePoints_608</td>\n",
       "      <td>2016-05-14 23:18:18.467</td>\n",
       "      <td>14</td>\n",
       "      <td>29</td>\n",
       "      <td>15</td>\n",
       "      <td>0</td>\n",
       "    </tr>\n",
       "    <tr>\n",
       "      <th>666</th>\n",
       "      <td>BikePoints_704</td>\n",
       "      <td>2016-05-15 00:50:38.140</td>\n",
       "      <td>9</td>\n",
       "      <td>18</td>\n",
       "      <td>9</td>\n",
       "      <td>0</td>\n",
       "    </tr>\n",
       "    <tr>\n",
       "      <th>634</th>\n",
       "      <td>BikePoints_672</td>\n",
       "      <td>2016-05-15 04:11:04.447</td>\n",
       "      <td>28</td>\n",
       "      <td>28</td>\n",
       "      <td>0</td>\n",
       "      <td>0</td>\n",
       "    </tr>\n",
       "  </tbody>\n",
       "</table>\n",
       "</div>"
      ],
      "text/plain": [
       "                 Id               Timestamp  NbBikes  NbDocks  NbEmptyDocks  \\\n",
       "750  BikePoints_791 2016-05-10 15:34:07.137        0        0             0   \n",
       "608  BikePoints_646 2016-05-14 20:36:22.417        0        0             0   \n",
       "570  BikePoints_608 2016-05-14 23:18:18.467       14       29            15   \n",
       "666  BikePoints_704 2016-05-15 00:50:38.140        9       18             9   \n",
       "634  BikePoints_672 2016-05-15 04:11:04.447       28       28             0   \n",
       "\n",
       "     NbUnusableDocks  \n",
       "750                0  \n",
       "608                0  \n",
       "570                0  \n",
       "666                0  \n",
       "634                0  "
      ]
     },
     "execution_count": 411,
     "metadata": {},
     "output_type": "execute_result"
    }
   ],
   "source": [
    "readings_dataset.head()"
   ]
  },
  {
   "cell_type": "code",
   "execution_count": 412,
   "metadata": {
    "collapsed": false
   },
   "outputs": [
    {
     "data": {
      "text/html": [
       "<div>\n",
       "<table border=\"1\" class=\"dataframe\">\n",
       "  <thead>\n",
       "    <tr style=\"text-align: right;\">\n",
       "      <th></th>\n",
       "      <th>NbBikes</th>\n",
       "      <th>NbDocks</th>\n",
       "      <th>NbEmptyDocks</th>\n",
       "      <th>NbUnusableDocks</th>\n",
       "    </tr>\n",
       "  </thead>\n",
       "  <tbody>\n",
       "    <tr>\n",
       "      <th>count</th>\n",
       "      <td>1.302908e+06</td>\n",
       "      <td>1.302908e+06</td>\n",
       "      <td>1.302908e+06</td>\n",
       "      <td>1.302908e+06</td>\n",
       "    </tr>\n",
       "    <tr>\n",
       "      <th>mean</th>\n",
       "      <td>1.243546e+01</td>\n",
       "      <td>2.701451e+01</td>\n",
       "      <td>1.400107e+01</td>\n",
       "      <td>5.779794e-01</td>\n",
       "    </tr>\n",
       "    <tr>\n",
       "      <th>std</th>\n",
       "      <td>9.103660e+00</td>\n",
       "      <td>9.519458e+00</td>\n",
       "      <td>9.582803e+00</td>\n",
       "      <td>9.114281e-01</td>\n",
       "    </tr>\n",
       "    <tr>\n",
       "      <th>min</th>\n",
       "      <td>0.000000e+00</td>\n",
       "      <td>0.000000e+00</td>\n",
       "      <td>0.000000e+00</td>\n",
       "      <td>0.000000e+00</td>\n",
       "    </tr>\n",
       "    <tr>\n",
       "      <th>25%</th>\n",
       "      <td>5.000000e+00</td>\n",
       "      <td>2.000000e+01</td>\n",
       "      <td>7.000000e+00</td>\n",
       "      <td>0.000000e+00</td>\n",
       "    </tr>\n",
       "    <tr>\n",
       "      <th>50%</th>\n",
       "      <td>1.100000e+01</td>\n",
       "      <td>2.500000e+01</td>\n",
       "      <td>1.300000e+01</td>\n",
       "      <td>0.000000e+00</td>\n",
       "    </tr>\n",
       "    <tr>\n",
       "      <th>75%</th>\n",
       "      <td>1.800000e+01</td>\n",
       "      <td>3.300000e+01</td>\n",
       "      <td>1.900000e+01</td>\n",
       "      <td>1.000000e+00</td>\n",
       "    </tr>\n",
       "    <tr>\n",
       "      <th>max</th>\n",
       "      <td>6.100000e+01</td>\n",
       "      <td>6.400000e+01</td>\n",
       "      <td>6.400000e+01</td>\n",
       "      <td>3.800000e+01</td>\n",
       "    </tr>\n",
       "  </tbody>\n",
       "</table>\n",
       "</div>"
      ],
      "text/plain": [
       "            NbBikes       NbDocks  NbEmptyDocks  NbUnusableDocks\n",
       "count  1.302908e+06  1.302908e+06  1.302908e+06     1.302908e+06\n",
       "mean   1.243546e+01  2.701451e+01  1.400107e+01     5.779794e-01\n",
       "std    9.103660e+00  9.519458e+00  9.582803e+00     9.114281e-01\n",
       "min    0.000000e+00  0.000000e+00  0.000000e+00     0.000000e+00\n",
       "25%    5.000000e+00  2.000000e+01  7.000000e+00     0.000000e+00\n",
       "50%    1.100000e+01  2.500000e+01  1.300000e+01     0.000000e+00\n",
       "75%    1.800000e+01  3.300000e+01  1.900000e+01     1.000000e+00\n",
       "max    6.100000e+01  6.400000e+01  6.400000e+01     3.800000e+01"
      ]
     },
     "execution_count": 412,
     "metadata": {},
     "output_type": "execute_result"
    }
   ],
   "source": [
    "readings_dataset.describe()"
   ]
  },
  {
   "cell_type": "code",
   "execution_count": 413,
   "metadata": {
    "collapsed": false
   },
   "outputs": [
    {
     "data": {
      "text/plain": [
       "Id                   776\n",
       "Timestamp          11386\n",
       "NbBikes               62\n",
       "NbDocks               58\n",
       "NbEmptyDocks          65\n",
       "NbUnusableDocks       20\n",
       "dtype: int64"
      ]
     },
     "execution_count": 413,
     "metadata": {},
     "output_type": "execute_result"
    }
   ],
   "source": [
    "readings_dataset.apply(lambda x:x.nunique())"
   ]
  },
  {
   "cell_type": "code",
   "execution_count": 414,
   "metadata": {
    "collapsed": false
   },
   "outputs": [
    {
     "data": {
      "text/plain": [
       "Id                 0\n",
       "Timestamp          0\n",
       "NbBikes            0\n",
       "NbDocks            0\n",
       "NbEmptyDocks       0\n",
       "NbUnusableDocks    0\n",
       "dtype: int64"
      ]
     },
     "execution_count": 414,
     "metadata": {},
     "output_type": "execute_result"
    }
   ],
   "source": [
    "readings_dataset.isnull().sum()"
   ]
  },
  {
   "cell_type": "code",
   "execution_count": 415,
   "metadata": {
    "collapsed": false
   },
   "outputs": [
    {
     "data": {
      "text/plain": [
       "<matplotlib.text.Text at 0x7fde908ec250>"
      ]
     },
     "execution_count": 415,
     "metadata": {},
     "output_type": "execute_result"
    },
    {
     "data": {
      "image/png": "[encoded data removed]",
      "text/plain": [
       "<matplotlib.figure.Figure at 0x7fdef4e39710>"
      ]
     },
     "metadata": {},
     "output_type": "display_data"
    }
   ],
   "source": [
    "timestamps = readings_dataset['Timestamp']\n",
    "ax = timestamps.groupby([timestamps.dt.year, timestamps.dt.month, timestamps.dt.day]).count().plot(kind=\"bar\")\n",
    "ax.set_xlabel('Days')\n",
    "ax.set_title('Readings per Day')"
   ]
  },
  {
   "cell_type": "markdown",
   "metadata": {},
   "source": [
    "#### Observations:\n",
    "* The number of readings in each day varies widely"
   ]
  },
  {
   "cell_type": "markdown",
   "metadata": {},
   "source": [
    "#### Discard Out of Range Data\n",
    "We will only keep data between 16/05/2016 and 12/6/2016, which is 4 weeks of data."
   ]
  },
  {
   "cell_type": "code",
   "execution_count": 416,
   "metadata": {
    "collapsed": false
   },
   "outputs": [],
   "source": [
    "start_date = date(2016, 5, 16)\n",
    "end_date = date(2016, 6, 20)\n",
    "days = set(pd.date_range(start=start_date, end=end_date, closed='left'))\n",
    "           \n",
    "readings_dataset = readings_dataset[(timestamps > start_date) & (timestamps < end_date)]"
   ]
  },
  {
   "cell_type": "markdown",
   "metadata": {},
   "source": [
    "#### Readings Consistency Through Days\n",
    "Lets get some insight about which stations do not have readings during an entire day"
   ]
  },
  {
   "cell_type": "code",
   "execution_count": 417,
   "metadata": {
    "collapsed": false,
    "scrolled": false
   },
   "outputs": [],
   "source": [
    "# get a subview of the readings dataset\n",
    "id_timestamp_view = readings_dataset.loc[:,['Id','Timestamp']]\n",
    "\n",
    "# remove the time component of the timestamp\n",
    "id_timestamp_view['Timestamp'] = id_timestamp_view['Timestamp'].apply(lambda x: x.replace(hour=0, minute=0, second=0, microsecond=0))\n",
    "\n",
    "# compute the days of readings per stations\n",
    "days_readings = id_timestamp_view.groupby('Id').aggregate(lambda x: set(x))\n",
    "days_readings['MissingDays'] = days_readings['Timestamp'].apply(lambda x: list(days - x))\n",
    "days_readings['MissingDaysCount'] = days_readings['MissingDays'].apply(lambda x: len(x))"
   ]
  },
  {
   "cell_type": "code",
   "execution_count": 418,
   "metadata": {
    "collapsed": false
   },
   "outputs": [],
   "source": [
    "def expand_datetime(df, datetime_col):\n",
    "    df['Weekday'] = df[datetime_col].apply(lambda x: x.weekday())\n",
    "    return df"
   ]
  },
  {
   "cell_type": "code",
   "execution_count": 419,
   "metadata": {
    "collapsed": false,
    "scrolled": true
   },
   "outputs": [
    {
     "data": {
      "text/html": [
       "<div>\n",
       "<table border=\"1\" class=\"dataframe\">\n",
       "  <thead>\n",
       "    <tr style=\"text-align: right;\">\n",
       "      <th></th>\n",
       "      <th>Id</th>\n",
       "      <th>MissingDay</th>\n",
       "      <th>Weekday</th>\n",
       "    </tr>\n",
       "  </thead>\n",
       "  <tbody>\n",
       "    <tr>\n",
       "      <th>0</th>\n",
       "      <td>BikePoints_112</td>\n",
       "      <td>2016-05-25</td>\n",
       "      <td>2</td>\n",
       "    </tr>\n",
       "    <tr>\n",
       "      <th>37</th>\n",
       "      <td>BikePoints_112</td>\n",
       "      <td>2016-05-26</td>\n",
       "      <td>3</td>\n",
       "    </tr>\n",
       "    <tr>\n",
       "      <th>38</th>\n",
       "      <td>BikePoints_120</td>\n",
       "      <td>2016-06-10</td>\n",
       "      <td>4</td>\n",
       "    </tr>\n",
       "    <tr>\n",
       "      <th>1</th>\n",
       "      <td>BikePoints_120</td>\n",
       "      <td>2016-06-11</td>\n",
       "      <td>5</td>\n",
       "    </tr>\n",
       "    <tr>\n",
       "      <th>2</th>\n",
       "      <td>BikePoints_153</td>\n",
       "      <td>2016-06-17</td>\n",
       "      <td>4</td>\n",
       "    </tr>\n",
       "    <tr>\n",
       "      <th>65</th>\n",
       "      <td>BikePoints_153</td>\n",
       "      <td>2016-06-18</td>\n",
       "      <td>5</td>\n",
       "    </tr>\n",
       "    <tr>\n",
       "      <th>39</th>\n",
       "      <td>BikePoints_153</td>\n",
       "      <td>2016-06-19</td>\n",
       "      <td>6</td>\n",
       "    </tr>\n",
       "    <tr>\n",
       "      <th>3</th>\n",
       "      <td>BikePoints_218</td>\n",
       "      <td>2016-06-04</td>\n",
       "      <td>5</td>\n",
       "    </tr>\n",
       "    <tr>\n",
       "      <th>4</th>\n",
       "      <td>BikePoints_226</td>\n",
       "      <td>2016-05-16</td>\n",
       "      <td>0</td>\n",
       "    </tr>\n",
       "    <tr>\n",
       "      <th>40</th>\n",
       "      <td>BikePoints_277</td>\n",
       "      <td>2016-06-16</td>\n",
       "      <td>3</td>\n",
       "    </tr>\n",
       "    <tr>\n",
       "      <th>5</th>\n",
       "      <td>BikePoints_277</td>\n",
       "      <td>2016-06-17</td>\n",
       "      <td>4</td>\n",
       "    </tr>\n",
       "    <tr>\n",
       "      <th>89</th>\n",
       "      <td>BikePoints_277</td>\n",
       "      <td>2016-06-18</td>\n",
       "      <td>5</td>\n",
       "    </tr>\n",
       "    <tr>\n",
       "      <th>66</th>\n",
       "      <td>BikePoints_277</td>\n",
       "      <td>2016-06-19</td>\n",
       "      <td>6</td>\n",
       "    </tr>\n",
       "    <tr>\n",
       "      <th>6</th>\n",
       "      <td>BikePoints_3</td>\n",
       "      <td>2016-06-18</td>\n",
       "      <td>5</td>\n",
       "    </tr>\n",
       "    <tr>\n",
       "      <th>41</th>\n",
       "      <td>BikePoints_31</td>\n",
       "      <td>2016-05-16</td>\n",
       "      <td>0</td>\n",
       "    </tr>\n",
       "    <tr>\n",
       "      <th>90</th>\n",
       "      <td>BikePoints_31</td>\n",
       "      <td>2016-05-17</td>\n",
       "      <td>1</td>\n",
       "    </tr>\n",
       "    <tr>\n",
       "      <th>130</th>\n",
       "      <td>BikePoints_31</td>\n",
       "      <td>2016-05-18</td>\n",
       "      <td>2</td>\n",
       "    </tr>\n",
       "    <tr>\n",
       "      <th>162</th>\n",
       "      <td>BikePoints_31</td>\n",
       "      <td>2016-05-19</td>\n",
       "      <td>3</td>\n",
       "    </tr>\n",
       "    <tr>\n",
       "      <th>7</th>\n",
       "      <td>BikePoints_31</td>\n",
       "      <td>2016-05-20</td>\n",
       "      <td>4</td>\n",
       "    </tr>\n",
       "    <tr>\n",
       "      <th>67</th>\n",
       "      <td>BikePoints_31</td>\n",
       "      <td>2016-05-21</td>\n",
       "      <td>5</td>\n",
       "    </tr>\n",
       "    <tr>\n",
       "      <th>112</th>\n",
       "      <td>BikePoints_31</td>\n",
       "      <td>2016-05-22</td>\n",
       "      <td>6</td>\n",
       "    </tr>\n",
       "    <tr>\n",
       "      <th>146</th>\n",
       "      <td>BikePoints_31</td>\n",
       "      <td>2016-05-23</td>\n",
       "      <td>0</td>\n",
       "    </tr>\n",
       "    <tr>\n",
       "      <th>147</th>\n",
       "      <td>BikePoints_311</td>\n",
       "      <td>2016-06-13</td>\n",
       "      <td>0</td>\n",
       "    </tr>\n",
       "    <tr>\n",
       "      <th>113</th>\n",
       "      <td>BikePoints_311</td>\n",
       "      <td>2016-06-14</td>\n",
       "      <td>1</td>\n",
       "    </tr>\n",
       "    <tr>\n",
       "      <th>68</th>\n",
       "      <td>BikePoints_311</td>\n",
       "      <td>2016-06-15</td>\n",
       "      <td>2</td>\n",
       "    </tr>\n",
       "    <tr>\n",
       "      <th>42</th>\n",
       "      <td>BikePoints_311</td>\n",
       "      <td>2016-06-16</td>\n",
       "      <td>3</td>\n",
       "    </tr>\n",
       "    <tr>\n",
       "      <th>8</th>\n",
       "      <td>BikePoints_311</td>\n",
       "      <td>2016-06-17</td>\n",
       "      <td>4</td>\n",
       "    </tr>\n",
       "    <tr>\n",
       "      <th>131</th>\n",
       "      <td>BikePoints_311</td>\n",
       "      <td>2016-06-18</td>\n",
       "      <td>5</td>\n",
       "    </tr>\n",
       "    <tr>\n",
       "      <th>91</th>\n",
       "      <td>BikePoints_311</td>\n",
       "      <td>2016-06-19</td>\n",
       "      <td>6</td>\n",
       "    </tr>\n",
       "    <tr>\n",
       "      <th>9</th>\n",
       "      <td>BikePoints_323</td>\n",
       "      <td>2016-06-01</td>\n",
       "      <td>2</td>\n",
       "    </tr>\n",
       "    <tr>\n",
       "      <th>...</th>\n",
       "      <td>...</td>\n",
       "      <td>...</td>\n",
       "      <td>...</td>\n",
       "    </tr>\n",
       "    <tr>\n",
       "      <th>269</th>\n",
       "      <td>BikePoints_817</td>\n",
       "      <td>2016-06-08</td>\n",
       "      <td>2</td>\n",
       "    </tr>\n",
       "    <tr>\n",
       "      <th>333</th>\n",
       "      <td>BikePoints_817</td>\n",
       "      <td>2016-06-09</td>\n",
       "      <td>3</td>\n",
       "    </tr>\n",
       "    <tr>\n",
       "      <th>109</th>\n",
       "      <td>BikePoints_817</td>\n",
       "      <td>2016-06-10</td>\n",
       "      <td>4</td>\n",
       "    </tr>\n",
       "    <tr>\n",
       "      <th>286</th>\n",
       "      <td>BikePoints_817</td>\n",
       "      <td>2016-06-11</td>\n",
       "      <td>5</td>\n",
       "    </tr>\n",
       "    <tr>\n",
       "      <th>174</th>\n",
       "      <td>BikePoints_817</td>\n",
       "      <td>2016-06-12</td>\n",
       "      <td>6</td>\n",
       "    </tr>\n",
       "    <tr>\n",
       "      <th>329</th>\n",
       "      <td>BikePoints_817</td>\n",
       "      <td>2016-06-14</td>\n",
       "      <td>1</td>\n",
       "    </tr>\n",
       "    <tr>\n",
       "      <th>213</th>\n",
       "      <td>BikePoints_817</td>\n",
       "      <td>2016-06-15</td>\n",
       "      <td>2</td>\n",
       "    </tr>\n",
       "    <tr>\n",
       "      <th>187</th>\n",
       "      <td>BikePoints_817</td>\n",
       "      <td>2016-06-16</td>\n",
       "      <td>3</td>\n",
       "    </tr>\n",
       "    <tr>\n",
       "      <th>260</th>\n",
       "      <td>BikePoints_817</td>\n",
       "      <td>2016-06-17</td>\n",
       "      <td>4</td>\n",
       "    </tr>\n",
       "    <tr>\n",
       "      <th>336</th>\n",
       "      <td>BikePoints_817</td>\n",
       "      <td>2016-06-18</td>\n",
       "      <td>5</td>\n",
       "    </tr>\n",
       "    <tr>\n",
       "      <th>86</th>\n",
       "      <td>BikePoints_817</td>\n",
       "      <td>2016-06-19</td>\n",
       "      <td>6</td>\n",
       "    </tr>\n",
       "    <tr>\n",
       "      <th>34</th>\n",
       "      <td>BikePoints_818</td>\n",
       "      <td>2016-05-17</td>\n",
       "      <td>1</td>\n",
       "    </tr>\n",
       "    <tr>\n",
       "      <th>62</th>\n",
       "      <td>BikePoints_818</td>\n",
       "      <td>2016-05-18</td>\n",
       "      <td>2</td>\n",
       "    </tr>\n",
       "    <tr>\n",
       "      <th>129</th>\n",
       "      <td>BikePoints_86</td>\n",
       "      <td>2016-05-28</td>\n",
       "      <td>5</td>\n",
       "    </tr>\n",
       "    <tr>\n",
       "      <th>188</th>\n",
       "      <td>BikePoints_86</td>\n",
       "      <td>2016-05-29</td>\n",
       "      <td>6</td>\n",
       "    </tr>\n",
       "    <tr>\n",
       "      <th>227</th>\n",
       "      <td>BikePoints_86</td>\n",
       "      <td>2016-05-30</td>\n",
       "      <td>0</td>\n",
       "    </tr>\n",
       "    <tr>\n",
       "      <th>87</th>\n",
       "      <td>BikePoints_86</td>\n",
       "      <td>2016-05-31</td>\n",
       "      <td>1</td>\n",
       "    </tr>\n",
       "    <tr>\n",
       "      <th>175</th>\n",
       "      <td>BikePoints_86</td>\n",
       "      <td>2016-06-01</td>\n",
       "      <td>2</td>\n",
       "    </tr>\n",
       "    <tr>\n",
       "      <th>145</th>\n",
       "      <td>BikePoints_86</td>\n",
       "      <td>2016-06-02</td>\n",
       "      <td>3</td>\n",
       "    </tr>\n",
       "    <tr>\n",
       "      <th>63</th>\n",
       "      <td>BikePoints_86</td>\n",
       "      <td>2016-06-03</td>\n",
       "      <td>4</td>\n",
       "    </tr>\n",
       "    <tr>\n",
       "      <th>239</th>\n",
       "      <td>BikePoints_86</td>\n",
       "      <td>2016-06-04</td>\n",
       "      <td>5</td>\n",
       "    </tr>\n",
       "    <tr>\n",
       "      <th>201</th>\n",
       "      <td>BikePoints_86</td>\n",
       "      <td>2016-06-05</td>\n",
       "      <td>6</td>\n",
       "    </tr>\n",
       "    <tr>\n",
       "      <th>161</th>\n",
       "      <td>BikePoints_86</td>\n",
       "      <td>2016-06-06</td>\n",
       "      <td>0</td>\n",
       "    </tr>\n",
       "    <tr>\n",
       "      <th>110</th>\n",
       "      <td>BikePoints_86</td>\n",
       "      <td>2016-06-07</td>\n",
       "      <td>1</td>\n",
       "    </tr>\n",
       "    <tr>\n",
       "      <th>35</th>\n",
       "      <td>BikePoints_86</td>\n",
       "      <td>2016-06-08</td>\n",
       "      <td>2</td>\n",
       "    </tr>\n",
       "    <tr>\n",
       "      <th>214</th>\n",
       "      <td>BikePoints_86</td>\n",
       "      <td>2016-06-09</td>\n",
       "      <td>3</td>\n",
       "    </tr>\n",
       "    <tr>\n",
       "      <th>36</th>\n",
       "      <td>BikePoints_9</td>\n",
       "      <td>2016-06-09</td>\n",
       "      <td>3</td>\n",
       "    </tr>\n",
       "    <tr>\n",
       "      <th>88</th>\n",
       "      <td>BikePoints_9</td>\n",
       "      <td>2016-06-10</td>\n",
       "      <td>4</td>\n",
       "    </tr>\n",
       "    <tr>\n",
       "      <th>64</th>\n",
       "      <td>BikePoints_9</td>\n",
       "      <td>2016-06-11</td>\n",
       "      <td>5</td>\n",
       "    </tr>\n",
       "    <tr>\n",
       "      <th>111</th>\n",
       "      <td>BikePoints_9</td>\n",
       "      <td>2016-06-12</td>\n",
       "      <td>6</td>\n",
       "    </tr>\n",
       "  </tbody>\n",
       "</table>\n",
       "<p>345 rows × 3 columns</p>\n",
       "</div>"
      ],
      "text/plain": [
       "                 Id MissingDay  Weekday\n",
       "0    BikePoints_112 2016-05-25        2\n",
       "37   BikePoints_112 2016-05-26        3\n",
       "38   BikePoints_120 2016-06-10        4\n",
       "1    BikePoints_120 2016-06-11        5\n",
       "2    BikePoints_153 2016-06-17        4\n",
       "65   BikePoints_153 2016-06-18        5\n",
       "39   BikePoints_153 2016-06-19        6\n",
       "3    BikePoints_218 2016-06-04        5\n",
       "4    BikePoints_226 2016-05-16        0\n",
       "40   BikePoints_277 2016-06-16        3\n",
       "5    BikePoints_277 2016-06-17        4\n",
       "89   BikePoints_277 2016-06-18        5\n",
       "66   BikePoints_277 2016-06-19        6\n",
       "6      BikePoints_3 2016-06-18        5\n",
       "41    BikePoints_31 2016-05-16        0\n",
       "90    BikePoints_31 2016-05-17        1\n",
       "130   BikePoints_31 2016-05-18        2\n",
       "162   BikePoints_31 2016-05-19        3\n",
       "7     BikePoints_31 2016-05-20        4\n",
       "67    BikePoints_31 2016-05-21        5\n",
       "112   BikePoints_31 2016-05-22        6\n",
       "146   BikePoints_31 2016-05-23        0\n",
       "147  BikePoints_311 2016-06-13        0\n",
       "113  BikePoints_311 2016-06-14        1\n",
       "68   BikePoints_311 2016-06-15        2\n",
       "42   BikePoints_311 2016-06-16        3\n",
       "8    BikePoints_311 2016-06-17        4\n",
       "131  BikePoints_311 2016-06-18        5\n",
       "91   BikePoints_311 2016-06-19        6\n",
       "9    BikePoints_323 2016-06-01        2\n",
       "..              ...        ...      ...\n",
       "269  BikePoints_817 2016-06-08        2\n",
       "333  BikePoints_817 2016-06-09        3\n",
       "109  BikePoints_817 2016-06-10        4\n",
       "286  BikePoints_817 2016-06-11        5\n",
       "174  BikePoints_817 2016-06-12        6\n",
       "329  BikePoints_817 2016-06-14        1\n",
       "213  BikePoints_817 2016-06-15        2\n",
       "187  BikePoints_817 2016-06-16        3\n",
       "260  BikePoints_817 2016-06-17        4\n",
       "336  BikePoints_817 2016-06-18        5\n",
       "86   BikePoints_817 2016-06-19        6\n",
       "34   BikePoints_818 2016-05-17        1\n",
       "62   BikePoints_818 2016-05-18        2\n",
       "129   BikePoints_86 2016-05-28        5\n",
       "188   BikePoints_86 2016-05-29        6\n",
       "227   BikePoints_86 2016-05-30        0\n",
       "87    BikePoints_86 2016-05-31        1\n",
       "175   BikePoints_86 2016-06-01        2\n",
       "145   BikePoints_86 2016-06-02        3\n",
       "63    BikePoints_86 2016-06-03        4\n",
       "239   BikePoints_86 2016-06-04        5\n",
       "201   BikePoints_86 2016-06-05        6\n",
       "161   BikePoints_86 2016-06-06        0\n",
       "110   BikePoints_86 2016-06-07        1\n",
       "35    BikePoints_86 2016-06-08        2\n",
       "214   BikePoints_86 2016-06-09        3\n",
       "36     BikePoints_9 2016-06-09        3\n",
       "88     BikePoints_9 2016-06-10        4\n",
       "64     BikePoints_9 2016-06-11        5\n",
       "111    BikePoints_9 2016-06-12        6\n",
       "\n",
       "[345 rows x 3 columns]"
      ]
     },
     "execution_count": 419,
     "metadata": {},
     "output_type": "execute_result"
    }
   ],
   "source": [
    "# get the stations with missing readings only\n",
    "missing_days_readings = days_readings[days_readings['MissingDaysCount'] != 0]\n",
    "missing_days_readings = missing_days_readings['MissingDays'].apply(lambda x: pd.Series(x)).unstack().dropna()\n",
    "missing_days_readings.index = missing_days_readings.index.droplevel()\n",
    "\n",
    "# sort and format in their own DF\n",
    "missing_days_readings = pd.DataFrame(missing_days_readings, columns=['MissingDay'], index=None).reset_index().sort_values(by=['Id', 'MissingDay'])\n",
    "\n",
    "# expand the missing day date\n",
    "expand_datetime(missing_days_readings, 'MissingDay')"
   ]
  },
  {
   "cell_type": "code",
   "execution_count": 420,
   "metadata": {
    "collapsed": false
   },
   "outputs": [
    {
     "data": {
      "text/plain": [
       "37"
      ]
     },
     "execution_count": 420,
     "metadata": {},
     "output_type": "execute_result"
    }
   ],
   "source": [
    "missing_days_readings['Id'].nunique()"
   ]
  },
  {
   "cell_type": "code",
   "execution_count": 421,
   "metadata": {
    "collapsed": false
   },
   "outputs": [
    {
     "data": {
      "text/plain": [
       "<matplotlib.text.Text at 0x7fde94ef0890>"
      ]
     },
     "execution_count": 421,
     "metadata": {},
     "output_type": "execute_result"
    },
    {
     "data": {
      "image/png": "[encoded data removed]",
      "text/plain": [
       "<matplotlib.figure.Figure at 0x7fdef3162d50>"
      ]
     },
     "metadata": {},
     "output_type": "display_data"
    }
   ],
   "source": [
    "# plot the missing readings days \n",
    "days = missing_days_readings['MissingDay']\n",
    "missing_days_counts = days.groupby([days.dt.year, days.dt.month, days.dt.day]).count()\n",
    "ax = missing_days_counts.plot(kind=\"bar\")\n",
    "ax.set_xlabel('Days')\n",
    "ax.set_title('Missing Readings Days Count')"
   ]
  },
  {
   "cell_type": "markdown",
   "metadata": {},
   "source": [
    "Stations with no readings in at least one day"
   ]
  },
  {
   "cell_type": "code",
   "execution_count": 422,
   "metadata": {
    "collapsed": false,
    "scrolled": false
   },
   "outputs": [
    {
     "data": {
      "text/html": [
       "<div style=\"width:100%;\"><div style=\"position:relative;width:100%;height:0;padding-bottom:60%;\"><iframe src=\"data:text/html;base64,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\" style=\"position:absolute;width:100%;height:100%;left:0;top:0;\"></iframe></div></div>"
      ],
      "text/plain": [
       "<folium.folium.Map at 0x7fdeb7bf0610>"
      ]
     },
     "execution_count": 422,
     "metadata": {},
     "output_type": "execute_result"
    }
   ],
   "source": [
    "missing_days_readings_stations = stations_dataset[stations_dataset['Id'].isin(missing_days_readings['Id'].unique())]\n",
    "draw_stations_map(missing_days_readings_stations)"
   ]
  },
  {
   "cell_type": "markdown",
   "metadata": {
    "collapsed": true
   },
   "source": [
    "Stations with no readings in at least one day during the weekend"
   ]
  },
  {
   "cell_type": "code",
   "execution_count": 423,
   "metadata": {
    "collapsed": false,
    "scrolled": false
   },
   "outputs": [
    {
     "data": {
      "text/html": [
       "<div style=\"width:100%;\"><div style=\"position:relative;width:100%;height:0;padding-bottom:60%;\"><iframe src=\"data:text/html;base64,CiAgICAgICAgPCFET0NUWVBFIGh0bWw+CiAgICAgICAgPGhlYWQ+CiAgICAgICAgICAgIAogICAgICAgIAogICAgICAgICAgICA8bWV0YSBodHRwLWVxdWl2PSJjb250ZW50LXR5cGUiIGNvbnRlbnQ9InRleHQvaHRtbDsgY2hhcnNldD1VVEYtOCIgLz4KICAgICAgICAKICAgICAgICAgICAgCiAgICAgICAgCiAgICAgICAgICAgIDxzY3JpcHQgc3JjPSJodHRwczovL2NkbmpzLmNsb3VkZmxhcmUuY29tL2FqYXgvbGlicy9sZWFmbGV0LzAuNy4zL2xlYWZsZXQuanMiPjwvc2NyaXB0PgogICAgICAgIAogICAgICAgIAogICAgICAgIAogICAgICAgICAgICAKICAgICAgICAKICAgICAgICAgICAgPHNjcmlwdCBzcmM9Imh0dHBzOi8vYWpheC5nb29nbGVhcGlzLmNvbS9hamF4L2xpYnMvanF1ZXJ5LzEuMTEuMS9qcXVlcnkubWluLmpzIj48L3NjcmlwdD4KICAgICAgICAKICAgICAgICAKICAgICAgICAKICAgICAgICAgICAgCiAgICAgICAgCiAgICAgICAgICAgIDxzY3JpcHQgc3JjPSJodHRwczovL21heGNkbi5ib290c3RyYXBjZG4uY29tL2Jvb3RzdHJhcC8zLjIuMC9qcy9ib290c3RyYXAubWluLmpzIj48L3NjcmlwdD4KICAgICAgICAKICAgICAgICAKICAgICAgICAKICAgICAgICAgICAgCiAgICAgICAgCiAgICAgICAgICAgIDxzY3JpcHQgc3JjPSJodHRwczovL3Jhd2dpdGh1Yi5jb20vbHZvb2dkdC9MZWFmbGV0LmF3ZXNvbWUtbWFya2Vycy8yLjAvZGV2ZWxvcC9kaXN0L2xlYWZsZXQuYXdlc29tZS1tYXJrZXJzLmpzIj48L3NjcmlwdD4KICAgICAgICAKICAgICAgICAKICAgICAgICAKICAgICAgICAgICAgCiAgICAgICAgCiAgICAgICAgICAgIDxzY3JpcHQgc3JjPSJodHRwczovL2NkbmpzLmNsb3VkZmxhcmUuY29tL2FqYXgvbGlicy9sZWFmbGV0Lm1hcmtlcmNsdXN0ZXIvMC40LjAvbGVhZmxldC5tYXJrZXJjbHVzdGVyLXNyYy5qcyI+PC9zY3JpcHQ+CiAgICAgICAgCiAgICAgICAgCiAgICAgICAgCiAgICAgICAgICAgIAogICAgICAgIAogICAgICAgICAgICA8c2NyaXB0IHNyYz0iaHR0cHM6Ly9jZG5qcy5jbG91ZGZsYXJlLmNvbS9hamF4L2xpYnMvbGVhZmxldC5tYXJrZXJjbHVzdGVyLzAuNC4wL2xlYWZsZXQubWFya2VyY2x1c3Rlci5qcyI+PC9zY3JpcHQ+CiAgICAgICAgCiAgICAgICAgCiAgICAgICAgCiAgICAgICAgICAgIAogICAgICAgIAogICAgICAgICAgICA8bGluayByZWw9InN0eWxlc2hlZXQiIGhyZWY9Imh0dHBzOi8vY2RuanMuY2xvdWRmbGFyZS5jb20vYWpheC9saWJzL2xlYWZsZXQvMC43LjMvbGVhZmxldC5jc3MiIC8+CiAgICAgICAgCiAgICAgICAgCiAgICAgICAgCiAgICAgICAgICAgIAogICAgICAgIAogICAgICAgICAgICA8bGluayByZWw9InN0eWxlc2hlZXQiIGhyZWY9Imh0dHBzOi8vbWF4Y2RuLmJvb3RzdHJhcGNkbi5jb20vYm9vdHN0cmFwLzMuMi4wL2Nzcy9ib290c3RyYXAubWluLmNzcyIgLz4KICAgICAgICAKICAgICAgICAKICAgICAgICAKICAgICAgICAgICAgCiAgICAgICAgCiAgICAgICAgICAgIDxsaW5rIHJlbD0ic3R5bGVzaGVldCIgaHJlZj0iaHR0cHM6Ly9tYXhjZG4uYm9vdHN0cmFwY2RuLmNvbS9ib290c3RyYXAvMy4yLjAvY3NzL2Jvb3RzdHJhcC10aGVtZS5taW4uY3NzIiAvPgogICAgICAgIAogICAgICAgIAogICAgICAgIAogICAgICAgICAgICAKICAgICAgICAKICAgICAgICAgICAgPGxpbmsgcmVsPSJzdHlsZXNoZWV0IiBocmVmPSJodHRwczovL21heGNkbi5ib290c3RyYXBjZG4uY29tL2ZvbnQtYXdlc29tZS80LjEuMC9jc3MvZm9udC1hd2Vzb21lLm1pbi5jc3MiIC8+CiAgICAgICAgCiAgICAgICAgCiAgICAgICAgCiAgICAgICAgICAgIAogICAgICAgIAogICAgICAgICAgICA8bGluayByZWw9InN0eWxlc2hlZXQiIGhyZWY9Imh0dHBzOi8vcmF3Z2l0LmNvbS9sdm9vZ2R0L0xlYWZsZXQuYXdlc29tZS1tYXJrZXJzLzIuMC9kZXZlbG9wL2Rpc3QvbGVhZmxldC5hd2Vzb21lLW1hcmtlcnMuY3NzIiAvPgogICAgICAgIAogICAgICAgIAogICAgICAgIAogICAgICAgICAgICAKICAgICAgICAKICAgICAgICAgICAgPGxpbmsgcmVsPSJzdHlsZXNoZWV0IiBocmVmPSJodHRwczovL2NkbmpzLmNsb3VkZmxhcmUuY29tL2FqYXgvbGlicy9sZWFmbGV0Lm1hcmtlcmNsdXN0ZXIvMC40LjAvTWFya2VyQ2x1c3Rlci5EZWZhdWx0LmNzcyIgLz4KICAgICAgICAKICAgICAgICAKICAgICAgICAKICAgICAgICAgICAgCiAgICAgICAgCiAgICAgICAgICAgIDxsaW5rIHJlbD0ic3R5bGVzaGVldCIgaHJlZj0iaHR0cHM6Ly9jZG5qcy5jbG91ZGZsYXJlLmNvbS9hamF4L2xpYnMvbGVhZmxldC5tYXJrZXJjbHVzdGVyLzAuNC4wL01hcmtlckNsdXN0ZXIuY3NzIiAvPgogICAgICAgIAogICAgICAgIAogICAgICAgIAogICAgICAgICAgICAKICAgICAgICAKICAgICAgICAgICAgPGxpbmsgcmVsPSJzdHlsZXNoZWV0IiBocmVmPSJodHRwczovL3Jhdy5naXRodWJ1c2VyY29udGVudC5jb20vcHl0aG9uLXZpc3VhbGl6YXRpb24vZm9saXVtL21hc3Rlci9mb2xpdW0vdGVtcGxhdGVzL2xlYWZsZXQuYXdlc29tZS5yb3RhdGUuY3NzIiAvPgogICAgICAgIAogICAgICAgIAogICAgICAgIAogICAgICAgICAgICAKICAgICAgICAgICAgPHN0eWxlPgoKICAgICAgICAgICAgaHRtbCwgYm9keSB7CiAgICAgICAgICAgICAgICB3aWR0aDogMTAwJTsKICAgICAgICAgICAgICAgIGhlaWdodDogMTAwJTsKICAgICAgICAgICAgICAgIG1hcmdpbjogMDsKICAgICAgICAgICAgICAgIHBhZGRpbmc6IDA7CiAgICAgICAgICAgICAgICB9CgogICAgICAgICAgICAjbWFwIHsKICAgICAgICAgICAgICAgIHBvc2l0aW9uOmFic29sdXRlOwogICAgICAgICAgICAgICAgdG9wOjA7CiAgICAgICAgICAgICAgICBib3R0b206MDsKICAgICAgICAgICAgICAgIHJpZ2h0OjA7CiAgICAgICAgICAgICAgICBsZWZ0OjA7CiAgICAgICAgICAgICAgICB9CiAgICAgICAgICAgIDwvc3R5bGU+CiAgICAgICAgICAgIAogICAgICAgIAogICAgICAgICAgICAKICAgICAgICAgICAgPHN0eWxlPiAjbWFwXzgzMTc3NWY2NGNiYjRkY2I4NmYzZjA2YTRlMWZkZjM4IHsKICAgICAgICAgICAgICAgIHBvc2l0aW9uIDogcmVsYXRpdmU7CiAgICAgICAgICAgICAgICB3aWR0aCA6IDEwMC4wJTsKICAgICAgICAgICAgICAgIGhlaWdodDogMTAwLjAlOwogICAgICAgICAgICAgICAgbGVmdDogMC4wJTsKICAgICAgICAgICAgICAgIHRvcDogMC4wJTsKICAgICAgICAgICAgICAgIH0KICAgICAgICAgICAgPC9zdHlsZT4KICAgICAgICAKICAgICAgICAKICAgICAgICAKICAgICAgICA8L2hlYWQ+CiAgICAgICAgPGJvZHk+CiAgICAgICAgICAgIAogICAgICAgIAogICAgICAgICAgICAKICAgICAgICAgICAgPGRpdiBjbGFzcz0iZm9saXVtLW1hcCIgaWQ9Im1hcF84MzE3NzVmNjRjYmI0ZGNiODZmM2YwNmE0ZTFmZGYzOCIgPjwvZGl2PgogICAgICAgIAogICAgICAgIAogICAgICAgIAogICAgICAgIDwvYm9keT4KICAgICAgICA8c2NyaXB0PgogICAgICAgICAgICAKICAgICAgICAKICAgICAgICAgICAgCgogICAgICAgICAgICB2YXIgc291dGhXZXN0ID0gTC5sYXRMbmcoNTEuMjgsIC0wLjQ4OSk7CiAgICAgICAgICAgIHZhciBub3J0aEVhc3QgPSBMLmxhdExuZyg1MS42ODYsIDAuMjM2KTsKICAgICAgICAgICAgdmFyIGJvdW5kcyA9IEwubGF0TG5nQm91bmRzKHNvdXRoV2VzdCwgbm9ydGhFYXN0KTsKCiAgICAgICAgICAgIHZhciBtYXBfODMxNzc1ZjY0Y2JiNGRjYjg2ZjNmMDZhNGUxZmRmMzggPSBMLm1hcCgnbWFwXzgzMTc3NWY2NGNiYjRkY2I4NmYzZjA2YTRlMWZkZjM4JywgewogICAgICAgICAgICAgICAgICAgICAgICAgICAgICAgICAgICAgICAgICAgY2VudGVyOls1MS41MDc5ODEsLTAuMTI3NzIyXSwKICAgICAgICAgICAgICAgICAgICAgICAgICAgICAgICAgICAgICAgICAgIHpvb206IDEyLAogICAgICAgICAgICAgICAgICAgICAgICAgICAgICAgICAgICAgICAgICAgbWF4Qm91bmRzOiBib3VuZHMsCiAgICAgICAgICAgICAgICAgICAgICAgICAgICAgICAgICAgICAgICAgICBsYXllcnM6IFtdLAogICAgICAgICAgICAgICAgICAgICAgICAgICAgICAgICAgICAgICAgICAgY3JzOiBMLkNSUy5FUFNHMzg1NwogICAgICAgICAgICAgICAgICAgICAgICAgICAgICAgICAgICAgICAgIH0pOwogICAgICAgICAgICAKICAgICAgICAKICAgICAgICAKICAgICAgICAgICAgCiAgICAgICAgICAgIHZhciB0aWxlX2xheWVyX2NhNGM3ZTljMTZkNzRiZGM5NjQ2NzNjZGJlODViZmEwID0gTC50aWxlTGF5ZXIoCiAgICAgICAgICAgICAgICAnaHR0cHM6Ly97c30udGlsZS5vcGVuc3RyZWV0bWFwLm9yZy97en0ve3h9L3t5fS5wbmcnLAogICAgICAgICAgICAgICAgewogICAgICAgICAgICAgICAgICAgIG1heFpvb206IDE4LAogICAgICAgICAgICAgICAgICAgIG1pblpvb206IDEsCiAgICAgICAgICAgICAgICAgICAgYXR0cmlidXRpb246ICdEYXRhIGJ5IDxhIGhyZWY9Imh0dHA6Ly9vcGVuc3RyZWV0bWFwLm9yZyI+T3BlblN0cmVldE1hcDwvYT4sIHVuZGVyIDxhIGhyZWY9Imh0dHA6Ly93d3cub3BlbnN0cmVldG1hcC5vcmcvY29weXJpZ2h0Ij5PRGJMPC9hPi4nLAogICAgICAgICAgICAgICAgICAgIGRldGVjdFJldGluYTogZmFsc2UKICAgICAgICAgICAgICAgICAgICB9CiAgICAgICAgICAgICAgICApLmFkZFRvKG1hcF84MzE3NzVmNjRjYmI0ZGNiODZmM2YwNmE0ZTFmZGYzOCk7CgogICAgICAgIAogICAgICAgIAogICAgICAgICAgICAKCiAgICAgICAgICAgIHZhciBtYXJrZXJfYTI1MDA0M2M5MTQ2NGMxN2EyYTQ0NWM2Y2Q5ZTA2MDggPSBMLm1hcmtlcigKICAgICAgICAgICAgICAgIFs1MS41MTU3MzUsLTAuMDkzMDhdLAogICAgICAgICAgICAgICAgewogICAgICAgICAgICAgICAgICAgIGljb246IG5ldyBMLkljb24uRGVmYXVsdCgpCiAgICAgICAgICAgICAgICAgICAgfQogICAgICAgICAgICAgICAgKQogICAgICAgICAgICAgICAgLmFkZFRvKG1hcF84MzE3NzVmNjRjYmI0ZGNiODZmM2YwNmE0ZTFmZGYzOCk7CiAgICAgICAgICAgIAogICAgICAgIAogICAgICAgICAgICAKICAgICAgICAgICAgdmFyIHBvcHVwXzdhNDc3ZTM4MGEwYzRlMjg4Yzg1N2VhYTI4NzY0NmZmID0gTC5wb3B1cCh7bWF4V2lkdGg6ICczMDAnfSk7CgogICAgICAgICAgICAKICAgICAgICAgICAgICAgIHZhciBodG1sXzI4MWViNGMyYTA5OTQzYmNiOGNmOTM5Y2YzZGYzZDAwID0gJCgnICAgICAgICAgPGRpdiBpZD0iaHRtbF8yODFlYjRjMmEwOTk0M2JjYjhjZjkzOWNmM2RmM2QwMCIgICAgICAgICAgICAgICAgIHN0eWxlPSJ3aWR0aDogMTAwLjAlOyBoZWlnaHQ6IDEwMC4wJTsiPiAgICAgICAgICAgICAgICAgVGhlIEd1aWxkaGFsbCwgR3VpbGRoYWxsPC9kaXY+ICAgICAgICAgICAgICAgICAnKVswXTsKICAgICAgICAgICAgICAgIHBvcHVwXzdhNDc3ZTM4MGEwYzRlMjg4Yzg1N2VhYTI4NzY0NmZmLnNldENvbnRlbnQoaHRtbF8yODFlYjRjMmEwOTk0M2JjYjhjZjkzOWNmM2RmM2QwMCk7CiAgICAgICAgICAgIAoKICAgICAgICAgICAgbWFya2VyX2EyNTAwNDNjOTE0NjRjMTdhMmE0NDVjNmNkOWUwNjA4LmJpbmRQb3B1cChwb3B1cF83YTQ3N2UzODBhMGM0ZTI4OGM4NTdlYWEyODc2NDZmZik7CgogICAgICAgICAgICAKICAgICAgICAKICAgICAgICAKICAgICAgICAgICAgCgogICAgICAgICAgICB2YXIgbWFya2VyX2Q3NjhmMDdiNTFiMjQ2YzM4ZjZiMTg4ODRkYjlmN2QzID0gTC5tYXJrZXIoCiAgICAgICAgICAgICAgICBbNTEuNTExODM0LC0wLjE3NDI5Ml0sCiAgICAgICAgICAgICAgICB7CiAgICAgICAgICAgICAgICAgICAgaWNvbjogbmV3IEwuSWNvbi5EZWZhdWx0KCkKICAgICAgICAgICAgICAgICAgICB9CiAgICAgICAgICAgICAgICApCiAgICAgICAgICAgICAgICAuYWRkVG8obWFwXzgzMTc3NWY2NGNiYjRkY2I4NmYzZjA2YTRlMWZkZjM4KTsKICAgICAgICAgICAgCiAgICAgICAgCiAgICAgICAgICAgIAogICAgICAgICAgICB2YXIgcG9wdXBfNTMwNmZmNTZiMmJlNDcyYmEyOThjNGRlYjZiNDg4MmQgPSBMLnBvcHVwKHttYXhXaWR0aDogJzMwMCd9KTsKCiAgICAgICAgICAgIAogICAgICAgICAgICAgICAgdmFyIGh0bWxfMjYxMzM1OGRlMmNlNDk2Zjg5MjBjNmZhYmQwNzBkYmUgPSAkKCcgICAgICAgICA8ZGl2IGlkPSJodG1sXzI2MTMzNThkZTJjZTQ5NmY4OTIwYzZmYWJkMDcwZGJlIiAgICAgICAgICAgICAgICAgc3R5bGU9IndpZHRoOiAxMDAuMCU7IGhlaWdodDogMTAwLjAlOyI+ICAgICAgICAgICAgICAgICBCYXlzd2F0ZXIgUm9hZCwgSHlkZSBQYXJrPC9kaXY+ICAgICAgICAgICAgICAgICAnKVswXTsKICAgICAgICAgICAgICAgIHBvcHVwXzUzMDZmZjU2YjJiZTQ3MmJhMjk4YzRkZWI2YjQ4ODJkLnNldENvbnRlbnQoaHRtbF8yNjEzMzU4ZGUyY2U0OTZmODkyMGM2ZmFiZDA3MGRiZSk7CiAgICAgICAgICAgIAoKICAgICAgICAgICAgbWFya2VyX2Q3NjhmMDdiNTFiMjQ2YzM4ZjZiMTg4ODRkYjlmN2QzLmJpbmRQb3B1cChwb3B1cF81MzA2ZmY1NmIyYmU0NzJiYTI5OGM0ZGViNmI0ODgyZCk7CgogICAgICAgICAgICAKICAgICAgICAKICAgICAgICAKICAgICAgICAgICAgCgogICAgICAgICAgICB2YXIgbWFya2VyX2EyMGRjYTg0ZmYwOTQzZjViYTJlZjdmYWZlNmFjNTE3ID0gTC5tYXJrZXIoCiAgICAgICAgICAgICAgICBbNTEuNDg5NzE2LC0wLjE3MDE5NF0sCiAgICAgICAgICAgICAgICB7CiAgICAgICAgICAgICAgICAgICAgaWNvbjogbmV3IEwuSWNvbi5EZWZhdWx0KCkKICAgICAgICAgICAgICAgICAgICB9CiAgICAgICAgICAgICAgICApCiAgICAgICAgICAgICAgICAuYWRkVG8obWFwXzgzMTc3NWY2NGNiYjRkY2I4NmYzZjA2YTRlMWZkZjM4KTsKICAgICAgICAgICAgCiAgICAgICAgCiAgICAgICAgICAgIAogICAgICAgICAgICB2YXIgcG9wdXBfNGFiZDY3ODMyZjgyNDBlNTg0ZDVmZGYyOWVmMjYyYzcgPSBMLnBvcHVwKHttYXhXaWR0aDogJzMwMCd9KTsKCiAgICAgICAgICAgIAogICAgICAgICAgICAgICAgdmFyIGh0bWxfMjQ2NzlhMTU5ZmJiNDgwM2EzZjRhZTJlMDFjNjU2MDYgPSAkKCcgICAgICAgICA8ZGl2IGlkPSJodG1sXzI0Njc5YTE1OWZiYjQ4MDNhM2Y0YWUyZTAxYzY1NjA2IiAgICAgICAgICAgICAgICAgc3R5bGU9IndpZHRoOiAxMDAuMCU7IGhlaWdodDogMTAwLjAlOyI+ICAgICAgICAgICAgICAgICBTdC4gTHVrZSYjMzk7cyBDaHVyY2gsIENoZWxzZWE8L2Rpdj4gICAgICAgICAgICAgICAgICcpWzBdOwogICAgICAgICAgICAgICAgcG9wdXBfNGFiZDY3ODMyZjgyNDBlNTg0ZDVmZGYyOWVmMjYyYzcuc2V0Q29udGVudChodG1sXzI0Njc5YTE1OWZiYjQ4MDNhM2Y0YWUyZTAxYzY1NjA2KTsKICAgICAgICAgICAgCgogICAgICAgICAgICBtYXJrZXJfYTIwZGNhODRmZjA5NDNmNWJhMmVmN2ZhZmU2YWM1MTcuYmluZFBvcHVwKHBvcHVwXzRhYmQ2NzgzMmY4MjQwZTU4NGQ1ZmRmMjllZjI2MmM3KTsKCiAgICAgICAgICAgIAogICAgICAgIAogICAgICAgIAogICAgICAgICAgICAKCiAgICAgICAgICAgIHZhciBtYXJrZXJfNmY2YjUwOWE2MzE3NDhiMDllODIyZWE0ZWU5NWVlNTUgPSBMLm1hcmtlcigKICAgICAgICAgICAgICAgIFs1MS41MDMxNTcsLTAuMTkxNDk2XSwKICAgICAgICAgICAgICAgIHsKICAgICAgICAgICAgICAgICAgICBpY29uOiBuZXcgTC5JY29uLkRlZmF1bHQoKQogICAgICAgICAgICAgICAgICAgIH0KICAgICAgICAgICAgICAgICkKICAgICAgICAgICAgICAgIC5hZGRUbyhtYXBfODMxNzc1ZjY0Y2JiNGRjYjg2ZjNmMDZhNGUxZmRmMzgpOwogICAgICAgICAgICAKICAgICAgICAKICAgICAgICAgICAgCiAgICAgICAgICAgIHZhciBwb3B1cF8yMTVjYzU0ODA3NDA0ZmI5YmNjYTlkOWExZGZmZDg4NiA9IEwucG9wdXAoe21heFdpZHRoOiAnMzAwJ30pOwoKICAgICAgICAgICAgCiAgICAgICAgICAgICAgICB2YXIgaHRtbF81NGM0Y2E5NGRiMGI0N2M5YjEyZTY1NzVlZGJmMjBiYyA9ICQoJyAgICAgICAgIDxkaXYgaWQ9Imh0bWxfNTRjNGNhOTRkYjBiNDdjOWIxMmU2NTc1ZWRiZjIwYmMiICAgICAgICAgICAgICAgICBzdHlsZT0id2lkdGg6IDEwMC4wJTsgaGVpZ2h0OiAxMDAuMCU7Ij4gICAgICAgICAgICAgICAgIEtlbnNpbmd0b24gQ2h1cmNoIFN0cmVldCwgS2Vuc2luZ3RvbjwvZGl2PiAgICAgICAgICAgICAgICAgJylbMF07CiAgICAgICAgICAgICAgICBwb3B1cF8yMTVjYzU0ODA3NDA0ZmI5YmNjYTlkOWExZGZmZDg4Ni5zZXRDb250ZW50KGh0bWxfNTRjNGNhOTRkYjBiNDdjOWIxMmU2NTc1ZWRiZjIwYmMpOwogICAgICAgICAgICAKCiAgICAgICAgICAgIG1hcmtlcl82ZjZiNTA5YTYzMTc0OGIwOWU4MjJlYTRlZTk1ZWU1NS5iaW5kUG9wdXAocG9wdXBfMjE1Y2M1NDgwNzQwNGZiOWJjY2E5ZDlhMWRmZmQ4ODYpOwoKICAgICAgICAgICAgCiAgICAgICAgCiAgICAgICAgCiAgICAgICAgICAgIAoKICAgICAgICAgICAgdmFyIG1hcmtlcl8zZTRkMzc5MmRjNTI0ZDYyYWNiYWZlZWJhMDg0MTNhMyA9IEwubWFya2VyKAogICAgICAgICAgICAgICAgWzUxLjUyMTI4MywtMC4wODQ2MDVdLAogICAgICAgICAgICAgICAgewogICAgICAgICAgICAgICAgICAgIGljb246IG5ldyBMLkljb24uRGVmYXVsdCgpCiAgICAgICAgICAgICAgICAgICAgfQogICAgICAgICAgICAgICAgKQogICAgICAgICAgICAgICAgLmFkZFRvKG1hcF84MzE3NzVmNjRjYmI0ZGNiODZmM2YwNmE0ZTFmZGYzOCk7CiAgICAgICAgICAgIAogICAgICAgIAogICAgICAgICAgICAKICAgICAgICAgICAgdmFyIHBvcHVwX2ExNmZlYzMxZTcyNjQzYjJhMDVjMzNiZjFmODI5NGU3ID0gTC5wb3B1cCh7bWF4V2lkdGg6ICczMDAnfSk7CgogICAgICAgICAgICAKICAgICAgICAgICAgICAgIHZhciBodG1sXzQzMzM4ZTg0OWVmYzRmMjJiMjUyMjk4ODBhNTc4ZWY4ID0gJCgnICAgICAgICAgPGRpdiBpZD0iaHRtbF80MzMzOGU4NDllZmM0ZjIyYjI1MjI5ODgwYTU3OGVmOCIgICAgICAgICAgICAgICAgIHN0eWxlPSJ3aWR0aDogMTAwLjAlOyBoZWlnaHQ6IDEwMC4wJTsiPiAgICAgICAgICAgICAgICAgQ2hyaXN0b3BoZXIgU3RyZWV0LCBMaXZlcnBvb2wgU3RyZWV0PC9kaXY+ICAgICAgICAgICAgICAgICAnKVswXTsKICAgICAgICAgICAgICAgIHBvcHVwX2ExNmZlYzMxZTcyNjQzYjJhMDVjMzNiZjFmODI5NGU3LnNldENvbnRlbnQoaHRtbF80MzMzOGU4NDllZmM0ZjIyYjI1MjI5ODgwYTU3OGVmOCk7CiAgICAgICAgICAgIAoKICAgICAgICAgICAgbWFya2VyXzNlNGQzNzkyZGM1MjRkNjJhY2JhZmVlYmEwODQxM2EzLmJpbmRQb3B1cChwb3B1cF9hMTZmZWMzMWU3MjY0M2IyYTA1YzMzYmYxZjgyOTRlNyk7CgogICAgICAgICAgICAKICAgICAgICAKICAgICAgICAKICAgICAgICAgICAgCgogICAgICAgICAgICB2YXIgbWFya2VyX2Y2N2FhMjk3OWM0OTQ5NDlhN2JmYWU1YWU0NzVmYTFiID0gTC5tYXJrZXIoCiAgICAgICAgICAgICAgICBbNTEuNTI5NTM3LC0wLjA4MzM1M10sCiAgICAgICAgICAgICAgICB7CiAgICAgICAgICAgICAgICAgICAgaWNvbjogbmV3IEwuSWNvbi5EZWZhdWx0KCkKICAgICAgICAgICAgICAgICAgICB9CiAgICAgICAgICAgICAgICApCiAgICAgICAgICAgICAgICAuYWRkVG8obWFwXzgzMTc3NWY2NGNiYjRkY2I4NmYzZjA2YTRlMWZkZjM4KTsKICAgICAgICAgICAgCiAgICAgICAgCiAgICAgICAgICAgIAogICAgICAgICAgICB2YXIgcG9wdXBfOGU0Y2ZmNWUzNTZlNGY4MGI2MjY3MDk3OTdhZGRmZTcgPSBMLnBvcHVwKHttYXhXaWR0aDogJzMwMCd9KTsKCiAgICAgICAgICAgIAogICAgICAgICAgICAgICAgdmFyIGh0bWxfMTY0ZmRhMDFiN2UxNDRiNTk1ZDkyMzRiNWJjZGM3NWIgPSAkKCcgICAgICAgICA8ZGl2IGlkPSJodG1sXzE2NGZkYTAxYjdlMTQ0YjU5NWQ5MjM0YjViY2RjNzViIiAgICAgICAgICAgICAgICAgc3R5bGU9IndpZHRoOiAxMDAuMCU7IGhlaWdodDogMTAwLjAlOyI+ICAgICAgICAgICAgICAgICBGYW5zaGF3IFN0cmVldCwgSG94dG9uPC9kaXY+ICAgICAgICAgICAgICAgICAnKVswXTsKICAgICAgICAgICAgICAgIHBvcHVwXzhlNGNmZjVlMzU2ZTRmODBiNjI2NzA5Nzk3YWRkZmU3LnNldENvbnRlbnQoaHRtbF8xNjRmZGEwMWI3ZTE0NGI1OTVkOTIzNGI1YmNkYzc1Yik7CiAgICAgICAgICAgIAoKICAgICAgICAgICAgbWFya2VyX2Y2N2FhMjk3OWM0OTQ5NDlhN2JmYWU1YWU0NzVmYTFiLmJpbmRQb3B1cChwb3B1cF84ZTRjZmY1ZTM1NmU0ZjgwYjYyNjcwOTc5N2FkZGZlNyk7CgogICAgICAgICAgICAKICAgICAgICAKICAgICAgICAKICAgICAgICAgICAgCgogICAgICAgICAgICB2YXIgbWFya2VyX2JlNjRkNWU0NWZmNjQ2MjdhYWI1ZmRlZGNhYjc1MTY1ID0gTC5tYXJrZXIoCiAgICAgICAgICAgICAgICBbNTEuNTE5MTgxLC0wLjE0MDQ4NV0sCiAgICAgICAgICAgICAgICB7CiAgICAgICAgICAgICAgICAgICAgaWNvbjogbmV3IEwuSWNvbi5EZWZhdWx0KCkKICAgICAgICAgICAgICAgICAgICB9CiAgICAgICAgICAgICAgICApCiAgICAgICAgICAgICAgICAuYWRkVG8obWFwXzgzMTc3NWY2NGNiYjRkY2I4NmYzZjA2YTRlMWZkZjM4KTsKICAgICAgICAgICAgCiAgICAgICAgCiAgICAgICAgICAgIAogICAgICAgICAgICB2YXIgcG9wdXBfYjk4NTczNGYxYTVjNGU5YmEzMGI1NjE1NjIwZDhmMjggPSBMLnBvcHVwKHttYXhXaWR0aDogJzMwMCd9KTsKCiAgICAgICAgICAgIAogICAgICAgICAgICAgICAgdmFyIGh0bWxfYzQ0MmIzMjFjZjg4NDBjMGFjNTMyMTNlNzc4MDYzZTkgPSAkKCcgICAgICAgICA8ZGl2IGlkPSJodG1sX2M0NDJiMzIxY2Y4ODQwYzBhYzUzMjEzZTc3ODA2M2U5IiAgICAgICAgICAgICAgICAgc3R5bGU9IndpZHRoOiAxMDAuMCU7IGhlaWdodDogMTAwLjAlOyI+ICAgICAgICAgICAgICAgICBGb2xleSBTdHJlZXQsIEZpdHpyb3ZpYTwvZGl2PiAgICAgICAgICAgICAgICAgJylbMF07CiAgICAgICAgICAgICAgICBwb3B1cF9iOTg1NzM0ZjFhNWM0ZTliYTMwYjU2MTU2MjBkOGYyOC5zZXRDb250ZW50KGh0bWxfYzQ0MmIzMjFjZjg4NDBjMGFjNTMyMTNlNzc4MDYzZTkpOwogICAgICAgICAgICAKCiAgICAgICAgICAgIG1hcmtlcl9iZTY0ZDVlNDVmZjY0NjI3YWFiNWZkZWRjYWI3NTE2NS5iaW5kUG9wdXAocG9wdXBfYjk4NTczNGYxYTVjNGU5YmEzMGI1NjE1NjIwZDhmMjgpOwoKICAgICAgICAgICAgCiAgICAgICAgCiAgICAgICAgCiAgICAgICAgICAgIAoKICAgICAgICAgICAgdmFyIG1hcmtlcl9jMmI0ZWUwNDJlYzI0MGUzOWMyMDk0ODUwZWI2ZWI4MCA9IEwubWFya2VyKAogICAgICAgICAgICAgICAgWzUxLjUwMDI0MSwtMC4xNTkzNF0sCiAgICAgICAgICAgICAgICB7CiAgICAgICAgICAgICAgICAgICAgaWNvbjogbmV3IEwuSWNvbi5EZWZhdWx0KCkKICAgICAgICAgICAgICAgICAgICB9CiAgICAgICAgICAgICAgICApCiAgICAgICAgICAgICAgICAuYWRkVG8obWFwXzgzMTc3NWY2NGNiYjRkY2I4NmYzZjA2YTRlMWZkZjM4KTsKICAgICAgICAgICAgCiAgICAgICAgCiAgICAgICAgICAgIAogICAgICAgICAgICB2YXIgcG9wdXBfNmY1MzA5NjQ5YzhiNGQ4ZmI5ODIzZWJjOTc1NmMzMTUgPSBMLnBvcHVwKHttYXhXaWR0aDogJzMwMCd9KTsKCiAgICAgICAgICAgIAogICAgICAgICAgICAgICAgdmFyIGh0bWxfODU1OTBjMWIyZmYyNDI0ZmExNmZmMDVjNzgzZjQxOWUgPSAkKCcgICAgICAgICA8ZGl2IGlkPSJodG1sXzg1NTkwYzFiMmZmMjQyNGZhMTZmZjA1Yzc4M2Y0MTllIiAgICAgICAgICAgICAgICAgc3R5bGU9IndpZHRoOiAxMDAuMCU7IGhlaWdodDogMTAwLjAlOyI+ICAgICAgICAgICAgICAgICBIYXJyaWV0IFN0cmVldCwgS25pZ2h0c2JyaWRnZTwvZGl2PiAgICAgICAgICAgICAgICAgJylbMF07CiAgICAgICAgICAgICAgICBwb3B1cF82ZjUzMDk2NDljOGI0ZDhmYjk4MjNlYmM5NzU2YzMxNS5zZXRDb250ZW50KGh0bWxfODU1OTBjMWIyZmYyNDI0ZmExNmZmMDVjNzgzZjQxOWUpOwogICAgICAgICAgICAKCiAgICAgICAgICAgIG1hcmtlcl9jMmI0ZWUwNDJlYzI0MGUzOWMyMDk0ODUwZWI2ZWI4MC5iaW5kUG9wdXAocG9wdXBfNmY1MzA5NjQ5YzhiNGQ4ZmI5ODIzZWJjOTc1NmMzMTUpOwoKICAgICAgICAgICAgCiAgICAgICAgCiAgICAgICAgCiAgICAgICAgICAgIAoKICAgICAgICAgICAgdmFyIG1hcmtlcl85Zjk2NDdmZTUzMGQ0N2VjODliOGNkOTk0YWFkNTI1ZSA9IEwubWFya2VyKAogICAgICAgICAgICAgICAgWzUxLjUxNjE5NiwtMC4wMjkxMzhdLAogICAgICAgICAgICAgICAgewogICAgICAgICAgICAgICAgICAgIGljb246IG5ldyBMLkljb24uRGVmYXVsdCgpCiAgICAgICAgICAgICAgICAgICAgfQogICAgICAgICAgICAgICAgKQogICAgICAgICAgICAgICAgLmFkZFRvKG1hcF84MzE3NzVmNjRjYmI0ZGNiODZmM2YwNmE0ZTFmZGYzOCk7CiAgICAgICAgICAgIAogICAgICAgIAogICAgICAgICAgICAKICAgICAgICAgICAgdmFyIHBvcHVwXzFjMzU5YThkZTA1NzQyMmRiNTdkZGY1MGFkODBkMWFkID0gTC5wb3B1cCh7bWF4V2lkdGg6ICczMDAnfSk7CgogICAgICAgICAgICAKICAgICAgICAgICAgICAgIHZhciBodG1sXzAxNGZkNmIzMDViMDRkMzZhNDYzYzUxZGZiZjQ1YzIzID0gJCgnICAgICAgICAgPGRpdiBpZD0iaHRtbF8wMTRmZDZiMzA1YjA0ZDM2YTQ2M2M1MWRmYmY0NWMyMyIgICAgICAgICAgICAgICAgIHN0eWxlPSJ3aWR0aDogMTAwLjAlOyBoZWlnaHQ6IDEwMC4wJTsiPiAgICAgICAgICAgICAgICAgQnVyZGV0dCBSb2FkLCBNaWxlIEVuZDwvZGl2PiAgICAgICAgICAgICAgICAgJylbMF07CiAgICAgICAgICAgICAgICBwb3B1cF8xYzM1OWE4ZGUwNTc0MjJkYjU3ZGRmNTBhZDgwZDFhZC5zZXRDb250ZW50KGh0bWxfMDE0ZmQ2YjMwNWIwNGQzNmE0NjNjNTFkZmJmNDVjMjMpOwogICAgICAgICAgICAKCiAgICAgICAgICAgIG1hcmtlcl85Zjk2NDdmZTUzMGQ0N2VjODliOGNkOTk0YWFkNTI1ZS5iaW5kUG9wdXAocG9wdXBfMWMzNTlhOGRlMDU3NDIyZGI1N2RkZjUwYWQ4MGQxYWQpOwoKICAgICAgICAgICAgCiAgICAgICAgCiAgICAgICAgCiAgICAgICAgICAgIAoKICAgICAgICAgICAgdmFyIG1hcmtlcl8xZWZjYWM5YTE0YWI0ZWMzOWQzMTM2MDg0MWVjOWQwMCA9IEwubWFya2VyKAogICAgICAgICAgICAgICAgWzUxLjUyMTg4OSwtMC4wNDY2N10sCiAgICAgICAgICAgICAgICB7CiAgICAgICAgICAgICAgICAgICAgaWNvbjogbmV3IEwuSWNvbi5EZWZhdWx0KCkKICAgICAgICAgICAgICAgICAgICB9CiAgICAgICAgICAgICAgICApCiAgICAgICAgICAgICAgICAuYWRkVG8obWFwXzgzMTc3NWY2NGNiYjRkY2I4NmYzZjA2YTRlMWZkZjM4KTsKICAgICAgICAgICAgCiAgICAgICAgCiAgICAgICAgICAgIAogICAgICAgICAgICB2YXIgcG9wdXBfODIzZWI4NzgzNmYxNDU4NjgyZjdmOGZhMDk3MDJmY2UgPSBMLnBvcHVwKHttYXhXaWR0aDogJzMwMCd9KTsKCiAgICAgICAgICAgIAogICAgICAgICAgICAgICAgdmFyIGh0bWxfZTg5MGU5YzA0NmNiNDBiZTg2MmE5N2U2YTEzNTk0ZWIgPSAkKCcgICAgICAgICA8ZGl2IGlkPSJodG1sX2U4OTBlOWMwNDZjYjQwYmU4NjJhOTdlNmExMzU5NGViIiAgICAgICAgICAgICAgICAgc3R5bGU9IndpZHRoOiAxMDAuMCU7IGhlaWdodDogMTAwLjAlOyI+ICAgICAgICAgICAgICAgICBTdGVwbmV5IEdyZWVuIFN0YXRpb24sIFN0ZXBuZXk8L2Rpdj4gICAgICAgICAgICAgICAgICcpWzBdOwogICAgICAgICAgICAgICAgcG9wdXBfODIzZWI4NzgzNmYxNDU4NjgyZjdmOGZhMDk3MDJmY2Uuc2V0Q29udGVudChodG1sX2U4OTBlOWMwNDZjYjQwYmU4NjJhOTdlNmExMzU5NGViKTsKICAgICAgICAgICAgCgogICAgICAgICAgICBtYXJrZXJfMWVmY2FjOWExNGFiNGVjMzlkMzEzNjA4NDFlYzlkMDAuYmluZFBvcHVwKHBvcHVwXzgyM2ViODc4MzZmMTQ1ODY4MmY3ZjhmYTA5NzAyZmNlKTsKCiAgICAgICAgICAgIAogICAgICAgIAogICAgICAgIAogICAgICAgICAgICAKCiAgICAgICAgICAgIHZhciBtYXJrZXJfNzg5N2U5YjVkNzg5NDEyNjlkMjkwMGQyNDcwYThlMGEgPSBMLm1hcmtlcigKICAgICAgICAgICAgICAgIFs1MS41MDE5NiwtMC4wMTYyNTFdLAogICAgICAgICAgICAgICAgewogICAgICAgICAgICAgICAgICAgIGljb246IG5ldyBMLkljb24uRGVmYXVsdCgpCiAgICAgICAgICAgICAgICAgICAgfQogICAgICAgICAgICAgICAgKQogICAgICAgICAgICAgICAgLmFkZFRvKG1hcF84MzE3NzVmNjRjYmI0ZGNiODZmM2YwNmE0ZTFmZGYzOCk7CiAgICAgICAgICAgIAogICAgICAgIAogICAgICAgICAgICAKICAgICAgICAgICAgdmFyIHBvcHVwXzc2NWYzODE1YjczNTQ2MjNhZGFiODJmNTg1ZmUzYTAzID0gTC5wb3B1cCh7bWF4V2lkdGg6ICczMDAnfSk7CgogICAgICAgICAgICAKICAgICAgICAgICAgICAgIHZhciBodG1sXzgxMTdlY2RmMzQwZTQ1NjY4MTAzYTgzZWI5M2NlNzI5ID0gJCgnICAgICAgICAgPGRpdiBpZD0iaHRtbF84MTE3ZWNkZjM0MGU0NTY2ODEwM2E4M2ViOTNjZTcyOSIgICAgICAgICAgICAgICAgIHN0eWxlPSJ3aWR0aDogMTAwLjAlOyBoZWlnaHQ6IDEwMC4wJTsiPiAgICAgICAgICAgICAgICAgU291dGggUXVheSBFYXN0LCBDYW5hcnkgV2hhcmY8L2Rpdj4gICAgICAgICAgICAgICAgICcpWzBdOwogICAgICAgICAgICAgICAgcG9wdXBfNzY1ZjM4MTViNzM1NDYyM2FkYWI4MmY1ODVmZTNhMDMuc2V0Q29udGVudChodG1sXzgxMTdlY2RmMzQwZTQ1NjY4MTAzYTgzZWI5M2NlNzI5KTsKICAgICAgICAgICAgCgogICAgICAgICAgICBtYXJrZXJfNzg5N2U5YjVkNzg5NDEyNjlkMjkwMGQyNDcwYThlMGEuYmluZFBvcHVwKHBvcHVwXzc2NWYzODE1YjczNTQ2MjNhZGFiODJmNTg1ZmUzYTAzKTsKCiAgICAgICAgICAgIAogICAgICAgIAogICAgICAgIAogICAgICAgICAgICAKCiAgICAgICAgICAgIHZhciBtYXJrZXJfN2E0YzM3M2ZkYjBkNDU0Zjk3MGZlZWE5MjgyMWZlOWIgPSBMLm1hcmtlcigKICAgICAgICAgICAgICAgIFs1MS41MjYxNzcsLTAuMDI3NDY3XSwKICAgICAgICAgICAgICAgIHsKICAgICAgICAgICAgICAgICAgICBpY29uOiBuZXcgTC5JY29uLkRlZmF1bHQoKQogICAgICAgICAgICAgICAgICAgIH0KICAgICAgICAgICAgICAgICkKICAgICAgICAgICAgICAgIC5hZGRUbyhtYXBfODMxNzc1ZjY0Y2JiNGRjYjg2ZjNmMDZhNGUxZmRmMzgpOwogICAgICAgICAgICAKICAgICAgICAKICAgICAgICAgICAgCiAgICAgICAgICAgIHZhciBwb3B1cF9hMTI3ZDZlZmFmYTQ0YzllYmE4NjZiMWM2OTMyNTJhMCA9IEwucG9wdXAoe21heFdpZHRoOiAnMzAwJ30pOwoKICAgICAgICAgICAgCiAgICAgICAgICAgICAgICB2YXIgaHRtbF8wMzBlZWZmZTBiYTY0ZmY0YmQ2MGE5YmMxNzNmMmFlYyA9ICQoJyAgICAgICAgIDxkaXYgaWQ9Imh0bWxfMDMwZWVmZmUwYmE2NGZmNGJkNjBhOWJjMTczZjJhZWMiICAgICAgICAgICAgICAgICBzdHlsZT0id2lkdGg6IDEwMC4wJTsgaGVpZ2h0OiAxMDAuMCU7Ij4gICAgICAgICAgICAgICAgIE1lcmNoYW50IFN0cmVldCwgQm93PC9kaXY+ICAgICAgICAgICAgICAgICAnKVswXTsKICAgICAgICAgICAgICAgIHBvcHVwX2ExMjdkNmVmYWZhNDRjOWViYTg2NmIxYzY5MzI1MmEwLnNldENvbnRlbnQoaHRtbF8wMzBlZWZmZTBiYTY0ZmY0YmQ2MGE5YmMxNzNmMmFlYyk7CiAgICAgICAgICAgIAoKICAgICAgICAgICAgbWFya2VyXzdhNGMzNzNmZGIwZDQ1NGY5NzBmZWVhOTI4MjFmZTliLmJpbmRQb3B1cChwb3B1cF9hMTI3ZDZlZmFmYTQ0YzllYmE4NjZiMWM2OTMyNTJhMCk7CgogICAgICAgICAgICAKICAgICAgICAKICAgICAgICAKICAgICAgICAgICAgCgogICAgICAgICAgICB2YXIgbWFya2VyXzlkYTFlMWU3ZDQxNzQyNzViYzgxNTA1NTM1YTQ4YmI1ID0gTC5tYXJrZXIoCiAgICAgICAgICAgICAgICBbNTEuNTA5NTkxLC0wLjIwNDY2Nl0sCiAgICAgICAgICAgICAgICB7CiAgICAgICAgICAgICAgICAgICAgaWNvbjogbmV3IEwuSWNvbi5EZWZhdWx0KCkKICAgICAgICAgICAgICAgICAgICB9CiAgICAgICAgICAgICAgICApCiAgICAgICAgICAgICAgICAuYWRkVG8obWFwXzgzMTc3NWY2NGNiYjRkY2I4NmYzZjA2YTRlMWZkZjM4KTsKICAgICAgICAgICAgCiAgICAgICAgCiAgICAgICAgICAgIAogICAgICAgICAgICB2YXIgcG9wdXBfYTM2MzlmZTU1N2Y5NDhkMmJiNDkwNDRmYTEwY2M5OWUgPSBMLnBvcHVwKHttYXhXaWR0aDogJzMwMCd9KTsKCiAgICAgICAgICAgIAogICAgICAgICAgICAgICAgdmFyIGh0bWxfOTllMWM1NmI1MTY3NGIzODk3ZmI4NmY0YWE1MTRmYmEgPSAkKCcgICAgICAgICA8ZGl2IGlkPSJodG1sXzk5ZTFjNTZiNTE2NzRiMzg5N2ZiODZmNGFhNTE0ZmJhIiAgICAgICAgICAgICAgICAgc3R5bGU9IndpZHRoOiAxMDAuMCU7IGhlaWdodDogMTAwLjAlOyI+ICAgICAgICAgICAgICAgICBMYW5zZG93bmUgV2FsaywgTGFkYnJva2UgR3JvdmU8L2Rpdj4gICAgICAgICAgICAgICAgICcpWzBdOwogICAgICAgICAgICAgICAgcG9wdXBfYTM2MzlmZTU1N2Y5NDhkMmJiNDkwNDRmYTEwY2M5OWUuc2V0Q29udGVudChodG1sXzk5ZTFjNTZiNTE2NzRiMzg5N2ZiODZmNGFhNTE0ZmJhKTsKICAgICAgICAgICAgCgogICAgICAgICAgICBtYXJrZXJfOWRhMWUxZTdkNDE3NDI3NWJjODE1MDU1MzVhNDhiYjUuYmluZFBvcHVwKHBvcHVwX2EzNjM5ZmU1NTdmOTQ4ZDJiYjQ5MDQ0ZmExMGNjOTllKTsKCiAgICAgICAgICAgIAogICAgICAgIAogICAgICAgIAogICAgICAgICAgICAKCiAgICAgICAgICAgIHZhciBtYXJrZXJfYThmNzI4MTNlZGI2NDBmYmJlZmVkMWFhYTdiYjljNDkgPSBMLm1hcmtlcigKICAgICAgICAgICAgICAgIFs1MS41MTUxMDgsLTAuMjA4NTY1XSwKICAgICAgICAgICAgICAgIHsKICAgICAgICAgICAgICAgICAgICBpY29uOiBuZXcgTC5JY29uLkRlZmF1bHQoKQogICAgICAgICAgICAgICAgICAgIH0KICAgICAgICAgICAgICAgICkKICAgICAgICAgICAgICAgIC5hZGRUbyhtYXBfODMxNzc1ZjY0Y2JiNGRjYjg2ZjNmMDZhNGUxZmRmMzgpOwogICAgICAgICAgICAKICAgICAgICAKICAgICAgICAgICAgCiAgICAgICAgICAgIHZhciBwb3B1cF81ZGQ1MmI3MWJjNjA0YzFjYmQyNGU0NjNkYjEzMDk2OCA9IEwucG9wdXAoe21heFdpZHRoOiAnMzAwJ30pOwoKICAgICAgICAgICAgCiAgICAgICAgICAgICAgICB2YXIgaHRtbF9hODc1MTU1MmFhOGQ0YjIwOTllNjE4MzdhMjViNWQ4MCA9ICQoJyAgICAgICAgIDxkaXYgaWQ9Imh0bWxfYTg3NTE1NTJhYThkNGIyMDk5ZTYxODM3YTI1YjVkODAiICAgICAgICAgICAgICAgICBzdHlsZT0id2lkdGg6IDEwMC4wJTsgaGVpZ2h0OiAxMDAuMCU7Ij4gICAgICAgICAgICAgICAgIEJsZW5oZWltIENyZXNjZW50LCBMYWRicm9rZSBHcm92ZTwvZGl2PiAgICAgICAgICAgICAgICAgJylbMF07CiAgICAgICAgICAgICAgICBwb3B1cF81ZGQ1MmI3MWJjNjA0YzFjYmQyNGU0NjNkYjEzMDk2OC5zZXRDb250ZW50KGh0bWxfYTg3NTE1NTJhYThkNGIyMDk5ZTYxODM3YTI1YjVkODApOwogICAgICAgICAgICAKCiAgICAgICAgICAgIG1hcmtlcl9hOGY3MjgxM2VkYjY0MGZiYmVmZWQxYWFhN2JiOWM0OS5iaW5kUG9wdXAocG9wdXBfNWRkNTJiNzFiYzYwNGMxY2JkMjRlNDYzZGIxMzA5NjgpOwoKICAgICAgICAgICAgCiAgICAgICAgCiAgICAgICAgCiAgICAgICAgICAgIAoKICAgICAgICAgICAgdmFyIG1hcmtlcl8yYjcxN2NhN2NkNjY0YzUzYmUwOTA2Mjk0ODRiZjViMiA9IEwubWFya2VyKAogICAgICAgICAgICAgICAgWzUxLjU0NjgwNSwtMC4wMTQ2OTFdLAogICAgICAgICAgICAgICAgewogICAgICAgICAgICAgICAgICAgIGljb246IG5ldyBMLkljb24uRGVmYXVsdCgpCiAgICAgICAgICAgICAgICAgICAgfQogICAgICAgICAgICAgICAgKQogICAgICAgICAgICAgICAgLmFkZFRvKG1hcF84MzE3NzVmNjRjYmI0ZGNiODZmM2YwNmE0ZTFmZGYzOCk7CiAgICAgICAgICAgIAogICAgICAgIAogICAgICAgICAgICAKICAgICAgICAgICAgdmFyIHBvcHVwXzliM2EzZDQ5ZGU2MjQxZDdhYzUwNWEzOTVmMDU5MTBlID0gTC5wb3B1cCh7bWF4V2lkdGg6ICczMDAnfSk7CgogICAgICAgICAgICAKICAgICAgICAgICAgICAgIHZhciBodG1sXzc0YWE0Y2NhYmFkMTRkOGRiMTNlYmFlZTY4ZjgyOWJiID0gJCgnICAgICAgICAgPGRpdiBpZD0iaHRtbF83NGFhNGNjYWJhZDE0ZDhkYjEzZWJhZWU2OGY4MjliYiIgICAgICAgICAgICAgICAgIHN0eWxlPSJ3aWR0aDogMTAwLjAlOyBoZWlnaHQ6IDEwMC4wJTsiPiAgICAgICAgICAgICAgICAgVGltYmVyIExvZGdlLCBRdWVlbiBFbGl6YWJldGggT2x5bXBpYyBQYXJrPC9kaXY+ICAgICAgICAgICAgICAgICAnKVswXTsKICAgICAgICAgICAgICAgIHBvcHVwXzliM2EzZDQ5ZGU2MjQxZDdhYzUwNWEzOTVmMDU5MTBlLnNldENvbnRlbnQoaHRtbF83NGFhNGNjYWJhZDE0ZDhkYjEzZWJhZWU2OGY4MjliYik7CiAgICAgICAgICAgIAoKICAgICAgICAgICAgbWFya2VyXzJiNzE3Y2E3Y2Q2NjRjNTNiZTA5MDYyOTQ4NGJmNWIyLmJpbmRQb3B1cChwb3B1cF85YjNhM2Q0OWRlNjI0MWQ3YWM1MDVhMzk1ZjA1OTEwZSk7CgogICAgICAgICAgICAKICAgICAgICAKICAgICAgICAKICAgICAgICAgICAgCgogICAgICAgICAgICB2YXIgbWFya2VyXzZlYTE1YWE1MjgwYzQwNDNhY2E3ZjNjNTAzYTI4NTBiID0gTC5tYXJrZXIoCiAgICAgICAgICAgICAgICBbNTEuNTI4Mjc5LC0wLjExOTU1OF0sCiAgICAgICAgICAgICAgICB7CiAgICAgICAgICAgICAgICAgICAgaWNvbjogbmV3IEwuSWNvbi5EZWZhdWx0KCkKICAgICAgICAgICAgICAgICAgICB9CiAgICAgICAgICAgICAgICApCiAgICAgICAgICAgICAgICAuYWRkVG8obWFwXzgzMTc3NWY2NGNiYjRkY2I4NmYzZjA2YTRlMWZkZjM4KTsKICAgICAgICAgICAgCiAgICAgICAgCiAgICAgICAgICAgIAogICAgICAgICAgICB2YXIgcG9wdXBfMGEwYTQ4MDEzNmNkNDA4YzgwMDUyZThlNTc3ZWU5ZDcgPSBMLnBvcHVwKHttYXhXaWR0aDogJzMwMCd9KTsKCiAgICAgICAgICAgIAogICAgICAgICAgICAgICAgdmFyIGh0bWxfNWRmZWVhNmFkNjY0NDFiOGI5ZTQzMzM3YmQ4NTRlNTMgPSAkKCcgICAgICAgICA8ZGl2IGlkPSJodG1sXzVkZmVlYTZhZDY2NDQxYjhiOWU0MzMzN2JkODU0ZTUzIiAgICAgICAgICAgICAgICAgc3R5bGU9IndpZHRoOiAxMDAuMCU7IGhlaWdodDogMTAwLjAlOyI+ICAgICAgICAgICAgICAgICBDcm9tZXIgU3RyZWV0LCBCbG9vbXNidXJ5PC9kaXY+ICAgICAgICAgICAgICAgICAnKVswXTsKICAgICAgICAgICAgICAgIHBvcHVwXzBhMGE0ODAxMzZjZDQwOGM4MDA1MmU4ZTU3N2VlOWQ3LnNldENvbnRlbnQoaHRtbF81ZGZlZWE2YWQ2NjQ0MWI4YjllNDMzMzdiZDg1NGU1Myk7CiAgICAgICAgICAgIAoKICAgICAgICAgICAgbWFya2VyXzZlYTE1YWE1MjgwYzQwNDNhY2E3ZjNjNTAzYTI4NTBiLmJpbmRQb3B1cChwb3B1cF8wYTBhNDgwMTM2Y2Q0MDhjODAwNTJlOGU1NzdlZTlkNyk7CgogICAgICAgICAgICAKICAgICAgICAKICAgICAgICAKICAgICAgICAgICAgCgogICAgICAgICAgICB2YXIgbWFya2VyX2FhNTJmMjEyNTY0YTQ4MDI5MjUzOTQ2MTllMzZkMzIzID0gTC5tYXJrZXIoCiAgICAgICAgICAgICAgICBbNTEuNTI0LC0wLjEyNjQwOV0sCiAgICAgICAgICAgICAgICB7CiAgICAgICAgICAgICAgICAgICAgaWNvbjogbmV3IEwuSWNvbi5EZWZhdWx0KCkKICAgICAgICAgICAgICAgICAgICB9CiAgICAgICAgICAgICAgICApCiAgICAgICAgICAgICAgICAuYWRkVG8obWFwXzgzMTc3NWY2NGNiYjRkY2I4NmYzZjA2YTRlMWZkZjM4KTsKICAgICAgICAgICAgCiAgICAgICAgCiAgICAgICAgICAgIAogICAgICAgICAgICB2YXIgcG9wdXBfNDkxOGFhYWFhNjhiNDRkOTkxZWUwY2MxNTY4ZGI3ZWEgPSBMLnBvcHVwKHttYXhXaWR0aDogJzMwMCd9KTsKCiAgICAgICAgICAgIAogICAgICAgICAgICAgICAgdmFyIGh0bWxfMDViNWZmMWIxY2JjNDM5OWI3MzlkMTAwOTIwOWMzZjkgPSAkKCcgICAgICAgICA8ZGl2IGlkPSJodG1sXzA1YjVmZjFiMWNiYzQzOTliNzM5ZDEwMDkyMDljM2Y5IiAgICAgICAgICAgICAgICAgc3R5bGU9IndpZHRoOiAxMDAuMCU7IGhlaWdodDogMTAwLjAlOyI+ICAgICAgICAgICAgICAgICBDb3JhbSBTdHJlZXQsIEJsb29tc2J1cnk8L2Rpdj4gICAgICAgICAgICAgICAgICcpWzBdOwogICAgICAgICAgICAgICAgcG9wdXBfNDkxOGFhYWFhNjhiNDRkOTkxZWUwY2MxNTY4ZGI3ZWEuc2V0Q29udGVudChodG1sXzA1YjVmZjFiMWNiYzQzOTliNzM5ZDEwMDkyMDljM2Y5KTsKICAgICAgICAgICAgCgogICAgICAgICAgICBtYXJrZXJfYWE1MmYyMTI1NjRhNDgwMjkyNTM5NDYxOWUzNmQzMjMuYmluZFBvcHVwKHBvcHVwXzQ5MThhYWFhYTY4YjQ0ZDk5MWVlMGNjMTU2OGRiN2VhKTsKCiAgICAgICAgICAgIAogICAgICAgIAogICAgICAgIAogICAgICAgICAgICAKCiAgICAgICAgICAgIHZhciBtYXJrZXJfYjIxMTQ3NDUxMzMxNGZkZTkyZjI3Y2Y5ODQyNjIwZTMgPSBMLm1hcmtlcigKICAgICAgICAgICAgICAgIFs1MS41MzAxOTksLTAuMTIyMjk5XSwKICAgICAgICAgICAgICAgIHsKICAgICAgICAgICAgICAgICAgICBpY29uOiBuZXcgTC5JY29uLkRlZmF1bHQoKQogICAgICAgICAgICAgICAgICAgIH0KICAgICAgICAgICAgICAgICkKICAgICAgICAgICAgICAgIC5hZGRUbyhtYXBfODMxNzc1ZjY0Y2JiNGRjYjg2ZjNmMDZhNGUxZmRmMzgpOwogICAgICAgICAgICAKICAgICAgICAKICAgICAgICAgICAgCiAgICAgICAgICAgIHZhciBwb3B1cF8yZTQ1N2IzYjU5ZmY0YWU0ODZiMjAzN2YxMDlkODhjYiA9IEwucG9wdXAoe21heFdpZHRoOiAnMzAwJ30pOwoKICAgICAgICAgICAgCiAgICAgICAgICAgICAgICB2YXIgaHRtbF83ODVmNzdhYWY2MzE0Yjc0OWU5NjVkYjIxNDk3YzhlZCA9ICQoJyAgICAgICAgIDxkaXYgaWQ9Imh0bWxfNzg1Zjc3YWFmNjMxNGI3NDllOTY1ZGIyMTQ5N2M4ZWQiICAgICAgICAgICAgICAgICBzdHlsZT0id2lkdGg6IDEwMC4wJTsgaGVpZ2h0OiAxMDAuMCU7Ij4gICAgICAgICAgICAgICAgIEJpcmtlbmhlYWQgU3RyZWV0LCBLaW5nJiMzOTtzIENyb3NzPC9kaXY+ICAgICAgICAgICAgICAgICAnKVswXTsKICAgICAgICAgICAgICAgIHBvcHVwXzJlNDU3YjNiNTlmZjRhZTQ4NmIyMDM3ZjEwOWQ4OGNiLnNldENvbnRlbnQoaHRtbF83ODVmNzdhYWY2MzE0Yjc0OWU5NjVkYjIxNDk3YzhlZCk7CiAgICAgICAgICAgIAoKICAgICAgICAgICAgbWFya2VyX2IyMTE0NzQ1MTMzMTRmZGU5MmYyN2NmOTg0MjYyMGUzLmJpbmRQb3B1cChwb3B1cF8yZTQ1N2IzYjU5ZmY0YWU0ODZiMjAzN2YxMDlkODhjYik7CgogICAgICAgICAgICAKICAgICAgICAKICAgICAgICAKICAgICAgICAgICAgCgogICAgICAgICAgICB2YXIgbWFya2VyXzYyMzY0OGRhOWY3YjRkZjJhZTc0YTYwMmFjNzU4NmQ1ID0gTC5tYXJrZXIoCiAgICAgICAgICAgICAgICBbNTEuNDk3Njk4LC0wLjEzNzU5OF0sCiAgICAgICAgICAgICAgICB7CiAgICAgICAgICAgICAgICAgICAgaWNvbjogbmV3IEwuSWNvbi5EZWZhdWx0KCkKICAgICAgICAgICAgICAgICAgICB9CiAgICAgICAgICAgICAgICApCiAgICAgICAgICAgICAgICAuYWRkVG8obWFwXzgzMTc3NWY2NGNiYjRkY2I4NmYzZjA2YTRlMWZkZjM4KTsKICAgICAgICAgICAgCiAgICAgICAgCiAgICAgICAgICAgIAogICAgICAgICAgICB2YXIgcG9wdXBfM2M2YmFiNTI2MTVkNDkzMGJlYTI4ODQyZWRhYzVhYTcgPSBMLnBvcHVwKHttYXhXaWR0aDogJzMwMCd9KTsKCiAgICAgICAgICAgIAogICAgICAgICAgICAgICAgdmFyIGh0bWxfMzYwMjFlYTNkZmM0NDc4YmI0ZDA5NWU5NDY3MzM5YTggPSAkKCcgICAgICAgICA8ZGl2IGlkPSJodG1sXzM2MDIxZWEzZGZjNDQ3OGJiNGQwOTVlOTQ2NzMzOWE4IiAgICAgICAgICAgICAgICAgc3R5bGU9IndpZHRoOiAxMDAuMCU7IGhlaWdodDogMTAwLjAlOyI+ICAgICAgICAgICAgICAgICBLaW5ncyBHYXRlIEhvdXNlLCBXZXN0bWluc3RlcjwvZGl2PiAgICAgICAgICAgICAgICAgJylbMF07CiAgICAgICAgICAgICAgICBwb3B1cF8zYzZiYWI1MjYxNWQ0OTMwYmVhMjg4NDJlZGFjNWFhNy5zZXRDb250ZW50KGh0bWxfMzYwMjFlYTNkZmM0NDc4YmI0ZDA5NWU5NDY3MzM5YTgpOwogICAgICAgICAgICAKCiAgICAgICAgICAgIG1hcmtlcl82MjM2NDhkYTlmN2I0ZGYyYWU3NGE2MDJhYzc1ODZkNS5iaW5kUG9wdXAocG9wdXBfM2M2YmFiNTI2MTVkNDkzMGJlYTI4ODQyZWRhYzVhYTcpOwoKICAgICAgICAgICAgCiAgICAgICAgCiAgICAgICAgCiAgICAgICAgICAgIAoKICAgICAgICAgICAgdmFyIG1hcmtlcl9iMTU1NTNjNjU0YjE0YjI0OWNmOTA1YmU4ZDkyNTM2MiA9IEwubWFya2VyKAogICAgICAgICAgICAgICAgWzUxLjQ3NjU5LC0wLjExODI1Nl0sCiAgICAgICAgICAgICAgICB7CiAgICAgICAgICAgICAgICAgICAgaWNvbjogbmV3IEwuSWNvbi5EZWZhdWx0KCkKICAgICAgICAgICAgICAgICAgICB9CiAgICAgICAgICAgICAgICApCiAgICAgICAgICAgICAgICAuYWRkVG8obWFwXzgzMTc3NWY2NGNiYjRkY2I4NmYzZjA2YTRlMWZkZjM4KTsKICAgICAgICAgICAgCiAgICAgICAgCiAgICAgICAgICAgIAogICAgICAgICAgICB2YXIgcG9wdXBfMmQ0Mjg3NmU2YmEzNGJkMWIzYmFkODk0ZTIzMGFlNjkgPSBMLnBvcHVwKHttYXhXaWR0aDogJzMwMCd9KTsKCiAgICAgICAgICAgIAogICAgICAgICAgICAgICAgdmFyIGh0bWxfZDAzZDQ4YzE0MzliNDkyODg4MzgxMGM4Nzc1NmVmMGIgPSAkKCcgICAgICAgICA8ZGl2IGlkPSJodG1sX2QwM2Q0OGMxNDM5YjQ5Mjg4ODM4MTBjODc3NTZlZjBiIiAgICAgICAgICAgICAgICAgc3R5bGU9IndpZHRoOiAxMDAuMCU7IGhlaWdodDogMTAwLjAlOyI+ICAgICAgICAgICAgICAgICBBbGJlcnQgU3F1YXJlLCBTdG9ja3dlbGw8L2Rpdj4gICAgICAgICAgICAgICAgICcpWzBdOwogICAgICAgICAgICAgICAgcG9wdXBfMmQ0Mjg3NmU2YmEzNGJkMWIzYmFkODk0ZTIzMGFlNjkuc2V0Q29udGVudChodG1sX2QwM2Q0OGMxNDM5YjQ5Mjg4ODM4MTBjODc3NTZlZjBiKTsKICAgICAgICAgICAgCgogICAgICAgICAgICBtYXJrZXJfYjE1NTUzYzY1NGIxNGIyNDljZjkwNWJlOGQ5MjUzNjIuYmluZFBvcHVwKHBvcHVwXzJkNDI4NzZlNmJhMzRiZDFiM2JhZDg5NGUyMzBhZTY5KTsKCiAgICAgICAgICAgIAogICAgICAgIAogICAgICAgIAogICAgICAgICAgICAKCiAgICAgICAgICAgIHZhciBtYXJrZXJfNjgwMWIwYmVjNGUwNDllZjhiNzdkOGU5ZTE3OTU5NDYgPSBMLm1hcmtlcigKICAgICAgICAgICAgICAgIFs1MS41MDU0MDksLTAuMDk4MzQxXSwKICAgICAgICAgICAgICAgIHsKICAgICAgICAgICAgICAgICAgICBpY29uOiBuZXcgTC5JY29uLkRlZmF1bHQoKQogICAgICAgICAgICAgICAgICAgIH0KICAgICAgICAgICAgICAgICkKICAgICAgICAgICAgICAgIC5hZGRUbyhtYXBfODMxNzc1ZjY0Y2JiNGRjYjg2ZjNmMDZhNGUxZmRmMzgpOwogICAgICAgICAgICAKICAgICAgICAKICAgICAgICAgICAgCiAgICAgICAgICAgIHZhciBwb3B1cF9mZjg2Mzg1ZWI2ZGE0N2I3ODhmODAzNTQwODk4YjFkMCA9IEwucG9wdXAoe21heFdpZHRoOiAnMzAwJ30pOwoKICAgICAgICAgICAgCiAgICAgICAgICAgICAgICB2YXIgaHRtbF9mZjFiNzIyYmEyODI0MjBmYmQ0ZmZhMjkzNWMwM2ViOSA9ICQoJyAgICAgICAgIDxkaXYgaWQ9Imh0bWxfZmYxYjcyMmJhMjgyNDIwZmJkNGZmYTI5MzVjMDNlYjkiICAgICAgICAgICAgICAgICBzdHlsZT0id2lkdGg6IDEwMC4wJTsgaGVpZ2h0OiAxMDAuMCU7Ij4gICAgICAgICAgICAgICAgIFNvdXRod2FyayBTdHJlZXQsIEJhbmtzaWRlPC9kaXY+ICAgICAgICAgICAgICAgICAnKVswXTsKICAgICAgICAgICAgICAgIHBvcHVwX2ZmODYzODVlYjZkYTQ3Yjc4OGY4MDM1NDA4OThiMWQwLnNldENvbnRlbnQoaHRtbF9mZjFiNzIyYmEyODI0MjBmYmQ0ZmZhMjkzNWMwM2ViOSk7CiAgICAgICAgICAgIAoKICAgICAgICAgICAgbWFya2VyXzY4MDFiMGJlYzRlMDQ5ZWY4Yjc3ZDhlOWUxNzk1OTQ2LmJpbmRQb3B1cChwb3B1cF9mZjg2Mzg1ZWI2ZGE0N2I3ODhmODAzNTQwODk4YjFkMCk7CgogICAgICAgICAgICAKICAgICAgICAKICAgICAgICAKICAgICAgICAgICAgCgogICAgICAgICAgICB2YXIgbWFya2VyXzkwYWM4ZjQxMTA2MTRlNDVhNDIxMzgzNDkxNmE2ZmUwID0gTC5tYXJrZXIoCiAgICAgICAgICAgICAgICBbNTEuNTA2NzI1LC0wLjA5ODgwN10sCiAgICAgICAgICAgICAgICB7CiAgICAgICAgICAgICAgICAgICAgaWNvbjogbmV3IEwuSWNvbi5EZWZhdWx0KCkKICAgICAgICAgICAgICAgICAgICB9CiAgICAgICAgICAgICAgICApCiAgICAgICAgICAgICAgICAuYWRkVG8obWFwXzgzMTc3NWY2NGNiYjRkY2I4NmYzZjA2YTRlMWZkZjM4KTsKICAgICAgICAgICAgCiAgICAgICAgCiAgICAgICAgICAgIAogICAgICAgICAgICB2YXIgcG9wdXBfY2FjNDFkYmQyNWI4NDI3ZTgwOTI2ZGFlYmFkNmRiMWQgPSBMLnBvcHVwKHttYXhXaWR0aDogJzMwMCd9KTsKCiAgICAgICAgICAgIAogICAgICAgICAgICAgICAgdmFyIGh0bWxfZmY1YjA5OTg3ZDE0NDU2ZGEwZWQxNmZmYjAzOTVlZjEgPSAkKCcgICAgICAgICA8ZGl2IGlkPSJodG1sX2ZmNWIwOTk4N2QxNDQ1NmRhMGVkMTZmZmIwMzk1ZWYxIiAgICAgICAgICAgICAgICAgc3R5bGU9IndpZHRoOiAxMDAuMCU7IGhlaWdodDogMTAwLjAlOyI+ICAgICAgICAgICAgICAgICBUYXRlIE1vZGVybiwgQmFua3NpZGU8L2Rpdj4gICAgICAgICAgICAgICAgICcpWzBdOwogICAgICAgICAgICAgICAgcG9wdXBfY2FjNDFkYmQyNWI4NDI3ZTgwOTI2ZGFlYmFkNmRiMWQuc2V0Q29udGVudChodG1sX2ZmNWIwOTk4N2QxNDQ1NmRhMGVkMTZmZmIwMzk1ZWYxKTsKICAgICAgICAgICAgCgogICAgICAgICAgICBtYXJrZXJfOTBhYzhmNDExMDYxNGU0NWE0MjEzODM0OTE2YTZmZTAuYmluZFBvcHVwKHBvcHVwX2NhYzQxZGJkMjViODQyN2U4MDkyNmRhZWJhZDZkYjFkKTsKCiAgICAgICAgICAgIAogICAgICAgIAogICAgICAgIAogICAgICAgICAgICAKCiAgICAgICAgICAgIHZhciBtYXJrZXJfOWVmMzMyZDc0MGNhNDIwN2ExMjkxN2VlNTQzMDE0MTcgPSBMLm1hcmtlcigKICAgICAgICAgICAgICAgIFs1MS41MDU3MDMsLTAuMDI3NzcyXSwKICAgICAgICAgICAgICAgIHsKICAgICAgICAgICAgICAgICAgICBpY29uOiBuZXcgTC5JY29uLkRlZmF1bHQoKQogICAgICAgICAgICAgICAgICAgIH0KICAgICAgICAgICAgICAgICkKICAgICAgICAgICAgICAgIC5hZGRUbyhtYXBfODMxNzc1ZjY0Y2JiNGRjYjg2ZjNmMDZhNGUxZmRmMzgpOwogICAgICAgICAgICAKICAgICAgICAKICAgICAgICAgICAgCiAgICAgICAgICAgIHZhciBwb3B1cF81MWZmZWMzZGYzMmY0NTA2YjJiMTdjYTdkOWVhY2NmMCA9IEwucG9wdXAoe21heFdpZHRoOiAnMzAwJ30pOwoKICAgICAgICAgICAgCiAgICAgICAgICAgICAgICB2YXIgaHRtbF9iMGY3MjFmOGI0Mjc0NTk4YjgzODAzZjRmNDE5ZTk4MCA9ICQoJyAgICAgICAgIDxkaXYgaWQ9Imh0bWxfYjBmNzIxZjhiNDI3NDU5OGI4MzgwM2Y0ZjQxOWU5ODAiICAgICAgICAgICAgICAgICBzdHlsZT0id2lkdGg6IDEwMC4wJTsgaGVpZ2h0OiAxMDAuMCU7Ij4gICAgICAgICAgICAgICAgIFdlc3RmZXJyeSBDaXJjdXMsIENhbmFyeSBXaGFyZjwvZGl2PiAgICAgICAgICAgICAgICAgJylbMF07CiAgICAgICAgICAgICAgICBwb3B1cF81MWZmZWMzZGYzMmY0NTA2YjJiMTdjYTdkOWVhY2NmMC5zZXRDb250ZW50KGh0bWxfYjBmNzIxZjhiNDI3NDU5OGI4MzgwM2Y0ZjQxOWU5ODApOwogICAgICAgICAgICAKCiAgICAgICAgICAgIG1hcmtlcl85ZWYzMzJkNzQwY2E0MjA3YTEyOTE3ZWU1NDMwMTQxNy5iaW5kUG9wdXAocG9wdXBfNTFmZmVjM2RmMzJmNDUwNmIyYjE3Y2E3ZDllYWNjZjApOwoKICAgICAgICAgICAgCiAgICAgICAgCiAgICAgICAgCiAgICAgICAgICAgIAoKICAgICAgICAgICAgdmFyIG1hcmtlcl9kNjE1NWMwZDcxNzc0NWFiYjE3ZmZjOTk0ZWE5MjRkOSA9IEwubWFya2VyKAogICAgICAgICAgICAgICAgWzUxLjQ3MTQzMywtMC4xMjM2N10sCiAgICAgICAgICAgICAgICB7CiAgICAgICAgICAgICAgICAgICAgaWNvbjogbmV3IEwuSWNvbi5EZWZhdWx0KCkKICAgICAgICAgICAgICAgICAgICB9CiAgICAgICAgICAgICAgICApCiAgICAgICAgICAgICAgICAuYWRkVG8obWFwXzgzMTc3NWY2NGNiYjRkY2I4NmYzZjA2YTRlMWZkZjM4KTsKICAgICAgICAgICAgCiAgICAgICAgCiAgICAgICAgICAgIAogICAgICAgICAgICB2YXIgcG9wdXBfNmEzZWIzNDM5NGUwNDQ5ZTkxMGE5ZDA0OTliZmY5ZWYgPSBMLnBvcHVwKHttYXhXaWR0aDogJzMwMCd9KTsKCiAgICAgICAgICAgIAogICAgICAgICAgICAgICAgdmFyIGh0bWxfNmQ1MjA0MTMwNDFjNGQ5ZGIxMTMxYzdmMjJjY2Y5MWEgPSAkKCcgICAgICAgICA8ZGl2IGlkPSJodG1sXzZkNTIwNDEzMDQxYzRkOWRiMTEzMWM3ZjIyY2NmOTFhIiAgICAgICAgICAgICAgICAgc3R5bGU9IndpZHRoOiAxMDAuMCU7IGhlaWdodDogMTAwLjAlOyI+ICAgICAgICAgICAgICAgICBDbGFwaGFtIFJvYWQsIExpbmdoYW0gU3RyZWV0LCBTdG9ja3dlbGw8L2Rpdj4gICAgICAgICAgICAgICAgICcpWzBdOwogICAgICAgICAgICAgICAgcG9wdXBfNmEzZWIzNDM5NGUwNDQ5ZTkxMGE5ZDA0OTliZmY5ZWYuc2V0Q29udGVudChodG1sXzZkNTIwNDEzMDQxYzRkOWRiMTEzMWM3ZjIyY2NmOTFhKTsKICAgICAgICAgICAgCgogICAgICAgICAgICBtYXJrZXJfZDYxNTVjMGQ3MTc3NDVhYmIxN2ZmYzk5NGVhOTI0ZDkuYmluZFBvcHVwKHBvcHVwXzZhM2ViMzQzOTRlMDQ0OWU5MTBhOWQwNDk5YmZmOWVmKTsKCiAgICAgICAgICAgIAogICAgICAgIAogICAgICAgIAogICAgICAgICAgICAKCiAgICAgICAgICAgIHZhciBtYXJrZXJfY2YxNGYwNDIwMjc3NDJhZWExNzhhNzFkMzFjZDdhMjkgPSBMLm1hcmtlcigKICAgICAgICAgICAgICAgIFs1MS40ODEzMzUsLTAuMTM4MjEyXSwKICAgICAgICAgICAgICAgIHsKICAgICAgICAgICAgICAgICAgICBpY29uOiBuZXcgTC5JY29uLkRlZmF1bHQoKQogICAgICAgICAgICAgICAgICAgIH0KICAgICAgICAgICAgICAgICkKICAgICAgICAgICAgICAgIC5hZGRUbyhtYXBfODMxNzc1ZjY0Y2JiNGRjYjg2ZjNmMDZhNGUxZmRmMzgpOwogICAgICAgICAgICAKICAgICAgICAKICAgICAgICAgICAgCiAgICAgICAgICAgIHZhciBwb3B1cF83OWNlMmExZDFmNmI0YzhmYWNlZjJiN2IyY2ZmY2VhMCA9IEwucG9wdXAoe21heFdpZHRoOiAnMzAwJ30pOwoKICAgICAgICAgICAgCiAgICAgICAgICAgICAgICB2YXIgaHRtbF84ZWNhN2FmOGY5MWI0YjVhODI5NGY1MjE4NjA1ZDE0MSA9ICQoJyAgICAgICAgIDxkaXYgaWQ9Imh0bWxfOGVjYTdhZjhmOTFiNGI1YTgyOTRmNTIxODYwNWQxNDEiICAgICAgICAgICAgICAgICBzdHlsZT0id2lkdGg6IDEwMC4wJTsgaGVpZ2h0OiAxMDAuMCU7Ij4gICAgICAgICAgICAgICAgIFJpdmVybGlnaHQgU291dGgsIE5pbmUgRWxtczwvZGl2PiAgICAgICAgICAgICAgICAgJylbMF07CiAgICAgICAgICAgICAgICBwb3B1cF83OWNlMmExZDFmNmI0YzhmYWNlZjJiN2IyY2ZmY2VhMC5zZXRDb250ZW50KGh0bWxfOGVjYTdhZjhmOTFiNGI1YTgyOTRmNTIxODYwNWQxNDEpOwogICAgICAgICAgICAKCiAgICAgICAgICAgIG1hcmtlcl9jZjE0ZjA0MjAyNzc0MmFlYTE3OGE3MWQzMWNkN2EyOS5iaW5kUG9wdXAocG9wdXBfNzljZTJhMWQxZjZiNGM4ZmFjZWYyYjdiMmNmZmNlYTApOwoKICAgICAgICAgICAgCiAgICAgICAgCiAgICAgICAgCiAgICAgICAgICAgIAoKICAgICAgICAgICAgdmFyIG1hcmtlcl84YTFmNDFhY2IwNjY0NTZhODJhYTlhNGRiYmY1MjE1ZiA9IEwubWFya2VyKAogICAgICAgICAgICAgICAgWzUxLjQ4OTQ3OSwtMC4xMTUxNTZdLAogICAgICAgICAgICAgICAgewogICAgICAgICAgICAgICAgICAgIGljb246IG5ldyBMLkljb24uRGVmYXVsdCgpCiAgICAgICAgICAgICAgICAgICAgfQogICAgICAgICAgICAgICAgKQogICAgICAgICAgICAgICAgLmFkZFRvKG1hcF84MzE3NzVmNjRjYmI0ZGNiODZmM2YwNmE0ZTFmZGYzOCk7CiAgICAgICAgICAgIAogICAgICAgIAogICAgICAgICAgICAKICAgICAgICAgICAgdmFyIHBvcHVwX2YxODRiMTYwNjYzODQ4ZDFiY2JmYzE3N2VmMjAwOTE3ID0gTC5wb3B1cCh7bWF4V2lkdGg6ICczMDAnfSk7CgogICAgICAgICAgICAKICAgICAgICAgICAgICAgIHZhciBodG1sXzM1NWU3NDA5YjYyMzQ3MzRhN2Y0MDgyZmUyNTA3MDY2ID0gJCgnICAgICAgICAgPGRpdiBpZD0iaHRtbF8zNTVlNzQwOWI2MjM0NzM0YTdmNDA4MmZlMjUwNzA2NiIgICAgICAgICAgICAgICAgIHN0eWxlPSJ3aWR0aDogMTAwLjAlOyBoZWlnaHQ6IDEwMC4wJTsiPiAgICAgICAgICAgICAgICAgU2FuY3JvZnQgU3RyZWV0LCBWYXV4aGFsbDwvZGl2PiAgICAgICAgICAgICAgICAgJylbMF07CiAgICAgICAgICAgICAgICBwb3B1cF9mMTg0YjE2MDY2Mzg0OGQxYmNiZmMxNzdlZjIwMDkxNy5zZXRDb250ZW50KGh0bWxfMzU1ZTc0MDliNjIzNDczNGE3ZjQwODJmZTI1MDcwNjYpOwogICAgICAgICAgICAKCiAgICAgICAgICAgIG1hcmtlcl84YTFmNDFhY2IwNjY0NTZhODJhYTlhNGRiYmY1MjE1Zi5iaW5kUG9wdXAocG9wdXBfZjE4NGIxNjA2NjM4NDhkMWJjYmZjMTc3ZWYyMDA5MTcpOwoKICAgICAgICAgICAgCiAgICAgICAgCiAgICAgICAgCiAgICAgICAgICAgIAoKICAgICAgICAgICAgdmFyIG1hcmtlcl9hYTFkYTk4Mzk1MzM0M2Y0YWFlODVmNTFiNDRmYmM3MSA9IEwubWFya2VyKAogICAgICAgICAgICAgICAgWzUxLjUwNzM4NSwtMC4wOTY0NF0sCiAgICAgICAgICAgICAgICB7CiAgICAgICAgICAgICAgICAgICAgaWNvbjogbmV3IEwuSWNvbi5EZWZhdWx0KCkKICAgICAgICAgICAgICAgICAgICB9CiAgICAgICAgICAgICAgICApCiAgICAgICAgICAgICAgICAuYWRkVG8obWFwXzgzMTc3NWY2NGNiYjRkY2I4NmYzZjA2YTRlMWZkZjM4KTsKICAgICAgICAgICAgCiAgICAgICAgCiAgICAgICAgICAgIAogICAgICAgICAgICB2YXIgcG9wdXBfNzcwMWMxZWMxZjljNGZjYThmODcxZDVjNjY0YjdhMzYgPSBMLnBvcHVwKHttYXhXaWR0aDogJzMwMCd9KTsKCiAgICAgICAgICAgIAogICAgICAgICAgICAgICAgdmFyIGh0bWxfYzkzNGVlMjY5ZmIxNGQzM2I1NTI1MDYwMmQ1OWRjMGQgPSAkKCcgICAgICAgICA8ZGl2IGlkPSJodG1sX2M5MzRlZTI2OWZiMTRkMzNiNTUyNTA2MDJkNTlkYzBkIiAgICAgICAgICAgICAgICAgc3R5bGU9IndpZHRoOiAxMDAuMCU7IGhlaWdodDogMTAwLjAlOyI+ICAgICAgICAgICAgICAgICBOZXcgR2xvYmUgV2FsaywgQmFua3NpZGU8L2Rpdj4gICAgICAgICAgICAgICAgICcpWzBdOwogICAgICAgICAgICAgICAgcG9wdXBfNzcwMWMxZWMxZjljNGZjYThmODcxZDVjNjY0YjdhMzYuc2V0Q29udGVudChodG1sX2M5MzRlZTI2OWZiMTRkMzNiNTUyNTA2MDJkNTlkYzBkKTsKICAgICAgICAgICAgCgogICAgICAgICAgICBtYXJrZXJfYWExZGE5ODM5NTMzNDNmNGFhZTg1ZjUxYjQ0ZmJjNzEuYmluZFBvcHVwKHBvcHVwXzc3MDFjMWVjMWY5YzRmY2E4Zjg3MWQ1YzY2NGI3YTM2KTsKCiAgICAgICAgICAgIAogICAgICAgIAogICAgICAgIAogICAgICAgIAogICAgICAgIDwvc2NyaXB0PgogICAgICAgIA==\" style=\"position:absolute;width:100%;height:100%;left:0;top:0;\"></iframe></div></div>"
      ],
      "text/plain": [
       "<folium.folium.Map at 0x7fdf54d9d510>"
      ]
     },
     "execution_count": 423,
     "metadata": {},
     "output_type": "execute_result"
    }
   ],
   "source": [
    "weekend_readings = missing_days_readings[missing_days_readings['Weekday'] > 4]\n",
    "missing_dayreadings_stn = stations_dataset[stations_dataset['Id'].isin(weekend_readings['Id'].unique())]\n",
    "draw_stations_map(missing_dayreadings_stn)"
   ]
  },
  {
   "cell_type": "markdown",
   "metadata": {
    "collapsed": true
   },
   "source": [
    "Stations with no readings in at least one day during weekdays"
   ]
  },
  {
   "cell_type": "code",
   "execution_count": 424,
   "metadata": {
    "collapsed": false,
    "scrolled": false
   },
   "outputs": [
    {
     "data": {
      "text/html": [
       "<div style=\"width:100%;\"><div style=\"position:relative;width:100%;height:0;padding-bottom:60%;\"><iframe src=\"data:text/html;base64,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\" style=\"position:absolute;width:100%;height:100%;left:0;top:0;\"></iframe></div></div>"
      ],
      "text/plain": [
       "<folium.folium.Map at 0x7fdf57891690>"
      ]
     },
     "execution_count": 424,
     "metadata": {},
     "output_type": "execute_result"
    }
   ],
   "source": [
    "weekday_readings = missing_days_readings[missing_days_readings['Weekday'] < 5]\n",
    "missing_dayreadings_stn = stations_dataset[stations_dataset['Id'].isin(weekday_readings['Id'].unique())]\n",
    "draw_stations_map(missing_dayreadings_stn)"
   ]
  },
  {
   "cell_type": "markdown",
   "metadata": {},
   "source": [
    "Observations:\n",
    "* There are 29 stations that do not have readings in at least one day\n",
    "* There were more stations without readings during May than in June\n",
    "* Other than that, there is no visible pattern"
   ]
  },
  {
   "cell_type": "markdown",
   "metadata": {},
   "source": [
    "#### Discard Non Relevant Data"
   ]
  },
  {
   "cell_type": "code",
   "execution_count": 425,
   "metadata": {
    "collapsed": false
   },
   "outputs": [],
   "source": [
    "hour = readings_dataset['Timestamp'].apply(lambda x: x.hour)\n",
    "selector = (hour < 7) | (hour > 22)\n",
    "readings_dataset.drop(readings_dataset[selector].index, inplace=True)"
   ]
  },
  {
   "cell_type": "markdown",
   "metadata": {
    "collapsed": true
   },
   "source": [
    "## Build Datasets\n",
    "### Readings"
   ]
  },
  {
   "cell_type": "code",
   "execution_count": 426,
   "metadata": {
    "collapsed": true
   },
   "outputs": [],
   "source": [
    "readings_dataset.reset_index(inplace=True, drop=True)"
   ]
  },
  {
   "cell_type": "code",
   "execution_count": 427,
   "metadata": {
    "collapsed": false
   },
   "outputs": [
    {
     "data": {
      "text/html": [
       "<div>\n",
       "<table border=\"1\" class=\"dataframe\">\n",
       "  <thead>\n",
       "    <tr style=\"text-align: right;\">\n",
       "      <th></th>\n",
       "      <th>Id</th>\n",
       "      <th>Timestamp</th>\n",
       "      <th>NbBikes</th>\n",
       "      <th>NbDocks</th>\n",
       "      <th>NbEmptyDocks</th>\n",
       "      <th>NbUnusableDocks</th>\n",
       "    </tr>\n",
       "  </thead>\n",
       "  <tbody>\n",
       "    <tr>\n",
       "      <th>0</th>\n",
       "      <td>BikePoints_292</td>\n",
       "      <td>2016-05-16 07:01:29.163</td>\n",
       "      <td>9</td>\n",
       "      <td>16</td>\n",
       "      <td>7</td>\n",
       "      <td>0</td>\n",
       "    </tr>\n",
       "    <tr>\n",
       "      <th>1</th>\n",
       "      <td>BikePoints_594</td>\n",
       "      <td>2016-05-16 07:01:29.163</td>\n",
       "      <td>7</td>\n",
       "      <td>33</td>\n",
       "      <td>26</td>\n",
       "      <td>0</td>\n",
       "    </tr>\n",
       "    <tr>\n",
       "      <th>2</th>\n",
       "      <td>BikePoints_244</td>\n",
       "      <td>2016-05-16 07:01:29.163</td>\n",
       "      <td>12</td>\n",
       "      <td>18</td>\n",
       "      <td>6</td>\n",
       "      <td>0</td>\n",
       "    </tr>\n",
       "    <tr>\n",
       "      <th>3</th>\n",
       "      <td>BikePoints_592</td>\n",
       "      <td>2016-05-16 07:01:29.163</td>\n",
       "      <td>10</td>\n",
       "      <td>20</td>\n",
       "      <td>10</td>\n",
       "      <td>0</td>\n",
       "    </tr>\n",
       "    <tr>\n",
       "      <th>4</th>\n",
       "      <td>BikePoints_586</td>\n",
       "      <td>2016-05-16 07:01:29.163</td>\n",
       "      <td>28</td>\n",
       "      <td>31</td>\n",
       "      <td>1</td>\n",
       "      <td>2</td>\n",
       "    </tr>\n",
       "  </tbody>\n",
       "</table>\n",
       "</div>"
      ],
      "text/plain": [
       "               Id               Timestamp  NbBikes  NbDocks  NbEmptyDocks  \\\n",
       "0  BikePoints_292 2016-05-16 07:01:29.163        9       16             7   \n",
       "1  BikePoints_594 2016-05-16 07:01:29.163        7       33            26   \n",
       "2  BikePoints_244 2016-05-16 07:01:29.163       12       18             6   \n",
       "3  BikePoints_592 2016-05-16 07:01:29.163       10       20            10   \n",
       "4  BikePoints_586 2016-05-16 07:01:29.163       28       31             1   \n",
       "\n",
       "   NbUnusableDocks  \n",
       "0                0  \n",
       "1                0  \n",
       "2                0  \n",
       "3                0  \n",
       "4                2  "
      ]
     },
     "execution_count": 427,
     "metadata": {},
     "output_type": "execute_result"
    }
   ],
   "source": [
    "readings_dataset.head()"
   ]
  },
  {
   "cell_type": "code",
   "execution_count": 428,
   "metadata": {
    "collapsed": false
   },
   "outputs": [
    {
     "data": {
      "text/html": [
       "<div>\n",
       "<table border=\"1\" class=\"dataframe\">\n",
       "  <thead>\n",
       "    <tr style=\"text-align: right;\">\n",
       "      <th></th>\n",
       "      <th>NbBikes</th>\n",
       "      <th>NbDocks</th>\n",
       "      <th>NbEmptyDocks</th>\n",
       "      <th>NbUnusableDocks</th>\n",
       "    </tr>\n",
       "  </thead>\n",
       "  <tbody>\n",
       "    <tr>\n",
       "      <th>count</th>\n",
       "      <td>739335.000000</td>\n",
       "      <td>739335.000000</td>\n",
       "      <td>739335.000000</td>\n",
       "      <td>739335.000000</td>\n",
       "    </tr>\n",
       "    <tr>\n",
       "      <th>mean</th>\n",
       "      <td>12.405612</td>\n",
       "      <td>26.949019</td>\n",
       "      <td>13.961618</td>\n",
       "      <td>0.581789</td>\n",
       "    </tr>\n",
       "    <tr>\n",
       "      <th>std</th>\n",
       "      <td>9.062923</td>\n",
       "      <td>9.504919</td>\n",
       "      <td>9.464680</td>\n",
       "      <td>0.918312</td>\n",
       "    </tr>\n",
       "    <tr>\n",
       "      <th>min</th>\n",
       "      <td>0.000000</td>\n",
       "      <td>0.000000</td>\n",
       "      <td>0.000000</td>\n",
       "      <td>0.000000</td>\n",
       "    </tr>\n",
       "    <tr>\n",
       "      <th>25%</th>\n",
       "      <td>5.000000</td>\n",
       "      <td>20.000000</td>\n",
       "      <td>7.000000</td>\n",
       "      <td>0.000000</td>\n",
       "    </tr>\n",
       "    <tr>\n",
       "      <th>50%</th>\n",
       "      <td>11.000000</td>\n",
       "      <td>25.000000</td>\n",
       "      <td>13.000000</td>\n",
       "      <td>0.000000</td>\n",
       "    </tr>\n",
       "    <tr>\n",
       "      <th>75%</th>\n",
       "      <td>18.000000</td>\n",
       "      <td>33.000000</td>\n",
       "      <td>19.000000</td>\n",
       "      <td>1.000000</td>\n",
       "    </tr>\n",
       "    <tr>\n",
       "      <th>max</th>\n",
       "      <td>61.000000</td>\n",
       "      <td>64.000000</td>\n",
       "      <td>64.000000</td>\n",
       "      <td>38.000000</td>\n",
       "    </tr>\n",
       "  </tbody>\n",
       "</table>\n",
       "</div>"
      ],
      "text/plain": [
       "             NbBikes        NbDocks   NbEmptyDocks  NbUnusableDocks\n",
       "count  739335.000000  739335.000000  739335.000000    739335.000000\n",
       "mean       12.405612      26.949019      13.961618         0.581789\n",
       "std         9.062923       9.504919       9.464680         0.918312\n",
       "min         0.000000       0.000000       0.000000         0.000000\n",
       "25%         5.000000      20.000000       7.000000         0.000000\n",
       "50%        11.000000      25.000000      13.000000         0.000000\n",
       "75%        18.000000      33.000000      19.000000         1.000000\n",
       "max        61.000000      64.000000      64.000000        38.000000"
      ]
     },
     "execution_count": 428,
     "metadata": {},
     "output_type": "execute_result"
    }
   ],
   "source": [
    "readings_dataset.describe()"
   ]
  },
  {
   "cell_type": "code",
   "execution_count": 429,
   "metadata": {
    "collapsed": false
   },
   "outputs": [
    {
     "name": "stdout",
     "output_type": "stream",
     "text": [
      "<class 'pandas.core.frame.DataFrame'>\n",
      "RangeIndex: 739335 entries, 0 to 739334\n",
      "Data columns (total 6 columns):\n",
      "Id                 739335 non-null object\n",
      "Timestamp          739335 non-null datetime64[ns]\n",
      "NbBikes            739335 non-null uint16\n",
      "NbDocks            739335 non-null uint16\n",
      "NbEmptyDocks       739335 non-null uint16\n",
      "NbUnusableDocks    739335 non-null uint16\n",
      "dtypes: datetime64[ns](1), object(1), uint16(4)\n",
      "memory usage: 92.6 MB\n"
     ]
    }
   ],
   "source": [
    "readings_dataset.info(memory_usage='deep')"
   ]
  },
  {
   "cell_type": "code",
   "execution_count": 430,
   "metadata": {
    "collapsed": true
   },
   "outputs": [],
   "source": [
    "pickle.dump(readings_dataset, open(\"data/parsed/readings_dataset_final.p\", \"wb\"))"
   ]
  },
  {
   "cell_type": "markdown",
   "metadata": {},
   "source": [
    "### Stations"
   ]
  },
  {
   "cell_type": "code",
   "execution_count": 431,
   "metadata": {
    "collapsed": true
   },
   "outputs": [],
   "source": [
    "stations_dataset.reset_index(inplace=True, drop=True)"
   ]
  },
  {
   "cell_type": "code",
   "execution_count": 432,
   "metadata": {
    "collapsed": false
   },
   "outputs": [
    {
     "data": {
      "text/html": [
       "<div>\n",
       "<table border=\"1\" class=\"dataframe\">\n",
       "  <thead>\n",
       "    <tr style=\"text-align: right;\">\n",
       "      <th></th>\n",
       "      <th>Id</th>\n",
       "      <th>Name</th>\n",
       "      <th>TerminalName</th>\n",
       "      <th>PlaceType</th>\n",
       "      <th>Latitude</th>\n",
       "      <th>Longitude</th>\n",
       "      <th>Installed</th>\n",
       "      <th>Temporary</th>\n",
       "      <th>Locked</th>\n",
       "      <th>RemovalDate</th>\n",
       "      <th>InstallDate</th>\n",
       "      <th>ShortName</th>\n",
       "      <th>Priority</th>\n",
       "    </tr>\n",
       "  </thead>\n",
       "  <tbody>\n",
       "    <tr>\n",
       "      <th>0</th>\n",
       "      <td>BikePoints_1</td>\n",
       "      <td>River Street , Clerkenwell</td>\n",
       "      <td>001023</td>\n",
       "      <td>BikePoint</td>\n",
       "      <td>51.529163</td>\n",
       "      <td>-0.109970</td>\n",
       "      <td>True</td>\n",
       "      <td>False</td>\n",
       "      <td>False</td>\n",
       "      <td>NaT</td>\n",
       "      <td>2010-07-12 15:08:00</td>\n",
       "      <td>River Street</td>\n",
       "      <td>2</td>\n",
       "    </tr>\n",
       "    <tr>\n",
       "      <th>1</th>\n",
       "      <td>BikePoints_10</td>\n",
       "      <td>Park Street, Bankside</td>\n",
       "      <td>001024</td>\n",
       "      <td>BikePoint</td>\n",
       "      <td>51.505974</td>\n",
       "      <td>-0.092754</td>\n",
       "      <td>True</td>\n",
       "      <td>False</td>\n",
       "      <td>False</td>\n",
       "      <td>NaT</td>\n",
       "      <td>2010-07-04 11:21:00</td>\n",
       "      <td>Park Street</td>\n",
       "      <td>2</td>\n",
       "    </tr>\n",
       "    <tr>\n",
       "      <th>2</th>\n",
       "      <td>BikePoints_100</td>\n",
       "      <td>Albert Embankment, Vauxhall</td>\n",
       "      <td>001059</td>\n",
       "      <td>BikePoint</td>\n",
       "      <td>51.490435</td>\n",
       "      <td>-0.122806</td>\n",
       "      <td>True</td>\n",
       "      <td>False</td>\n",
       "      <td>False</td>\n",
       "      <td>NaT</td>\n",
       "      <td>2010-07-14 09:31:00</td>\n",
       "      <td>Albert Embankment</td>\n",
       "      <td>2</td>\n",
       "    </tr>\n",
       "    <tr>\n",
       "      <th>3</th>\n",
       "      <td>BikePoints_101</td>\n",
       "      <td>Queen Street 1, Bank</td>\n",
       "      <td>000999</td>\n",
       "      <td>BikePoint</td>\n",
       "      <td>51.511553</td>\n",
       "      <td>-0.092940</td>\n",
       "      <td>True</td>\n",
       "      <td>False</td>\n",
       "      <td>False</td>\n",
       "      <td>NaT</td>\n",
       "      <td>2010-07-14 10:18:00</td>\n",
       "      <td>Queen Street</td>\n",
       "      <td>1</td>\n",
       "    </tr>\n",
       "    <tr>\n",
       "      <th>4</th>\n",
       "      <td>BikePoints_102</td>\n",
       "      <td>Jewry Street, Aldgate</td>\n",
       "      <td>001045</td>\n",
       "      <td>BikePoint</td>\n",
       "      <td>51.513406</td>\n",
       "      <td>-0.076793</td>\n",
       "      <td>True</td>\n",
       "      <td>False</td>\n",
       "      <td>False</td>\n",
       "      <td>NaT</td>\n",
       "      <td>2010-07-14 10:21:00</td>\n",
       "      <td>Jewry Street</td>\n",
       "      <td>2</td>\n",
       "    </tr>\n",
       "  </tbody>\n",
       "</table>\n",
       "</div>"
      ],
      "text/plain": [
       "               Id                         Name TerminalName  PlaceType  \\\n",
       "0    BikePoints_1   River Street , Clerkenwell       001023  BikePoint   \n",
       "1   BikePoints_10        Park Street, Bankside       001024  BikePoint   \n",
       "2  BikePoints_100  Albert Embankment, Vauxhall       001059  BikePoint   \n",
       "3  BikePoints_101         Queen Street 1, Bank       000999  BikePoint   \n",
       "4  BikePoints_102        Jewry Street, Aldgate       001045  BikePoint   \n",
       "\n",
       "    Latitude  Longitude Installed Temporary Locked RemovalDate  \\\n",
       "0  51.529163  -0.109970      True     False  False         NaT   \n",
       "1  51.505974  -0.092754      True     False  False         NaT   \n",
       "2  51.490435  -0.122806      True     False  False         NaT   \n",
       "3  51.511553  -0.092940      True     False  False         NaT   \n",
       "4  51.513406  -0.076793      True     False  False         NaT   \n",
       "\n",
       "          InstallDate          ShortName Priority  \n",
       "0 2010-07-12 15:08:00       River Street        2  \n",
       "1 2010-07-04 11:21:00        Park Street        2  \n",
       "2 2010-07-14 09:31:00  Albert Embankment        2  \n",
       "3 2010-07-14 10:18:00       Queen Street        1  \n",
       "4 2010-07-14 10:21:00       Jewry Street        2  "
      ]
     },
     "execution_count": 432,
     "metadata": {},
     "output_type": "execute_result"
    }
   ],
   "source": [
    "stations_dataset.head()"
   ]
  },
  {
   "cell_type": "code",
   "execution_count": 433,
   "metadata": {
    "collapsed": false
   },
   "outputs": [
    {
     "data": {
      "text/html": [
       "<div>\n",
       "<table border=\"1\" class=\"dataframe\">\n",
       "  <thead>\n",
       "    <tr style=\"text-align: right;\">\n",
       "      <th></th>\n",
       "      <th>Latitude</th>\n",
       "      <th>Longitude</th>\n",
       "    </tr>\n",
       "  </thead>\n",
       "  <tbody>\n",
       "    <tr>\n",
       "      <th>count</th>\n",
       "      <td>775.000000</td>\n",
       "      <td>775.000000</td>\n",
       "    </tr>\n",
       "    <tr>\n",
       "      <th>mean</th>\n",
       "      <td>51.505924</td>\n",
       "      <td>-0.129238</td>\n",
       "    </tr>\n",
       "    <tr>\n",
       "      <th>std</th>\n",
       "      <td>0.020009</td>\n",
       "      <td>0.055518</td>\n",
       "    </tr>\n",
       "    <tr>\n",
       "      <th>min</th>\n",
       "      <td>51.454752</td>\n",
       "      <td>-0.236769</td>\n",
       "    </tr>\n",
       "    <tr>\n",
       "      <th>25%</th>\n",
       "      <td>51.493194</td>\n",
       "      <td>-0.173343</td>\n",
       "    </tr>\n",
       "    <tr>\n",
       "      <th>50%</th>\n",
       "      <td>51.509230</td>\n",
       "      <td>-0.132102</td>\n",
       "    </tr>\n",
       "    <tr>\n",
       "      <th>75%</th>\n",
       "      <td>51.520849</td>\n",
       "      <td>-0.092940</td>\n",
       "    </tr>\n",
       "    <tr>\n",
       "      <th>max</th>\n",
       "      <td>51.549369</td>\n",
       "      <td>-0.002275</td>\n",
       "    </tr>\n",
       "  </tbody>\n",
       "</table>\n",
       "</div>"
      ],
      "text/plain": [
       "         Latitude   Longitude\n",
       "count  775.000000  775.000000\n",
       "mean    51.505924   -0.129238\n",
       "std      0.020009    0.055518\n",
       "min     51.454752   -0.236769\n",
       "25%     51.493194   -0.173343\n",
       "50%     51.509230   -0.132102\n",
       "75%     51.520849   -0.092940\n",
       "max     51.549369   -0.002275"
      ]
     },
     "execution_count": 433,
     "metadata": {},
     "output_type": "execute_result"
    }
   ],
   "source": [
    "stations_dataset.describe()"
   ]
  },
  {
   "cell_type": "code",
   "execution_count": 434,
   "metadata": {
    "collapsed": false
   },
   "outputs": [
    {
     "name": "stdout",
     "output_type": "stream",
     "text": [
      "<class 'pandas.core.frame.DataFrame'>\n",
      "RangeIndex: 775 entries, 0 to 774\n",
      "Data columns (total 13 columns):\n",
      "Id              775 non-null object\n",
      "Name            775 non-null object\n",
      "TerminalName    775 non-null object\n",
      "PlaceType       775 non-null object\n",
      "Latitude        775 non-null float64\n",
      "Longitude       775 non-null float64\n",
      "Installed       775 non-null bool\n",
      "Temporary       775 non-null bool\n",
      "Locked          775 non-null bool\n",
      "RemovalDate     3 non-null datetime64[ns]\n",
      "InstallDate     684 non-null datetime64[ns]\n",
      "ShortName       775 non-null object\n",
      "Priority        741 non-null object\n",
      "dtypes: bool(3), datetime64[ns](2), float64(2), object(6)\n",
      "memory usage: 493.6 KB\n"
     ]
    }
   ],
   "source": [
    "stations_dataset.info(memory_usage='deep')"
   ]
  },
  {
   "cell_type": "code",
   "execution_count": 435,
   "metadata": {
    "collapsed": true
   },
   "outputs": [],
   "source": [
    "pickle.dump(stations_dataset, open(\"data/parsed/stations_dataset_final.p\", \"wb\"))"
   ]
  },
  {
   "cell_type": "code",
   "execution_count": null,
   "metadata": {
    "collapsed": true
   },
   "outputs": [],
   "source": []
  }
 ],
 "metadata": {
  "kernelspec": {
   "display_name": "Python 2",
   "language": "python",
   "name": "python2"
  },
  "language_info": {
   "codemirror_mode": {
    "name": "ipython",
    "version": 2
   },
   "file_extension": ".py",
   "mimetype": "text/x-python",
   "name": "python",
   "nbconvert_exporter": "python",
   "pygments_lexer": "ipython2",
   "version": "2.7.11"
  }
 },
 "nbformat": 4,
 "nbformat_minor": 0
}
