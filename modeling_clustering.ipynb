{
 "cells": [
  {
   "cell_type": "code",
   "execution_count": 1,
   "metadata": {
    "collapsed": true
   },
   "outputs": [],
   "source": [
    "%matplotlib inline\n",
    "\n",
    "import math\n",
    "import pytz \n",
    "import time\n",
    "import pandas as pd\n",
    "import numpy as np\n",
    "import seaborn as sns\n",
    "from datetime import datetime\n",
    "import matplotlib.pyplot as plt\n",
    "import cPickle as pickle"
   ]
  },
  {
   "cell_type": "code",
   "execution_count": 2,
   "metadata": {
    "collapsed": true
   },
   "outputs": [],
   "source": [
    "%run src/data/helper.py"
   ]
  },
  {
   "cell_type": "code",
   "execution_count": 3,
   "metadata": {
    "collapsed": true
   },
   "outputs": [],
   "source": [
    "%run src/data/visualization.py"
   ]
  },
  {
   "cell_type": "code",
   "execution_count": 4,
   "metadata": {
    "collapsed": false
   },
   "outputs": [
    {
     "name": "stdout",
     "output_type": "stream",
     "text": [
      "Opening redistribution data took 307.107703924\n"
     ]
    }
   ],
   "source": [
    "start_time = time.time()\n",
    "\n",
    "stations = pickle.load(open('data/parsed/stations_dataset_final.p', 'rb'))\n",
    "readings = pickle.load(open('data/parsed/readings_clean.p', \"rb\"))\n",
    "\n",
    "end_time = time.time()\n",
    "print 'Opening redistribution data took %s' % (end_time - start_time)"
   ]
  },
  {
   "cell_type": "markdown",
   "metadata": {},
   "source": [
    "## DayViews"
   ]
  },
  {
   "cell_type": "code",
   "execution_count": 25,
   "metadata": {
    "collapsed": false
   },
   "outputs": [],
   "source": [
    "readings['NAB'] = readings.NbBikes / (readings.NbBikes + readings.NbEmptyDocks)\n",
    "readings['NAS'] = (readings.NbBikesTMinus1 - readings.NbBikes).apply(math.fabs) / (readings.NbBikes + readings.NbEmptyDocks)"
   ]
  },
  {
   "cell_type": "code",
   "execution_count": 26,
   "metadata": {
    "collapsed": true
   },
   "outputs": [],
   "source": [
    "dayviews = readings.query('Holiday == 0')[['NAB', 'NAS', 'TimeOfDay','Weekday']].dropna().reset_index().groupby(['Weekday', 'Id', 'TimeOfDay']).mean()"
   ]
  },
  {
   "cell_type": "markdown",
   "metadata": {},
   "source": [
    "Use NAS data for weekdays and non-holidays to find clusters"
   ]
  },
  {
   "cell_type": "code",
   "execution_count": 27,
   "metadata": {
    "collapsed": true
   },
   "outputs": [],
   "source": [
    "data = dayviews.unstack().loc[1].NAS"
   ]
  },
  {
   "cell_type": "markdown",
   "metadata": {},
   "source": [
    "## Distance Metric"
   ]
  },
  {
   "cell_type": "code",
   "execution_count": 28,
   "metadata": {
    "collapsed": true
   },
   "outputs": [],
   "source": [
    "from cdtw import cdtw_sakoe_chiba\n",
    "\n",
    "def dtw_sakoe_chiba(a,b):\n",
    "    return cdtw_sakoe_chiba(a, b, 12)"
   ]
  },
  {
   "cell_type": "markdown",
   "metadata": {},
   "source": [
    "## PreCompute Distances"
   ]
  },
  {
   "cell_type": "code",
   "execution_count": 29,
   "metadata": {
    "collapsed": false
   },
   "outputs": [],
   "source": [
    "from scipy.spatial.distance import pdist,squareform\n",
    "\n",
    "dist_condensed = pdist(data.values, dtw_sakoe_chiba)\n",
    "dist_matrix = squareform(dist_condensed)"
   ]
  },
  {
   "cell_type": "markdown",
   "metadata": {},
   "source": [
    "## Cluster"
   ]
  },
  {
   "cell_type": "code",
   "execution_count": 262,
   "metadata": {
    "collapsed": true
   },
   "outputs": [],
   "source": [
    "from sklearn.cluster import AgglomerativeClustering\n",
    "\n",
    "agg_clustering = AgglomerativeClustering(n_clusters=6, affinity='precomputed', linkage=\"complete\")\n",
    "clusters = pd.Series(agg_clustering.fit_predict(dist_matrix), index=data.index)"
   ]
  },
  {
   "cell_type": "markdown",
   "metadata": {},
   "source": [
    "## Analysis"
   ]
  },
  {
   "cell_type": "code",
   "execution_count": 263,
   "metadata": {
    "collapsed": false
   },
   "outputs": [],
   "source": [
    "cluster_counts = clusters.value_counts().rename('StationsInCluster').to_frame()"
   ]
  },
  {
   "cell_type": "code",
   "execution_count": 264,
   "metadata": {
    "collapsed": false,
    "scrolled": true
   },
   "outputs": [],
   "source": [
    "stations_df = stations.copy().set_index('Id')\n",
    "stations_df.Priority.fillna(3, inplace=True)\n",
    "\n",
    "clusters_df = add_station_info(clusters.to_frame('Cluster'), stations_df, use_indexes=True)\n",
    "clusters_df = clusters_df.merge(cluster_counts, how='inner', left_on='Cluster', right_index=True)"
   ]
  },
  {
   "cell_type": "code",
   "execution_count": 265,
   "metadata": {
    "collapsed": false
   },
   "outputs": [
    {
     "name": "stdout",
     "output_type": "stream",
     "text": [
      "56.25\n"
     ]
    },
    {
     "data": {
      "text/html": [
       "<div>\n",
       "<table border=\"1\" class=\"dataframe\">\n",
       "  <thead>\n",
       "    <tr style=\"text-align: right;\">\n",
       "      <th></th>\n",
       "      <th></th>\n",
       "      <th>StationsInCluster</th>\n",
       "      <th>Name</th>\n",
       "      <th>Percentage</th>\n",
       "    </tr>\n",
       "    <tr>\n",
       "      <th>Priority</th>\n",
       "      <th>Cluster</th>\n",
       "      <th></th>\n",
       "      <th></th>\n",
       "      <th></th>\n",
       "    </tr>\n",
       "  </thead>\n",
       "  <tbody>\n",
       "    <tr>\n",
       "      <th rowspan=\"2\" valign=\"top\">3</th>\n",
       "      <th>0</th>\n",
       "      <td>442</td>\n",
       "      <td>13</td>\n",
       "      <td>2.941176</td>\n",
       "    </tr>\n",
       "    <tr>\n",
       "      <th>3</th>\n",
       "      <td>287</td>\n",
       "      <td>25</td>\n",
       "      <td>8.710801</td>\n",
       "    </tr>\n",
       "    <tr>\n",
       "      <th rowspan=\"6\" valign=\"top\">1</th>\n",
       "      <th>0</th>\n",
       "      <td>442</td>\n",
       "      <td>47</td>\n",
       "      <td>10.633484</td>\n",
       "    </tr>\n",
       "    <tr>\n",
       "      <th>1</th>\n",
       "      <td>32</td>\n",
       "      <td>18</td>\n",
       "      <td>56.250000</td>\n",
       "    </tr>\n",
       "    <tr>\n",
       "      <th>2</th>\n",
       "      <td>7</td>\n",
       "      <td>7</td>\n",
       "      <td>100.000000</td>\n",
       "    </tr>\n",
       "    <tr>\n",
       "      <th>3</th>\n",
       "      <td>287</td>\n",
       "      <td>2</td>\n",
       "      <td>0.696864</td>\n",
       "    </tr>\n",
       "    <tr>\n",
       "      <th>4</th>\n",
       "      <td>2</td>\n",
       "      <td>2</td>\n",
       "      <td>100.000000</td>\n",
       "    </tr>\n",
       "    <tr>\n",
       "      <th>5</th>\n",
       "      <td>1</td>\n",
       "      <td>1</td>\n",
       "      <td>100.000000</td>\n",
       "    </tr>\n",
       "    <tr>\n",
       "      <th rowspan=\"3\" valign=\"top\">2</th>\n",
       "      <th>0</th>\n",
       "      <td>442</td>\n",
       "      <td>382</td>\n",
       "      <td>86.425339</td>\n",
       "    </tr>\n",
       "    <tr>\n",
       "      <th>1</th>\n",
       "      <td>32</td>\n",
       "      <td>14</td>\n",
       "      <td>43.750000</td>\n",
       "    </tr>\n",
       "    <tr>\n",
       "      <th>3</th>\n",
       "      <td>287</td>\n",
       "      <td>260</td>\n",
       "      <td>90.592334</td>\n",
       "    </tr>\n",
       "  </tbody>\n",
       "</table>\n",
       "</div>"
      ],
      "text/plain": [
       "                  StationsInCluster  Name  Percentage\n",
       "Priority Cluster                                     \n",
       "3        0                      442    13    2.941176\n",
       "         3                      287    25    8.710801\n",
       "1        0                      442    47   10.633484\n",
       "         1                       32    18   56.250000\n",
       "         2                        7     7  100.000000\n",
       "         3                      287     2    0.696864\n",
       "         4                        2     2  100.000000\n",
       "         5                        1     1  100.000000\n",
       "2        0                      442   382   86.425339\n",
       "         1                       32    14   43.750000\n",
       "         3                      287   260   90.592334"
      ]
     },
     "execution_count": 265,
     "metadata": {},
     "output_type": "execute_result"
    }
   ],
   "source": [
    "import math\n",
    "\n",
    "results = clusters_df.groupby(['Priority', 'Cluster']).agg({'Name':'count', 'StationsInCluster':'first'})\n",
    "results['Percentage'] = (results.Name / results.StationsInCluster) * 100\n",
    "print results.loc[\"1\"].query('Percentage < 99.99 & Percentage > 40').Percentage.sum()\n",
    "results"
   ]
  },
  {
   "cell_type": "markdown",
   "metadata": {},
   "source": [
    "### Find Priority 1"
   ]
  },
  {
   "cell_type": "code",
   "execution_count": 33,
   "metadata": {
    "collapsed": false
   },
   "outputs": [
    {
     "data": {
      "text/plain": [
       "1    47\n",
       "0    25\n",
       "4     2\n",
       "3     2\n",
       "2     1\n",
       "Name: Cluster, dtype: int64"
      ]
     },
     "execution_count": 33,
     "metadata": {},
     "output_type": "execute_result"
    }
   ],
   "source": [
    "data = add_station_info(clusters.to_frame('Cluster'), stations.set_index('Id'), use_indexes=True)\n",
    "data.query('Priority == \"1\"').Cluster.value_counts()"
   ]
  },
  {
   "cell_type": "code",
   "execution_count": 34,
   "metadata": {
    "collapsed": false
   },
   "outputs": [
    {
     "data": {
      "text/plain": [
       "5"
      ]
     },
     "execution_count": 34,
     "metadata": {},
     "output_type": "execute_result"
    }
   ],
   "source": [
    "clusters_df = dayviews.unstack().loc[1].NAS.copy()\n",
    "clusters_df['Cluster'] = clusters\n",
    "clusters_df = clusters_df[['Cluster']]\n",
    "clusters_df.Cluster.nunique()"
   ]
  },
  {
   "cell_type": "code",
   "execution_count": null,
   "metadata": {
    "collapsed": true
   },
   "outputs": [],
   "source": [
    "from sklearn import preprocessing\n",
    "\n",
    "min_max_scaler = preprocessing.MinMaxScaler()\n",
    "for col in statistics.columns.difference(['Latitude', 'Longitude', 'Priority']):\n",
    "    std_col = '%sS' % col    \n",
    "    statistics[std_col] = min_max_scaler.fit_transform(statistics[col].values.reshape(-1, 1))"
   ]
  },
  {
   "cell_type": "code",
   "execution_count": null,
   "metadata": {
    "collapsed": true
   },
   "outputs": [],
   "source": [
    "from sklearn.cluster import KMeans\n",
    "\n",
    "statistics = statistics.sort_values(by=['Priority'])\n",
    "\n",
    "priority_clusters = [(3,1), (2,2), (2,3)]\n",
    "cluster_cols = ['EmptyEveningPeakS', 'EmptyMorningPeakS', 'EmptyNonPeakS', \n",
    "                'FullEveningPeakS', 'FullMorningPeakS', 'FullNonPeakS',\n",
    "                'CountS']\n",
    "\n",
    "clusters = []\n",
    "offset = 0\n",
    "for cls_prior in priority_clusters:\n",
    "    n_clusters, priority = cls_prior\n",
    "    window = statistics[statistics.Priority == priority][cluster_cols]\n",
    "    p_clusters = KMeans(n_clusters=n_clusters).fit_predict(window.values)\n",
    "    clusters.extend(p_clusters + offset) \n",
    "    \n",
    "    offset += n_clusters\n",
    "    \n",
    "statistics['Cluster'] = clusters"
   ]
  },
  {
   "cell_type": "code",
   "execution_count": null,
   "metadata": {
    "collapsed": true
   },
   "outputs": [],
   "source": [
    "draw_stations_map(statistics, create_cluster_marker('Cluster'))"
   ]
  }
 ],
 "metadata": {
  "kernelspec": {
   "display_name": "Python 2",
   "language": "python",
   "name": "python2"
  },
  "language_info": {
   "codemirror_mode": {
    "name": "ipython",
    "version": 2
   },
   "file_extension": ".py",
   "mimetype": "text/x-python",
   "name": "python",
   "nbconvert_exporter": "python",
   "pygments_lexer": "ipython2",
   "version": "2.7.11"
  }
 },
 "nbformat": 4,
 "nbformat_minor": 0
}
