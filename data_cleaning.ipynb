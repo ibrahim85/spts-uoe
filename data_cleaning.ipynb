{
 "cells": [
  {
   "cell_type": "markdown",
   "metadata": {
    "collapsed": true
   },
   "source": [
    "# Data Cleaning"
   ]
  },
  {
   "cell_type": "markdown",
   "metadata": {},
   "source": [
    "## Data Dictionary\n",
    "\n",
    "The raw data contains the following data per station per reading:\n",
    "\n",
    "* Id - String - API Resource Id\n",
    "* Name - String - The common name of the station\n",
    "* PlaceType - String ?\n",
    "* TerminalName - String - ?\n",
    "* NbBikes - Integer - The number of available bikes\n",
    "* NbDocks - Integer - The total number of docking spaces\n",
    "* NbEmptyDocks - Integer - The number of available empty docking spaces\n",
    "* Timestamp - DateTime - The moment this reading was captured\n",
    "* InstallDate - DateTime - Date when the station was installed\n",
    "* RemovalDate - DateTime - Date when the station was removed\n",
    "* Installed - Boolean - If the station is installed or not\n",
    "* Locked - Boolean - ?\n",
    "* Temporary - Boolean - If the station is temporary or not (TfL adds temporary stations to cope with demand.)\n",
    "* Latitude - Float - Latitude Coordinate\n",
    "* Longitude - Float - Longitude Coordinate\n",
    "\n",
    "The following variables will be derived from the raw data.\n",
    "\n",
    "* NbUnusableDocks - Integer - The number of non-working docking spaces. Computed with NbUnusableDocks = NbDocks - (NbBikes + NbEmptyDocks)"
   ]
  },
  {
   "cell_type": "markdown",
   "metadata": {},
   "source": [
    "## Set up"
   ]
  },
  {
   "cell_type": "markdown",
   "metadata": {},
   "source": [
    "### Imports"
   ]
  },
  {
   "cell_type": "code",
   "execution_count": 1,
   "metadata": {
    "collapsed": false
   },
   "outputs": [],
   "source": [
    "import logging\n",
    "import itertools\n",
    "import json\n",
    "import os\n",
    "import pickle\n",
    "import pandas as pd\n",
    "import matplotlib.pyplot as plt\n",
    "import folium\n",
    "\n",
    "from mpl_toolkits.basemap import Basemap\n",
    "from datetime import datetime\n",
    "from os import listdir\n",
    "from os.path import isfile, join\n",
    "from src.data.parse_dataset import parse_dir, parse_json_files, get_file_list\n",
    "from IPython.display import Image\n",
    "\n",
    "logger = logging.getLogger()\n",
    "logger.setLevel(logging.INFO)"
   ]
  },
  {
   "cell_type": "markdown",
   "metadata": {},
   "source": [
    "## Parse Raw Data "
   ]
  },
  {
   "cell_type": "markdown",
   "metadata": {},
   "source": [
    "### Define the Parsing Functions"
   ]
  },
  {
   "cell_type": "code",
   "execution_count": 2,
   "metadata": {
    "collapsed": true
   },
   "outputs": [],
   "source": [
    "def parse_cycles(json_obj):\n",
    "    \"\"\"Parses TfL's BikePoint JSON response\"\"\"\n",
    "\n",
    "    return [parse_station(element) for element in json_obj]\n",
    "\n",
    "def parse_station(element):\n",
    "    \"\"\"Parses a JSON bicycle station object to a dictionary\"\"\"\n",
    "\n",
    "    obj = {\n",
    "        'Id': element['id'],\n",
    "        'Name': element['commonName'],\n",
    "        'Latitude': element['lat'],\n",
    "        'Longitude': element['lon'],\n",
    "        'PlaceType': element['placeType'],\n",
    "    }\n",
    "\n",
    "    for p in element['additionalProperties']:\n",
    "        obj[p['key']] = p['value']\n",
    "\n",
    "        if 'timestamp' not in obj:\n",
    "            obj['Timestamp'] = p['modified']\n",
    "        elif obj['Timestamp'] != p['modified']:\n",
    "            raise ValueError('The properties\\' timestamps for station %s do not match: %s != %s' % (\n",
    "            obj['id'], obj['Timestamp'], p['modified']))\n",
    "\n",
    "    return obj"
   ]
  },
  {
   "cell_type": "code",
   "execution_count": 3,
   "metadata": {
    "collapsed": false
   },
   "outputs": [],
   "source": [
    "def bike_file_date_fn(file_name):\n",
    "    \"\"\"Gets the file's date\"\"\"\n",
    "\n",
    "    return datetime.strptime(os.path.basename(file_name), 'BIKE-%Y-%m-%d:%H:%M:%S.json')\n",
    "\n",
    "def create_between_dates_filter(file_date_fn, date_start, date_end):\n",
    "    def filter_fn(file_name):\n",
    "        file_date = file_date_fn(file_name)\n",
    "        return file_date >= date_start and file_date <= date_end\n",
    "    \n",
    "    return filter_fn"
   ]
  },
  {
   "cell_type": "markdown",
   "metadata": {},
   "source": [
    "### Quick Data View"
   ]
  },
  {
   "cell_type": "markdown",
   "metadata": {},
   "source": [
    "#### Load Single Day Data"
   ]
  },
  {
   "cell_type": "code",
   "execution_count": 4,
   "metadata": {
    "collapsed": false
   },
   "outputs": [],
   "source": [
    "filter_fn = create_between_dates_filter(bike_file_date_fn, \n",
    "                                       datetime(2016, 5, 16, 7, 0, 0),\n",
    "                                       datetime(2016, 5, 16, 23, 59, 59))\n",
    "\n",
    "records = parse_dir('/home/jfconavarrete/Documents/Work/Dissertation/spts-uoe/data/raw', \n",
    "                    parse_cycles, sort_fn=bike_file_date_fn, filter_fn=filter_fn)\n",
    "\n",
    "# records is a list of lists of dicts\n",
    "df = pd.DataFrame(list(itertools.chain.from_iterable(records))) "
   ]
  },
  {
   "cell_type": "markdown",
   "metadata": {},
   "source": [
    "####  All Station View"
   ]
  },
  {
   "cell_type": "code",
   "execution_count": 5,
   "metadata": {
    "collapsed": false,
    "scrolled": true
   },
   "outputs": [
    {
     "data": {
      "text/html": [
       "<div>\n",
       "<table border=\"1\" class=\"dataframe\">\n",
       "  <thead>\n",
       "    <tr style=\"text-align: right;\">\n",
       "      <th></th>\n",
       "      <th>Id</th>\n",
       "      <th>InstallDate</th>\n",
       "      <th>Installed</th>\n",
       "      <th>Latitude</th>\n",
       "      <th>Locked</th>\n",
       "      <th>Longitude</th>\n",
       "      <th>Name</th>\n",
       "      <th>NbBikes</th>\n",
       "      <th>NbDocks</th>\n",
       "      <th>NbEmptyDocks</th>\n",
       "      <th>PlaceType</th>\n",
       "      <th>RemovalDate</th>\n",
       "      <th>Temporary</th>\n",
       "      <th>TerminalName</th>\n",
       "      <th>Timestamp</th>\n",
       "    </tr>\n",
       "  </thead>\n",
       "  <tbody>\n",
       "    <tr>\n",
       "      <th>0</th>\n",
       "      <td>BikePoints_1</td>\n",
       "      <td>1278947280000</td>\n",
       "      <td>true</td>\n",
       "      <td>51.529163</td>\n",
       "      <td>false</td>\n",
       "      <td>-0.109970</td>\n",
       "      <td>River Street , Clerkenwell</td>\n",
       "      <td>11</td>\n",
       "      <td>19</td>\n",
       "      <td>7</td>\n",
       "      <td>BikePoint</td>\n",
       "      <td></td>\n",
       "      <td>false</td>\n",
       "      <td>001023</td>\n",
       "      <td>2016-05-16T06:26:24.037</td>\n",
       "    </tr>\n",
       "    <tr>\n",
       "      <th>1</th>\n",
       "      <td>BikePoints_2</td>\n",
       "      <td>1278585780000</td>\n",
       "      <td>true</td>\n",
       "      <td>51.499606</td>\n",
       "      <td>false</td>\n",
       "      <td>-0.197574</td>\n",
       "      <td>Phillimore Gardens, Kensington</td>\n",
       "      <td>12</td>\n",
       "      <td>37</td>\n",
       "      <td>25</td>\n",
       "      <td>BikePoint</td>\n",
       "      <td></td>\n",
       "      <td>false</td>\n",
       "      <td>001018</td>\n",
       "      <td>2016-05-16T06:26:24.037</td>\n",
       "    </tr>\n",
       "    <tr>\n",
       "      <th>2</th>\n",
       "      <td>BikePoints_3</td>\n",
       "      <td>1278240360000</td>\n",
       "      <td>true</td>\n",
       "      <td>51.521283</td>\n",
       "      <td>false</td>\n",
       "      <td>-0.084605</td>\n",
       "      <td>Christopher Street, Liverpool Street</td>\n",
       "      <td>6</td>\n",
       "      <td>32</td>\n",
       "      <td>26</td>\n",
       "      <td>BikePoint</td>\n",
       "      <td></td>\n",
       "      <td>false</td>\n",
       "      <td>001012</td>\n",
       "      <td>2016-05-16T06:51:27.5</td>\n",
       "    </tr>\n",
       "    <tr>\n",
       "      <th>3</th>\n",
       "      <td>BikePoints_4</td>\n",
       "      <td>1278241080000</td>\n",
       "      <td>true</td>\n",
       "      <td>51.530059</td>\n",
       "      <td>false</td>\n",
       "      <td>-0.120973</td>\n",
       "      <td>St. Chad's Street, King's Cross</td>\n",
       "      <td>14</td>\n",
       "      <td>23</td>\n",
       "      <td>9</td>\n",
       "      <td>BikePoint</td>\n",
       "      <td></td>\n",
       "      <td>false</td>\n",
       "      <td>001013</td>\n",
       "      <td>2016-05-16T06:51:27.5</td>\n",
       "    </tr>\n",
       "    <tr>\n",
       "      <th>4</th>\n",
       "      <td>BikePoints_5</td>\n",
       "      <td>1278241440000</td>\n",
       "      <td>true</td>\n",
       "      <td>51.493130</td>\n",
       "      <td>false</td>\n",
       "      <td>-0.156876</td>\n",
       "      <td>Sedding Street, Sloane Square</td>\n",
       "      <td>27</td>\n",
       "      <td>27</td>\n",
       "      <td>0</td>\n",
       "      <td>BikePoint</td>\n",
       "      <td></td>\n",
       "      <td>false</td>\n",
       "      <td>003420</td>\n",
       "      <td>2016-05-16T06:46:27.237</td>\n",
       "    </tr>\n",
       "  </tbody>\n",
       "</table>\n",
       "</div>"
      ],
      "text/plain": [
       "             Id    InstallDate Installed   Latitude Locked  Longitude  \\\n",
       "0  BikePoints_1  1278947280000      true  51.529163  false  -0.109970   \n",
       "1  BikePoints_2  1278585780000      true  51.499606  false  -0.197574   \n",
       "2  BikePoints_3  1278240360000      true  51.521283  false  -0.084605   \n",
       "3  BikePoints_4  1278241080000      true  51.530059  false  -0.120973   \n",
       "4  BikePoints_5  1278241440000      true  51.493130  false  -0.156876   \n",
       "\n",
       "                                   Name NbBikes NbDocks NbEmptyDocks  \\\n",
       "0            River Street , Clerkenwell      11      19            7   \n",
       "1        Phillimore Gardens, Kensington      12      37           25   \n",
       "2  Christopher Street, Liverpool Street       6      32           26   \n",
       "3       St. Chad's Street, King's Cross      14      23            9   \n",
       "4         Sedding Street, Sloane Square      27      27            0   \n",
       "\n",
       "   PlaceType RemovalDate Temporary TerminalName                Timestamp  \n",
       "0  BikePoint                 false       001023  2016-05-16T06:26:24.037  \n",
       "1  BikePoint                 false       001018  2016-05-16T06:26:24.037  \n",
       "2  BikePoint                 false       001012    2016-05-16T06:51:27.5  \n",
       "3  BikePoint                 false       001013    2016-05-16T06:51:27.5  \n",
       "4  BikePoint                 false       003420  2016-05-16T06:46:27.237  "
      ]
     },
     "execution_count": 5,
     "metadata": {},
     "output_type": "execute_result"
    }
   ],
   "source": [
    "df.head()"
   ]
  },
  {
   "cell_type": "markdown",
   "metadata": {},
   "source": [
    "####  Single Station View"
   ]
  },
  {
   "cell_type": "code",
   "execution_count": 6,
   "metadata": {
    "collapsed": false,
    "scrolled": true
   },
   "outputs": [
    {
     "data": {
      "text/html": [
       "<div>\n",
       "<table border=\"1\" class=\"dataframe\">\n",
       "  <thead>\n",
       "    <tr style=\"text-align: right;\">\n",
       "      <th></th>\n",
       "      <th>Id</th>\n",
       "      <th>InstallDate</th>\n",
       "      <th>Installed</th>\n",
       "      <th>Latitude</th>\n",
       "      <th>Locked</th>\n",
       "      <th>Longitude</th>\n",
       "      <th>Name</th>\n",
       "      <th>NbBikes</th>\n",
       "      <th>NbDocks</th>\n",
       "      <th>NbEmptyDocks</th>\n",
       "      <th>PlaceType</th>\n",
       "      <th>RemovalDate</th>\n",
       "      <th>Temporary</th>\n",
       "      <th>TerminalName</th>\n",
       "      <th>Timestamp</th>\n",
       "    </tr>\n",
       "  </thead>\n",
       "  <tbody>\n",
       "    <tr>\n",
       "      <th>0</th>\n",
       "      <td>BikePoints_1</td>\n",
       "      <td>1278947280000</td>\n",
       "      <td>true</td>\n",
       "      <td>51.529163</td>\n",
       "      <td>false</td>\n",
       "      <td>-0.10997</td>\n",
       "      <td>River Street , Clerkenwell</td>\n",
       "      <td>11</td>\n",
       "      <td>19</td>\n",
       "      <td>7</td>\n",
       "      <td>BikePoint</td>\n",
       "      <td></td>\n",
       "      <td>false</td>\n",
       "      <td>001023</td>\n",
       "      <td>2016-05-16T06:26:24.037</td>\n",
       "    </tr>\n",
       "    <tr>\n",
       "      <th>762</th>\n",
       "      <td>BikePoints_1</td>\n",
       "      <td>1278947280000</td>\n",
       "      <td>true</td>\n",
       "      <td>51.529163</td>\n",
       "      <td>false</td>\n",
       "      <td>-0.10997</td>\n",
       "      <td>River Street , Clerkenwell</td>\n",
       "      <td>11</td>\n",
       "      <td>19</td>\n",
       "      <td>7</td>\n",
       "      <td>BikePoint</td>\n",
       "      <td></td>\n",
       "      <td>false</td>\n",
       "      <td>001023</td>\n",
       "      <td>2016-05-16T06:26:24.037</td>\n",
       "    </tr>\n",
       "    <tr>\n",
       "      <th>1524</th>\n",
       "      <td>BikePoints_1</td>\n",
       "      <td>1278947280000</td>\n",
       "      <td>true</td>\n",
       "      <td>51.529163</td>\n",
       "      <td>false</td>\n",
       "      <td>-0.10997</td>\n",
       "      <td>River Street , Clerkenwell</td>\n",
       "      <td>10</td>\n",
       "      <td>19</td>\n",
       "      <td>8</td>\n",
       "      <td>BikePoint</td>\n",
       "      <td></td>\n",
       "      <td>false</td>\n",
       "      <td>001023</td>\n",
       "      <td>2016-05-16T07:01:29.163</td>\n",
       "    </tr>\n",
       "    <tr>\n",
       "      <th>2286</th>\n",
       "      <td>BikePoints_1</td>\n",
       "      <td>1278947280000</td>\n",
       "      <td>true</td>\n",
       "      <td>51.529163</td>\n",
       "      <td>false</td>\n",
       "      <td>-0.10997</td>\n",
       "      <td>River Street , Clerkenwell</td>\n",
       "      <td>8</td>\n",
       "      <td>19</td>\n",
       "      <td>10</td>\n",
       "      <td>BikePoint</td>\n",
       "      <td></td>\n",
       "      <td>false</td>\n",
       "      <td>001023</td>\n",
       "      <td>2016-05-16T07:11:30.433</td>\n",
       "    </tr>\n",
       "    <tr>\n",
       "      <th>3048</th>\n",
       "      <td>BikePoints_1</td>\n",
       "      <td>1278947280000</td>\n",
       "      <td>true</td>\n",
       "      <td>51.529163</td>\n",
       "      <td>false</td>\n",
       "      <td>-0.10997</td>\n",
       "      <td>River Street , Clerkenwell</td>\n",
       "      <td>8</td>\n",
       "      <td>19</td>\n",
       "      <td>10</td>\n",
       "      <td>BikePoint</td>\n",
       "      <td></td>\n",
       "      <td>false</td>\n",
       "      <td>001023</td>\n",
       "      <td>2016-05-16T07:11:30.433</td>\n",
       "    </tr>\n",
       "  </tbody>\n",
       "</table>\n",
       "</div>"
      ],
      "text/plain": [
       "                Id    InstallDate Installed   Latitude Locked  Longitude  \\\n",
       "0     BikePoints_1  1278947280000      true  51.529163  false   -0.10997   \n",
       "762   BikePoints_1  1278947280000      true  51.529163  false   -0.10997   \n",
       "1524  BikePoints_1  1278947280000      true  51.529163  false   -0.10997   \n",
       "2286  BikePoints_1  1278947280000      true  51.529163  false   -0.10997   \n",
       "3048  BikePoints_1  1278947280000      true  51.529163  false   -0.10997   \n",
       "\n",
       "                            Name NbBikes NbDocks NbEmptyDocks  PlaceType  \\\n",
       "0     River Street , Clerkenwell      11      19            7  BikePoint   \n",
       "762   River Street , Clerkenwell      11      19            7  BikePoint   \n",
       "1524  River Street , Clerkenwell      10      19            8  BikePoint   \n",
       "2286  River Street , Clerkenwell       8      19           10  BikePoint   \n",
       "3048  River Street , Clerkenwell       8      19           10  BikePoint   \n",
       "\n",
       "     RemovalDate Temporary TerminalName                Timestamp  \n",
       "0                    false       001023  2016-05-16T06:26:24.037  \n",
       "762                  false       001023  2016-05-16T06:26:24.037  \n",
       "1524                 false       001023  2016-05-16T07:01:29.163  \n",
       "2286                 false       001023  2016-05-16T07:11:30.433  \n",
       "3048                 false       001023  2016-05-16T07:11:30.433  "
      ]
     },
     "execution_count": 6,
     "metadata": {},
     "output_type": "execute_result"
    }
   ],
   "source": [
    "df[df['Id'] == 'BikePoints_1'].head()"
   ]
  },
  {
   "cell_type": "markdown",
   "metadata": {},
   "source": [
    "#### Observations\n",
    "\n",
    "* There are some duplicate rows <- remove duplicates\n",
    "* RemovalDate may contain a lot of nulls <- remove if not helpful\n",
    "* Locked and Installed might be constant <- remove if not helpful"
   ]
  },
  {
   "cell_type": "markdown",
   "metadata": {},
   "source": [
    "### Build Dataset"
   ]
  },
  {
   "cell_type": "markdown",
   "metadata": {},
   "source": [
    "#### Work with Chunks"
   ]
  },
  {
   "cell_type": "markdown",
   "metadata": {},
   "source": [
    "Due to memory constraints we'll parse the data in chunks. In each chunk we'll remove the redundant candidate keys and also duplicate rows."
   ]
  },
  {
   "cell_type": "code",
   "execution_count": 7,
   "metadata": {
    "collapsed": true
   },
   "outputs": [],
   "source": [
    "def chunker(seq, size):\n",
    "    return (seq[pos:pos + size] for pos in xrange(0, len(seq), size))"
   ]
  },
  {
   "cell_type": "markdown",
   "metadata": {},
   "source": [
    "#### Tables\n",
    "\n",
    "We will have two different tables, one for the stations and one for the availability readings"
   ]
  },
  {
   "cell_type": "code",
   "execution_count": 8,
   "metadata": {
    "collapsed": true
   },
   "outputs": [],
   "source": [
    "def split_data(parsed_data):\n",
    "    master_df = pd.DataFrame(list(itertools.chain.from_iterable(parsed_data)))\n",
    "    \n",
    "    readings_df = pd.DataFrame(master_df, columns=['Id', 'Timestamp', 'NbBikes', 'NbDocks', 'NbEmptyDocks'])\n",
    "    stations_df = pd.DataFrame(master_df, columns=['Id', 'Name', 'TerminalName' , 'PlaceType', 'Latitude', \n",
    "                                                   'Longitude', 'Installed', 'Temporary', 'Locked',\n",
    "                                                   'RemovalDate', 'InstallDate'])\n",
    "    \n",
    "    return (readings_df, stations_df)"
   ]
  },
  {
   "cell_type": "markdown",
   "metadata": {},
   "source": [
    "#### Build the Dataset"
   ]
  },
  {
   "cell_type": "code",
   "execution_count": 9,
   "metadata": {
    "collapsed": true
   },
   "outputs": [],
   "source": [
    "# get the files to parse\n",
    "five_weekdays_filter = create_between_dates_filter(bike_file_date_fn, \n",
    "                                                   datetime(2016, 5, 15, 11, 0, 0), \n",
    "                                                   datetime(2016, 6, 7, 8, 0, 0))\n",
    "files = get_file_list('data/raw', filter_fn=None, sort_fn=bike_file_date_fn)\n",
    "\n",
    "# process the files in chunks\n",
    "files_batches = chunker(files, 500)"
   ]
  },
  {
   "cell_type": "code",
   "execution_count": 10,
   "metadata": {
    "collapsed": false
   },
   "outputs": [],
   "source": [
    "# start with an empty dataset\n",
    "readings_dataset = pd.DataFrame()\n",
    "stations_dataset = pd.DataFrame()\n",
    "\n",
    "# append each chunk to the datasets while removing duplicates\n",
    "for batch in files_batches:\n",
    "    parsed_data = parse_json_files(batch, parse_cycles)\n",
    "    \n",
    "    # split the data into two station data and readings data\n",
    "    readings_df, stations_df = split_data(parsed_data)\n",
    "    \n",
    "    # append the datasets\n",
    "    readings_dataset = pd.concat([readings_dataset, readings_df])\n",
    "    stations_dataset = pd.concat([stations_dataset, stations_df])\n",
    "    \n",
    "    # remove duplicated rows\n",
    "    readings_dataset.drop_duplicates(inplace=True)\n",
    "    stations_dataset.drop_duplicates(inplace=True)"
   ]
  },
  {
   "cell_type": "code",
   "execution_count": null,
   "metadata": {
    "collapsed": true
   },
   "outputs": [],
   "source": [
    "readings_dataset"
   ]
  },
  {
   "cell_type": "markdown",
   "metadata": {},
   "source": [
    "## Technically Correct Data\n",
    "\n",
    "The data is set to be technically correct if it:\n",
    "\n",
    "1. can be directly recognized as belonging to a certain variable\n",
    "2. is stored in a data type that represents the value domain of the real-world variable."
   ]
  },
  {
   "cell_type": "code",
   "execution_count": 11,
   "metadata": {
    "collapsed": false
   },
   "outputs": [],
   "source": [
    "# convert columns to their appropriate datatypes\n",
    "stations_dataset['InstallDate'] = pd.to_numeric(stations_dataset['InstallDate'], errors='raise')\n",
    "stations_dataset['Installed'] = stations_dataset['Installed'].astype('bool_')\n",
    "stations_dataset['Temporary'] = stations_dataset['Temporary'].astype('bool_')\n",
    "stations_dataset['Locked'] = stations_dataset['Locked'].astype('bool_')\n",
    "\n",
    "readings_dataset['NbBikes'] = readings_dataset['NbBikes'].astype('uint16')\n",
    "readings_dataset['NbDocks'] = readings_dataset['NbDocks'].astype('uint16')\n",
    "readings_dataset['NbEmptyDocks'] = readings_dataset['NbEmptyDocks'].astype('uint16')\n",
    "\n",
    "# convert string timestamp to datetime\n",
    "stations_dataset['InstallDate'] = pd.to_datetime(stations_dataset['InstallDate'], unit='ms')\n",
    "\n",
    "readings_dataset['Timestamp'] =  pd.to_datetime(readings_dataset['Timestamp'], format='%Y-%m-%dT%H:%M:%S.%f', errors='raise')"
   ]
  },
  {
   "cell_type": "code",
   "execution_count": 33,
   "metadata": {
    "collapsed": false
   },
   "outputs": [],
   "source": [
    "# sort the datasets\n",
    "stations_dataset.sort_values(by=['InstallDate'], ascending=True, inplace=True)\n",
    "\n",
    "readings_dataset.sort_values(by=['Timestamp'], ascending=True, inplace=True)"
   ]
  },
  {
   "cell_type": "markdown",
   "metadata": {},
   "source": [
    "## Derive Data"
   ]
  },
  {
   "cell_type": "code",
   "execution_count": 13,
   "metadata": {
    "collapsed": false,
    "scrolled": true
   },
   "outputs": [],
   "source": [
    "readings_dataset['NbUnusableDocks'] = readings_dataset['NbDocks'] - (readings_dataset['NbBikes'] + readings_dataset['NbEmptyDocks'])"
   ]
  },
  {
   "cell_type": "markdown",
   "metadata": {},
   "source": [
    "## Consistent Data"
   ]
  },
  {
   "cell_type": "markdown",
   "metadata": {},
   "source": [
    "### Stations Analysis\n",
    "\n",
    "#### Overview"
   ]
  },
  {
   "cell_type": "code",
   "execution_count": 14,
   "metadata": {
    "collapsed": false
   },
   "outputs": [
    {
     "data": {
      "text/plain": [
       "(778, 11)"
      ]
     },
     "execution_count": 14,
     "metadata": {},
     "output_type": "execute_result"
    }
   ],
   "source": [
    "stations_dataset.shape"
   ]
  },
  {
   "cell_type": "code",
   "execution_count": 15,
   "metadata": {
    "collapsed": false
   },
   "outputs": [
    {
     "name": "stdout",
     "output_type": "stream",
     "text": [
      "<class 'pandas.core.frame.DataFrame'>\n",
      "Int64Index: 778 entries, 0 to 94\n",
      "Data columns (total 11 columns):\n",
      "Id              778 non-null object\n",
      "Name            778 non-null object\n",
      "TerminalName    778 non-null object\n",
      "PlaceType       778 non-null object\n",
      "Latitude        778 non-null float64\n",
      "Longitude       778 non-null float64\n",
      "Installed       778 non-null bool\n",
      "Temporary       778 non-null bool\n",
      "Locked          778 non-null bool\n",
      "RemovalDate     778 non-null object\n",
      "InstallDate     683 non-null datetime64[ns]\n",
      "dtypes: bool(3), datetime64[ns](1), float64(2), object(5)\n",
      "memory usage: 424.7 KB\n"
     ]
    }
   ],
   "source": [
    "stations_dataset.info(memory_usage='deep')"
   ]
  },
  {
   "cell_type": "code",
   "execution_count": 16,
   "metadata": {
    "collapsed": false
   },
   "outputs": [
    {
     "data": {
      "text/html": [
       "<div>\n",
       "<table border=\"1\" class=\"dataframe\">\n",
       "  <thead>\n",
       "    <tr style=\"text-align: right;\">\n",
       "      <th></th>\n",
       "      <th>Id</th>\n",
       "      <th>Name</th>\n",
       "      <th>TerminalName</th>\n",
       "      <th>PlaceType</th>\n",
       "      <th>Latitude</th>\n",
       "      <th>Longitude</th>\n",
       "      <th>Installed</th>\n",
       "      <th>Temporary</th>\n",
       "      <th>Locked</th>\n",
       "      <th>RemovalDate</th>\n",
       "      <th>InstallDate</th>\n",
       "    </tr>\n",
       "  </thead>\n",
       "  <tbody>\n",
       "    <tr>\n",
       "      <th>0</th>\n",
       "      <td>BikePoints_1</td>\n",
       "      <td>River Street , Clerkenwell</td>\n",
       "      <td>001023</td>\n",
       "      <td>BikePoint</td>\n",
       "      <td>51.529163</td>\n",
       "      <td>-0.109970</td>\n",
       "      <td>True</td>\n",
       "      <td>True</td>\n",
       "      <td>True</td>\n",
       "      <td></td>\n",
       "      <td>2010-07-12 15:08:00</td>\n",
       "    </tr>\n",
       "    <tr>\n",
       "      <th>9</th>\n",
       "      <td>BikePoints_10</td>\n",
       "      <td>Park Street, Bankside</td>\n",
       "      <td>001024</td>\n",
       "      <td>BikePoint</td>\n",
       "      <td>51.505974</td>\n",
       "      <td>-0.092754</td>\n",
       "      <td>True</td>\n",
       "      <td>True</td>\n",
       "      <td>True</td>\n",
       "      <td></td>\n",
       "      <td>2010-07-04 11:21:00</td>\n",
       "    </tr>\n",
       "    <tr>\n",
       "      <th>95</th>\n",
       "      <td>BikePoints_100</td>\n",
       "      <td>Albert Embankment, Vauxhall</td>\n",
       "      <td>001059</td>\n",
       "      <td>BikePoint</td>\n",
       "      <td>51.490435</td>\n",
       "      <td>-0.122806</td>\n",
       "      <td>True</td>\n",
       "      <td>True</td>\n",
       "      <td>True</td>\n",
       "      <td></td>\n",
       "      <td>2010-07-14 09:31:00</td>\n",
       "    </tr>\n",
       "    <tr>\n",
       "      <th>96</th>\n",
       "      <td>BikePoints_101</td>\n",
       "      <td>Queen Street 1, Bank</td>\n",
       "      <td>000999</td>\n",
       "      <td>BikePoint</td>\n",
       "      <td>51.511553</td>\n",
       "      <td>-0.092940</td>\n",
       "      <td>True</td>\n",
       "      <td>True</td>\n",
       "      <td>True</td>\n",
       "      <td></td>\n",
       "      <td>2010-07-14 10:18:00</td>\n",
       "    </tr>\n",
       "    <tr>\n",
       "      <th>97</th>\n",
       "      <td>BikePoints_102</td>\n",
       "      <td>Jewry Street, Aldgate</td>\n",
       "      <td>001045</td>\n",
       "      <td>BikePoint</td>\n",
       "      <td>51.513406</td>\n",
       "      <td>-0.076793</td>\n",
       "      <td>True</td>\n",
       "      <td>True</td>\n",
       "      <td>True</td>\n",
       "      <td></td>\n",
       "      <td>2010-07-14 10:21:00</td>\n",
       "    </tr>\n",
       "  </tbody>\n",
       "</table>\n",
       "</div>"
      ],
      "text/plain": [
       "                Id                         Name TerminalName  PlaceType  \\\n",
       "0     BikePoints_1   River Street , Clerkenwell       001023  BikePoint   \n",
       "9    BikePoints_10        Park Street, Bankside       001024  BikePoint   \n",
       "95  BikePoints_100  Albert Embankment, Vauxhall       001059  BikePoint   \n",
       "96  BikePoints_101         Queen Street 1, Bank       000999  BikePoint   \n",
       "97  BikePoints_102        Jewry Street, Aldgate       001045  BikePoint   \n",
       "\n",
       "     Latitude  Longitude Installed Temporary Locked RemovalDate  \\\n",
       "0   51.529163  -0.109970      True      True   True               \n",
       "9   51.505974  -0.092754      True      True   True               \n",
       "95  51.490435  -0.122806      True      True   True               \n",
       "96  51.511553  -0.092940      True      True   True               \n",
       "97  51.513406  -0.076793      True      True   True               \n",
       "\n",
       "           InstallDate  \n",
       "0  2010-07-12 15:08:00  \n",
       "9  2010-07-04 11:21:00  \n",
       "95 2010-07-14 09:31:00  \n",
       "96 2010-07-14 10:18:00  \n",
       "97 2010-07-14 10:21:00  "
      ]
     },
     "execution_count": 16,
     "metadata": {},
     "output_type": "execute_result"
    }
   ],
   "source": [
    "stations_dataset.head()"
   ]
  },
  {
   "cell_type": "code",
   "execution_count": 17,
   "metadata": {
    "collapsed": false
   },
   "outputs": [
    {
     "data": {
      "text/html": [
       "<div>\n",
       "<table border=\"1\" class=\"dataframe\">\n",
       "  <thead>\n",
       "    <tr style=\"text-align: right;\">\n",
       "      <th></th>\n",
       "      <th>Latitude</th>\n",
       "      <th>Longitude</th>\n",
       "    </tr>\n",
       "  </thead>\n",
       "  <tbody>\n",
       "    <tr>\n",
       "      <th>count</th>\n",
       "      <td>778.000000</td>\n",
       "      <td>778.000000</td>\n",
       "    </tr>\n",
       "    <tr>\n",
       "      <th>mean</th>\n",
       "      <td>51.439607</td>\n",
       "      <td>-0.128938</td>\n",
       "    </tr>\n",
       "    <tr>\n",
       "      <th>std</th>\n",
       "      <td>1.846681</td>\n",
       "      <td>0.056126</td>\n",
       "    </tr>\n",
       "    <tr>\n",
       "      <th>min</th>\n",
       "      <td>0.000000</td>\n",
       "      <td>-0.236769</td>\n",
       "    </tr>\n",
       "    <tr>\n",
       "      <th>25%</th>\n",
       "      <td>51.493134</td>\n",
       "      <td>-0.172954</td>\n",
       "    </tr>\n",
       "    <tr>\n",
       "      <th>50%</th>\n",
       "      <td>51.509123</td>\n",
       "      <td>-0.132102</td>\n",
       "    </tr>\n",
       "    <tr>\n",
       "      <th>75%</th>\n",
       "      <td>51.520686</td>\n",
       "      <td>-0.092940</td>\n",
       "    </tr>\n",
       "    <tr>\n",
       "      <th>max</th>\n",
       "      <td>51.549369</td>\n",
       "      <td>0.122299</td>\n",
       "    </tr>\n",
       "  </tbody>\n",
       "</table>\n",
       "</div>"
      ],
      "text/plain": [
       "         Latitude   Longitude\n",
       "count  778.000000  778.000000\n",
       "mean    51.439607   -0.128938\n",
       "std      1.846681    0.056126\n",
       "min      0.000000   -0.236769\n",
       "25%     51.493134   -0.172954\n",
       "50%     51.509123   -0.132102\n",
       "75%     51.520686   -0.092940\n",
       "max     51.549369    0.122299"
      ]
     },
     "execution_count": 17,
     "metadata": {},
     "output_type": "execute_result"
    }
   ],
   "source": [
    "stations_dataset.describe()"
   ]
  },
  {
   "cell_type": "code",
   "execution_count": 18,
   "metadata": {
    "collapsed": false,
    "scrolled": true
   },
   "outputs": [
    {
     "data": {
      "text/plain": [
       "Id              773\n",
       "Name            774\n",
       "TerminalName    773\n",
       "PlaceType         1\n",
       "Latitude        770\n",
       "Longitude       770\n",
       "Installed         1\n",
       "Temporary         1\n",
       "Locked            1\n",
       "RemovalDate       4\n",
       "InstallDate     682\n",
       "dtype: int64"
      ]
     },
     "execution_count": 18,
     "metadata": {},
     "output_type": "execute_result"
    }
   ],
   "source": [
    "stations_dataset.apply(lambda x:x.nunique())"
   ]
  },
  {
   "cell_type": "markdown",
   "metadata": {},
   "source": [
    "#### Observations:\n",
    "* Id, Name and Terminal name seem to be candidate keys\n",
    "* The minimum latitude and the maximum longitude are 0\n",
    "* Some stations have the same latitude or longitude\n",
    "* Id, TerminalName and Name have different unique values\n",
    "* Placetype, Installed, Temporary and Locked appear to be constant\n",
    "* Some stations do not have an install date\n",
    "* Some Stations have a removal date (very sparse)"
   ]
  },
  {
   "cell_type": "markdown",
   "metadata": {},
   "source": [
    "#### Remove Not Useful Stations\n",
    "\n",
    "Here we will remove stations that:\n",
    "* Were installed after the 1st of April 2016\n",
    "* Are temporary\n",
    "\n"
   ]
  },
  {
   "cell_type": "code",
   "execution_count": 38,
   "metadata": {
    "collapsed": false
   },
   "outputs": [
    {
     "ename": "KeyError",
     "evalue": "'2010'",
     "output_type": "error",
     "traceback": [
      "\u001b[1;31m---------------------------------------------------------------------------\u001b[0m",
      "\u001b[1;31mKeyError\u001b[0m                                  Traceback (most recent call last)",
      "\u001b[1;32m<ipython-input-38-21251997dfde>\u001b[0m in \u001b[0;36m<module>\u001b[1;34m()\u001b[0m\n\u001b[1;32m----> 1\u001b[1;33m \u001b[0mstations_dataset\u001b[0m\u001b[1;33m[\u001b[0m\u001b[1;34m\"InstallDate\"\u001b[0m\u001b[1;33m]\u001b[0m\u001b[1;33m[\u001b[0m\u001b[1;34m'2010'\u001b[0m\u001b[1;33m]\u001b[0m\u001b[1;33m\u001b[0m\u001b[0m\n\u001b[0m",
      "\u001b[1;32m/home/jfconavarrete/Documents/Work/Config/anaconda2/lib/python2.7/site-packages/pandas/core/series.pyc\u001b[0m in \u001b[0;36m__getitem__\u001b[1;34m(self, key)\u001b[0m\n\u001b[0;32m    558\u001b[0m     \u001b[1;32mdef\u001b[0m \u001b[0m__getitem__\u001b[0m\u001b[1;33m(\u001b[0m\u001b[0mself\u001b[0m\u001b[1;33m,\u001b[0m \u001b[0mkey\u001b[0m\u001b[1;33m)\u001b[0m\u001b[1;33m:\u001b[0m\u001b[1;33m\u001b[0m\u001b[0m\n\u001b[0;32m    559\u001b[0m         \u001b[1;32mtry\u001b[0m\u001b[1;33m:\u001b[0m\u001b[1;33m\u001b[0m\u001b[0m\n\u001b[1;32m--> 560\u001b[1;33m             \u001b[0mresult\u001b[0m \u001b[1;33m=\u001b[0m \u001b[0mself\u001b[0m\u001b[1;33m.\u001b[0m\u001b[0mindex\u001b[0m\u001b[1;33m.\u001b[0m\u001b[0mget_value\u001b[0m\u001b[1;33m(\u001b[0m\u001b[0mself\u001b[0m\u001b[1;33m,\u001b[0m \u001b[0mkey\u001b[0m\u001b[1;33m)\u001b[0m\u001b[1;33m\u001b[0m\u001b[0m\n\u001b[0m\u001b[0;32m    561\u001b[0m \u001b[1;33m\u001b[0m\u001b[0m\n\u001b[0;32m    562\u001b[0m             \u001b[1;32mif\u001b[0m \u001b[1;32mnot\u001b[0m \u001b[0mlib\u001b[0m\u001b[1;33m.\u001b[0m\u001b[0misscalar\u001b[0m\u001b[1;33m(\u001b[0m\u001b[0mresult\u001b[0m\u001b[1;33m)\u001b[0m\u001b[1;33m:\u001b[0m\u001b[1;33m\u001b[0m\u001b[0m\n",
      "\u001b[1;32m/home/jfconavarrete/Documents/Work/Config/anaconda2/lib/python2.7/site-packages/pandas/indexes/base.pyc\u001b[0m in \u001b[0;36mget_value\u001b[1;34m(self, series, key)\u001b[0m\n\u001b[0;32m   1909\u001b[0m         \u001b[1;32mtry\u001b[0m\u001b[1;33m:\u001b[0m\u001b[1;33m\u001b[0m\u001b[0m\n\u001b[0;32m   1910\u001b[0m             return self._engine.get_value(s, k,\n\u001b[1;32m-> 1911\u001b[1;33m                                           tz=getattr(series.dtype, 'tz', None))\n\u001b[0m\u001b[0;32m   1912\u001b[0m         \u001b[1;32mexcept\u001b[0m \u001b[0mKeyError\u001b[0m \u001b[1;32mas\u001b[0m \u001b[0me1\u001b[0m\u001b[1;33m:\u001b[0m\u001b[1;33m\u001b[0m\u001b[0m\n\u001b[0;32m   1913\u001b[0m             \u001b[1;32mif\u001b[0m \u001b[0mlen\u001b[0m\u001b[1;33m(\u001b[0m\u001b[0mself\u001b[0m\u001b[1;33m)\u001b[0m \u001b[1;33m>\u001b[0m \u001b[1;36m0\u001b[0m \u001b[1;32mand\u001b[0m \u001b[0mself\u001b[0m\u001b[1;33m.\u001b[0m\u001b[0minferred_type\u001b[0m \u001b[1;32min\u001b[0m \u001b[1;33m[\u001b[0m\u001b[1;34m'integer'\u001b[0m\u001b[1;33m,\u001b[0m \u001b[1;34m'boolean'\u001b[0m\u001b[1;33m]\u001b[0m\u001b[1;33m:\u001b[0m\u001b[1;33m\u001b[0m\u001b[0m\n",
      "\u001b[1;32mpandas/index.pyx\u001b[0m in \u001b[0;36mpandas.index.IndexEngine.get_value (pandas/index.c:3234)\u001b[1;34m()\u001b[0m\n",
      "\u001b[1;32mpandas/index.pyx\u001b[0m in \u001b[0;36mpandas.index.IndexEngine.get_value (pandas/index.c:2931)\u001b[1;34m()\u001b[0m\n",
      "\u001b[1;32mpandas/index.pyx\u001b[0m in \u001b[0;36mpandas.index.IndexEngine.get_loc (pandas/index.c:3956)\u001b[1;34m()\u001b[0m\n",
      "\u001b[1;31mKeyError\u001b[0m: '2010'"
     ]
    }
   ],
   "source": [
    "stations_dataset[\"InstallDate\"]['2010']"
   ]
  },
  {
   "cell_type": "code",
   "execution_count": 37,
   "metadata": {
    "collapsed": false
   },
   "outputs": [
    {
     "ename": "TypeError",
     "evalue": "descriptor 'date' of 'datetime.datetime' object needs an argument",
     "output_type": "error",
     "traceback": [
      "\u001b[1;31m---------------------------------------------------------------------------\u001b[0m",
      "\u001b[1;31mTypeError\u001b[0m                                 Traceback (most recent call last)",
      "\u001b[1;32m<ipython-input-37-5eed2a163f55>\u001b[0m in \u001b[0;36m<module>\u001b[1;34m()\u001b[0m\n\u001b[1;32m----> 1\u001b[1;33m \u001b[0mstations_dataset\u001b[0m\u001b[1;33m[\u001b[0m\u001b[1;34m\"InstallDate\"\u001b[0m\u001b[1;33m]\u001b[0m\u001b[1;33m.\u001b[0m\u001b[0mix\u001b[0m\u001b[1;33m[\u001b[0m\u001b[0mdatetime\u001b[0m\u001b[1;33m.\u001b[0m\u001b[0mdate\u001b[0m\u001b[1;33m(\u001b[0m\u001b[0myear\u001b[0m\u001b[1;33m=\u001b[0m\u001b[1;36m2010\u001b[0m\u001b[1;33m,\u001b[0m\u001b[0mmonth\u001b[0m\u001b[1;33m=\u001b[0m\u001b[1;36m7\u001b[0m\u001b[1;33m,\u001b[0m\u001b[0mday\u001b[0m\u001b[1;33m=\u001b[0m\u001b[1;36m4\u001b[0m\u001b[1;33m)\u001b[0m\u001b[1;33m:\u001b[0m\u001b[0mdatetime\u001b[0m\u001b[1;33m.\u001b[0m\u001b[0mdate\u001b[0m\u001b[1;33m(\u001b[0m\u001b[0myear\u001b[0m\u001b[1;33m=\u001b[0m\u001b[1;36m2010\u001b[0m\u001b[1;33m,\u001b[0m\u001b[0mmonth\u001b[0m\u001b[1;33m=\u001b[0m\u001b[1;36m7\u001b[0m\u001b[1;33m,\u001b[0m\u001b[0mday\u001b[0m\u001b[1;33m=\u001b[0m\u001b[1;36m7\u001b[0m\u001b[1;33m)\u001b[0m\u001b[1;33m]\u001b[0m\u001b[1;33m\u001b[0m\u001b[0m\n\u001b[0m\u001b[0;32m      2\u001b[0m \u001b[1;33m\u001b[0m\u001b[0m\n",
      "\u001b[1;31mTypeError\u001b[0m: descriptor 'date' of 'datetime.datetime' object needs an argument"
     ]
    }
   ],
   "source": [
    "stations_dataset[\"InstallDate\"] < \n"
   ]
  },
  {
   "cell_type": "markdown",
   "metadata": {},
   "source": [
    "#### Remove Duplicate Stations"
   ]
  },
  {
   "cell_type": "code",
   "execution_count": 19,
   "metadata": {
    "collapsed": false
   },
   "outputs": [
    {
     "data": {
      "text/html": [
       "<div>\n",
       "<table border=\"1\" class=\"dataframe\">\n",
       "  <thead>\n",
       "    <tr style=\"text-align: right;\">\n",
       "      <th></th>\n",
       "      <th>Id</th>\n",
       "      <th>Name</th>\n",
       "      <th>TerminalName</th>\n",
       "      <th>PlaceType</th>\n",
       "      <th>Latitude</th>\n",
       "      <th>Longitude</th>\n",
       "      <th>Installed</th>\n",
       "      <th>Temporary</th>\n",
       "      <th>Locked</th>\n",
       "      <th>RemovalDate</th>\n",
       "      <th>InstallDate</th>\n",
       "    </tr>\n",
       "  </thead>\n",
       "  <tbody>\n",
       "    <tr>\n",
       "      <th>284767</th>\n",
       "      <td>BikePoints_798</td>\n",
       "      <td>Birkenhead Street, King's Cross</td>\n",
       "      <td>300212</td>\n",
       "      <td>BikePoint</td>\n",
       "      <td>51.530199</td>\n",
       "      <td>-0.122299</td>\n",
       "      <td>True</td>\n",
       "      <td>True</td>\n",
       "      <td>True</td>\n",
       "      <td></td>\n",
       "      <td>NaT</td>\n",
       "    </tr>\n",
       "    <tr>\n",
       "      <th>270289</th>\n",
       "      <td>BikePoints_798</td>\n",
       "      <td>Birkenhead Street, King's Cross</td>\n",
       "      <td>300212</td>\n",
       "      <td>BikePoint</td>\n",
       "      <td>51.530199</td>\n",
       "      <td>0.122299</td>\n",
       "      <td>True</td>\n",
       "      <td>True</td>\n",
       "      <td>True</td>\n",
       "      <td></td>\n",
       "      <td>NaT</td>\n",
       "    </tr>\n",
       "    <tr>\n",
       "      <th>71111</th>\n",
       "      <td>BikePoints_799</td>\n",
       "      <td>Kings Gate House, Westminster</td>\n",
       "      <td>300202</td>\n",
       "      <td>BikePoint</td>\n",
       "      <td>51.497698</td>\n",
       "      <td>-0.137598</td>\n",
       "      <td>True</td>\n",
       "      <td>True</td>\n",
       "      <td>True</td>\n",
       "      <td></td>\n",
       "      <td>NaT</td>\n",
       "    </tr>\n",
       "    <tr>\n",
       "      <th>143515</th>\n",
       "      <td>BikePoints_799</td>\n",
       "      <td>Kings Gate House, Westminster</td>\n",
       "      <td>300202</td>\n",
       "      <td>BikePoint</td>\n",
       "      <td>51.497698</td>\n",
       "      <td>-0.137598</td>\n",
       "      <td>True</td>\n",
       "      <td>True</td>\n",
       "      <td>True</td>\n",
       "      <td></td>\n",
       "      <td>2016-06-02 14:08:00</td>\n",
       "    </tr>\n",
       "    <tr>\n",
       "      <th>120243</th>\n",
       "      <td>BikePoints_802</td>\n",
       "      <td>Albert Square, Stockwell</td>\n",
       "      <td>300209</td>\n",
       "      <td>BikePoint</td>\n",
       "      <td>51.476590</td>\n",
       "      <td>-0.118256</td>\n",
       "      <td>True</td>\n",
       "      <td>True</td>\n",
       "      <td>True</td>\n",
       "      <td></td>\n",
       "      <td>NaT</td>\n",
       "    </tr>\n",
       "    <tr>\n",
       "      <th>115976</th>\n",
       "      <td>BikePoints_802</td>\n",
       "      <td>Albert Square, Stockwell</td>\n",
       "      <td>300209</td>\n",
       "      <td>BikePoint</td>\n",
       "      <td>51.476590</td>\n",
       "      <td>-0.118256</td>\n",
       "      <td>True</td>\n",
       "      <td>True</td>\n",
       "      <td>True</td>\n",
       "      <td></td>\n",
       "      <td>2016-06-02 11:05:00</td>\n",
       "    </tr>\n",
       "    <tr>\n",
       "      <th>127903</th>\n",
       "      <td>BikePoints_814</td>\n",
       "      <td>Clapham Road, Lingham Street, Stockwell</td>\n",
       "      <td>300245</td>\n",
       "      <td>BikePoint</td>\n",
       "      <td>51.471433</td>\n",
       "      <td>-0.123670</td>\n",
       "      <td>True</td>\n",
       "      <td>True</td>\n",
       "      <td>True</td>\n",
       "      <td></td>\n",
       "      <td>NaT</td>\n",
       "    </tr>\n",
       "    <tr>\n",
       "      <th>128209</th>\n",
       "      <td>BikePoints_814</td>\n",
       "      <td>Clapham Road, Lingham Street, Stockwell</td>\n",
       "      <td>300245</td>\n",
       "      <td>BikePoint</td>\n",
       "      <td>51.471433</td>\n",
       "      <td>-0.123670</td>\n",
       "      <td>True</td>\n",
       "      <td>True</td>\n",
       "      <td>True</td>\n",
       "      <td></td>\n",
       "      <td>2016-06-02 12:21:00</td>\n",
       "    </tr>\n",
       "    <tr>\n",
       "      <th>268292</th>\n",
       "      <td>BikePoints_818</td>\n",
       "      <td>One Tower Bridge, Southwark</td>\n",
       "      <td>300249</td>\n",
       "      <td>BikePoint</td>\n",
       "      <td>51.503127</td>\n",
       "      <td>-0.078655</td>\n",
       "      <td>True</td>\n",
       "      <td>True</td>\n",
       "      <td>True</td>\n",
       "      <td></td>\n",
       "      <td>NaT</td>\n",
       "    </tr>\n",
       "    <tr>\n",
       "      <th>119919</th>\n",
       "      <td>BikePoints_818</td>\n",
       "      <td>One Tower Bridge, Bermondsey</td>\n",
       "      <td>300249</td>\n",
       "      <td>BikePoint</td>\n",
       "      <td>51.503127</td>\n",
       "      <td>-0.078655</td>\n",
       "      <td>True</td>\n",
       "      <td>True</td>\n",
       "      <td>True</td>\n",
       "      <td></td>\n",
       "      <td>NaT</td>\n",
       "    </tr>\n",
       "  </tbody>\n",
       "</table>\n",
       "</div>"
      ],
      "text/plain": [
       "                    Id                                     Name TerminalName  \\\n",
       "284767  BikePoints_798          Birkenhead Street, King's Cross       300212   \n",
       "270289  BikePoints_798          Birkenhead Street, King's Cross       300212   \n",
       "71111   BikePoints_799            Kings Gate House, Westminster       300202   \n",
       "143515  BikePoints_799            Kings Gate House, Westminster       300202   \n",
       "120243  BikePoints_802                 Albert Square, Stockwell       300209   \n",
       "115976  BikePoints_802                 Albert Square, Stockwell       300209   \n",
       "127903  BikePoints_814  Clapham Road, Lingham Street, Stockwell       300245   \n",
       "128209  BikePoints_814  Clapham Road, Lingham Street, Stockwell       300245   \n",
       "268292  BikePoints_818              One Tower Bridge, Southwark       300249   \n",
       "119919  BikePoints_818             One Tower Bridge, Bermondsey       300249   \n",
       "\n",
       "        PlaceType   Latitude  Longitude Installed Temporary Locked  \\\n",
       "284767  BikePoint  51.530199  -0.122299      True      True   True   \n",
       "270289  BikePoint  51.530199   0.122299      True      True   True   \n",
       "71111   BikePoint  51.497698  -0.137598      True      True   True   \n",
       "143515  BikePoint  51.497698  -0.137598      True      True   True   \n",
       "120243  BikePoint  51.476590  -0.118256      True      True   True   \n",
       "115976  BikePoint  51.476590  -0.118256      True      True   True   \n",
       "127903  BikePoint  51.471433  -0.123670      True      True   True   \n",
       "128209  BikePoint  51.471433  -0.123670      True      True   True   \n",
       "268292  BikePoint  51.503127  -0.078655      True      True   True   \n",
       "119919  BikePoint  51.503127  -0.078655      True      True   True   \n",
       "\n",
       "       RemovalDate         InstallDate  \n",
       "284767                             NaT  \n",
       "270289                             NaT  \n",
       "71111                              NaT  \n",
       "143515             2016-06-02 14:08:00  \n",
       "120243                             NaT  \n",
       "115976             2016-06-02 11:05:00  \n",
       "127903                             NaT  \n",
       "128209             2016-06-02 12:21:00  \n",
       "268292                             NaT  \n",
       "119919                             NaT  "
      ]
     },
     "execution_count": 19,
     "metadata": {},
     "output_type": "execute_result"
    }
   ],
   "source": [
    "def find_names_changes(df):\n",
    "    \"\"\"Find Ids that have more than one Name or TerminalName\"\"\"\n",
    "    \n",
    "    names_per_id_count = df.groupby('Id')['Name', 'TerminalName'].count()\n",
    "    ids_with_several_names = names_per_id_count[(names_per_id_count['Name'] != 1) | (names_per_id_count['Name'] != 1)]\n",
    "    return df[df['Id'].isin(ids_with_several_names.index.values)]\n",
    "\n",
    "ids_with_several_names_df = find_names_changes(stations_dataset)\n",
    "ids_with_several_names_df"
   ]
  },
  {
   "cell_type": "markdown",
   "metadata": {},
   "source": [
    "Given these records have the same location and Id but different Name or TerminalName, we'll assume the station changed name and remove the first entries."
   ]
  },
  {
   "cell_type": "code",
   "execution_count": 20,
   "metadata": {
    "collapsed": false
   },
   "outputs": [],
   "source": [
    "# get the index of the first repeated entries\n",
    "is_duplicated_id = ids_with_several_names_df.duplicated(['Id'], keep='last')\n",
    "duplicated_id_idx = is_duplicated_id[is_duplicated_id == True].index\n",
    "\n",
    "# drop entries using the index\n",
    "stations_dataset.drop(duplicated_id_idx, inplace=True)"
   ]
  },
  {
   "cell_type": "code",
   "execution_count": 21,
   "metadata": {
    "collapsed": false
   },
   "outputs": [],
   "source": [
    "# make sure there are no repeated ids \n",
    "assert len(find_names_changes(stations_dataset)) == 0"
   ]
  },
  {
   "cell_type": "markdown",
   "metadata": {},
   "source": [
    "#### Check Locations"
   ]
  },
  {
   "cell_type": "markdown",
   "metadata": {},
   "source": [
    "Let's have a closer look at the station locations. All of them should be in Greater London."
   ]
  },
  {
   "cell_type": "code",
   "execution_count": 22,
   "metadata": {
    "collapsed": false
   },
   "outputs": [
    {
     "data": {
      "text/html": [
       "<div>\n",
       "<table border=\"1\" class=\"dataframe\">\n",
       "  <thead>\n",
       "    <tr style=\"text-align: right;\">\n",
       "      <th></th>\n",
       "      <th>Id</th>\n",
       "      <th>Name</th>\n",
       "      <th>TerminalName</th>\n",
       "      <th>PlaceType</th>\n",
       "      <th>Latitude</th>\n",
       "      <th>Longitude</th>\n",
       "      <th>Installed</th>\n",
       "      <th>Temporary</th>\n",
       "      <th>Locked</th>\n",
       "      <th>RemovalDate</th>\n",
       "      <th>InstallDate</th>\n",
       "    </tr>\n",
       "  </thead>\n",
       "  <tbody>\n",
       "    <tr>\n",
       "      <th>750</th>\n",
       "      <td>BikePoints_791</td>\n",
       "      <td>Test Desktop</td>\n",
       "      <td>666666</td>\n",
       "      <td>BikePoint</td>\n",
       "      <td>0.0</td>\n",
       "      <td>0.0</td>\n",
       "      <td>True</td>\n",
       "      <td>True</td>\n",
       "      <td>True</td>\n",
       "      <td></td>\n",
       "      <td>2016-01-15 12:39:00</td>\n",
       "    </tr>\n",
       "  </tbody>\n",
       "</table>\n",
       "</div>"
      ],
      "text/plain": [
       "                 Id           Name TerminalName  PlaceType  Latitude  \\\n",
       "750  BikePoints_791  Test Desktop        666666  BikePoint       0.0   \n",
       "\n",
       "     Longitude Installed Temporary Locked RemovalDate         InstallDate  \n",
       "750        0.0      True      True   True             2016-01-15 12:39:00  "
      ]
     },
     "execution_count": 22,
     "metadata": {},
     "output_type": "execute_result"
    }
   ],
   "source": [
    "# bounding box for Greater London\n",
    "min_longitude = -0.489\n",
    "min_latitude = 51.28\n",
    "max_longitude = 0.236\n",
    "max_latitude = 51.686\n",
    "\n",
    "def find_locations_outside_box(locations, min_longitude, min_latitude, max_longitude, max_latitude):\n",
    "    latitude_check = ~(locations['Latitude'] >= min_latitude) & (locations['Latitude'] <= max_latitude) \n",
    "    longitude_check = ~(locations['Longitude'] >= min_longitude) & (locations['Longitude'] <= max_longitude) \n",
    "    return locations[(latitude_check | longitude_check)]\n",
    "\n",
    "outlier_locations_df = find_locations_outside_box(stations_dataset, min_longitude, min_latitude, max_longitude, max_latitude)\n",
    "outlier_locations_df"
   ]
  },
  {
   "cell_type": "code",
   "execution_count": 23,
   "metadata": {
    "collapsed": false
   },
   "outputs": [],
   "source": [
    "outlier_locations_idx = outlier_locations_df.index.values\n",
    "\n",
    "stations_dataset.drop(outlier_locations_idx, inplace=True)"
   ]
  },
  {
   "cell_type": "markdown",
   "metadata": {},
   "source": [
    "This station looks like a test dation, so we'll remove it."
   ]
  },
  {
   "cell_type": "code",
   "execution_count": 24,
   "metadata": {
    "collapsed": false
   },
   "outputs": [],
   "source": [
    "# make sure there are no stations outside london\n",
    "assert len(find_locations_outside_box(stations_dataset, min_longitude, min_latitude, max_longitude, max_latitude)) == 0"
   ]
  },
  {
   "cell_type": "markdown",
   "metadata": {},
   "source": [
    "We will investigate the fact that there are stations with duplicate latitude or longitude values."
   ]
  },
  {
   "cell_type": "code",
   "execution_count": 25,
   "metadata": {
    "collapsed": false
   },
   "outputs": [
    {
     "data": {
      "text/html": [
       "<div>\n",
       "<table border=\"1\" class=\"dataframe\">\n",
       "  <thead>\n",
       "    <tr style=\"text-align: right;\">\n",
       "      <th></th>\n",
       "      <th>Id</th>\n",
       "      <th>Name</th>\n",
       "      <th>TerminalName</th>\n",
       "      <th>PlaceType</th>\n",
       "      <th>Latitude</th>\n",
       "      <th>Longitude</th>\n",
       "      <th>Installed</th>\n",
       "      <th>Temporary</th>\n",
       "      <th>Locked</th>\n",
       "      <th>RemovalDate</th>\n",
       "      <th>InstallDate</th>\n",
       "    </tr>\n",
       "  </thead>\n",
       "  <tbody>\n",
       "    <tr>\n",
       "      <th>208</th>\n",
       "      <td>BikePoints_216</td>\n",
       "      <td>Old Brompton Road, South Kensington</td>\n",
       "      <td>003479</td>\n",
       "      <td>BikePoint</td>\n",
       "      <td>51.490945</td>\n",
       "      <td>-0.181190</td>\n",
       "      <td>True</td>\n",
       "      <td>True</td>\n",
       "      <td>True</td>\n",
       "      <td></td>\n",
       "      <td>2010-07-19 11:12:00</td>\n",
       "    </tr>\n",
       "    <tr>\n",
       "      <th>538</th>\n",
       "      <td>BikePoints_573</td>\n",
       "      <td>Limerston Street, West Chelsea</td>\n",
       "      <td>200001</td>\n",
       "      <td>BikePoint</td>\n",
       "      <td>51.485587</td>\n",
       "      <td>-0.181190</td>\n",
       "      <td>True</td>\n",
       "      <td>True</td>\n",
       "      <td>True</td>\n",
       "      <td></td>\n",
       "      <td>2012-03-15 07:21:00</td>\n",
       "    </tr>\n",
       "    <tr>\n",
       "      <th>20</th>\n",
       "      <td>BikePoints_21</td>\n",
       "      <td>Hampstead Road (Cartmel), Euston</td>\n",
       "      <td>003426</td>\n",
       "      <td>BikePoint</td>\n",
       "      <td>51.530078</td>\n",
       "      <td>-0.138846</td>\n",
       "      <td>True</td>\n",
       "      <td>True</td>\n",
       "      <td>True</td>\n",
       "      <td></td>\n",
       "      <td>2010-07-06 14:49:00</td>\n",
       "    </tr>\n",
       "    <tr>\n",
       "      <th>304</th>\n",
       "      <td>BikePoints_318</td>\n",
       "      <td>Sackville Street, Mayfair</td>\n",
       "      <td>001197</td>\n",
       "      <td>BikePoint</td>\n",
       "      <td>51.510048</td>\n",
       "      <td>-0.138846</td>\n",
       "      <td>True</td>\n",
       "      <td>True</td>\n",
       "      <td>True</td>\n",
       "      <td></td>\n",
       "      <td>2010-07-23 11:42:00</td>\n",
       "    </tr>\n",
       "    <tr>\n",
       "      <th>103</th>\n",
       "      <td>BikePoints_108</td>\n",
       "      <td>Abbey Orchard Street, Westminster</td>\n",
       "      <td>003429</td>\n",
       "      <td>BikePoint</td>\n",
       "      <td>51.498125</td>\n",
       "      <td>-0.132102</td>\n",
       "      <td>True</td>\n",
       "      <td>True</td>\n",
       "      <td>True</td>\n",
       "      <td></td>\n",
       "      <td>2010-07-14 11:42:00</td>\n",
       "    </tr>\n",
       "    <tr>\n",
       "      <th>586</th>\n",
       "      <td>BikePoints_624</td>\n",
       "      <td>Courland Grove, Wandsworth Road</td>\n",
       "      <td>200173</td>\n",
       "      <td>BikePoint</td>\n",
       "      <td>51.472918</td>\n",
       "      <td>-0.132102</td>\n",
       "      <td>True</td>\n",
       "      <td>True</td>\n",
       "      <td>True</td>\n",
       "      <td></td>\n",
       "      <td>2013-10-08 09:24:00</td>\n",
       "    </tr>\n",
       "    <tr>\n",
       "      <th>96</th>\n",
       "      <td>BikePoints_101</td>\n",
       "      <td>Queen Street 1, Bank</td>\n",
       "      <td>000999</td>\n",
       "      <td>BikePoint</td>\n",
       "      <td>51.511553</td>\n",
       "      <td>-0.092940</td>\n",
       "      <td>True</td>\n",
       "      <td>True</td>\n",
       "      <td>True</td>\n",
       "      <td></td>\n",
       "      <td>2010-07-14 10:18:00</td>\n",
       "    </tr>\n",
       "    <tr>\n",
       "      <th>401</th>\n",
       "      <td>BikePoints_427</td>\n",
       "      <td>Cheapside, Bank</td>\n",
       "      <td>022180</td>\n",
       "      <td>BikePoint</td>\n",
       "      <td>51.513970</td>\n",
       "      <td>-0.092940</td>\n",
       "      <td>True</td>\n",
       "      <td>True</td>\n",
       "      <td>True</td>\n",
       "      <td></td>\n",
       "      <td>2011-07-15 10:28:00</td>\n",
       "    </tr>\n",
       "    <tr>\n",
       "      <th>103</th>\n",
       "      <td>BikePoints_108</td>\n",
       "      <td>Abbey Orchard Street, Westminster</td>\n",
       "      <td>003429</td>\n",
       "      <td>BikePoint</td>\n",
       "      <td>51.498125</td>\n",
       "      <td>-0.132102</td>\n",
       "      <td>True</td>\n",
       "      <td>True</td>\n",
       "      <td>True</td>\n",
       "      <td></td>\n",
       "      <td>2010-07-14 11:42:00</td>\n",
       "    </tr>\n",
       "    <tr>\n",
       "      <th>444</th>\n",
       "      <td>BikePoints_474</td>\n",
       "      <td>Castalia Square, Cubitt Town</td>\n",
       "      <td>200155</td>\n",
       "      <td>BikePoint</td>\n",
       "      <td>51.498125</td>\n",
       "      <td>-0.011457</td>\n",
       "      <td>True</td>\n",
       "      <td>True</td>\n",
       "      <td>True</td>\n",
       "      <td></td>\n",
       "      <td>2012-01-17 17:56:00</td>\n",
       "    </tr>\n",
       "    <tr>\n",
       "      <th>438</th>\n",
       "      <td>BikePoints_468</td>\n",
       "      <td>Cantrell Road, Bow</td>\n",
       "      <td>200150</td>\n",
       "      <td>BikePoint</td>\n",
       "      <td>51.521564</td>\n",
       "      <td>-0.022694</td>\n",
       "      <td>True</td>\n",
       "      <td>True</td>\n",
       "      <td>True</td>\n",
       "      <td></td>\n",
       "      <td>2012-01-12 13:42:00</td>\n",
       "    </tr>\n",
       "    <tr>\n",
       "      <th>516</th>\n",
       "      <td>BikePoints_550</td>\n",
       "      <td>Harford Street, Mile End</td>\n",
       "      <td>200102</td>\n",
       "      <td>BikePoint</td>\n",
       "      <td>51.521564</td>\n",
       "      <td>-0.039264</td>\n",
       "      <td>True</td>\n",
       "      <td>True</td>\n",
       "      <td>True</td>\n",
       "      <td></td>\n",
       "      <td>NaT</td>\n",
       "    </tr>\n",
       "    <tr>\n",
       "      <th>313</th>\n",
       "      <td>BikePoints_327</td>\n",
       "      <td>New North Road 1, Hoxton</td>\n",
       "      <td>001128</td>\n",
       "      <td>BikePoint</td>\n",
       "      <td>51.530950</td>\n",
       "      <td>-0.085603</td>\n",
       "      <td>True</td>\n",
       "      <td>True</td>\n",
       "      <td>True</td>\n",
       "      <td></td>\n",
       "      <td>2010-07-26 08:37:00</td>\n",
       "    </tr>\n",
       "    <tr>\n",
       "      <th>91</th>\n",
       "      <td>BikePoints_96</td>\n",
       "      <td>Falkirk Street, Hoxton</td>\n",
       "      <td>001047</td>\n",
       "      <td>BikePoint</td>\n",
       "      <td>51.530950</td>\n",
       "      <td>-0.078505</td>\n",
       "      <td>True</td>\n",
       "      <td>True</td>\n",
       "      <td>True</td>\n",
       "      <td></td>\n",
       "      <td>2010-07-14 08:43:00</td>\n",
       "    </tr>\n",
       "  </tbody>\n",
       "</table>\n",
       "</div>"
      ],
      "text/plain": [
       "                 Id                                 Name TerminalName  \\\n",
       "208  BikePoints_216  Old Brompton Road, South Kensington       003479   \n",
       "538  BikePoints_573       Limerston Street, West Chelsea       200001   \n",
       "20    BikePoints_21     Hampstead Road (Cartmel), Euston       003426   \n",
       "304  BikePoints_318            Sackville Street, Mayfair       001197   \n",
       "103  BikePoints_108    Abbey Orchard Street, Westminster       003429   \n",
       "586  BikePoints_624      Courland Grove, Wandsworth Road       200173   \n",
       "96   BikePoints_101                 Queen Street 1, Bank       000999   \n",
       "401  BikePoints_427                      Cheapside, Bank       022180   \n",
       "103  BikePoints_108    Abbey Orchard Street, Westminster       003429   \n",
       "444  BikePoints_474         Castalia Square, Cubitt Town       200155   \n",
       "438  BikePoints_468                   Cantrell Road, Bow       200150   \n",
       "516  BikePoints_550             Harford Street, Mile End       200102   \n",
       "313  BikePoints_327             New North Road 1, Hoxton       001128   \n",
       "91    BikePoints_96               Falkirk Street, Hoxton       001047   \n",
       "\n",
       "     PlaceType   Latitude  Longitude Installed Temporary Locked RemovalDate  \\\n",
       "208  BikePoint  51.490945  -0.181190      True      True   True               \n",
       "538  BikePoint  51.485587  -0.181190      True      True   True               \n",
       "20   BikePoint  51.530078  -0.138846      True      True   True               \n",
       "304  BikePoint  51.510048  -0.138846      True      True   True               \n",
       "103  BikePoint  51.498125  -0.132102      True      True   True               \n",
       "586  BikePoint  51.472918  -0.132102      True      True   True               \n",
       "96   BikePoint  51.511553  -0.092940      True      True   True               \n",
       "401  BikePoint  51.513970  -0.092940      True      True   True               \n",
       "103  BikePoint  51.498125  -0.132102      True      True   True               \n",
       "444  BikePoint  51.498125  -0.011457      True      True   True               \n",
       "438  BikePoint  51.521564  -0.022694      True      True   True               \n",
       "516  BikePoint  51.521564  -0.039264      True      True   True               \n",
       "313  BikePoint  51.530950  -0.085603      True      True   True               \n",
       "91   BikePoint  51.530950  -0.078505      True      True   True               \n",
       "\n",
       "            InstallDate  \n",
       "208 2010-07-19 11:12:00  \n",
       "538 2012-03-15 07:21:00  \n",
       "20  2010-07-06 14:49:00  \n",
       "304 2010-07-23 11:42:00  \n",
       "103 2010-07-14 11:42:00  \n",
       "586 2013-10-08 09:24:00  \n",
       "96  2010-07-14 10:18:00  \n",
       "401 2011-07-15 10:28:00  \n",
       "103 2010-07-14 11:42:00  \n",
       "444 2012-01-17 17:56:00  \n",
       "438 2012-01-12 13:42:00  \n",
       "516                 NaT  \n",
       "313 2010-07-26 08:37:00  \n",
       "91  2010-07-14 08:43:00  "
      ]
     },
     "execution_count": 25,
     "metadata": {},
     "output_type": "execute_result"
    }
   ],
   "source": [
    "# find stations with duplicate longitude\n",
    "id_counts_groupedby_longitude = stations_dataset.groupby('Longitude')['Id'].count()\n",
    "nonunique_longitudes = id_counts_groupedby_longitude[id_counts_groupedby_longitude != 1].index.values\n",
    "nonunique_longitude_stations = stations_dataset[stations_dataset['Longitude'].isin(nonunique_longitudes)].sort_values(by=['Longitude'])\n",
    "\n",
    "id_counts_groupedby_latitude = stations_dataset.groupby('Latitude')['Id'].count()\n",
    "nonunique_latitudes = id_counts_groupedby_latitude[id_counts_groupedby_latitude != 1].index.values\n",
    "nonunique_latitudes_stations = stations_dataset[stations_dataset['Latitude'].isin(nonunique_latitudes)].sort_values(by=['Latitude'])\n",
    "\n",
    "nonunique_coordinates_stations = pd.concat([nonunique_longitude_stations, nonunique_latitudes_stations])\n",
    "nonunique_coordinates_stations"
   ]
  },
  {
   "cell_type": "code",
   "execution_count": 26,
   "metadata": {
    "collapsed": true
   },
   "outputs": [],
   "source": [
    "def draw_stations_map(stations_df):\n",
    "    london_longitude = -0.127722\n",
    "    london_latitude = 51.507981\n",
    "    \n",
    "    stations_map = folium.Map(location=[london_latitude, london_longitude], zoom_start=12,\n",
    "                      min_lat=min_latitude, max_lat=max_latitude,\n",
    "                      min_lon=min_longitude, max_lon=max_longitude)\n",
    "\n",
    "    for index, station in stations_df.iterrows():\n",
    "        folium.Marker([station['Latitude'],station['Longitude']], popup=station['Name']).add_to(stations_map)\n",
    "    \n",
    "    return stations_map"
   ]
  },
  {
   "cell_type": "code",
   "execution_count": 27,
   "metadata": {
    "collapsed": false,
    "scrolled": false
   },
   "outputs": [
    {
     "data": {
      "text/html": [
       "<div style=\"width:100%;\"><div style=\"position:relative;width:100%;height:0;padding-bottom:60%;\"><iframe src=\"data:text/html;base64,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\" style=\"position:absolute;width:100%;height:100%;left:0;top:0;\"></iframe></div></div>"
      ],
      "text/plain": [
       "<folium.folium.Map at 0x7f0f2a908910>"
      ]
     },
     "execution_count": 27,
     "metadata": {},
     "output_type": "execute_result"
    }
   ],
   "source": [
    "draw_stations_map(nonunique_coordinates_stations)"
   ]
  },
  {
   "cell_type": "markdown",
   "metadata": {},
   "source": [
    "We can observe that the stations are different and that having the same Longitude is just a coincidence."
   ]
  },
  {
   "cell_type": "markdown",
   "metadata": {},
   "source": [
    "Let's plot all the stations in a map to see how it looks"
   ]
  },
  {
   "cell_type": "code",
   "execution_count": 28,
   "metadata": {
    "collapsed": false
   },
   "outputs": [
    {
     "data": {
      "text/html": [
       "<div style=\"width:100%;\"><div style=\"position:relative;width:100%;height:0;padding-bottom:60%;\"><iframe src=\"data:text/html;base64,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\" style=\"position:absolute;width:100%;height:100%;left:0;top:0;\"></iframe></div></div>"
      ],
      "text/plain": [
       "<folium.folium.Map at 0x7f0f34712a10>"
      ]
     },
     "execution_count": 28,
     "metadata": {},
     "output_type": "execute_result"
    }
   ],
   "source": [
    "london_longitude = -0.127722\n",
    "london_latitude = 51.507981\n",
    "\n",
    "MAX_RECORDS = 100\n",
    "\n",
    "stations_map = folium.Map(location=[london_latitude, london_longitude], zoom_start=12,\n",
    "                  min_lat=min_latitude, max_lat=max_latitude,\n",
    "                  min_lon=min_longitude, max_lon=max_longitude)\n",
    "\n",
    "for index, station in stations_dataset[0:MAX_RECORDS].iterrows():\n",
    "    folium.Marker([station['Latitude'],station['Longitude']], popup=station['Name']).add_to(stations_map)\n",
    "    \n",
    "stations_map\n",
    "\n",
    "#folium.Map.save(stations_map, 'reports/maps/stations_map.html')"
   ]
  },
  {
   "cell_type": "markdown",
   "metadata": {},
   "source": [
    "#### Check Station Status\n",
    "\n",
    "We must make sure that all stations in our dataset are installed and locked."
   ]
  },
  {
   "cell_type": "code",
   "execution_count": 29,
   "metadata": {
    "collapsed": false
   },
   "outputs": [],
   "source": [
    "# make sure all stations in our dataset are installed and locked\n",
    "assert len(stations_dataset[stations_dataset['Installed'] == False]) == 0\n",
    "assert len(stations_dataset[stations_dataset['Locked'] == False]) == 0"
   ]
  },
  {
   "cell_type": "markdown",
   "metadata": {},
   "source": [
    "## Data Summary"
   ]
  },
  {
   "cell_type": "code",
   "execution_count": 30,
   "metadata": {
    "collapsed": false
   },
   "outputs": [
    {
     "ename": "NameError",
     "evalue": "name 'a' is not defined",
     "output_type": "error",
     "traceback": [
      "\u001b[1;31m---------------------------------------------------------------------------\u001b[0m",
      "\u001b[1;31mNameError\u001b[0m                                 Traceback (most recent call last)",
      "\u001b[1;32m<ipython-input-30-bfcd054d6d2c>\u001b[0m in \u001b[0;36m<module>\u001b[1;34m()\u001b[0m\n\u001b[1;32m----> 1\u001b[1;33m \u001b[0mpd\u001b[0m\u001b[1;33m.\u001b[0m\u001b[0mconcat\u001b[0m\u001b[1;33m(\u001b[0m\u001b[1;33m[\u001b[0m\u001b[0ma\u001b[0m\u001b[1;33m,\u001b[0m \u001b[0mpd\u001b[0m\u001b[1;33m.\u001b[0m\u001b[0mDataFrame\u001b[0m\u001b[1;33m(\u001b[0m\u001b[1;33m)\u001b[0m\u001b[1;33m]\u001b[0m\u001b[1;33m)\u001b[0m\u001b[1;33m\u001b[0m\u001b[0m\n\u001b[0m",
      "\u001b[1;31mNameError\u001b[0m: name 'a' is not defined"
     ]
    }
   ],
   "source": [
    "pd.concat([a, pd.DataFrame()])"
   ]
  },
  {
   "cell_type": "code",
   "execution_count": null,
   "metadata": {
    "collapsed": false
   },
   "outputs": [],
   "source": []
  },
  {
   "cell_type": "markdown",
   "metadata": {},
   "source": [
    "### Import into Pandas"
   ]
  },
  {
   "cell_type": "code",
   "execution_count": null,
   "metadata": {
    "collapsed": false
   },
   "outputs": [],
   "source": []
  },
  {
   "cell_type": "code",
   "execution_count": null,
   "metadata": {
    "collapsed": false
   },
   "outputs": [],
   "source": [
    "dataset = pd.DataFrame(list(itertools.chain.from_iterable(records)))\n",
    "\n",
    "dataset.shape"
   ]
  },
  {
   "cell_type": "code",
   "execution_count": null,
   "metadata": {
    "collapsed": false,
    "scrolled": true
   },
   "outputs": [],
   "source": [
    "\n",
    "dataset.head()"
   ]
  },
  {
   "cell_type": "code",
   "execution_count": null,
   "metadata": {
    "collapsed": false
   },
   "outputs": [],
   "source": [
    "\n",
    "nuniques = dataset.apply(lambda x:x.nunique())\n",
    "constant_cols = nuniques[nuniques == 1].index\n",
    "print 'Constant columns: %s' % constant_cols\n",
    "dataset = dataset.drop(constant_cols, axis=1)"
   ]
  },
  {
   "cell_type": "markdown",
   "metadata": {},
   "source": [
    "### Convert to Appropriate DataTypes"
   ]
  },
  {
   "cell_type": "markdown",
   "metadata": {},
   "source": [
    "### Derive Variables"
   ]
  },
  {
   "cell_type": "markdown",
   "metadata": {},
   "source": [
    "### Data Description"
   ]
  },
  {
   "cell_type": "code",
   "execution_count": null,
   "metadata": {
    "collapsed": false
   },
   "outputs": [],
   "source": [
    "dataset.info(memory_usage='deep')"
   ]
  },
  {
   "cell_type": "code",
   "execution_count": null,
   "metadata": {
    "collapsed": false
   },
   "outputs": [],
   "source": []
  },
  {
   "cell_type": "markdown",
   "metadata": {
    "collapsed": false
   },
   "source": []
  },
  {
   "cell_type": "markdown",
   "metadata": {
    "collapsed": true
   },
   "source": [
    "## Consistent Correct Data"
   ]
  },
  {
   "cell_type": "code",
   "execution_count": null,
   "metadata": {
    "collapsed": false
   },
   "outputs": [],
   "source": [
    "dataset.describe()"
   ]
  },
  {
   "cell_type": "markdown",
   "metadata": {},
   "source": [
    "### Missing Values\n",
    "\n"
   ]
  },
  {
   "cell_type": "markdown",
   "metadata": {},
   "source": [
    "### Outliers"
   ]
  },
  {
   "cell_type": "markdown",
   "metadata": {},
   "source": [
    "### Errors"
   ]
  },
  {
   "cell_type": "markdown",
   "metadata": {},
   "source": [
    "### Consistency"
   ]
  },
  {
   "cell_type": "markdown",
   "metadata": {},
   "source": [
    "## Exploratory Data Analysis"
   ]
  },
  {
   "cell_type": "markdown",
   "metadata": {},
   "source": [
    "### Visual Representation"
   ]
  },
  {
   "cell_type": "markdown",
   "metadata": {},
   "source": [
    "### Examine Variable Relationships"
   ]
  },
  {
   "cell_type": "markdown",
   "metadata": {},
   "source": [
    "### Analyze Variable Over Time"
   ]
  },
  {
   "cell_type": "markdown",
   "metadata": {},
   "source": [
    "## Conclusions"
   ]
  },
  {
   "cell_type": "code",
   "execution_count": null,
   "metadata": {
    "collapsed": true
   },
   "outputs": [],
   "source": []
  }
 ],
 "metadata": {
  "kernelspec": {
   "display_name": "Python 2",
   "language": "python",
   "name": "python2"
  },
  "language_info": {
   "codemirror_mode": {
    "name": "ipython",
    "version": 2
   },
   "file_extension": ".py",
   "mimetype": "text/x-python",
   "name": "python",
   "nbconvert_exporter": "python",
   "pygments_lexer": "ipython2",
   "version": "2.7.11"
  }
 },
 "nbformat": 4,
 "nbformat_minor": 0
}
