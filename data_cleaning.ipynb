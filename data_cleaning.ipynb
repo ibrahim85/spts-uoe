{
 "cells": [
  {
   "cell_type": "markdown",
   "metadata": {
    "collapsed": true
   },
   "source": [
    "# Data Cleaning"
   ]
  },
  {
   "cell_type": "markdown",
   "metadata": {},
   "source": [
    "## Data Dictionary\n",
    "\n",
    "The raw data contains the following data per station per reading:\n",
    "\n",
    "* Id - String - API Resource Id\n",
    "* Name - String - The common name of the station\n",
    "* PlaceType - String ?\n",
    "* TerminalName - String - ?\n",
    "* NbBikes - Integer - The number of available bikes\n",
    "* NbDocks - Integer - The total number of docking spaces\n",
    "* NbEmptyDocks - Integer - The number of available empty docking spaces\n",
    "* Timestamp - DateTime - The moment this reading was captured\n",
    "* InstallDate - DateTime - Date when the station was installed\n",
    "* RemovalDate - DateTime - Date when the station was removed\n",
    "* Installed - Boolean - If the station is installed or not\n",
    "* Locked - Boolean - ?\n",
    "* Temporary - Boolean - If the station is temporary or not (TfL adds temporary stations to cope with demand.)\n",
    "* Latitude - Float - Latitude Coordinate\n",
    "* Longitude - Float - Longitude Coordinate\n",
    "\n",
    "The following variables will be derived from the raw data.\n",
    "\n",
    "* NbUnusableDocks - Integer - The number of non-working docking spaces. Computed with NbUnusableDocks = NbDocks - (NbBikes + NbEmptyDocks)"
   ]
  },
  {
   "cell_type": "markdown",
   "metadata": {},
   "source": [
    "## Set up"
   ]
  },
  {
   "cell_type": "markdown",
   "metadata": {},
   "source": [
    "### Imports"
   ]
  },
  {
   "cell_type": "code",
   "execution_count": 1,
   "metadata": {
    "collapsed": false
   },
   "outputs": [],
   "source": [
    "import logging\n",
    "import itertools\n",
    "import json\n",
    "import os\n",
    "import pickle\n",
    "import pandas as pd\n",
    "import matplotlib.pyplot as plt\n",
    "\n",
    "from mpl_toolkits.basemap import Basemap\n",
    "from datetime import datetime\n",
    "from os import listdir\n",
    "from os.path import isfile, join\n",
    "from src.data.parse_dataset import parse_dir, parse_json_files, get_file_list\n",
    "from IPython.display import Image\n",
    "\n",
    "logger = logging.getLogger()\n",
    "logger.setLevel(logging.INFO)"
   ]
  },
  {
   "cell_type": "markdown",
   "metadata": {},
   "source": [
    "## Parse Raw Data "
   ]
  },
  {
   "cell_type": "markdown",
   "metadata": {},
   "source": [
    "### Define the Parsing Functions"
   ]
  },
  {
   "cell_type": "code",
   "execution_count": 2,
   "metadata": {
    "collapsed": true
   },
   "outputs": [],
   "source": [
    "def parse_cycles(json_obj):\n",
    "    \"\"\"Parses TfL's BikePoint JSON response\"\"\"\n",
    "\n",
    "    return [parse_station(element) for element in json_obj]\n",
    "\n",
    "def parse_station(element):\n",
    "    \"\"\"Parses a JSON bicycle station object to a dictionary\"\"\"\n",
    "\n",
    "    obj = {\n",
    "        'Id': element['id'],\n",
    "        'Name': element['commonName'],\n",
    "        'Latitude': element['lat'],\n",
    "        'Longitude': element['lon'],\n",
    "        'PlaceType': element['placeType'],\n",
    "    }\n",
    "\n",
    "    for p in element['additionalProperties']:\n",
    "        obj[p['key']] = p['value']\n",
    "\n",
    "        if 'timestamp' not in obj:\n",
    "            obj['Timestamp'] = p['modified']\n",
    "        elif obj['Timestamp'] != p['modified']:\n",
    "            raise ValueError('The properties\\' timestamps for station %s do not match: %s != %s' % (\n",
    "            obj['id'], obj['Timestamp'], p['modified']))\n",
    "\n",
    "    return obj"
   ]
  },
  {
   "cell_type": "code",
   "execution_count": 3,
   "metadata": {
    "collapsed": false
   },
   "outputs": [],
   "source": [
    "def bike_file_date_fn(file_name):\n",
    "    \"\"\"Gets the file's date\"\"\"\n",
    "\n",
    "    return datetime.strptime(os.path.basename(file_name), 'BIKE-%Y-%m-%d:%H:%M:%S.json')\n",
    "\n",
    "def create_between_dates_filter(file_date_fn, date_start, date_end):\n",
    "    def filter_fn(file_name):\n",
    "        file_date = file_date_fn(file_name)\n",
    "        return file_date >= date_start and file_date <= date_end\n",
    "    \n",
    "    return filter_fn"
   ]
  },
  {
   "cell_type": "markdown",
   "metadata": {},
   "source": [
    "### Quick Data View"
   ]
  },
  {
   "cell_type": "markdown",
   "metadata": {},
   "source": [
    "#### Load Single Day Data"
   ]
  },
  {
   "cell_type": "code",
   "execution_count": 4,
   "metadata": {
    "collapsed": false
   },
   "outputs": [],
   "source": [
    "filter_fn = create_between_dates_filter(bike_file_date_fn, \n",
    "                                       datetime(2016, 5, 16, 7, 0, 0),\n",
    "                                       datetime(2016, 5, 16, 23, 59, 59))\n",
    "\n",
    "records = parse_dir('/home/jfconavarrete/Documents/Work/Dissertation/spts-uoe/data/raw', \n",
    "                    parse_cycles, sort_fn=bike_file_date_fn, filter_fn=filter_fn)\n",
    "\n",
    "# records is a list of lists of dicts\n",
    "df = pd.DataFrame(list(itertools.chain.from_iterable(records))) "
   ]
  },
  {
   "cell_type": "markdown",
   "metadata": {},
   "source": [
    "####  All Station View"
   ]
  },
  {
   "cell_type": "code",
   "execution_count": 5,
   "metadata": {
    "collapsed": false,
    "scrolled": true
   },
   "outputs": [
    {
     "data": {
      "text/html": [
       "<div>\n",
       "<table border=\"1\" class=\"dataframe\">\n",
       "  <thead>\n",
       "    <tr style=\"text-align: right;\">\n",
       "      <th></th>\n",
       "      <th>Id</th>\n",
       "      <th>InstallDate</th>\n",
       "      <th>Installed</th>\n",
       "      <th>Latitude</th>\n",
       "      <th>Locked</th>\n",
       "      <th>Longitude</th>\n",
       "      <th>Name</th>\n",
       "      <th>NbBikes</th>\n",
       "      <th>NbDocks</th>\n",
       "      <th>NbEmptyDocks</th>\n",
       "      <th>PlaceType</th>\n",
       "      <th>RemovalDate</th>\n",
       "      <th>Temporary</th>\n",
       "      <th>TerminalName</th>\n",
       "      <th>Timestamp</th>\n",
       "    </tr>\n",
       "  </thead>\n",
       "  <tbody>\n",
       "    <tr>\n",
       "      <th>0</th>\n",
       "      <td>BikePoints_1</td>\n",
       "      <td>1278947280000</td>\n",
       "      <td>true</td>\n",
       "      <td>51.529163</td>\n",
       "      <td>false</td>\n",
       "      <td>-0.109970</td>\n",
       "      <td>River Street , Clerkenwell</td>\n",
       "      <td>11</td>\n",
       "      <td>19</td>\n",
       "      <td>7</td>\n",
       "      <td>BikePoint</td>\n",
       "      <td></td>\n",
       "      <td>false</td>\n",
       "      <td>001023</td>\n",
       "      <td>2016-05-16T06:26:24.037</td>\n",
       "    </tr>\n",
       "    <tr>\n",
       "      <th>1</th>\n",
       "      <td>BikePoints_2</td>\n",
       "      <td>1278585780000</td>\n",
       "      <td>true</td>\n",
       "      <td>51.499606</td>\n",
       "      <td>false</td>\n",
       "      <td>-0.197574</td>\n",
       "      <td>Phillimore Gardens, Kensington</td>\n",
       "      <td>12</td>\n",
       "      <td>37</td>\n",
       "      <td>25</td>\n",
       "      <td>BikePoint</td>\n",
       "      <td></td>\n",
       "      <td>false</td>\n",
       "      <td>001018</td>\n",
       "      <td>2016-05-16T06:26:24.037</td>\n",
       "    </tr>\n",
       "    <tr>\n",
       "      <th>2</th>\n",
       "      <td>BikePoints_3</td>\n",
       "      <td>1278240360000</td>\n",
       "      <td>true</td>\n",
       "      <td>51.521283</td>\n",
       "      <td>false</td>\n",
       "      <td>-0.084605</td>\n",
       "      <td>Christopher Street, Liverpool Street</td>\n",
       "      <td>6</td>\n",
       "      <td>32</td>\n",
       "      <td>26</td>\n",
       "      <td>BikePoint</td>\n",
       "      <td></td>\n",
       "      <td>false</td>\n",
       "      <td>001012</td>\n",
       "      <td>2016-05-16T06:51:27.5</td>\n",
       "    </tr>\n",
       "    <tr>\n",
       "      <th>3</th>\n",
       "      <td>BikePoints_4</td>\n",
       "      <td>1278241080000</td>\n",
       "      <td>true</td>\n",
       "      <td>51.530059</td>\n",
       "      <td>false</td>\n",
       "      <td>-0.120973</td>\n",
       "      <td>St. Chad's Street, King's Cross</td>\n",
       "      <td>14</td>\n",
       "      <td>23</td>\n",
       "      <td>9</td>\n",
       "      <td>BikePoint</td>\n",
       "      <td></td>\n",
       "      <td>false</td>\n",
       "      <td>001013</td>\n",
       "      <td>2016-05-16T06:51:27.5</td>\n",
       "    </tr>\n",
       "    <tr>\n",
       "      <th>4</th>\n",
       "      <td>BikePoints_5</td>\n",
       "      <td>1278241440000</td>\n",
       "      <td>true</td>\n",
       "      <td>51.493130</td>\n",
       "      <td>false</td>\n",
       "      <td>-0.156876</td>\n",
       "      <td>Sedding Street, Sloane Square</td>\n",
       "      <td>27</td>\n",
       "      <td>27</td>\n",
       "      <td>0</td>\n",
       "      <td>BikePoint</td>\n",
       "      <td></td>\n",
       "      <td>false</td>\n",
       "      <td>003420</td>\n",
       "      <td>2016-05-16T06:46:27.237</td>\n",
       "    </tr>\n",
       "  </tbody>\n",
       "</table>\n",
       "</div>"
      ],
      "text/plain": [
       "             Id    InstallDate Installed   Latitude Locked  Longitude  \\\n",
       "0  BikePoints_1  1278947280000      true  51.529163  false  -0.109970   \n",
       "1  BikePoints_2  1278585780000      true  51.499606  false  -0.197574   \n",
       "2  BikePoints_3  1278240360000      true  51.521283  false  -0.084605   \n",
       "3  BikePoints_4  1278241080000      true  51.530059  false  -0.120973   \n",
       "4  BikePoints_5  1278241440000      true  51.493130  false  -0.156876   \n",
       "\n",
       "                                   Name NbBikes NbDocks NbEmptyDocks  \\\n",
       "0            River Street , Clerkenwell      11      19            7   \n",
       "1        Phillimore Gardens, Kensington      12      37           25   \n",
       "2  Christopher Street, Liverpool Street       6      32           26   \n",
       "3       St. Chad's Street, King's Cross      14      23            9   \n",
       "4         Sedding Street, Sloane Square      27      27            0   \n",
       "\n",
       "   PlaceType RemovalDate Temporary TerminalName                Timestamp  \n",
       "0  BikePoint                 false       001023  2016-05-16T06:26:24.037  \n",
       "1  BikePoint                 false       001018  2016-05-16T06:26:24.037  \n",
       "2  BikePoint                 false       001012    2016-05-16T06:51:27.5  \n",
       "3  BikePoint                 false       001013    2016-05-16T06:51:27.5  \n",
       "4  BikePoint                 false       003420  2016-05-16T06:46:27.237  "
      ]
     },
     "execution_count": 5,
     "metadata": {},
     "output_type": "execute_result"
    }
   ],
   "source": [
    "df.head()"
   ]
  },
  {
   "cell_type": "markdown",
   "metadata": {},
   "source": [
    "####  Single Station View"
   ]
  },
  {
   "cell_type": "code",
   "execution_count": 6,
   "metadata": {
    "collapsed": false,
    "scrolled": true
   },
   "outputs": [
    {
     "data": {
      "text/html": [
       "<div>\n",
       "<table border=\"1\" class=\"dataframe\">\n",
       "  <thead>\n",
       "    <tr style=\"text-align: right;\">\n",
       "      <th></th>\n",
       "      <th>Id</th>\n",
       "      <th>InstallDate</th>\n",
       "      <th>Installed</th>\n",
       "      <th>Latitude</th>\n",
       "      <th>Locked</th>\n",
       "      <th>Longitude</th>\n",
       "      <th>Name</th>\n",
       "      <th>NbBikes</th>\n",
       "      <th>NbDocks</th>\n",
       "      <th>NbEmptyDocks</th>\n",
       "      <th>PlaceType</th>\n",
       "      <th>RemovalDate</th>\n",
       "      <th>Temporary</th>\n",
       "      <th>TerminalName</th>\n",
       "      <th>Timestamp</th>\n",
       "    </tr>\n",
       "  </thead>\n",
       "  <tbody>\n",
       "    <tr>\n",
       "      <th>0</th>\n",
       "      <td>BikePoints_1</td>\n",
       "      <td>1278947280000</td>\n",
       "      <td>true</td>\n",
       "      <td>51.529163</td>\n",
       "      <td>false</td>\n",
       "      <td>-0.10997</td>\n",
       "      <td>River Street , Clerkenwell</td>\n",
       "      <td>11</td>\n",
       "      <td>19</td>\n",
       "      <td>7</td>\n",
       "      <td>BikePoint</td>\n",
       "      <td></td>\n",
       "      <td>false</td>\n",
       "      <td>001023</td>\n",
       "      <td>2016-05-16T06:26:24.037</td>\n",
       "    </tr>\n",
       "    <tr>\n",
       "      <th>762</th>\n",
       "      <td>BikePoints_1</td>\n",
       "      <td>1278947280000</td>\n",
       "      <td>true</td>\n",
       "      <td>51.529163</td>\n",
       "      <td>false</td>\n",
       "      <td>-0.10997</td>\n",
       "      <td>River Street , Clerkenwell</td>\n",
       "      <td>11</td>\n",
       "      <td>19</td>\n",
       "      <td>7</td>\n",
       "      <td>BikePoint</td>\n",
       "      <td></td>\n",
       "      <td>false</td>\n",
       "      <td>001023</td>\n",
       "      <td>2016-05-16T06:26:24.037</td>\n",
       "    </tr>\n",
       "    <tr>\n",
       "      <th>1524</th>\n",
       "      <td>BikePoints_1</td>\n",
       "      <td>1278947280000</td>\n",
       "      <td>true</td>\n",
       "      <td>51.529163</td>\n",
       "      <td>false</td>\n",
       "      <td>-0.10997</td>\n",
       "      <td>River Street , Clerkenwell</td>\n",
       "      <td>10</td>\n",
       "      <td>19</td>\n",
       "      <td>8</td>\n",
       "      <td>BikePoint</td>\n",
       "      <td></td>\n",
       "      <td>false</td>\n",
       "      <td>001023</td>\n",
       "      <td>2016-05-16T07:01:29.163</td>\n",
       "    </tr>\n",
       "    <tr>\n",
       "      <th>2286</th>\n",
       "      <td>BikePoints_1</td>\n",
       "      <td>1278947280000</td>\n",
       "      <td>true</td>\n",
       "      <td>51.529163</td>\n",
       "      <td>false</td>\n",
       "      <td>-0.10997</td>\n",
       "      <td>River Street , Clerkenwell</td>\n",
       "      <td>8</td>\n",
       "      <td>19</td>\n",
       "      <td>10</td>\n",
       "      <td>BikePoint</td>\n",
       "      <td></td>\n",
       "      <td>false</td>\n",
       "      <td>001023</td>\n",
       "      <td>2016-05-16T07:11:30.433</td>\n",
       "    </tr>\n",
       "    <tr>\n",
       "      <th>3048</th>\n",
       "      <td>BikePoints_1</td>\n",
       "      <td>1278947280000</td>\n",
       "      <td>true</td>\n",
       "      <td>51.529163</td>\n",
       "      <td>false</td>\n",
       "      <td>-0.10997</td>\n",
       "      <td>River Street , Clerkenwell</td>\n",
       "      <td>8</td>\n",
       "      <td>19</td>\n",
       "      <td>10</td>\n",
       "      <td>BikePoint</td>\n",
       "      <td></td>\n",
       "      <td>false</td>\n",
       "      <td>001023</td>\n",
       "      <td>2016-05-16T07:11:30.433</td>\n",
       "    </tr>\n",
       "  </tbody>\n",
       "</table>\n",
       "</div>"
      ],
      "text/plain": [
       "                Id    InstallDate Installed   Latitude Locked  Longitude  \\\n",
       "0     BikePoints_1  1278947280000      true  51.529163  false   -0.10997   \n",
       "762   BikePoints_1  1278947280000      true  51.529163  false   -0.10997   \n",
       "1524  BikePoints_1  1278947280000      true  51.529163  false   -0.10997   \n",
       "2286  BikePoints_1  1278947280000      true  51.529163  false   -0.10997   \n",
       "3048  BikePoints_1  1278947280000      true  51.529163  false   -0.10997   \n",
       "\n",
       "                            Name NbBikes NbDocks NbEmptyDocks  PlaceType  \\\n",
       "0     River Street , Clerkenwell      11      19            7  BikePoint   \n",
       "762   River Street , Clerkenwell      11      19            7  BikePoint   \n",
       "1524  River Street , Clerkenwell      10      19            8  BikePoint   \n",
       "2286  River Street , Clerkenwell       8      19           10  BikePoint   \n",
       "3048  River Street , Clerkenwell       8      19           10  BikePoint   \n",
       "\n",
       "     RemovalDate Temporary TerminalName                Timestamp  \n",
       "0                    false       001023  2016-05-16T06:26:24.037  \n",
       "762                  false       001023  2016-05-16T06:26:24.037  \n",
       "1524                 false       001023  2016-05-16T07:01:29.163  \n",
       "2286                 false       001023  2016-05-16T07:11:30.433  \n",
       "3048                 false       001023  2016-05-16T07:11:30.433  "
      ]
     },
     "execution_count": 6,
     "metadata": {},
     "output_type": "execute_result"
    }
   ],
   "source": [
    "df[df['Id'] == 'BikePoints_1'].head()"
   ]
  },
  {
   "cell_type": "markdown",
   "metadata": {},
   "source": [
    "#### Observations\n",
    "\n",
    "* There are some duplicate rows <- remove duplicates\n",
    "* RemovalDate may contain a lot of nulls <- remove if not helpful\n",
    "* Locked and Installed might be constant <- remove if not helpful"
   ]
  },
  {
   "cell_type": "markdown",
   "metadata": {},
   "source": [
    "### Build Dataset"
   ]
  },
  {
   "cell_type": "markdown",
   "metadata": {},
   "source": [
    "#### Work with Chunks"
   ]
  },
  {
   "cell_type": "markdown",
   "metadata": {},
   "source": [
    "Due to memory constraints we'll parse the data in chunks. In each chunk we'll remove the redundant candidate keys and also duplicate rows."
   ]
  },
  {
   "cell_type": "code",
   "execution_count": 7,
   "metadata": {
    "collapsed": true
   },
   "outputs": [],
   "source": [
    "def chunker(seq, size):\n",
    "    return (seq[pos:pos + size] for pos in xrange(0, len(seq), size))"
   ]
  },
  {
   "cell_type": "markdown",
   "metadata": {},
   "source": [
    "#### Tables\n",
    "\n",
    "We will have two different tables, one for the stations and one for the availability readings"
   ]
  },
  {
   "cell_type": "code",
   "execution_count": 8,
   "metadata": {
    "collapsed": true
   },
   "outputs": [],
   "source": [
    "def split_data(parsed_data):\n",
    "    master_df = pd.DataFrame(list(itertools.chain.from_iterable(parsed_data)))\n",
    "    \n",
    "    readings_df = pd.DataFrame(master_df, columns=['Id', 'Timestamp', 'NbBikes', 'NbDocks', 'NbEmptyDocks'])\n",
    "    stations_df = pd.DataFrame(master_df, columns=['Id', 'Name', 'TerminalName' , 'PlaceType', 'Latitude', \n",
    "                                                   'Longitude', 'Installed', 'Temporary', 'Locked',\n",
    "                                                   'RemovalDate', 'InstallDate'])\n",
    "    \n",
    "    return (readings_df, stations_df)"
   ]
  },
  {
   "cell_type": "markdown",
   "metadata": {},
   "source": [
    "#### Build the Dataset"
   ]
  },
  {
   "cell_type": "code",
   "execution_count": 9,
   "metadata": {
    "collapsed": true
   },
   "outputs": [],
   "source": [
    "# get the files to parse\n",
    "five_weekdays_filter = create_between_dates_filter(bike_file_date_fn, \n",
    "                                                   datetime(2016, 5, 15, 11, 0, 0), \n",
    "                                                   datetime(2016, 6, 7, 8, 0, 0))\n",
    "files = get_file_list('data/raw', filter_fn=None, sort_fn=bike_file_date_fn)\n",
    "\n",
    "# process the files in chunks\n",
    "files_batches = chunker(files, 100)"
   ]
  },
  {
   "cell_type": "code",
   "execution_count": 10,
   "metadata": {
    "collapsed": false
   },
   "outputs": [],
   "source": [
    "# start with an empty dataset\n",
    "readings_dataset = pd.DataFrame()\n",
    "stations_dataset = pd.DataFrame()\n",
    "\n",
    "# append each chunk to the datasets while removing duplicates\n",
    "for batch in files_batches:\n",
    "    parsed_data = parse_json_files(batch, parse_cycles)\n",
    "    \n",
    "    # split the data into two station data and readings data\n",
    "    readings_df, stations_df = split_data(parsed_data)\n",
    "    \n",
    "    # append the datasets\n",
    "    readings_dataset = pd.concat([readings_dataset, readings_df])\n",
    "    stations_dataset = pd.concat([stations_dataset, stations_df])\n",
    "    \n",
    "    # remove duplicated rows\n",
    "    readings_dataset.drop_duplicates(inplace=True)\n",
    "    stations_dataset.drop_duplicates(inplace=True)"
   ]
  },
  {
   "cell_type": "markdown",
   "metadata": {},
   "source": [
    "## Technically Correct Data\n",
    "\n",
    "The data is set to be technically correct if it:\n",
    "\n",
    "1. can be directly recognized as belonging to a certain variable\n",
    "2. is stored in a data type that represents the value domain of the real-world variable."
   ]
  },
  {
   "cell_type": "code",
   "execution_count": 11,
   "metadata": {
    "collapsed": false
   },
   "outputs": [],
   "source": [
    "# convert columns to their appropriate datatypes\n",
    "stations_dataset['InstallDate'] = pd.to_numeric(stations_dataset['InstallDate'], errors='raise')\n",
    "stations_dataset['Installed'] = stations_dataset['Installed'].astype('bool_')\n",
    "stations_dataset['Temporary'] = stations_dataset['Temporary'].astype('bool_')\n",
    "stations_dataset['Locked'] = stations_dataset['Locked'].astype('bool_')\n",
    "\n",
    "readings_dataset['NbBikes'] = readings_dataset['NbBikes'].astype('uint16')\n",
    "readings_dataset['NbDocks'] = readings_dataset['NbDocks'].astype('uint16')\n",
    "readings_dataset['NbEmptyDocks'] = readings_dataset['NbEmptyDocks'].astype('uint16')\n",
    "\n",
    "# convert string timestamp to datetime\n",
    "stations_dataset['InstallDate'] = pd.to_datetime(stations_dataset['InstallDate'], unit='ms')\n",
    "\n",
    "readings_dataset['Timestamp'] =  pd.to_datetime(readings_dataset['Timestamp'], format='%Y-%m-%dT%H:%M:%S.%f', errors='raise')"
   ]
  },
  {
   "cell_type": "code",
   "execution_count": 12,
   "metadata": {
    "collapsed": false
   },
   "outputs": [],
   "source": [
    "# sort the datasets\n",
    "stations_dataset.sort_values(by=['Id'], ascending=True, inplace=True)\n",
    "\n",
    "readings_dataset.sort_values(by=['Timestamp'], ascending=True, inplace=True)"
   ]
  },
  {
   "cell_type": "markdown",
   "metadata": {},
   "source": [
    "## Derive Data"
   ]
  },
  {
   "cell_type": "code",
   "execution_count": 13,
   "metadata": {
    "collapsed": false,
    "scrolled": true
   },
   "outputs": [],
   "source": [
    "readings_dataset['NbUnusableDocks'] = readings_dataset['NbDocks'] - (readings_dataset['NbBikes'] + readings_dataset['NbEmptyDocks'])"
   ]
  },
  {
   "cell_type": "markdown",
   "metadata": {},
   "source": [
    "## Consistent Data"
   ]
  },
  {
   "cell_type": "markdown",
   "metadata": {},
   "source": [
    "### Stations Analysis\n",
    "\n",
    "#### Overview"
   ]
  },
  {
   "cell_type": "code",
   "execution_count": 14,
   "metadata": {
    "collapsed": false
   },
   "outputs": [
    {
     "data": {
      "text/plain": [
       "(778, 11)"
      ]
     },
     "execution_count": 14,
     "metadata": {},
     "output_type": "execute_result"
    }
   ],
   "source": [
    "stations_dataset.shape"
   ]
  },
  {
   "cell_type": "code",
   "execution_count": 28,
   "metadata": {
    "collapsed": false
   },
   "outputs": [
    {
     "name": "stdout",
     "output_type": "stream",
     "text": [
      "<class 'pandas.core.frame.DataFrame'>\n",
      "Int64Index: 800462 entries, 750 to 42349\n",
      "Data columns (total 6 columns):\n",
      "Id                 800462 non-null object\n",
      "Timestamp          800462 non-null datetime64[ns]\n",
      "NbBikes            800462 non-null uint16\n",
      "NbDocks            800462 non-null uint16\n",
      "NbEmptyDocks       800462 non-null uint16\n",
      "NbUnusableDocks    800462 non-null uint16\n",
      "dtypes: datetime64[ns](1), object(1), uint16(4)\n",
      "memory usage: 106.4 MB\n"
     ]
    }
   ],
   "source": [
    "stations_dataset.info(memory_usage='deep')"
   ]
  },
  {
   "cell_type": "code",
   "execution_count": 16,
   "metadata": {
    "collapsed": false
   },
   "outputs": [
    {
     "data": {
      "text/html": [
       "<div>\n",
       "<table border=\"1\" class=\"dataframe\">\n",
       "  <thead>\n",
       "    <tr style=\"text-align: right;\">\n",
       "      <th></th>\n",
       "      <th>Id</th>\n",
       "      <th>Name</th>\n",
       "      <th>TerminalName</th>\n",
       "      <th>PlaceType</th>\n",
       "      <th>Latitude</th>\n",
       "      <th>Longitude</th>\n",
       "      <th>Installed</th>\n",
       "      <th>Temporary</th>\n",
       "      <th>Locked</th>\n",
       "      <th>RemovalDate</th>\n",
       "      <th>InstallDate</th>\n",
       "    </tr>\n",
       "  </thead>\n",
       "  <tbody>\n",
       "    <tr>\n",
       "      <th>0</th>\n",
       "      <td>BikePoints_1</td>\n",
       "      <td>River Street , Clerkenwell</td>\n",
       "      <td>001023</td>\n",
       "      <td>BikePoint</td>\n",
       "      <td>51.529163</td>\n",
       "      <td>-0.109970</td>\n",
       "      <td>True</td>\n",
       "      <td>True</td>\n",
       "      <td>True</td>\n",
       "      <td></td>\n",
       "      <td>2010-07-12 15:08:00</td>\n",
       "    </tr>\n",
       "    <tr>\n",
       "      <th>9</th>\n",
       "      <td>BikePoints_10</td>\n",
       "      <td>Park Street, Bankside</td>\n",
       "      <td>001024</td>\n",
       "      <td>BikePoint</td>\n",
       "      <td>51.505974</td>\n",
       "      <td>-0.092754</td>\n",
       "      <td>True</td>\n",
       "      <td>True</td>\n",
       "      <td>True</td>\n",
       "      <td></td>\n",
       "      <td>2010-07-04 11:21:00</td>\n",
       "    </tr>\n",
       "    <tr>\n",
       "      <th>95</th>\n",
       "      <td>BikePoints_100</td>\n",
       "      <td>Albert Embankment, Vauxhall</td>\n",
       "      <td>001059</td>\n",
       "      <td>BikePoint</td>\n",
       "      <td>51.490435</td>\n",
       "      <td>-0.122806</td>\n",
       "      <td>True</td>\n",
       "      <td>True</td>\n",
       "      <td>True</td>\n",
       "      <td></td>\n",
       "      <td>2010-07-14 09:31:00</td>\n",
       "    </tr>\n",
       "    <tr>\n",
       "      <th>96</th>\n",
       "      <td>BikePoints_101</td>\n",
       "      <td>Queen Street 1, Bank</td>\n",
       "      <td>000999</td>\n",
       "      <td>BikePoint</td>\n",
       "      <td>51.511553</td>\n",
       "      <td>-0.092940</td>\n",
       "      <td>True</td>\n",
       "      <td>True</td>\n",
       "      <td>True</td>\n",
       "      <td></td>\n",
       "      <td>2010-07-14 10:18:00</td>\n",
       "    </tr>\n",
       "    <tr>\n",
       "      <th>97</th>\n",
       "      <td>BikePoints_102</td>\n",
       "      <td>Jewry Street, Aldgate</td>\n",
       "      <td>001045</td>\n",
       "      <td>BikePoint</td>\n",
       "      <td>51.513406</td>\n",
       "      <td>-0.076793</td>\n",
       "      <td>True</td>\n",
       "      <td>True</td>\n",
       "      <td>True</td>\n",
       "      <td></td>\n",
       "      <td>2010-07-14 10:21:00</td>\n",
       "    </tr>\n",
       "  </tbody>\n",
       "</table>\n",
       "</div>"
      ],
      "text/plain": [
       "                Id                         Name TerminalName  PlaceType  \\\n",
       "0     BikePoints_1   River Street , Clerkenwell       001023  BikePoint   \n",
       "9    BikePoints_10        Park Street, Bankside       001024  BikePoint   \n",
       "95  BikePoints_100  Albert Embankment, Vauxhall       001059  BikePoint   \n",
       "96  BikePoints_101         Queen Street 1, Bank       000999  BikePoint   \n",
       "97  BikePoints_102        Jewry Street, Aldgate       001045  BikePoint   \n",
       "\n",
       "     Latitude  Longitude Installed Temporary Locked RemovalDate  \\\n",
       "0   51.529163  -0.109970      True      True   True               \n",
       "9   51.505974  -0.092754      True      True   True               \n",
       "95  51.490435  -0.122806      True      True   True               \n",
       "96  51.511553  -0.092940      True      True   True               \n",
       "97  51.513406  -0.076793      True      True   True               \n",
       "\n",
       "           InstallDate  \n",
       "0  2010-07-12 15:08:00  \n",
       "9  2010-07-04 11:21:00  \n",
       "95 2010-07-14 09:31:00  \n",
       "96 2010-07-14 10:18:00  \n",
       "97 2010-07-14 10:21:00  "
      ]
     },
     "execution_count": 16,
     "metadata": {},
     "output_type": "execute_result"
    }
   ],
   "source": [
    "stations_dataset.head()"
   ]
  },
  {
   "cell_type": "code",
   "execution_count": 17,
   "metadata": {
    "collapsed": false
   },
   "outputs": [
    {
     "data": {
      "text/html": [
       "<div>\n",
       "<table border=\"1\" class=\"dataframe\">\n",
       "  <thead>\n",
       "    <tr style=\"text-align: right;\">\n",
       "      <th></th>\n",
       "      <th>Latitude</th>\n",
       "      <th>Longitude</th>\n",
       "    </tr>\n",
       "  </thead>\n",
       "  <tbody>\n",
       "    <tr>\n",
       "      <th>count</th>\n",
       "      <td>778.000000</td>\n",
       "      <td>778.000000</td>\n",
       "    </tr>\n",
       "    <tr>\n",
       "      <th>mean</th>\n",
       "      <td>51.439607</td>\n",
       "      <td>-0.128938</td>\n",
       "    </tr>\n",
       "    <tr>\n",
       "      <th>std</th>\n",
       "      <td>1.846681</td>\n",
       "      <td>0.056126</td>\n",
       "    </tr>\n",
       "    <tr>\n",
       "      <th>min</th>\n",
       "      <td>0.000000</td>\n",
       "      <td>-0.236769</td>\n",
       "    </tr>\n",
       "    <tr>\n",
       "      <th>25%</th>\n",
       "      <td>51.493134</td>\n",
       "      <td>-0.172954</td>\n",
       "    </tr>\n",
       "    <tr>\n",
       "      <th>50%</th>\n",
       "      <td>51.509123</td>\n",
       "      <td>-0.132102</td>\n",
       "    </tr>\n",
       "    <tr>\n",
       "      <th>75%</th>\n",
       "      <td>51.520686</td>\n",
       "      <td>-0.092940</td>\n",
       "    </tr>\n",
       "    <tr>\n",
       "      <th>max</th>\n",
       "      <td>51.549369</td>\n",
       "      <td>0.122299</td>\n",
       "    </tr>\n",
       "  </tbody>\n",
       "</table>\n",
       "</div>"
      ],
      "text/plain": [
       "         Latitude   Longitude\n",
       "count  778.000000  778.000000\n",
       "mean    51.439607   -0.128938\n",
       "std      1.846681    0.056126\n",
       "min      0.000000   -0.236769\n",
       "25%     51.493134   -0.172954\n",
       "50%     51.509123   -0.132102\n",
       "75%     51.520686   -0.092940\n",
       "max     51.549369    0.122299"
      ]
     },
     "execution_count": 17,
     "metadata": {},
     "output_type": "execute_result"
    }
   ],
   "source": [
    "stations_dataset.describe()"
   ]
  },
  {
   "cell_type": "code",
   "execution_count": 18,
   "metadata": {
    "collapsed": false,
    "scrolled": true
   },
   "outputs": [
    {
     "data": {
      "text/plain": [
       "Id              773\n",
       "Name            774\n",
       "TerminalName    773\n",
       "PlaceType         1\n",
       "Latitude        770\n",
       "Longitude       770\n",
       "Installed         1\n",
       "Temporary         1\n",
       "Locked            1\n",
       "RemovalDate       4\n",
       "InstallDate     682\n",
       "dtype: int64"
      ]
     },
     "execution_count": 18,
     "metadata": {},
     "output_type": "execute_result"
    }
   ],
   "source": [
    "stations_dataset.apply(lambda x:x.nunique())"
   ]
  },
  {
   "cell_type": "markdown",
   "metadata": {},
   "source": [
    "#### Observations:\n",
    "* Id, Name and Terminal name seem to be candidate keys\n",
    "* The minimum latitude and the maximum longitude are 0\n",
    "* Some stations have the same latitude or longitude\n",
    "* Id, TerminalName and Name have different unique values\n",
    "* Placetype, Installed, Temporary and Locked appear to be constant\n",
    "* Some stations do not have an install date\n",
    "* Some Stations have a removal date (very sparse)"
   ]
  },
  {
   "cell_type": "markdown",
   "metadata": {},
   "source": [
    "#### Remove Duplicate Stations"
   ]
  },
  {
   "cell_type": "code",
   "execution_count": 19,
   "metadata": {
    "collapsed": false
   },
   "outputs": [
    {
     "data": {
      "text/html": [
       "<div>\n",
       "<table border=\"1\" class=\"dataframe\">\n",
       "  <thead>\n",
       "    <tr style=\"text-align: right;\">\n",
       "      <th></th>\n",
       "      <th>Id</th>\n",
       "      <th>Name</th>\n",
       "      <th>TerminalName</th>\n",
       "      <th>PlaceType</th>\n",
       "      <th>Latitude</th>\n",
       "      <th>Longitude</th>\n",
       "      <th>Installed</th>\n",
       "      <th>Temporary</th>\n",
       "      <th>Locked</th>\n",
       "      <th>RemovalDate</th>\n",
       "      <th>InstallDate</th>\n",
       "    </tr>\n",
       "  </thead>\n",
       "  <tbody>\n",
       "    <tr>\n",
       "      <th>56333</th>\n",
       "      <td>BikePoints_798</td>\n",
       "      <td>Birkenhead Street, King's Cross</td>\n",
       "      <td>300212</td>\n",
       "      <td>BikePoint</td>\n",
       "      <td>51.530199</td>\n",
       "      <td>-0.122299</td>\n",
       "      <td>True</td>\n",
       "      <td>True</td>\n",
       "      <td>True</td>\n",
       "      <td></td>\n",
       "      <td>NaT</td>\n",
       "    </tr>\n",
       "    <tr>\n",
       "      <th>41855</th>\n",
       "      <td>BikePoints_798</td>\n",
       "      <td>Birkenhead Street, King's Cross</td>\n",
       "      <td>300212</td>\n",
       "      <td>BikePoint</td>\n",
       "      <td>51.530199</td>\n",
       "      <td>0.122299</td>\n",
       "      <td>True</td>\n",
       "      <td>True</td>\n",
       "      <td>True</td>\n",
       "      <td></td>\n",
       "      <td>NaT</td>\n",
       "    </tr>\n",
       "    <tr>\n",
       "      <th>71111</th>\n",
       "      <td>BikePoints_799</td>\n",
       "      <td>Kings Gate House, Westminster</td>\n",
       "      <td>300202</td>\n",
       "      <td>BikePoint</td>\n",
       "      <td>51.497698</td>\n",
       "      <td>-0.137598</td>\n",
       "      <td>True</td>\n",
       "      <td>True</td>\n",
       "      <td>True</td>\n",
       "      <td></td>\n",
       "      <td>NaT</td>\n",
       "    </tr>\n",
       "    <tr>\n",
       "      <th>67978</th>\n",
       "      <td>BikePoints_799</td>\n",
       "      <td>Kings Gate House, Westminster</td>\n",
       "      <td>300202</td>\n",
       "      <td>BikePoint</td>\n",
       "      <td>51.497698</td>\n",
       "      <td>-0.137598</td>\n",
       "      <td>True</td>\n",
       "      <td>True</td>\n",
       "      <td>True</td>\n",
       "      <td></td>\n",
       "      <td>2016-06-02 14:08:00</td>\n",
       "    </tr>\n",
       "    <tr>\n",
       "      <th>44409</th>\n",
       "      <td>BikePoints_802</td>\n",
       "      <td>Albert Square, Stockwell</td>\n",
       "      <td>300209</td>\n",
       "      <td>BikePoint</td>\n",
       "      <td>51.476590</td>\n",
       "      <td>-0.118256</td>\n",
       "      <td>True</td>\n",
       "      <td>True</td>\n",
       "      <td>True</td>\n",
       "      <td></td>\n",
       "      <td>NaT</td>\n",
       "    </tr>\n",
       "    <tr>\n",
       "      <th>40439</th>\n",
       "      <td>BikePoints_802</td>\n",
       "      <td>Albert Square, Stockwell</td>\n",
       "      <td>300209</td>\n",
       "      <td>BikePoint</td>\n",
       "      <td>51.476590</td>\n",
       "      <td>-0.118256</td>\n",
       "      <td>True</td>\n",
       "      <td>True</td>\n",
       "      <td>True</td>\n",
       "      <td></td>\n",
       "      <td>2016-06-02 11:05:00</td>\n",
       "    </tr>\n",
       "    <tr>\n",
       "      <th>52069</th>\n",
       "      <td>BikePoints_814</td>\n",
       "      <td>Clapham Road, Lingham Street, Stockwell</td>\n",
       "      <td>300245</td>\n",
       "      <td>BikePoint</td>\n",
       "      <td>51.471433</td>\n",
       "      <td>-0.123670</td>\n",
       "      <td>True</td>\n",
       "      <td>True</td>\n",
       "      <td>True</td>\n",
       "      <td></td>\n",
       "      <td>NaT</td>\n",
       "    </tr>\n",
       "    <tr>\n",
       "      <th>52672</th>\n",
       "      <td>BikePoints_814</td>\n",
       "      <td>Clapham Road, Lingham Street, Stockwell</td>\n",
       "      <td>300245</td>\n",
       "      <td>BikePoint</td>\n",
       "      <td>51.471433</td>\n",
       "      <td>-0.123670</td>\n",
       "      <td>True</td>\n",
       "      <td>True</td>\n",
       "      <td>True</td>\n",
       "      <td></td>\n",
       "      <td>2016-06-02 12:21:00</td>\n",
       "    </tr>\n",
       "    <tr>\n",
       "      <th>39676</th>\n",
       "      <td>BikePoints_818</td>\n",
       "      <td>One Tower Bridge, Southwark</td>\n",
       "      <td>300249</td>\n",
       "      <td>BikePoint</td>\n",
       "      <td>51.503127</td>\n",
       "      <td>-0.078655</td>\n",
       "      <td>True</td>\n",
       "      <td>True</td>\n",
       "      <td>True</td>\n",
       "      <td></td>\n",
       "      <td>NaT</td>\n",
       "    </tr>\n",
       "    <tr>\n",
       "      <th>43547</th>\n",
       "      <td>BikePoints_818</td>\n",
       "      <td>One Tower Bridge, Bermondsey</td>\n",
       "      <td>300249</td>\n",
       "      <td>BikePoint</td>\n",
       "      <td>51.503127</td>\n",
       "      <td>-0.078655</td>\n",
       "      <td>True</td>\n",
       "      <td>True</td>\n",
       "      <td>True</td>\n",
       "      <td></td>\n",
       "      <td>NaT</td>\n",
       "    </tr>\n",
       "  </tbody>\n",
       "</table>\n",
       "</div>"
      ],
      "text/plain": [
       "                   Id                                     Name TerminalName  \\\n",
       "56333  BikePoints_798          Birkenhead Street, King's Cross       300212   \n",
       "41855  BikePoints_798          Birkenhead Street, King's Cross       300212   \n",
       "71111  BikePoints_799            Kings Gate House, Westminster       300202   \n",
       "67978  BikePoints_799            Kings Gate House, Westminster       300202   \n",
       "44409  BikePoints_802                 Albert Square, Stockwell       300209   \n",
       "40439  BikePoints_802                 Albert Square, Stockwell       300209   \n",
       "52069  BikePoints_814  Clapham Road, Lingham Street, Stockwell       300245   \n",
       "52672  BikePoints_814  Clapham Road, Lingham Street, Stockwell       300245   \n",
       "39676  BikePoints_818              One Tower Bridge, Southwark       300249   \n",
       "43547  BikePoints_818             One Tower Bridge, Bermondsey       300249   \n",
       "\n",
       "       PlaceType   Latitude  Longitude Installed Temporary Locked RemovalDate  \\\n",
       "56333  BikePoint  51.530199  -0.122299      True      True   True               \n",
       "41855  BikePoint  51.530199   0.122299      True      True   True               \n",
       "71111  BikePoint  51.497698  -0.137598      True      True   True               \n",
       "67978  BikePoint  51.497698  -0.137598      True      True   True               \n",
       "44409  BikePoint  51.476590  -0.118256      True      True   True               \n",
       "40439  BikePoint  51.476590  -0.118256      True      True   True               \n",
       "52069  BikePoint  51.471433  -0.123670      True      True   True               \n",
       "52672  BikePoint  51.471433  -0.123670      True      True   True               \n",
       "39676  BikePoint  51.503127  -0.078655      True      True   True               \n",
       "43547  BikePoint  51.503127  -0.078655      True      True   True               \n",
       "\n",
       "              InstallDate  \n",
       "56333                 NaT  \n",
       "41855                 NaT  \n",
       "71111                 NaT  \n",
       "67978 2016-06-02 14:08:00  \n",
       "44409                 NaT  \n",
       "40439 2016-06-02 11:05:00  \n",
       "52069                 NaT  \n",
       "52672 2016-06-02 12:21:00  \n",
       "39676                 NaT  \n",
       "43547                 NaT  "
      ]
     },
     "execution_count": 19,
     "metadata": {},
     "output_type": "execute_result"
    }
   ],
   "source": [
    "def find_names_changes(df):\n",
    "    \"\"\"Find Ids that have more than one Name or TerminalName\"\"\"\n",
    "    \n",
    "    \n",
    "    names_per_id_count = df.groupby('Id')['Name', 'TerminalName'].count()\n",
    "    ids_with_several_names = names_per_id_count[(names_per_id_count['Name'] != 1) | (names_per_id_count['Name'] != 1)]\n",
    "    return df[df['Id'].isin(ids_with_several_names.index.values)]\n",
    "\n",
    "ids_with_several_names_df = find_names_changes(stations_dataset)\n",
    "ids_with_several_names_df"
   ]
  },
  {
   "cell_type": "markdown",
   "metadata": {},
   "source": [
    "Given these records have the same location and Id but different Name or TerminalName, we'll assume the station changed name and remove the first entries."
   ]
  },
  {
   "cell_type": "code",
   "execution_count": 20,
   "metadata": {
    "collapsed": false
   },
   "outputs": [],
   "source": [
    "# get the index of the first repeated entries\n",
    "is_duplicated_id = ids_with_several_names_df.duplicated(['Id'], keep='last')\n",
    "duplicated_id_idx = is_duplicated_id[is_duplicated_id == True].index\n",
    "\n",
    "# drop entries using the index\n",
    "stations_dataset.drop(duplicated_id_idx, inplace=True)"
   ]
  },
  {
   "cell_type": "code",
   "execution_count": 21,
   "metadata": {
    "collapsed": false
   },
   "outputs": [],
   "source": [
    "# make sure there are no repeated ids \n",
    "assert len(find_names_changes(stations_dataset)) == 0"
   ]
  },
  {
   "cell_type": "markdown",
   "metadata": {},
   "source": [
    "#### Check Locations"
   ]
  },
  {
   "cell_type": "markdown",
   "metadata": {},
   "source": [
    "Let's have a closer look at the station locations. All of them should be in Greater London."
   ]
  },
  {
   "cell_type": "code",
   "execution_count": 22,
   "metadata": {
    "collapsed": false
   },
   "outputs": [
    {
     "data": {
      "text/html": [
       "<div>\n",
       "<table border=\"1\" class=\"dataframe\">\n",
       "  <thead>\n",
       "    <tr style=\"text-align: right;\">\n",
       "      <th></th>\n",
       "      <th>Id</th>\n",
       "      <th>Name</th>\n",
       "      <th>TerminalName</th>\n",
       "      <th>PlaceType</th>\n",
       "      <th>Latitude</th>\n",
       "      <th>Longitude</th>\n",
       "      <th>Installed</th>\n",
       "      <th>Temporary</th>\n",
       "      <th>Locked</th>\n",
       "      <th>RemovalDate</th>\n",
       "      <th>InstallDate</th>\n",
       "    </tr>\n",
       "  </thead>\n",
       "  <tbody>\n",
       "    <tr>\n",
       "      <th>750</th>\n",
       "      <td>BikePoints_791</td>\n",
       "      <td>Test Desktop</td>\n",
       "      <td>666666</td>\n",
       "      <td>BikePoint</td>\n",
       "      <td>0.0</td>\n",
       "      <td>0.0</td>\n",
       "      <td>True</td>\n",
       "      <td>True</td>\n",
       "      <td>True</td>\n",
       "      <td></td>\n",
       "      <td>2016-01-15 12:39:00</td>\n",
       "    </tr>\n",
       "  </tbody>\n",
       "</table>\n",
       "</div>"
      ],
      "text/plain": [
       "                 Id           Name TerminalName  PlaceType  Latitude  \\\n",
       "750  BikePoints_791  Test Desktop        666666  BikePoint       0.0   \n",
       "\n",
       "     Longitude Installed Temporary Locked RemovalDate         InstallDate  \n",
       "750        0.0      True      True   True             2016-01-15 12:39:00  "
      ]
     },
     "execution_count": 22,
     "metadata": {},
     "output_type": "execute_result"
    }
   ],
   "source": [
    "# bounding box for Greater London\n",
    "min_longitude = -0.489\n",
    "min_latitude = 51.28\n",
    "max_longitude = 0.236\n",
    "max_latitude = 51.686\n",
    "\n",
    "def find_locations_outside_box(locations, min_longitude, min_latitude, max_longitude, max_latitude):\n",
    "    latitude_check = ~(locations['Latitude'] >= min_latitude) & (locations['Latitude'] <= max_latitude) \n",
    "    longitude_check = ~(locations['Longitude'] >= min_longitude) & (locations['Longitude'] <= max_longitude) \n",
    "    return locations[(latitude_check | longitude_check)]\n",
    "\n",
    "outlier_locations_df = find_locations_outside_box(stations_dataset, min_longitude, min_latitude, max_longitude, max_latitude)\n",
    "outlier_locations_df"
   ]
  },
  {
   "cell_type": "code",
   "execution_count": 23,
   "metadata": {
    "collapsed": false
   },
   "outputs": [],
   "source": [
    "outlier_locations_idx = outlier_locations_df.index.values\n",
    "\n",
    "stations_dataset.drop(outlier_locations_idx, inplace=True)"
   ]
  },
  {
   "cell_type": "markdown",
   "metadata": {},
   "source": [
    "This station looks like a test dation, so we'll remove it."
   ]
  },
  {
   "cell_type": "code",
   "execution_count": 24,
   "metadata": {
    "collapsed": false
   },
   "outputs": [],
   "source": [
    "# make sure there are no stations outside london\n",
    "assert len(find_locations_outside_box(stations_dataset, min_longitude, min_latitude, max_longitude, max_latitude)) == 0"
   ]
  },
  {
   "cell_type": "markdown",
   "metadata": {},
   "source": [
    "We will investigate the fact that there are stations with duplicate latitude or longitude values."
   ]
  },
  {
   "cell_type": "code",
   "execution_count": 25,
   "metadata": {
    "collapsed": false
   },
   "outputs": [
    {
     "data": {
      "text/html": [
       "<div>\n",
       "<table border=\"1\" class=\"dataframe\">\n",
       "  <thead>\n",
       "    <tr style=\"text-align: right;\">\n",
       "      <th></th>\n",
       "      <th>Id</th>\n",
       "      <th>Name</th>\n",
       "      <th>TerminalName</th>\n",
       "      <th>PlaceType</th>\n",
       "      <th>Latitude</th>\n",
       "      <th>Longitude</th>\n",
       "      <th>Installed</th>\n",
       "      <th>Temporary</th>\n",
       "      <th>Locked</th>\n",
       "      <th>RemovalDate</th>\n",
       "      <th>InstallDate</th>\n",
       "    </tr>\n",
       "  </thead>\n",
       "  <tbody>\n",
       "    <tr>\n",
       "      <th>208</th>\n",
       "      <td>BikePoints_216</td>\n",
       "      <td>Old Brompton Road, South Kensington</td>\n",
       "      <td>003479</td>\n",
       "      <td>BikePoint</td>\n",
       "      <td>51.490945</td>\n",
       "      <td>-0.181190</td>\n",
       "      <td>True</td>\n",
       "      <td>True</td>\n",
       "      <td>True</td>\n",
       "      <td></td>\n",
       "      <td>2010-07-19 11:12:00</td>\n",
       "    </tr>\n",
       "    <tr>\n",
       "      <th>538</th>\n",
       "      <td>BikePoints_573</td>\n",
       "      <td>Limerston Street, West Chelsea</td>\n",
       "      <td>200001</td>\n",
       "      <td>BikePoint</td>\n",
       "      <td>51.485587</td>\n",
       "      <td>-0.181190</td>\n",
       "      <td>True</td>\n",
       "      <td>True</td>\n",
       "      <td>True</td>\n",
       "      <td></td>\n",
       "      <td>2012-03-15 07:21:00</td>\n",
       "    </tr>\n",
       "    <tr>\n",
       "      <th>20</th>\n",
       "      <td>BikePoints_21</td>\n",
       "      <td>Hampstead Road (Cartmel), Euston</td>\n",
       "      <td>003426</td>\n",
       "      <td>BikePoint</td>\n",
       "      <td>51.530078</td>\n",
       "      <td>-0.138846</td>\n",
       "      <td>True</td>\n",
       "      <td>True</td>\n",
       "      <td>True</td>\n",
       "      <td></td>\n",
       "      <td>2010-07-06 14:49:00</td>\n",
       "    </tr>\n",
       "    <tr>\n",
       "      <th>304</th>\n",
       "      <td>BikePoints_318</td>\n",
       "      <td>Sackville Street, Mayfair</td>\n",
       "      <td>001197</td>\n",
       "      <td>BikePoint</td>\n",
       "      <td>51.510048</td>\n",
       "      <td>-0.138846</td>\n",
       "      <td>True</td>\n",
       "      <td>True</td>\n",
       "      <td>True</td>\n",
       "      <td></td>\n",
       "      <td>2010-07-23 11:42:00</td>\n",
       "    </tr>\n",
       "    <tr>\n",
       "      <th>103</th>\n",
       "      <td>BikePoints_108</td>\n",
       "      <td>Abbey Orchard Street, Westminster</td>\n",
       "      <td>003429</td>\n",
       "      <td>BikePoint</td>\n",
       "      <td>51.498125</td>\n",
       "      <td>-0.132102</td>\n",
       "      <td>True</td>\n",
       "      <td>True</td>\n",
       "      <td>True</td>\n",
       "      <td></td>\n",
       "      <td>2010-07-14 11:42:00</td>\n",
       "    </tr>\n",
       "    <tr>\n",
       "      <th>586</th>\n",
       "      <td>BikePoints_624</td>\n",
       "      <td>Courland Grove, Wandsworth Road</td>\n",
       "      <td>200173</td>\n",
       "      <td>BikePoint</td>\n",
       "      <td>51.472918</td>\n",
       "      <td>-0.132102</td>\n",
       "      <td>True</td>\n",
       "      <td>True</td>\n",
       "      <td>True</td>\n",
       "      <td></td>\n",
       "      <td>2013-10-08 09:24:00</td>\n",
       "    </tr>\n",
       "    <tr>\n",
       "      <th>96</th>\n",
       "      <td>BikePoints_101</td>\n",
       "      <td>Queen Street 1, Bank</td>\n",
       "      <td>000999</td>\n",
       "      <td>BikePoint</td>\n",
       "      <td>51.511553</td>\n",
       "      <td>-0.092940</td>\n",
       "      <td>True</td>\n",
       "      <td>True</td>\n",
       "      <td>True</td>\n",
       "      <td></td>\n",
       "      <td>2010-07-14 10:18:00</td>\n",
       "    </tr>\n",
       "    <tr>\n",
       "      <th>401</th>\n",
       "      <td>BikePoints_427</td>\n",
       "      <td>Cheapside, Bank</td>\n",
       "      <td>022180</td>\n",
       "      <td>BikePoint</td>\n",
       "      <td>51.513970</td>\n",
       "      <td>-0.092940</td>\n",
       "      <td>True</td>\n",
       "      <td>True</td>\n",
       "      <td>True</td>\n",
       "      <td></td>\n",
       "      <td>2011-07-15 10:28:00</td>\n",
       "    </tr>\n",
       "    <tr>\n",
       "      <th>103</th>\n",
       "      <td>BikePoints_108</td>\n",
       "      <td>Abbey Orchard Street, Westminster</td>\n",
       "      <td>003429</td>\n",
       "      <td>BikePoint</td>\n",
       "      <td>51.498125</td>\n",
       "      <td>-0.132102</td>\n",
       "      <td>True</td>\n",
       "      <td>True</td>\n",
       "      <td>True</td>\n",
       "      <td></td>\n",
       "      <td>2010-07-14 11:42:00</td>\n",
       "    </tr>\n",
       "    <tr>\n",
       "      <th>444</th>\n",
       "      <td>BikePoints_474</td>\n",
       "      <td>Castalia Square, Cubitt Town</td>\n",
       "      <td>200155</td>\n",
       "      <td>BikePoint</td>\n",
       "      <td>51.498125</td>\n",
       "      <td>-0.011457</td>\n",
       "      <td>True</td>\n",
       "      <td>True</td>\n",
       "      <td>True</td>\n",
       "      <td></td>\n",
       "      <td>2012-01-17 17:56:00</td>\n",
       "    </tr>\n",
       "    <tr>\n",
       "      <th>438</th>\n",
       "      <td>BikePoints_468</td>\n",
       "      <td>Cantrell Road, Bow</td>\n",
       "      <td>200150</td>\n",
       "      <td>BikePoint</td>\n",
       "      <td>51.521564</td>\n",
       "      <td>-0.022694</td>\n",
       "      <td>True</td>\n",
       "      <td>True</td>\n",
       "      <td>True</td>\n",
       "      <td></td>\n",
       "      <td>2012-01-12 13:42:00</td>\n",
       "    </tr>\n",
       "    <tr>\n",
       "      <th>516</th>\n",
       "      <td>BikePoints_550</td>\n",
       "      <td>Harford Street, Mile End</td>\n",
       "      <td>200102</td>\n",
       "      <td>BikePoint</td>\n",
       "      <td>51.521564</td>\n",
       "      <td>-0.039264</td>\n",
       "      <td>True</td>\n",
       "      <td>True</td>\n",
       "      <td>True</td>\n",
       "      <td></td>\n",
       "      <td>NaT</td>\n",
       "    </tr>\n",
       "    <tr>\n",
       "      <th>313</th>\n",
       "      <td>BikePoints_327</td>\n",
       "      <td>New North Road 1, Hoxton</td>\n",
       "      <td>001128</td>\n",
       "      <td>BikePoint</td>\n",
       "      <td>51.530950</td>\n",
       "      <td>-0.085603</td>\n",
       "      <td>True</td>\n",
       "      <td>True</td>\n",
       "      <td>True</td>\n",
       "      <td></td>\n",
       "      <td>2010-07-26 08:37:00</td>\n",
       "    </tr>\n",
       "    <tr>\n",
       "      <th>91</th>\n",
       "      <td>BikePoints_96</td>\n",
       "      <td>Falkirk Street, Hoxton</td>\n",
       "      <td>001047</td>\n",
       "      <td>BikePoint</td>\n",
       "      <td>51.530950</td>\n",
       "      <td>-0.078505</td>\n",
       "      <td>True</td>\n",
       "      <td>True</td>\n",
       "      <td>True</td>\n",
       "      <td></td>\n",
       "      <td>2010-07-14 08:43:00</td>\n",
       "    </tr>\n",
       "  </tbody>\n",
       "</table>\n",
       "</div>"
      ],
      "text/plain": [
       "                 Id                                 Name TerminalName  \\\n",
       "208  BikePoints_216  Old Brompton Road, South Kensington       003479   \n",
       "538  BikePoints_573       Limerston Street, West Chelsea       200001   \n",
       "20    BikePoints_21     Hampstead Road (Cartmel), Euston       003426   \n",
       "304  BikePoints_318            Sackville Street, Mayfair       001197   \n",
       "103  BikePoints_108    Abbey Orchard Street, Westminster       003429   \n",
       "586  BikePoints_624      Courland Grove, Wandsworth Road       200173   \n",
       "96   BikePoints_101                 Queen Street 1, Bank       000999   \n",
       "401  BikePoints_427                      Cheapside, Bank       022180   \n",
       "103  BikePoints_108    Abbey Orchard Street, Westminster       003429   \n",
       "444  BikePoints_474         Castalia Square, Cubitt Town       200155   \n",
       "438  BikePoints_468                   Cantrell Road, Bow       200150   \n",
       "516  BikePoints_550             Harford Street, Mile End       200102   \n",
       "313  BikePoints_327             New North Road 1, Hoxton       001128   \n",
       "91    BikePoints_96               Falkirk Street, Hoxton       001047   \n",
       "\n",
       "     PlaceType   Latitude  Longitude Installed Temporary Locked RemovalDate  \\\n",
       "208  BikePoint  51.490945  -0.181190      True      True   True               \n",
       "538  BikePoint  51.485587  -0.181190      True      True   True               \n",
       "20   BikePoint  51.530078  -0.138846      True      True   True               \n",
       "304  BikePoint  51.510048  -0.138846      True      True   True               \n",
       "103  BikePoint  51.498125  -0.132102      True      True   True               \n",
       "586  BikePoint  51.472918  -0.132102      True      True   True               \n",
       "96   BikePoint  51.511553  -0.092940      True      True   True               \n",
       "401  BikePoint  51.513970  -0.092940      True      True   True               \n",
       "103  BikePoint  51.498125  -0.132102      True      True   True               \n",
       "444  BikePoint  51.498125  -0.011457      True      True   True               \n",
       "438  BikePoint  51.521564  -0.022694      True      True   True               \n",
       "516  BikePoint  51.521564  -0.039264      True      True   True               \n",
       "313  BikePoint  51.530950  -0.085603      True      True   True               \n",
       "91   BikePoint  51.530950  -0.078505      True      True   True               \n",
       "\n",
       "            InstallDate  \n",
       "208 2010-07-19 11:12:00  \n",
       "538 2012-03-15 07:21:00  \n",
       "20  2010-07-06 14:49:00  \n",
       "304 2010-07-23 11:42:00  \n",
       "103 2010-07-14 11:42:00  \n",
       "586 2013-10-08 09:24:00  \n",
       "96  2010-07-14 10:18:00  \n",
       "401 2011-07-15 10:28:00  \n",
       "103 2010-07-14 11:42:00  \n",
       "444 2012-01-17 17:56:00  \n",
       "438 2012-01-12 13:42:00  \n",
       "516                 NaT  \n",
       "313 2010-07-26 08:37:00  \n",
       "91  2010-07-14 08:43:00  "
      ]
     },
     "execution_count": 25,
     "metadata": {},
     "output_type": "execute_result"
    }
   ],
   "source": [
    "# find stations with duplicate longitude\n",
    "id_counts_groupedby_longitude = stations_dataset.groupby('Longitude')['Id'].count()\n",
    "nonunique_longitudes = id_counts_groupedby_longitude[id_counts_groupedby_longitude != 1].index.values\n",
    "nonunique_longitude_stations = stations_dataset[stations_dataset['Longitude'].isin(nonunique_longitudes)].sort_values(by=['Longitude'])\n",
    "\n",
    "id_counts_groupedby_latitude = stations_dataset.groupby('Latitude')['Id'].count()\n",
    "nonunique_latitudes = id_counts_groupedby_latitude[id_counts_groupedby_latitude != 1].index.values\n",
    "nonunique_latitudes_stations = stations_dataset[stations_dataset['Latitude'].isin(nonunique_latitudes)].sort_values(by=['Latitude'])\n",
    "\n",
    "nonunique_coordinates_stations = pd.concat([nonunique_longitude_stations, nonunique_latitudes_stations])\n",
    "nonunique_coordinates_stations"
   ]
  },
  {
   "cell_type": "code",
   "execution_count": 26,
   "metadata": {
    "collapsed": true
   },
   "outputs": [],
   "source": [
    "def draw_stations_map(stations_df):\n",
    "    london_longitude = -0.127722\n",
    "    london_latitude = 51.507981\n",
    "    \n",
    "    stations_map = folium.Map(location=[london_latitude, london_longitude], zoom_start=12,\n",
    "                      min_lat=min_latitude, max_lat=max_latitude,\n",
    "                      min_lon=min_longitude, max_lon=max_longitude)\n",
    "\n",
    "    for index, station in stations_df.iterrows():\n",
    "        folium.Marker([station['Latitude'],station['Longitude']], popup=station['Name']).add_to(stations_map)\n",
    "    \n",
    "    return stations_map"
   ]
  },
  {
   "cell_type": "code",
   "execution_count": 27,
   "metadata": {
    "collapsed": false,
    "scrolled": false
   },
   "outputs": [
    {
     "ename": "NameError",
     "evalue": "global name 'folium' is not defined",
     "output_type": "error",
     "traceback": [
      "\u001b[1;31m---------------------------------------------------------------------------\u001b[0m",
      "\u001b[1;31mNameError\u001b[0m                                 Traceback (most recent call last)",
      "\u001b[1;32m<ipython-input-27-33151273b6f3>\u001b[0m in \u001b[0;36m<module>\u001b[1;34m()\u001b[0m\n\u001b[1;32m----> 1\u001b[1;33m \u001b[0mdraw_stations_map\u001b[0m\u001b[1;33m(\u001b[0m\u001b[0mnonunique_coordinates_stations\u001b[0m\u001b[1;33m)\u001b[0m\u001b[1;33m\u001b[0m\u001b[0m\n\u001b[0m",
      "\u001b[1;32m<ipython-input-26-2e8985a6f475>\u001b[0m in \u001b[0;36mdraw_stations_map\u001b[1;34m(stations_df)\u001b[0m\n\u001b[0;32m      3\u001b[0m     \u001b[0mlondon_latitude\u001b[0m \u001b[1;33m=\u001b[0m \u001b[1;36m51.507981\u001b[0m\u001b[1;33m\u001b[0m\u001b[0m\n\u001b[0;32m      4\u001b[0m \u001b[1;33m\u001b[0m\u001b[0m\n\u001b[1;32m----> 5\u001b[1;33m     stations_map = folium.Map(location=[london_latitude, london_longitude], zoom_start=12,\n\u001b[0m\u001b[0;32m      6\u001b[0m                       \u001b[0mmin_lat\u001b[0m\u001b[1;33m=\u001b[0m\u001b[0mmin_latitude\u001b[0m\u001b[1;33m,\u001b[0m \u001b[0mmax_lat\u001b[0m\u001b[1;33m=\u001b[0m\u001b[0mmax_latitude\u001b[0m\u001b[1;33m,\u001b[0m\u001b[1;33m\u001b[0m\u001b[0m\n\u001b[0;32m      7\u001b[0m                       min_lon=min_longitude, max_lon=max_longitude)\n",
      "\u001b[1;31mNameError\u001b[0m: global name 'folium' is not defined"
     ]
    }
   ],
   "source": [
    "draw_stations_map(nonunique_coordinates_stations)"
   ]
  },
  {
   "cell_type": "markdown",
   "metadata": {},
   "source": [
    "We can observe that the stations are different and that having the same Longitude is just a coincidence."
   ]
  },
  {
   "cell_type": "markdown",
   "metadata": {},
   "source": [
    "Let's plot all the stations in a map to see how it looks"
   ]
  },
  {
   "cell_type": "code",
   "execution_count": null,
   "metadata": {
    "collapsed": false
   },
   "outputs": [],
   "source": [
    "london_longitude = -0.127722\n",
    "london_latitude = 51.507981\n",
    "\n",
    "MAX_RECORDS = 100\n",
    "\n",
    "stations_map = folium.Map(location=[london_latitude, london_longitude], zoom_start=12,\n",
    "                  min_lat=min_latitude, max_lat=max_latitude,\n",
    "                  min_lon=min_longitude, max_lon=max_longitude)\n",
    "\n",
    "for index, station in stations_dataset[0:MAX_RECORDS].iterrows():\n",
    "    folium.Marker([station['Latitude'],station['Longitude']], popup=station['Name']).add_to(stations_map)\n",
    "    \n",
    "stations_map\n",
    "\n",
    "#folium.Map.save(stations_map, 'reports/maps/stations_map.html')"
   ]
  },
  {
   "cell_type": "markdown",
   "metadata": {},
   "source": [
    "#### Check Station Status\n",
    "\n",
    "We must make sure that all stations in our dataset are installed and locked."
   ]
  },
  {
   "cell_type": "code",
   "execution_count": null,
   "metadata": {
    "collapsed": false
   },
   "outputs": [],
   "source": [
    "# make sure all stations in our dataset are installed and locked\n",
    "assert len(stations_dataset[stations_dataset['Installed'] == False]) == 0\n",
    "assert len(stations_dataset[stations_dataset['Locked'] == False]) == 0"
   ]
  },
  {
   "cell_type": "markdown",
   "metadata": {},
   "source": [
    "## Data Summary"
   ]
  },
  {
   "cell_type": "code",
   "execution_count": null,
   "metadata": {
    "collapsed": false
   },
   "outputs": [],
   "source": [
    "pd.concat([a, pd.DataFrame()])"
   ]
  },
  {
   "cell_type": "code",
   "execution_count": null,
   "metadata": {
    "collapsed": false
   },
   "outputs": [],
   "source": []
  },
  {
   "cell_type": "markdown",
   "metadata": {},
   "source": [
    "### Import into Pandas"
   ]
  },
  {
   "cell_type": "code",
   "execution_count": null,
   "metadata": {
    "collapsed": false
   },
   "outputs": [],
   "source": []
  },
  {
   "cell_type": "code",
   "execution_count": null,
   "metadata": {
    "collapsed": false
   },
   "outputs": [],
   "source": [
    "dataset = pd.DataFrame(list(itertools.chain.from_iterable(records)))\n",
    "\n",
    "dataset.shape"
   ]
  },
  {
   "cell_type": "code",
   "execution_count": null,
   "metadata": {
    "collapsed": false,
    "scrolled": true
   },
   "outputs": [],
   "source": [
    "\n",
    "dataset.head()"
   ]
  },
  {
   "cell_type": "code",
   "execution_count": null,
   "metadata": {
    "collapsed": false
   },
   "outputs": [],
   "source": [
    "\n",
    "nuniques = dataset.apply(lambda x:x.nunique())\n",
    "constant_cols = nuniques[nuniques == 1].index\n",
    "print 'Constant columns: %s' % constant_cols\n",
    "dataset = dataset.drop(constant_cols, axis=1)"
   ]
  },
  {
   "cell_type": "markdown",
   "metadata": {},
   "source": [
    "### Convert to Appropriate DataTypes"
   ]
  },
  {
   "cell_type": "markdown",
   "metadata": {},
   "source": [
    "### Derive Variables"
   ]
  },
  {
   "cell_type": "markdown",
   "metadata": {},
   "source": [
    "### Data Description"
   ]
  },
  {
   "cell_type": "code",
   "execution_count": null,
   "metadata": {
    "collapsed": false
   },
   "outputs": [],
   "source": [
    "dataset.info(memory_usage='deep')"
   ]
  },
  {
   "cell_type": "code",
   "execution_count": null,
   "metadata": {
    "collapsed": false
   },
   "outputs": [],
   "source": []
  },
  {
   "cell_type": "markdown",
   "metadata": {
    "collapsed": false
   },
   "source": []
  },
  {
   "cell_type": "markdown",
   "metadata": {
    "collapsed": true
   },
   "source": [
    "## Consistent Correct Data"
   ]
  },
  {
   "cell_type": "code",
   "execution_count": null,
   "metadata": {
    "collapsed": false
   },
   "outputs": [],
   "source": [
    "dataset.describe()"
   ]
  },
  {
   "cell_type": "markdown",
   "metadata": {},
   "source": [
    "### Missing Values\n",
    "\n"
   ]
  },
  {
   "cell_type": "markdown",
   "metadata": {},
   "source": [
    "### Outliers"
   ]
  },
  {
   "cell_type": "markdown",
   "metadata": {},
   "source": [
    "### Errors"
   ]
  },
  {
   "cell_type": "markdown",
   "metadata": {},
   "source": [
    "### Consistency"
   ]
  },
  {
   "cell_type": "markdown",
   "metadata": {},
   "source": [
    "## Exploratory Data Analysis"
   ]
  },
  {
   "cell_type": "markdown",
   "metadata": {},
   "source": [
    "### Visual Representation"
   ]
  },
  {
   "cell_type": "markdown",
   "metadata": {},
   "source": [
    "### Examine Variable Relationships"
   ]
  },
  {
   "cell_type": "markdown",
   "metadata": {},
   "source": [
    "### Analyze Variable Over Time"
   ]
  },
  {
   "cell_type": "markdown",
   "metadata": {},
   "source": [
    "## Conclusions"
   ]
  },
  {
   "cell_type": "code",
   "execution_count": null,
   "metadata": {
    "collapsed": true
   },
   "outputs": [],
   "source": []
  }
 ],
 "metadata": {
  "kernelspec": {
   "display_name": "Python 2",
   "language": "python",
   "name": "python2"
  },
  "language_info": {
   "codemirror_mode": {
    "name": "ipython",
    "version": 2
   },
   "file_extension": ".py",
   "mimetype": "text/x-python",
   "name": "python",
   "nbconvert_exporter": "python",
   "pygments_lexer": "ipython2",
   "version": "2.7.11"
  }
 },
 "nbformat": 4,
 "nbformat_minor": 0
}
