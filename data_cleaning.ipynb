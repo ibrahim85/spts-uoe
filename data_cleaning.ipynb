{
 "cells": [
  {
   "cell_type": "markdown",
   "metadata": {
    "collapsed": true
   },
   "source": [
    "# Data Cleaning"
   ]
  },
  {
   "cell_type": "markdown",
   "metadata": {},
   "source": [
    "## Data Dictionary\n",
    "\n",
    "The raw data contains the following data per station per reading:\n",
    "\n",
    "* Id - String - API Resource Id\n",
    "* Name - String - The common name of the station\n",
    "* PlaceType - String ?\n",
    "* TerminalName - String - ?\n",
    "* NbBikes - Integer - The number of available bikes\n",
    "* NbDocks - Integer - The total number of docking spaces\n",
    "* NbEmptyDocks - Integer - The number of available empty docking spaces\n",
    "* Timestamp - DateTime - The moment this reading was captured\n",
    "* InstallDate - DateTime - Date when the station was installed\n",
    "* RemovalDate - DateTime - Date when the station was removed\n",
    "* Installed - Boolean - If the station is installed or not\n",
    "* Locked - Boolean - ?\n",
    "* Temporary - Boolean - If the station is temporary or not (TfL adds temporary stations to cope with demand.)\n",
    "* Latitude - Float - Latitude Coordinate\n",
    "* Longitude - Float - Longitude Coordinate\n",
    "\n",
    "The following variables will be derived from the raw data.\n",
    "\n",
    "* NbUnusableDocks - Integer - The number of non-working docking spaces. Computed with NbUnusableDocks = NbDocks - (NbBikes + NbEmptyDocks)"
   ]
  },
  {
   "cell_type": "markdown",
   "metadata": {},
   "source": [
    "## Set up"
   ]
  },
  {
   "cell_type": "markdown",
   "metadata": {},
   "source": [
    "### Imports"
   ]
  },
  {
   "cell_type": "code",
   "execution_count": 28,
   "metadata": {
    "collapsed": false
   },
   "outputs": [],
   "source": [
    "import logging\n",
    "import itertools\n",
    "import json\n",
    "import os\n",
    "import pickle\n",
    "import pandas as pd\n",
    "import matplotlib.pyplot as plt\n",
    "import folium\n",
    "\n",
    "from mpl_toolkits.basemap import Basemap\n",
    "from datetime import datetime\n",
    "from os import listdir\n",
    "from os.path import isfile, join\n",
    "from src.data.parse_dataset import parse_dir, parse_json_files, get_file_list\n",
    "from IPython.display import Image\n",
    "\n",
    "logger = logging.getLogger()\n",
    "logger.setLevel(logging.INFO)"
   ]
  },
  {
   "cell_type": "markdown",
   "metadata": {},
   "source": [
    "## Parse Raw Data "
   ]
  },
  {
   "cell_type": "markdown",
   "metadata": {},
   "source": [
    "### Define the Parsing Functions"
   ]
  },
  {
   "cell_type": "code",
   "execution_count": 2,
   "metadata": {
    "collapsed": true
   },
   "outputs": [],
   "source": [
    "def parse_cycles(json_obj):\n",
    "    \"\"\"Parses TfL's BikePoint JSON response\"\"\"\n",
    "\n",
    "    return [parse_station(element) for element in json_obj]\n",
    "\n",
    "def parse_station(element):\n",
    "    \"\"\"Parses a JSON bicycle station object to a dictionary\"\"\"\n",
    "\n",
    "    obj = {\n",
    "        'Id': element['id'],\n",
    "        'Name': element['commonName'],\n",
    "        'Latitude': element['lat'],\n",
    "        'Longitude': element['lon'],\n",
    "        'PlaceType': element['placeType'],\n",
    "    }\n",
    "\n",
    "    for p in element['additionalProperties']:\n",
    "        obj[p['key']] = p['value']\n",
    "\n",
    "        if 'timestamp' not in obj:\n",
    "            obj['Timestamp'] = p['modified']\n",
    "        elif obj['Timestamp'] != p['modified']:\n",
    "            raise ValueError('The properties\\' timestamps for station %s do not match: %s != %s' % (\n",
    "            obj['id'], obj['Timestamp'], p['modified']))\n",
    "\n",
    "    return obj"
   ]
  },
  {
   "cell_type": "code",
   "execution_count": 3,
   "metadata": {
    "collapsed": false
   },
   "outputs": [],
   "source": [
    "def bike_file_date_fn(file_name):\n",
    "    \"\"\"Gets the file's date\"\"\"\n",
    "\n",
    "    return datetime.strptime(os.path.basename(file_name), 'BIKE-%Y-%m-%d:%H:%M:%S.json')\n",
    "\n",
    "def create_between_dates_filter(file_date_fn, date_start, date_end):\n",
    "    def filter_fn(file_name):\n",
    "        file_date = file_date_fn(file_name)\n",
    "        return file_date >= date_start and file_date <= date_end\n",
    "    \n",
    "    return filter_fn"
   ]
  },
  {
   "cell_type": "markdown",
   "metadata": {},
   "source": [
    "### Quick Data View"
   ]
  },
  {
   "cell_type": "markdown",
   "metadata": {},
   "source": [
    "#### Load Single Day Data"
   ]
  },
  {
   "cell_type": "code",
   "execution_count": 4,
   "metadata": {
    "collapsed": false
   },
   "outputs": [],
   "source": [
    "filter_fn = create_between_dates_filter(bike_file_date_fn, \n",
    "                                       datetime(2016, 5, 16, 7, 0, 0),\n",
    "                                       datetime(2016, 5, 16, 23, 59, 59))\n",
    "\n",
    "records = parse_dir('/home/jfconavarrete/Documents/Work/Dissertation/spts-uoe/data/raw', \n",
    "                    parse_cycles, sort_fn=bike_file_date_fn, filter_fn=filter_fn)\n",
    "\n",
    "# records is a list of lists of dicts\n",
    "df = pd.DataFrame(list(itertools.chain.from_iterable(records))) "
   ]
  },
  {
   "cell_type": "markdown",
   "metadata": {},
   "source": [
    "####  All Station View"
   ]
  },
  {
   "cell_type": "code",
   "execution_count": 5,
   "metadata": {
    "collapsed": false,
    "scrolled": true
   },
   "outputs": [
    {
     "data": {
      "text/html": [
       "<div>\n",
       "<table border=\"1\" class=\"dataframe\">\n",
       "  <thead>\n",
       "    <tr style=\"text-align: right;\">\n",
       "      <th></th>\n",
       "      <th>Id</th>\n",
       "      <th>InstallDate</th>\n",
       "      <th>Installed</th>\n",
       "      <th>Latitude</th>\n",
       "      <th>Locked</th>\n",
       "      <th>Longitude</th>\n",
       "      <th>Name</th>\n",
       "      <th>NbBikes</th>\n",
       "      <th>NbDocks</th>\n",
       "      <th>NbEmptyDocks</th>\n",
       "      <th>PlaceType</th>\n",
       "      <th>RemovalDate</th>\n",
       "      <th>Temporary</th>\n",
       "      <th>TerminalName</th>\n",
       "      <th>Timestamp</th>\n",
       "    </tr>\n",
       "  </thead>\n",
       "  <tbody>\n",
       "    <tr>\n",
       "      <th>0</th>\n",
       "      <td>BikePoints_1</td>\n",
       "      <td>1278947280000</td>\n",
       "      <td>true</td>\n",
       "      <td>51.529163</td>\n",
       "      <td>false</td>\n",
       "      <td>-0.109970</td>\n",
       "      <td>River Street , Clerkenwell</td>\n",
       "      <td>11</td>\n",
       "      <td>19</td>\n",
       "      <td>7</td>\n",
       "      <td>BikePoint</td>\n",
       "      <td></td>\n",
       "      <td>false</td>\n",
       "      <td>001023</td>\n",
       "      <td>2016-05-16T06:26:24.037</td>\n",
       "    </tr>\n",
       "    <tr>\n",
       "      <th>1</th>\n",
       "      <td>BikePoints_2</td>\n",
       "      <td>1278585780000</td>\n",
       "      <td>true</td>\n",
       "      <td>51.499606</td>\n",
       "      <td>false</td>\n",
       "      <td>-0.197574</td>\n",
       "      <td>Phillimore Gardens, Kensington</td>\n",
       "      <td>12</td>\n",
       "      <td>37</td>\n",
       "      <td>25</td>\n",
       "      <td>BikePoint</td>\n",
       "      <td></td>\n",
       "      <td>false</td>\n",
       "      <td>001018</td>\n",
       "      <td>2016-05-16T06:26:24.037</td>\n",
       "    </tr>\n",
       "    <tr>\n",
       "      <th>2</th>\n",
       "      <td>BikePoints_3</td>\n",
       "      <td>1278240360000</td>\n",
       "      <td>true</td>\n",
       "      <td>51.521283</td>\n",
       "      <td>false</td>\n",
       "      <td>-0.084605</td>\n",
       "      <td>Christopher Street, Liverpool Street</td>\n",
       "      <td>6</td>\n",
       "      <td>32</td>\n",
       "      <td>26</td>\n",
       "      <td>BikePoint</td>\n",
       "      <td></td>\n",
       "      <td>false</td>\n",
       "      <td>001012</td>\n",
       "      <td>2016-05-16T06:51:27.5</td>\n",
       "    </tr>\n",
       "    <tr>\n",
       "      <th>3</th>\n",
       "      <td>BikePoints_4</td>\n",
       "      <td>1278241080000</td>\n",
       "      <td>true</td>\n",
       "      <td>51.530059</td>\n",
       "      <td>false</td>\n",
       "      <td>-0.120973</td>\n",
       "      <td>St. Chad's Street, King's Cross</td>\n",
       "      <td>14</td>\n",
       "      <td>23</td>\n",
       "      <td>9</td>\n",
       "      <td>BikePoint</td>\n",
       "      <td></td>\n",
       "      <td>false</td>\n",
       "      <td>001013</td>\n",
       "      <td>2016-05-16T06:51:27.5</td>\n",
       "    </tr>\n",
       "    <tr>\n",
       "      <th>4</th>\n",
       "      <td>BikePoints_5</td>\n",
       "      <td>1278241440000</td>\n",
       "      <td>true</td>\n",
       "      <td>51.493130</td>\n",
       "      <td>false</td>\n",
       "      <td>-0.156876</td>\n",
       "      <td>Sedding Street, Sloane Square</td>\n",
       "      <td>27</td>\n",
       "      <td>27</td>\n",
       "      <td>0</td>\n",
       "      <td>BikePoint</td>\n",
       "      <td></td>\n",
       "      <td>false</td>\n",
       "      <td>003420</td>\n",
       "      <td>2016-05-16T06:46:27.237</td>\n",
       "    </tr>\n",
       "  </tbody>\n",
       "</table>\n",
       "</div>"
      ],
      "text/plain": [
       "             Id    InstallDate Installed   Latitude Locked  Longitude  \\\n",
       "0  BikePoints_1  1278947280000      true  51.529163  false  -0.109970   \n",
       "1  BikePoints_2  1278585780000      true  51.499606  false  -0.197574   \n",
       "2  BikePoints_3  1278240360000      true  51.521283  false  -0.084605   \n",
       "3  BikePoints_4  1278241080000      true  51.530059  false  -0.120973   \n",
       "4  BikePoints_5  1278241440000      true  51.493130  false  -0.156876   \n",
       "\n",
       "                                   Name NbBikes NbDocks NbEmptyDocks  \\\n",
       "0            River Street , Clerkenwell      11      19            7   \n",
       "1        Phillimore Gardens, Kensington      12      37           25   \n",
       "2  Christopher Street, Liverpool Street       6      32           26   \n",
       "3       St. Chad's Street, King's Cross      14      23            9   \n",
       "4         Sedding Street, Sloane Square      27      27            0   \n",
       "\n",
       "   PlaceType RemovalDate Temporary TerminalName                Timestamp  \n",
       "0  BikePoint                 false       001023  2016-05-16T06:26:24.037  \n",
       "1  BikePoint                 false       001018  2016-05-16T06:26:24.037  \n",
       "2  BikePoint                 false       001012    2016-05-16T06:51:27.5  \n",
       "3  BikePoint                 false       001013    2016-05-16T06:51:27.5  \n",
       "4  BikePoint                 false       003420  2016-05-16T06:46:27.237  "
      ]
     },
     "execution_count": 5,
     "metadata": {},
     "output_type": "execute_result"
    }
   ],
   "source": [
    "df.head()"
   ]
  },
  {
   "cell_type": "markdown",
   "metadata": {},
   "source": [
    "####  Single Station View"
   ]
  },
  {
   "cell_type": "code",
   "execution_count": 6,
   "metadata": {
    "collapsed": false,
    "scrolled": true
   },
   "outputs": [
    {
     "data": {
      "text/html": [
       "<div>\n",
       "<table border=\"1\" class=\"dataframe\">\n",
       "  <thead>\n",
       "    <tr style=\"text-align: right;\">\n",
       "      <th></th>\n",
       "      <th>Id</th>\n",
       "      <th>InstallDate</th>\n",
       "      <th>Installed</th>\n",
       "      <th>Latitude</th>\n",
       "      <th>Locked</th>\n",
       "      <th>Longitude</th>\n",
       "      <th>Name</th>\n",
       "      <th>NbBikes</th>\n",
       "      <th>NbDocks</th>\n",
       "      <th>NbEmptyDocks</th>\n",
       "      <th>PlaceType</th>\n",
       "      <th>RemovalDate</th>\n",
       "      <th>Temporary</th>\n",
       "      <th>TerminalName</th>\n",
       "      <th>Timestamp</th>\n",
       "    </tr>\n",
       "  </thead>\n",
       "  <tbody>\n",
       "    <tr>\n",
       "      <th>0</th>\n",
       "      <td>BikePoints_1</td>\n",
       "      <td>1278947280000</td>\n",
       "      <td>true</td>\n",
       "      <td>51.529163</td>\n",
       "      <td>false</td>\n",
       "      <td>-0.10997</td>\n",
       "      <td>River Street , Clerkenwell</td>\n",
       "      <td>11</td>\n",
       "      <td>19</td>\n",
       "      <td>7</td>\n",
       "      <td>BikePoint</td>\n",
       "      <td></td>\n",
       "      <td>false</td>\n",
       "      <td>001023</td>\n",
       "      <td>2016-05-16T06:26:24.037</td>\n",
       "    </tr>\n",
       "    <tr>\n",
       "      <th>762</th>\n",
       "      <td>BikePoints_1</td>\n",
       "      <td>1278947280000</td>\n",
       "      <td>true</td>\n",
       "      <td>51.529163</td>\n",
       "      <td>false</td>\n",
       "      <td>-0.10997</td>\n",
       "      <td>River Street , Clerkenwell</td>\n",
       "      <td>11</td>\n",
       "      <td>19</td>\n",
       "      <td>7</td>\n",
       "      <td>BikePoint</td>\n",
       "      <td></td>\n",
       "      <td>false</td>\n",
       "      <td>001023</td>\n",
       "      <td>2016-05-16T06:26:24.037</td>\n",
       "    </tr>\n",
       "    <tr>\n",
       "      <th>1524</th>\n",
       "      <td>BikePoints_1</td>\n",
       "      <td>1278947280000</td>\n",
       "      <td>true</td>\n",
       "      <td>51.529163</td>\n",
       "      <td>false</td>\n",
       "      <td>-0.10997</td>\n",
       "      <td>River Street , Clerkenwell</td>\n",
       "      <td>10</td>\n",
       "      <td>19</td>\n",
       "      <td>8</td>\n",
       "      <td>BikePoint</td>\n",
       "      <td></td>\n",
       "      <td>false</td>\n",
       "      <td>001023</td>\n",
       "      <td>2016-05-16T07:01:29.163</td>\n",
       "    </tr>\n",
       "    <tr>\n",
       "      <th>2286</th>\n",
       "      <td>BikePoints_1</td>\n",
       "      <td>1278947280000</td>\n",
       "      <td>true</td>\n",
       "      <td>51.529163</td>\n",
       "      <td>false</td>\n",
       "      <td>-0.10997</td>\n",
       "      <td>River Street , Clerkenwell</td>\n",
       "      <td>8</td>\n",
       "      <td>19</td>\n",
       "      <td>10</td>\n",
       "      <td>BikePoint</td>\n",
       "      <td></td>\n",
       "      <td>false</td>\n",
       "      <td>001023</td>\n",
       "      <td>2016-05-16T07:11:30.433</td>\n",
       "    </tr>\n",
       "    <tr>\n",
       "      <th>3048</th>\n",
       "      <td>BikePoints_1</td>\n",
       "      <td>1278947280000</td>\n",
       "      <td>true</td>\n",
       "      <td>51.529163</td>\n",
       "      <td>false</td>\n",
       "      <td>-0.10997</td>\n",
       "      <td>River Street , Clerkenwell</td>\n",
       "      <td>8</td>\n",
       "      <td>19</td>\n",
       "      <td>10</td>\n",
       "      <td>BikePoint</td>\n",
       "      <td></td>\n",
       "      <td>false</td>\n",
       "      <td>001023</td>\n",
       "      <td>2016-05-16T07:11:30.433</td>\n",
       "    </tr>\n",
       "  </tbody>\n",
       "</table>\n",
       "</div>"
      ],
      "text/plain": [
       "                Id    InstallDate Installed   Latitude Locked  Longitude  \\\n",
       "0     BikePoints_1  1278947280000      true  51.529163  false   -0.10997   \n",
       "762   BikePoints_1  1278947280000      true  51.529163  false   -0.10997   \n",
       "1524  BikePoints_1  1278947280000      true  51.529163  false   -0.10997   \n",
       "2286  BikePoints_1  1278947280000      true  51.529163  false   -0.10997   \n",
       "3048  BikePoints_1  1278947280000      true  51.529163  false   -0.10997   \n",
       "\n",
       "                            Name NbBikes NbDocks NbEmptyDocks  PlaceType  \\\n",
       "0     River Street , Clerkenwell      11      19            7  BikePoint   \n",
       "762   River Street , Clerkenwell      11      19            7  BikePoint   \n",
       "1524  River Street , Clerkenwell      10      19            8  BikePoint   \n",
       "2286  River Street , Clerkenwell       8      19           10  BikePoint   \n",
       "3048  River Street , Clerkenwell       8      19           10  BikePoint   \n",
       "\n",
       "     RemovalDate Temporary TerminalName                Timestamp  \n",
       "0                    false       001023  2016-05-16T06:26:24.037  \n",
       "762                  false       001023  2016-05-16T06:26:24.037  \n",
       "1524                 false       001023  2016-05-16T07:01:29.163  \n",
       "2286                 false       001023  2016-05-16T07:11:30.433  \n",
       "3048                 false       001023  2016-05-16T07:11:30.433  "
      ]
     },
     "execution_count": 6,
     "metadata": {},
     "output_type": "execute_result"
    }
   ],
   "source": [
    "df[df['Id'] == 'BikePoints_1'].head()"
   ]
  },
  {
   "cell_type": "markdown",
   "metadata": {},
   "source": [
    "#### Observations\n",
    "\n",
    "* There are some duplicate rows <- remove duplicates\n",
    "* RemovalDate may contain a lot of nulls <- remove if not helpful\n",
    "* Locked and Installed might be constant <- remove if not helpful"
   ]
  },
  {
   "cell_type": "markdown",
   "metadata": {},
   "source": [
    "### Build Dataset"
   ]
  },
  {
   "cell_type": "markdown",
   "metadata": {},
   "source": [
    "#### Work with Chunks"
   ]
  },
  {
   "cell_type": "markdown",
   "metadata": {},
   "source": [
    "Due to memory constraints we'll parse the data in chunks. In each chunk we'll remove the redundant candidate keys and also duplicate rows."
   ]
  },
  {
   "cell_type": "code",
   "execution_count": 7,
   "metadata": {
    "collapsed": true
   },
   "outputs": [],
   "source": [
    "def chunker(seq, size):\n",
    "    return (seq[pos:pos + size] for pos in xrange(0, len(seq), size))"
   ]
  },
  {
   "cell_type": "markdown",
   "metadata": {},
   "source": [
    "#### Tables\n",
    "\n",
    "We will have two different tables, one for the stations and one for the availability readings"
   ]
  },
  {
   "cell_type": "code",
   "execution_count": 8,
   "metadata": {
    "collapsed": true
   },
   "outputs": [],
   "source": [
    "def split_data(parsed_data):\n",
    "    master_df = pd.DataFrame(list(itertools.chain.from_iterable(parsed_data)))\n",
    "    \n",
    "    readings_df = pd.DataFrame(master_df, columns=['Id', 'Timestamp', 'NbBikes', 'NbDocks', 'NbEmptyDocks'])\n",
    "    stations_df = pd.DataFrame(master_df, columns=['Id', 'Name', 'TerminalName' , 'PlaceType', 'Latitude', \n",
    "                                                   'Longitude', 'Installed', 'Temporary', 'Locked',\n",
    "                                                   'RemovalDate', 'InstallDate'])\n",
    "    \n",
    "    return (readings_df, stations_df)"
   ]
  },
  {
   "cell_type": "markdown",
   "metadata": {},
   "source": [
    "#### Build the Dataset"
   ]
  },
  {
   "cell_type": "code",
   "execution_count": 9,
   "metadata": {
    "collapsed": true
   },
   "outputs": [],
   "source": [
    "# get the files to parse\n",
    "five_weekdays_filter = create_between_dates_filter(bike_file_date_fn, \n",
    "                                                   datetime(2016, 5, 15, 11, 0, 0), \n",
    "                                                   datetime(2016, 6, 7, 8, 0, 0))\n",
    "files = get_file_list('data/raw', filter_fn=None, sort_fn=bike_file_date_fn)\n",
    "\n",
    "# process the files in chunks\n",
    "files_batches = chunker(files, 100)"
   ]
  },
  {
   "cell_type": "code",
   "execution_count": 10,
   "metadata": {
    "collapsed": false
   },
   "outputs": [],
   "source": [
    "# start with an empty dataset\n",
    "readings_dataset = pd.DataFrame()\n",
    "stations_dataset = pd.DataFrame()\n",
    "\n",
    "# append each chunk to the datasets while removing duplicates\n",
    "for batch in files_batches:\n",
    "    parsed_data = parse_json_files(batch, parse_cycles)\n",
    "    \n",
    "    # split the data into two station data and readings data\n",
    "    readings_df, stations_df = split_data(parsed_data)\n",
    "    \n",
    "    # append the datasets\n",
    "    readings_dataset = pd.concat([readings_dataset, readings_df])\n",
    "    stations_dataset = pd.concat([stations_dataset, stations_df])\n",
    "    \n",
    "    # remove duplicated rows\n",
    "    readings_dataset.drop_duplicates(inplace=True)\n",
    "    stations_dataset.drop_duplicates(inplace=True)"
   ]
  },
  {
   "cell_type": "markdown",
   "metadata": {},
   "source": [
    "## Technically Correct Data\n",
    "\n",
    "The data is set to be technically correct if it:\n",
    "\n",
    "1. can be directly recognized as belonging to a certain variable\n",
    "2. is stored in a data type that represents the value domain of the real-world variable."
   ]
  },
  {
   "cell_type": "code",
   "execution_count": 11,
   "metadata": {
    "collapsed": false
   },
   "outputs": [],
   "source": [
    "# convert columns to their appropriate datatypes\n",
    "stations_dataset['InstallDate'] = pd.to_numeric(stations_dataset['InstallDate'], errors='raise')\n",
    "stations_dataset['Installed'] = stations_dataset['Installed'].astype('bool_')\n",
    "stations_dataset['Temporary'] = stations_dataset['Temporary'].astype('bool_')\n",
    "stations_dataset['Locked'] = stations_dataset['Locked'].astype('bool_')\n",
    "\n",
    "readings_dataset['NbBikes'] = readings_dataset['NbBikes'].astype('uint16')\n",
    "readings_dataset['NbDocks'] = readings_dataset['NbDocks'].astype('uint16')\n",
    "readings_dataset['NbEmptyDocks'] = readings_dataset['NbEmptyDocks'].astype('uint16')\n",
    "\n",
    "# convert string timestamp to datetime\n",
    "stations_dataset['InstallDate'] = pd.to_datetime(stations_dataset['InstallDate'], unit='ms')\n",
    "\n",
    "readings_dataset['Timestamp'] =  pd.to_datetime(readings_dataset['Timestamp'], format='%Y-%m-%dT%H:%M:%S.%f', errors='raise')"
   ]
  },
  {
   "cell_type": "code",
   "execution_count": 12,
   "metadata": {
    "collapsed": false
   },
   "outputs": [],
   "source": [
    "# sort the datasets\n",
    "stations_dataset.sort_values(by=['Id'], ascending=True, inplace=True)\n",
    "\n",
    "readings_dataset.sort_values(by=['Timestamp'], ascending=True, inplace=True)"
   ]
  },
  {
   "cell_type": "markdown",
   "metadata": {},
   "source": [
    "## Derive Data"
   ]
  },
  {
   "cell_type": "code",
   "execution_count": 13,
   "metadata": {
    "collapsed": false,
    "scrolled": true
   },
   "outputs": [],
   "source": [
    "readings_dataset['NbUnusableDocks'] = readings_dataset['NbDocks'] - (readings_dataset['NbBikes'] + readings_dataset['NbEmptyDocks'])"
   ]
  },
  {
   "cell_type": "markdown",
   "metadata": {},
   "source": [
    "## Consistent Data"
   ]
  },
  {
   "cell_type": "markdown",
   "metadata": {},
   "source": [
    "### Stations Analysis\n",
    "\n",
    "#### Overview"
   ]
  },
  {
   "cell_type": "code",
   "execution_count": 14,
   "metadata": {
    "collapsed": false
   },
   "outputs": [
    {
     "data": {
      "text/plain": [
       "(778, 11)"
      ]
     },
     "execution_count": 14,
     "metadata": {},
     "output_type": "execute_result"
    }
   ],
   "source": [
    "stations_dataset.shape"
   ]
  },
  {
   "cell_type": "code",
   "execution_count": 15,
   "metadata": {
    "collapsed": false
   },
   "outputs": [
    {
     "name": "stdout",
     "output_type": "stream",
     "text": [
      "<class 'pandas.core.frame.DataFrame'>\n",
      "Int64Index: 778 entries, 0 to 94\n",
      "Data columns (total 11 columns):\n",
      "Id              778 non-null object\n",
      "Name            778 non-null object\n",
      "TerminalName    778 non-null object\n",
      "PlaceType       778 non-null object\n",
      "Latitude        778 non-null float64\n",
      "Longitude       778 non-null float64\n",
      "Installed       778 non-null bool\n",
      "Temporary       778 non-null bool\n",
      "Locked          778 non-null bool\n",
      "RemovalDate     778 non-null object\n",
      "InstallDate     683 non-null datetime64[ns]\n",
      "dtypes: bool(3), datetime64[ns](1), float64(2), object(5)\n",
      "memory usage: 424.7 KB\n"
     ]
    }
   ],
   "source": [
    "stations_dataset.info(memory_usage='deep')"
   ]
  },
  {
   "cell_type": "code",
   "execution_count": 16,
   "metadata": {
    "collapsed": false
   },
   "outputs": [
    {
     "data": {
      "text/html": [
       "<div>\n",
       "<table border=\"1\" class=\"dataframe\">\n",
       "  <thead>\n",
       "    <tr style=\"text-align: right;\">\n",
       "      <th></th>\n",
       "      <th>Id</th>\n",
       "      <th>Name</th>\n",
       "      <th>TerminalName</th>\n",
       "      <th>PlaceType</th>\n",
       "      <th>Latitude</th>\n",
       "      <th>Longitude</th>\n",
       "      <th>Installed</th>\n",
       "      <th>Temporary</th>\n",
       "      <th>Locked</th>\n",
       "      <th>RemovalDate</th>\n",
       "      <th>InstallDate</th>\n",
       "    </tr>\n",
       "  </thead>\n",
       "  <tbody>\n",
       "    <tr>\n",
       "      <th>0</th>\n",
       "      <td>BikePoints_1</td>\n",
       "      <td>River Street , Clerkenwell</td>\n",
       "      <td>001023</td>\n",
       "      <td>BikePoint</td>\n",
       "      <td>51.529163</td>\n",
       "      <td>-0.109970</td>\n",
       "      <td>True</td>\n",
       "      <td>True</td>\n",
       "      <td>True</td>\n",
       "      <td></td>\n",
       "      <td>2010-07-12 15:08:00</td>\n",
       "    </tr>\n",
       "    <tr>\n",
       "      <th>9</th>\n",
       "      <td>BikePoints_10</td>\n",
       "      <td>Park Street, Bankside</td>\n",
       "      <td>001024</td>\n",
       "      <td>BikePoint</td>\n",
       "      <td>51.505974</td>\n",
       "      <td>-0.092754</td>\n",
       "      <td>True</td>\n",
       "      <td>True</td>\n",
       "      <td>True</td>\n",
       "      <td></td>\n",
       "      <td>2010-07-04 11:21:00</td>\n",
       "    </tr>\n",
       "    <tr>\n",
       "      <th>95</th>\n",
       "      <td>BikePoints_100</td>\n",
       "      <td>Albert Embankment, Vauxhall</td>\n",
       "      <td>001059</td>\n",
       "      <td>BikePoint</td>\n",
       "      <td>51.490435</td>\n",
       "      <td>-0.122806</td>\n",
       "      <td>True</td>\n",
       "      <td>True</td>\n",
       "      <td>True</td>\n",
       "      <td></td>\n",
       "      <td>2010-07-14 09:31:00</td>\n",
       "    </tr>\n",
       "    <tr>\n",
       "      <th>96</th>\n",
       "      <td>BikePoints_101</td>\n",
       "      <td>Queen Street 1, Bank</td>\n",
       "      <td>000999</td>\n",
       "      <td>BikePoint</td>\n",
       "      <td>51.511553</td>\n",
       "      <td>-0.092940</td>\n",
       "      <td>True</td>\n",
       "      <td>True</td>\n",
       "      <td>True</td>\n",
       "      <td></td>\n",
       "      <td>2010-07-14 10:18:00</td>\n",
       "    </tr>\n",
       "    <tr>\n",
       "      <th>97</th>\n",
       "      <td>BikePoints_102</td>\n",
       "      <td>Jewry Street, Aldgate</td>\n",
       "      <td>001045</td>\n",
       "      <td>BikePoint</td>\n",
       "      <td>51.513406</td>\n",
       "      <td>-0.076793</td>\n",
       "      <td>True</td>\n",
       "      <td>True</td>\n",
       "      <td>True</td>\n",
       "      <td></td>\n",
       "      <td>2010-07-14 10:21:00</td>\n",
       "    </tr>\n",
       "  </tbody>\n",
       "</table>\n",
       "</div>"
      ],
      "text/plain": [
       "                Id                         Name TerminalName  PlaceType  \\\n",
       "0     BikePoints_1   River Street , Clerkenwell       001023  BikePoint   \n",
       "9    BikePoints_10        Park Street, Bankside       001024  BikePoint   \n",
       "95  BikePoints_100  Albert Embankment, Vauxhall       001059  BikePoint   \n",
       "96  BikePoints_101         Queen Street 1, Bank       000999  BikePoint   \n",
       "97  BikePoints_102        Jewry Street, Aldgate       001045  BikePoint   \n",
       "\n",
       "     Latitude  Longitude Installed Temporary Locked RemovalDate  \\\n",
       "0   51.529163  -0.109970      True      True   True               \n",
       "9   51.505974  -0.092754      True      True   True               \n",
       "95  51.490435  -0.122806      True      True   True               \n",
       "96  51.511553  -0.092940      True      True   True               \n",
       "97  51.513406  -0.076793      True      True   True               \n",
       "\n",
       "           InstallDate  \n",
       "0  2010-07-12 15:08:00  \n",
       "9  2010-07-04 11:21:00  \n",
       "95 2010-07-14 09:31:00  \n",
       "96 2010-07-14 10:18:00  \n",
       "97 2010-07-14 10:21:00  "
      ]
     },
     "execution_count": 16,
     "metadata": {},
     "output_type": "execute_result"
    }
   ],
   "source": [
    "stations_dataset.head()"
   ]
  },
  {
   "cell_type": "code",
   "execution_count": 17,
   "metadata": {
    "collapsed": false
   },
   "outputs": [
    {
     "data": {
      "text/html": [
       "<div>\n",
       "<table border=\"1\" class=\"dataframe\">\n",
       "  <thead>\n",
       "    <tr style=\"text-align: right;\">\n",
       "      <th></th>\n",
       "      <th>Latitude</th>\n",
       "      <th>Longitude</th>\n",
       "    </tr>\n",
       "  </thead>\n",
       "  <tbody>\n",
       "    <tr>\n",
       "      <th>count</th>\n",
       "      <td>778.000000</td>\n",
       "      <td>778.000000</td>\n",
       "    </tr>\n",
       "    <tr>\n",
       "      <th>mean</th>\n",
       "      <td>51.439607</td>\n",
       "      <td>-0.128938</td>\n",
       "    </tr>\n",
       "    <tr>\n",
       "      <th>std</th>\n",
       "      <td>1.846681</td>\n",
       "      <td>0.056126</td>\n",
       "    </tr>\n",
       "    <tr>\n",
       "      <th>min</th>\n",
       "      <td>0.000000</td>\n",
       "      <td>-0.236769</td>\n",
       "    </tr>\n",
       "    <tr>\n",
       "      <th>25%</th>\n",
       "      <td>51.493134</td>\n",
       "      <td>-0.172954</td>\n",
       "    </tr>\n",
       "    <tr>\n",
       "      <th>50%</th>\n",
       "      <td>51.509123</td>\n",
       "      <td>-0.132102</td>\n",
       "    </tr>\n",
       "    <tr>\n",
       "      <th>75%</th>\n",
       "      <td>51.520686</td>\n",
       "      <td>-0.092940</td>\n",
       "    </tr>\n",
       "    <tr>\n",
       "      <th>max</th>\n",
       "      <td>51.549369</td>\n",
       "      <td>0.122299</td>\n",
       "    </tr>\n",
       "  </tbody>\n",
       "</table>\n",
       "</div>"
      ],
      "text/plain": [
       "         Latitude   Longitude\n",
       "count  778.000000  778.000000\n",
       "mean    51.439607   -0.128938\n",
       "std      1.846681    0.056126\n",
       "min      0.000000   -0.236769\n",
       "25%     51.493134   -0.172954\n",
       "50%     51.509123   -0.132102\n",
       "75%     51.520686   -0.092940\n",
       "max     51.549369    0.122299"
      ]
     },
     "execution_count": 17,
     "metadata": {},
     "output_type": "execute_result"
    }
   ],
   "source": [
    "stations_dataset.describe()"
   ]
  },
  {
   "cell_type": "code",
   "execution_count": 18,
   "metadata": {
    "collapsed": false,
    "scrolled": true
   },
   "outputs": [
    {
     "data": {
      "text/plain": [
       "Id              773\n",
       "Name            774\n",
       "TerminalName    773\n",
       "PlaceType         1\n",
       "Latitude        770\n",
       "Longitude       770\n",
       "Installed         1\n",
       "Temporary         1\n",
       "Locked            1\n",
       "RemovalDate       4\n",
       "InstallDate     682\n",
       "dtype: int64"
      ]
     },
     "execution_count": 18,
     "metadata": {},
     "output_type": "execute_result"
    }
   ],
   "source": [
    "stations_dataset.apply(lambda x:x.nunique())"
   ]
  },
  {
   "cell_type": "markdown",
   "metadata": {},
   "source": [
    "#### Observations:\n",
    "* Id, Name and Terminal name seem to be candidate keys\n",
    "* The minimum latitude and the maximum longitude are 0\n",
    "* Some stations have the same latitude or longitude\n",
    "* Id, TerminalName and Name have different unique values\n",
    "* Placetype, Installed, Temporary and Locked appear to be constant\n",
    "* Some stations do not have an install date\n",
    "* Some Stations have a removal date (very sparse)"
   ]
  },
  {
   "cell_type": "markdown",
   "metadata": {},
   "source": [
    "#### Remove Duplicate Stations"
   ]
  },
  {
   "cell_type": "code",
   "execution_count": 19,
   "metadata": {
    "collapsed": false
   },
   "outputs": [
    {
     "data": {
      "text/html": [
       "<div>\n",
       "<table border=\"1\" class=\"dataframe\">\n",
       "  <thead>\n",
       "    <tr style=\"text-align: right;\">\n",
       "      <th></th>\n",
       "      <th>Id</th>\n",
       "      <th>Name</th>\n",
       "      <th>TerminalName</th>\n",
       "      <th>PlaceType</th>\n",
       "      <th>Latitude</th>\n",
       "      <th>Longitude</th>\n",
       "      <th>Installed</th>\n",
       "      <th>Temporary</th>\n",
       "      <th>Locked</th>\n",
       "      <th>RemovalDate</th>\n",
       "      <th>InstallDate</th>\n",
       "    </tr>\n",
       "  </thead>\n",
       "  <tbody>\n",
       "    <tr>\n",
       "      <th>56333</th>\n",
       "      <td>BikePoints_798</td>\n",
       "      <td>Birkenhead Street, King's Cross</td>\n",
       "      <td>300212</td>\n",
       "      <td>BikePoint</td>\n",
       "      <td>51.530199</td>\n",
       "      <td>-0.122299</td>\n",
       "      <td>True</td>\n",
       "      <td>True</td>\n",
       "      <td>True</td>\n",
       "      <td></td>\n",
       "      <td>NaT</td>\n",
       "    </tr>\n",
       "    <tr>\n",
       "      <th>41855</th>\n",
       "      <td>BikePoints_798</td>\n",
       "      <td>Birkenhead Street, King's Cross</td>\n",
       "      <td>300212</td>\n",
       "      <td>BikePoint</td>\n",
       "      <td>51.530199</td>\n",
       "      <td>0.122299</td>\n",
       "      <td>True</td>\n",
       "      <td>True</td>\n",
       "      <td>True</td>\n",
       "      <td></td>\n",
       "      <td>NaT</td>\n",
       "    </tr>\n",
       "    <tr>\n",
       "      <th>71111</th>\n",
       "      <td>BikePoints_799</td>\n",
       "      <td>Kings Gate House, Westminster</td>\n",
       "      <td>300202</td>\n",
       "      <td>BikePoint</td>\n",
       "      <td>51.497698</td>\n",
       "      <td>-0.137598</td>\n",
       "      <td>True</td>\n",
       "      <td>True</td>\n",
       "      <td>True</td>\n",
       "      <td></td>\n",
       "      <td>NaT</td>\n",
       "    </tr>\n",
       "    <tr>\n",
       "      <th>67978</th>\n",
       "      <td>BikePoints_799</td>\n",
       "      <td>Kings Gate House, Westminster</td>\n",
       "      <td>300202</td>\n",
       "      <td>BikePoint</td>\n",
       "      <td>51.497698</td>\n",
       "      <td>-0.137598</td>\n",
       "      <td>True</td>\n",
       "      <td>True</td>\n",
       "      <td>True</td>\n",
       "      <td></td>\n",
       "      <td>2016-06-02 14:08:00</td>\n",
       "    </tr>\n",
       "    <tr>\n",
       "      <th>44409</th>\n",
       "      <td>BikePoints_802</td>\n",
       "      <td>Albert Square, Stockwell</td>\n",
       "      <td>300209</td>\n",
       "      <td>BikePoint</td>\n",
       "      <td>51.476590</td>\n",
       "      <td>-0.118256</td>\n",
       "      <td>True</td>\n",
       "      <td>True</td>\n",
       "      <td>True</td>\n",
       "      <td></td>\n",
       "      <td>NaT</td>\n",
       "    </tr>\n",
       "    <tr>\n",
       "      <th>40439</th>\n",
       "      <td>BikePoints_802</td>\n",
       "      <td>Albert Square, Stockwell</td>\n",
       "      <td>300209</td>\n",
       "      <td>BikePoint</td>\n",
       "      <td>51.476590</td>\n",
       "      <td>-0.118256</td>\n",
       "      <td>True</td>\n",
       "      <td>True</td>\n",
       "      <td>True</td>\n",
       "      <td></td>\n",
       "      <td>2016-06-02 11:05:00</td>\n",
       "    </tr>\n",
       "    <tr>\n",
       "      <th>52069</th>\n",
       "      <td>BikePoints_814</td>\n",
       "      <td>Clapham Road, Lingham Street, Stockwell</td>\n",
       "      <td>300245</td>\n",
       "      <td>BikePoint</td>\n",
       "      <td>51.471433</td>\n",
       "      <td>-0.123670</td>\n",
       "      <td>True</td>\n",
       "      <td>True</td>\n",
       "      <td>True</td>\n",
       "      <td></td>\n",
       "      <td>NaT</td>\n",
       "    </tr>\n",
       "    <tr>\n",
       "      <th>52672</th>\n",
       "      <td>BikePoints_814</td>\n",
       "      <td>Clapham Road, Lingham Street, Stockwell</td>\n",
       "      <td>300245</td>\n",
       "      <td>BikePoint</td>\n",
       "      <td>51.471433</td>\n",
       "      <td>-0.123670</td>\n",
       "      <td>True</td>\n",
       "      <td>True</td>\n",
       "      <td>True</td>\n",
       "      <td></td>\n",
       "      <td>2016-06-02 12:21:00</td>\n",
       "    </tr>\n",
       "    <tr>\n",
       "      <th>39676</th>\n",
       "      <td>BikePoints_818</td>\n",
       "      <td>One Tower Bridge, Southwark</td>\n",
       "      <td>300249</td>\n",
       "      <td>BikePoint</td>\n",
       "      <td>51.503127</td>\n",
       "      <td>-0.078655</td>\n",
       "      <td>True</td>\n",
       "      <td>True</td>\n",
       "      <td>True</td>\n",
       "      <td></td>\n",
       "      <td>NaT</td>\n",
       "    </tr>\n",
       "    <tr>\n",
       "      <th>43547</th>\n",
       "      <td>BikePoints_818</td>\n",
       "      <td>One Tower Bridge, Bermondsey</td>\n",
       "      <td>300249</td>\n",
       "      <td>BikePoint</td>\n",
       "      <td>51.503127</td>\n",
       "      <td>-0.078655</td>\n",
       "      <td>True</td>\n",
       "      <td>True</td>\n",
       "      <td>True</td>\n",
       "      <td></td>\n",
       "      <td>NaT</td>\n",
       "    </tr>\n",
       "  </tbody>\n",
       "</table>\n",
       "</div>"
      ],
      "text/plain": [
       "                   Id                                     Name TerminalName  \\\n",
       "56333  BikePoints_798          Birkenhead Street, King's Cross       300212   \n",
       "41855  BikePoints_798          Birkenhead Street, King's Cross       300212   \n",
       "71111  BikePoints_799            Kings Gate House, Westminster       300202   \n",
       "67978  BikePoints_799            Kings Gate House, Westminster       300202   \n",
       "44409  BikePoints_802                 Albert Square, Stockwell       300209   \n",
       "40439  BikePoints_802                 Albert Square, Stockwell       300209   \n",
       "52069  BikePoints_814  Clapham Road, Lingham Street, Stockwell       300245   \n",
       "52672  BikePoints_814  Clapham Road, Lingham Street, Stockwell       300245   \n",
       "39676  BikePoints_818              One Tower Bridge, Southwark       300249   \n",
       "43547  BikePoints_818             One Tower Bridge, Bermondsey       300249   \n",
       "\n",
       "       PlaceType   Latitude  Longitude Installed Temporary Locked RemovalDate  \\\n",
       "56333  BikePoint  51.530199  -0.122299      True      True   True               \n",
       "41855  BikePoint  51.530199   0.122299      True      True   True               \n",
       "71111  BikePoint  51.497698  -0.137598      True      True   True               \n",
       "67978  BikePoint  51.497698  -0.137598      True      True   True               \n",
       "44409  BikePoint  51.476590  -0.118256      True      True   True               \n",
       "40439  BikePoint  51.476590  -0.118256      True      True   True               \n",
       "52069  BikePoint  51.471433  -0.123670      True      True   True               \n",
       "52672  BikePoint  51.471433  -0.123670      True      True   True               \n",
       "39676  BikePoint  51.503127  -0.078655      True      True   True               \n",
       "43547  BikePoint  51.503127  -0.078655      True      True   True               \n",
       "\n",
       "              InstallDate  \n",
       "56333                 NaT  \n",
       "41855                 NaT  \n",
       "71111                 NaT  \n",
       "67978 2016-06-02 14:08:00  \n",
       "44409                 NaT  \n",
       "40439 2016-06-02 11:05:00  \n",
       "52069                 NaT  \n",
       "52672 2016-06-02 12:21:00  \n",
       "39676                 NaT  \n",
       "43547                 NaT  "
      ]
     },
     "execution_count": 19,
     "metadata": {},
     "output_type": "execute_result"
    }
   ],
   "source": [
    "def find_names_changes(df):\n",
    "    \"\"\"Find Ids that have more than one Name or TerminalName\"\"\"\n",
    "    \n",
    "    \n",
    "    names_per_id_count = df.groupby('Id')['Name', 'TerminalName'].count()\n",
    "    ids_with_several_names = names_per_id_count[(names_per_id_count['Name'] != 1) | (names_per_id_count['Name'] != 1)]\n",
    "    return df[df['Id'].isin(ids_with_several_names.index.values)]\n",
    "\n",
    "ids_with_several_names_df = find_names_changes(stations_dataset)\n",
    "ids_with_several_names_df"
   ]
  },
  {
   "cell_type": "markdown",
   "metadata": {},
   "source": [
    "Given these records have the same location and Id but different Name or TerminalName, we'll assume the station changed name and remove the first entries."
   ]
  },
  {
   "cell_type": "code",
   "execution_count": 20,
   "metadata": {
    "collapsed": false
   },
   "outputs": [],
   "source": [
    "# get the index of the first repeated entries\n",
    "is_duplicated_id = ids_with_several_names_df.duplicated(['Id'], keep='last')\n",
    "duplicated_id_idx = is_duplicated_id[is_duplicated_id == True].index\n",
    "\n",
    "# drop entries using the index\n",
    "stations_dataset.drop(duplicated_id_idx, inplace=True)"
   ]
  },
  {
   "cell_type": "code",
   "execution_count": 21,
   "metadata": {
    "collapsed": false
   },
   "outputs": [],
   "source": [
    "# make sure there are no repeated ids \n",
    "assert len(find_names_changes(stations_dataset)) == 0"
   ]
  },
  {
   "cell_type": "markdown",
   "metadata": {},
   "source": [
    "#### Check Locations"
   ]
  },
  {
   "cell_type": "markdown",
   "metadata": {},
   "source": [
    "Let's have a closer look at the station locations. All of them should be in Greater London."
   ]
  },
  {
   "cell_type": "code",
   "execution_count": 22,
   "metadata": {
    "collapsed": false
   },
   "outputs": [
    {
     "data": {
      "text/html": [
       "<div>\n",
       "<table border=\"1\" class=\"dataframe\">\n",
       "  <thead>\n",
       "    <tr style=\"text-align: right;\">\n",
       "      <th></th>\n",
       "      <th>Id</th>\n",
       "      <th>Name</th>\n",
       "      <th>TerminalName</th>\n",
       "      <th>PlaceType</th>\n",
       "      <th>Latitude</th>\n",
       "      <th>Longitude</th>\n",
       "      <th>Installed</th>\n",
       "      <th>Temporary</th>\n",
       "      <th>Locked</th>\n",
       "      <th>RemovalDate</th>\n",
       "      <th>InstallDate</th>\n",
       "    </tr>\n",
       "  </thead>\n",
       "  <tbody>\n",
       "    <tr>\n",
       "      <th>750</th>\n",
       "      <td>BikePoints_791</td>\n",
       "      <td>Test Desktop</td>\n",
       "      <td>666666</td>\n",
       "      <td>BikePoint</td>\n",
       "      <td>0.0</td>\n",
       "      <td>0.0</td>\n",
       "      <td>True</td>\n",
       "      <td>True</td>\n",
       "      <td>True</td>\n",
       "      <td></td>\n",
       "      <td>2016-01-15 12:39:00</td>\n",
       "    </tr>\n",
       "  </tbody>\n",
       "</table>\n",
       "</div>"
      ],
      "text/plain": [
       "                 Id           Name TerminalName  PlaceType  Latitude  \\\n",
       "750  BikePoints_791  Test Desktop        666666  BikePoint       0.0   \n",
       "\n",
       "     Longitude Installed Temporary Locked RemovalDate         InstallDate  \n",
       "750        0.0      True      True   True             2016-01-15 12:39:00  "
      ]
     },
     "execution_count": 22,
     "metadata": {},
     "output_type": "execute_result"
    }
   ],
   "source": [
    "# bounding box for Greater London\n",
    "min_longitude = -0.489\n",
    "min_latitude = 51.28\n",
    "max_longitude = 0.236\n",
    "max_latitude = 51.686\n",
    "\n",
    "def find_locations_outside_box(locations, min_longitude, min_latitude, max_longitude, max_latitude):\n",
    "    latitude_check = ~(locations['Latitude'] >= min_latitude) & (locations['Latitude'] <= max_latitude) \n",
    "    longitude_check = ~(locations['Longitude'] >= min_longitude) & (locations['Longitude'] <= max_longitude) \n",
    "    return locations[(latitude_check | longitude_check)]\n",
    "\n",
    "outlier_locations_df = find_locations_outside_box(stations_dataset, min_longitude, min_latitude, max_longitude, max_latitude)\n",
    "outlier_locations_df"
   ]
  },
  {
   "cell_type": "code",
   "execution_count": 23,
   "metadata": {
    "collapsed": false
   },
   "outputs": [],
   "source": [
    "outlier_locations_idx = outlier_locations_df.index.values\n",
    "\n",
    "stations_dataset.drop(outlier_locations_idx, inplace=True)"
   ]
  },
  {
   "cell_type": "markdown",
   "metadata": {},
   "source": [
    "This station looks like a test dation, so we'll remove it."
   ]
  },
  {
   "cell_type": "code",
   "execution_count": 24,
   "metadata": {
    "collapsed": false
   },
   "outputs": [],
   "source": [
    "# make sure there are no stations outside london\n",
    "assert len(find_locations_outside_box(stations_dataset, min_longitude, min_latitude, max_longitude, max_latitude)) == 0"
   ]
  },
  {
   "cell_type": "markdown",
   "metadata": {},
   "source": [
    "We will investigate the fact that there are stations with duplicate latitude or longitude values."
   ]
  },
  {
   "cell_type": "code",
   "execution_count": 25,
   "metadata": {
    "collapsed": false
   },
   "outputs": [
    {
     "data": {
      "text/html": [
       "<div>\n",
       "<table border=\"1\" class=\"dataframe\">\n",
       "  <thead>\n",
       "    <tr style=\"text-align: right;\">\n",
       "      <th></th>\n",
       "      <th>Id</th>\n",
       "      <th>Name</th>\n",
       "      <th>TerminalName</th>\n",
       "      <th>PlaceType</th>\n",
       "      <th>Latitude</th>\n",
       "      <th>Longitude</th>\n",
       "      <th>Installed</th>\n",
       "      <th>Temporary</th>\n",
       "      <th>Locked</th>\n",
       "      <th>RemovalDate</th>\n",
       "      <th>InstallDate</th>\n",
       "    </tr>\n",
       "  </thead>\n",
       "  <tbody>\n",
       "    <tr>\n",
       "      <th>208</th>\n",
       "      <td>BikePoints_216</td>\n",
       "      <td>Old Brompton Road, South Kensington</td>\n",
       "      <td>003479</td>\n",
       "      <td>BikePoint</td>\n",
       "      <td>51.490945</td>\n",
       "      <td>-0.181190</td>\n",
       "      <td>True</td>\n",
       "      <td>True</td>\n",
       "      <td>True</td>\n",
       "      <td></td>\n",
       "      <td>2010-07-19 11:12:00</td>\n",
       "    </tr>\n",
       "    <tr>\n",
       "      <th>538</th>\n",
       "      <td>BikePoints_573</td>\n",
       "      <td>Limerston Street, West Chelsea</td>\n",
       "      <td>200001</td>\n",
       "      <td>BikePoint</td>\n",
       "      <td>51.485587</td>\n",
       "      <td>-0.181190</td>\n",
       "      <td>True</td>\n",
       "      <td>True</td>\n",
       "      <td>True</td>\n",
       "      <td></td>\n",
       "      <td>2012-03-15 07:21:00</td>\n",
       "    </tr>\n",
       "    <tr>\n",
       "      <th>20</th>\n",
       "      <td>BikePoints_21</td>\n",
       "      <td>Hampstead Road (Cartmel), Euston</td>\n",
       "      <td>003426</td>\n",
       "      <td>BikePoint</td>\n",
       "      <td>51.530078</td>\n",
       "      <td>-0.138846</td>\n",
       "      <td>True</td>\n",
       "      <td>True</td>\n",
       "      <td>True</td>\n",
       "      <td></td>\n",
       "      <td>2010-07-06 14:49:00</td>\n",
       "    </tr>\n",
       "    <tr>\n",
       "      <th>304</th>\n",
       "      <td>BikePoints_318</td>\n",
       "      <td>Sackville Street, Mayfair</td>\n",
       "      <td>001197</td>\n",
       "      <td>BikePoint</td>\n",
       "      <td>51.510048</td>\n",
       "      <td>-0.138846</td>\n",
       "      <td>True</td>\n",
       "      <td>True</td>\n",
       "      <td>True</td>\n",
       "      <td></td>\n",
       "      <td>2010-07-23 11:42:00</td>\n",
       "    </tr>\n",
       "    <tr>\n",
       "      <th>103</th>\n",
       "      <td>BikePoints_108</td>\n",
       "      <td>Abbey Orchard Street, Westminster</td>\n",
       "      <td>003429</td>\n",
       "      <td>BikePoint</td>\n",
       "      <td>51.498125</td>\n",
       "      <td>-0.132102</td>\n",
       "      <td>True</td>\n",
       "      <td>True</td>\n",
       "      <td>True</td>\n",
       "      <td></td>\n",
       "      <td>2010-07-14 11:42:00</td>\n",
       "    </tr>\n",
       "    <tr>\n",
       "      <th>586</th>\n",
       "      <td>BikePoints_624</td>\n",
       "      <td>Courland Grove, Wandsworth Road</td>\n",
       "      <td>200173</td>\n",
       "      <td>BikePoint</td>\n",
       "      <td>51.472918</td>\n",
       "      <td>-0.132102</td>\n",
       "      <td>True</td>\n",
       "      <td>True</td>\n",
       "      <td>True</td>\n",
       "      <td></td>\n",
       "      <td>2013-10-08 09:24:00</td>\n",
       "    </tr>\n",
       "    <tr>\n",
       "      <th>96</th>\n",
       "      <td>BikePoints_101</td>\n",
       "      <td>Queen Street 1, Bank</td>\n",
       "      <td>000999</td>\n",
       "      <td>BikePoint</td>\n",
       "      <td>51.511553</td>\n",
       "      <td>-0.092940</td>\n",
       "      <td>True</td>\n",
       "      <td>True</td>\n",
       "      <td>True</td>\n",
       "      <td></td>\n",
       "      <td>2010-07-14 10:18:00</td>\n",
       "    </tr>\n",
       "    <tr>\n",
       "      <th>401</th>\n",
       "      <td>BikePoints_427</td>\n",
       "      <td>Cheapside, Bank</td>\n",
       "      <td>022180</td>\n",
       "      <td>BikePoint</td>\n",
       "      <td>51.513970</td>\n",
       "      <td>-0.092940</td>\n",
       "      <td>True</td>\n",
       "      <td>True</td>\n",
       "      <td>True</td>\n",
       "      <td></td>\n",
       "      <td>2011-07-15 10:28:00</td>\n",
       "    </tr>\n",
       "    <tr>\n",
       "      <th>103</th>\n",
       "      <td>BikePoints_108</td>\n",
       "      <td>Abbey Orchard Street, Westminster</td>\n",
       "      <td>003429</td>\n",
       "      <td>BikePoint</td>\n",
       "      <td>51.498125</td>\n",
       "      <td>-0.132102</td>\n",
       "      <td>True</td>\n",
       "      <td>True</td>\n",
       "      <td>True</td>\n",
       "      <td></td>\n",
       "      <td>2010-07-14 11:42:00</td>\n",
       "    </tr>\n",
       "    <tr>\n",
       "      <th>444</th>\n",
       "      <td>BikePoints_474</td>\n",
       "      <td>Castalia Square, Cubitt Town</td>\n",
       "      <td>200155</td>\n",
       "      <td>BikePoint</td>\n",
       "      <td>51.498125</td>\n",
       "      <td>-0.011457</td>\n",
       "      <td>True</td>\n",
       "      <td>True</td>\n",
       "      <td>True</td>\n",
       "      <td></td>\n",
       "      <td>2012-01-17 17:56:00</td>\n",
       "    </tr>\n",
       "    <tr>\n",
       "      <th>438</th>\n",
       "      <td>BikePoints_468</td>\n",
       "      <td>Cantrell Road, Bow</td>\n",
       "      <td>200150</td>\n",
       "      <td>BikePoint</td>\n",
       "      <td>51.521564</td>\n",
       "      <td>-0.022694</td>\n",
       "      <td>True</td>\n",
       "      <td>True</td>\n",
       "      <td>True</td>\n",
       "      <td></td>\n",
       "      <td>2012-01-12 13:42:00</td>\n",
       "    </tr>\n",
       "    <tr>\n",
       "      <th>516</th>\n",
       "      <td>BikePoints_550</td>\n",
       "      <td>Harford Street, Mile End</td>\n",
       "      <td>200102</td>\n",
       "      <td>BikePoint</td>\n",
       "      <td>51.521564</td>\n",
       "      <td>-0.039264</td>\n",
       "      <td>True</td>\n",
       "      <td>True</td>\n",
       "      <td>True</td>\n",
       "      <td></td>\n",
       "      <td>NaT</td>\n",
       "    </tr>\n",
       "    <tr>\n",
       "      <th>313</th>\n",
       "      <td>BikePoints_327</td>\n",
       "      <td>New North Road 1, Hoxton</td>\n",
       "      <td>001128</td>\n",
       "      <td>BikePoint</td>\n",
       "      <td>51.530950</td>\n",
       "      <td>-0.085603</td>\n",
       "      <td>True</td>\n",
       "      <td>True</td>\n",
       "      <td>True</td>\n",
       "      <td></td>\n",
       "      <td>2010-07-26 08:37:00</td>\n",
       "    </tr>\n",
       "    <tr>\n",
       "      <th>91</th>\n",
       "      <td>BikePoints_96</td>\n",
       "      <td>Falkirk Street, Hoxton</td>\n",
       "      <td>001047</td>\n",
       "      <td>BikePoint</td>\n",
       "      <td>51.530950</td>\n",
       "      <td>-0.078505</td>\n",
       "      <td>True</td>\n",
       "      <td>True</td>\n",
       "      <td>True</td>\n",
       "      <td></td>\n",
       "      <td>2010-07-14 08:43:00</td>\n",
       "    </tr>\n",
       "  </tbody>\n",
       "</table>\n",
       "</div>"
      ],
      "text/plain": [
       "                 Id                                 Name TerminalName  \\\n",
       "208  BikePoints_216  Old Brompton Road, South Kensington       003479   \n",
       "538  BikePoints_573       Limerston Street, West Chelsea       200001   \n",
       "20    BikePoints_21     Hampstead Road (Cartmel), Euston       003426   \n",
       "304  BikePoints_318            Sackville Street, Mayfair       001197   \n",
       "103  BikePoints_108    Abbey Orchard Street, Westminster       003429   \n",
       "586  BikePoints_624      Courland Grove, Wandsworth Road       200173   \n",
       "96   BikePoints_101                 Queen Street 1, Bank       000999   \n",
       "401  BikePoints_427                      Cheapside, Bank       022180   \n",
       "103  BikePoints_108    Abbey Orchard Street, Westminster       003429   \n",
       "444  BikePoints_474         Castalia Square, Cubitt Town       200155   \n",
       "438  BikePoints_468                   Cantrell Road, Bow       200150   \n",
       "516  BikePoints_550             Harford Street, Mile End       200102   \n",
       "313  BikePoints_327             New North Road 1, Hoxton       001128   \n",
       "91    BikePoints_96               Falkirk Street, Hoxton       001047   \n",
       "\n",
       "     PlaceType   Latitude  Longitude Installed Temporary Locked RemovalDate  \\\n",
       "208  BikePoint  51.490945  -0.181190      True      True   True               \n",
       "538  BikePoint  51.485587  -0.181190      True      True   True               \n",
       "20   BikePoint  51.530078  -0.138846      True      True   True               \n",
       "304  BikePoint  51.510048  -0.138846      True      True   True               \n",
       "103  BikePoint  51.498125  -0.132102      True      True   True               \n",
       "586  BikePoint  51.472918  -0.132102      True      True   True               \n",
       "96   BikePoint  51.511553  -0.092940      True      True   True               \n",
       "401  BikePoint  51.513970  -0.092940      True      True   True               \n",
       "103  BikePoint  51.498125  -0.132102      True      True   True               \n",
       "444  BikePoint  51.498125  -0.011457      True      True   True               \n",
       "438  BikePoint  51.521564  -0.022694      True      True   True               \n",
       "516  BikePoint  51.521564  -0.039264      True      True   True               \n",
       "313  BikePoint  51.530950  -0.085603      True      True   True               \n",
       "91   BikePoint  51.530950  -0.078505      True      True   True               \n",
       "\n",
       "            InstallDate  \n",
       "208 2010-07-19 11:12:00  \n",
       "538 2012-03-15 07:21:00  \n",
       "20  2010-07-06 14:49:00  \n",
       "304 2010-07-23 11:42:00  \n",
       "103 2010-07-14 11:42:00  \n",
       "586 2013-10-08 09:24:00  \n",
       "96  2010-07-14 10:18:00  \n",
       "401 2011-07-15 10:28:00  \n",
       "103 2010-07-14 11:42:00  \n",
       "444 2012-01-17 17:56:00  \n",
       "438 2012-01-12 13:42:00  \n",
       "516                 NaT  \n",
       "313 2010-07-26 08:37:00  \n",
       "91  2010-07-14 08:43:00  "
      ]
     },
     "execution_count": 25,
     "metadata": {},
     "output_type": "execute_result"
    }
   ],
   "source": [
    "# find stations with duplicate longitude\n",
    "id_counts_groupedby_longitude = stations_dataset.groupby('Longitude')['Id'].count()\n",
    "nonunique_longitudes = id_counts_groupedby_longitude[id_counts_groupedby_longitude != 1].index.values\n",
    "nonunique_longitude_stations = stations_dataset[stations_dataset['Longitude'].isin(nonunique_longitudes)].sort_values(by=['Longitude'])\n",
    "\n",
    "id_counts_groupedby_latitude = stations_dataset.groupby('Latitude')['Id'].count()\n",
    "nonunique_latitudes = id_counts_groupedby_latitude[id_counts_groupedby_latitude != 1].index.values\n",
    "nonunique_latitudes_stations = stations_dataset[stations_dataset['Latitude'].isin(nonunique_latitudes)].sort_values(by=['Latitude'])\n",
    "\n",
    "nonunique_coordinates_stations = pd.concat([nonunique_longitude_stations, nonunique_latitudes_stations])\n",
    "nonunique_coordinates_stations"
   ]
  },
  {
   "cell_type": "code",
   "execution_count": 29,
   "metadata": {
    "collapsed": true
   },
   "outputs": [],
   "source": [
    "def draw_stations_map(stations_df):\n",
    "    london_longitude = -0.127722\n",
    "    london_latitude = 51.507981\n",
    "    \n",
    "    stations_map = folium.Map(location=[london_latitude, london_longitude], zoom_start=12,\n",
    "                      min_lat=min_latitude, max_lat=max_latitude,\n",
    "                      min_lon=min_longitude, max_lon=max_longitude)\n",
    "\n",
    "    for index, station in stations_df.iterrows():\n",
    "        folium.Marker([station['Latitude'],station['Longitude']], popup=station['Name']).add_to(stations_map)\n",
    "    \n",
    "    return stations_map"
   ]
  },
  {
   "cell_type": "code",
   "execution_count": 30,
   "metadata": {
    "collapsed": false,
    "scrolled": false
   },
   "outputs": [
    {
     "data": {
      "text/html": [
       "<div style=\"width:100%;\"><div style=\"position:relative;width:100%;height:0;padding-bottom:60%;\"><iframe src=\"data:text/html;base64,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\" style=\"position:absolute;width:100%;height:100%;left:0;top:0;\"></iframe></div></div>"
      ],
      "text/plain": [
       "<folium.folium.Map at 0x7fd94a126910>"
      ]
     },
     "execution_count": 30,
     "metadata": {},
     "output_type": "execute_result"
    }
   ],
   "source": [
    "draw_stations_map(nonunique_coordinates_stations)"
   ]
  },
  {
   "cell_type": "markdown",
   "metadata": {},
   "source": [
    "We can observe that the stations are different and that having the same Longitude is just a coincidence."
   ]
  },
  {
   "cell_type": "markdown",
   "metadata": {},
   "source": [
    "Let's plot all the stations in a map to see how it looks"
   ]
  },
  {
   "cell_type": "code",
   "execution_count": 31,
   "metadata": {
    "collapsed": false
   },
   "outputs": [
    {
     "data": {
      "text/html": [
       "<div style=\"width:100%;\"><div style=\"position:relative;width:100%;height:0;padding-bottom:60%;\"><iframe src=\"data:text/html;base64,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\" style=\"position:absolute;width:100%;height:100%;left:0;top:0;\"></iframe></div></div>"
      ],
      "text/plain": [
       "<folium.folium.Map at 0x7fd947771650>"
      ]
     },
     "execution_count": 31,
     "metadata": {},
     "output_type": "execute_result"
    }
   ],
   "source": [
    "london_longitude = -0.127722\n",
    "london_latitude = 51.507981\n",
    "\n",
    "MAX_RECORDS = 100\n",
    "\n",
    "stations_map = folium.Map(location=[london_latitude, london_longitude], zoom_start=12,\n",
    "                  min_lat=min_latitude, max_lat=max_latitude,\n",
    "                  min_lon=min_longitude, max_lon=max_longitude)\n",
    "\n",
    "for index, station in stations_dataset[0:MAX_RECORDS].iterrows():\n",
    "    folium.Marker([station['Latitude'],station['Longitude']], popup=station['Name']).add_to(stations_map)\n",
    "    \n",
    "stations_map\n",
    "\n",
    "#folium.Map.save(stations_map, 'reports/maps/stations_map.html')"
   ]
  },
  {
   "cell_type": "markdown",
   "metadata": {},
   "source": [
    "#### Check Station Status\n",
    "\n",
    "We must make sure that all stations in our dataset are installed and locked."
   ]
  },
  {
   "cell_type": "code",
   "execution_count": 32,
   "metadata": {
    "collapsed": false
   },
   "outputs": [],
   "source": [
    "# make sure all stations in our dataset are installed and locked\n",
    "assert len(stations_dataset[stations_dataset['Installed'] == False]) == 0\n",
    "assert len(stations_dataset[stations_dataset['Locked'] == False]) == 0"
   ]
  },
  {
   "cell_type": "markdown",
   "metadata": {},
   "source": [
    "## Data Summary"
   ]
  },
  {
   "cell_type": "code",
   "execution_count": null,
   "metadata": {
    "collapsed": false
   },
   "outputs": [],
   "source": [
    "pd.concat([a, pd.DataFrame()])"
   ]
  },
  {
   "cell_type": "code",
   "execution_count": null,
   "metadata": {
    "collapsed": false
   },
   "outputs": [],
   "source": []
  },
  {
   "cell_type": "markdown",
   "metadata": {},
   "source": [
    "### Import into Pandas"
   ]
  },
  {
   "cell_type": "code",
   "execution_count": null,
   "metadata": {
    "collapsed": false
   },
   "outputs": [],
   "source": []
  },
  {
   "cell_type": "code",
   "execution_count": null,
   "metadata": {
    "collapsed": false
   },
   "outputs": [],
   "source": [
    "dataset = pd.DataFrame(list(itertools.chain.from_iterable(records)))\n",
    "\n",
    "dataset.shape"
   ]
  },
  {
   "cell_type": "code",
   "execution_count": null,
   "metadata": {
    "collapsed": false,
    "scrolled": true
   },
   "outputs": [],
   "source": [
    "\n",
    "dataset.head()"
   ]
  },
  {
   "cell_type": "code",
   "execution_count": null,
   "metadata": {
    "collapsed": false
   },
   "outputs": [],
   "source": [
    "\n",
    "nuniques = dataset.apply(lambda x:x.nunique())\n",
    "constant_cols = nuniques[nuniques == 1].index\n",
    "print 'Constant columns: %s' % constant_cols\n",
    "dataset = dataset.drop(constant_cols, axis=1)"
   ]
  },
  {
   "cell_type": "markdown",
   "metadata": {},
   "source": [
    "### Convert to Appropriate DataTypes"
   ]
  },
  {
   "cell_type": "markdown",
   "metadata": {},
   "source": [
    "### Derive Variables"
   ]
  },
  {
   "cell_type": "markdown",
   "metadata": {},
   "source": [
    "### Data Description"
   ]
  },
  {
   "cell_type": "code",
   "execution_count": null,
   "metadata": {
    "collapsed": false
   },
   "outputs": [],
   "source": [
    "dataset.info(memory_usage='deep')"
   ]
  },
  {
   "cell_type": "code",
   "execution_count": null,
   "metadata": {
    "collapsed": false
   },
   "outputs": [],
   "source": []
  },
  {
   "cell_type": "markdown",
   "metadata": {
    "collapsed": false
   },
   "source": []
  },
  {
   "cell_type": "markdown",
   "metadata": {
    "collapsed": true
   },
   "source": [
    "## Consistent Correct Data"
   ]
  },
  {
   "cell_type": "code",
   "execution_count": null,
   "metadata": {
    "collapsed": false
   },
   "outputs": [],
   "source": [
    "dataset.describe()"
   ]
  },
  {
   "cell_type": "markdown",
   "metadata": {},
   "source": [
    "### Missing Values\n",
    "\n"
   ]
  },
  {
   "cell_type": "markdown",
   "metadata": {},
   "source": [
    "### Outliers"
   ]
  },
  {
   "cell_type": "markdown",
   "metadata": {},
   "source": [
    "### Errors"
   ]
  },
  {
   "cell_type": "markdown",
   "metadata": {},
   "source": [
    "### Consistency"
   ]
  },
  {
   "cell_type": "markdown",
   "metadata": {},
   "source": [
    "## Exploratory Data Analysis"
   ]
  },
  {
   "cell_type": "markdown",
   "metadata": {},
   "source": [
    "### Visual Representation"
   ]
  },
  {
   "cell_type": "markdown",
   "metadata": {},
   "source": [
    "### Examine Variable Relationships"
   ]
  },
  {
   "cell_type": "markdown",
   "metadata": {},
   "source": [
    "### Analyze Variable Over Time"
   ]
  },
  {
   "cell_type": "markdown",
   "metadata": {},
   "source": [
    "## Conclusions"
   ]
  },
  {
   "cell_type": "code",
   "execution_count": null,
   "metadata": {
    "collapsed": true
   },
   "outputs": [],
   "source": []
  }
 ],
 "metadata": {
  "kernelspec": {
   "display_name": "Python 2",
   "language": "python",
   "name": "python2"
  },
  "language_info": {
   "codemirror_mode": {
    "name": "ipython",
    "version": 2
   },
   "file_extension": ".py",
   "mimetype": "text/x-python",
   "name": "python",
   "nbconvert_exporter": "python",
   "pygments_lexer": "ipython2",
   "version": "2.7.11"
  }
 },
 "nbformat": 4,
 "nbformat_minor": 0
}
