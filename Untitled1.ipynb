{
 "cells": [
  {
   "cell_type": "code",
   "execution_count": 1,
   "metadata": {
    "collapsed": true
   },
   "outputs": [],
   "source": [
    "%run src/data/helper.py"
   ]
  },
  {
   "cell_type": "code",
   "execution_count": 30,
   "metadata": {
    "collapsed": false
   },
   "outputs": [],
   "source": [
    "import pickle\n",
    "\n",
    "readings = pickle.load(open(\"data/parsed/readings_weather_filled_dataset.p\", \"rb\"))\n",
    "stations = pickle.load(open('data/parsed/stations_dataset_final.p', 'rb'))"
   ]
  },
  {
   "cell_type": "code",
   "execution_count": 31,
   "metadata": {
    "collapsed": false
   },
   "outputs": [],
   "source": [
    "%matplotlib inline\n",
    "\n",
    "import time\n",
    "import pandas as pd\n",
    "from datetime import datetime "
   ]
  },
  {
   "cell_type": "markdown",
   "metadata": {},
   "source": [
    "## Preprocess Dataset"
   ]
  },
  {
   "cell_type": "markdown",
   "metadata": {},
   "source": [
    "### Remove Timezone"
   ]
  },
  {
   "cell_type": "code",
   "execution_count": 32,
   "metadata": {
    "collapsed": false
   },
   "outputs": [
    {
     "name": "stdout",
     "output_type": "stream",
     "text": [
      "Modifying timestamp took 0.276590108871\n"
     ]
    }
   ],
   "source": [
    "from pytz import timezone\n",
    "\n",
    "start_time = time.time()\n",
    "\n",
    "readings['Timestamp'] = readings.Timestamp.dt.tz_convert(timezone('Europe/London'))\n",
    "readings['Timestamp'] = readings.Timestamp.dt.tz_localize(None)\n",
    "\n",
    "end_time = time.time()\n",
    "print 'Modifying timestamp took %s' % (end_time - start_time)"
   ]
  },
  {
   "cell_type": "markdown",
   "metadata": {},
   "source": [
    "### Reduce Column Size"
   ]
  },
  {
   "cell_type": "code",
   "execution_count": 33,
   "metadata": {
    "collapsed": false
   },
   "outputs": [
    {
     "name": "stdout",
     "output_type": "stream",
     "text": [
      "Modifying data types took 0.563615083694\n"
     ]
    }
   ],
   "source": [
    "start_time = time.time()\n",
    "\n",
    "readings.NbBikes = readings.NbBikes.astype('int16')\n",
    "readings.NbDocks = readings.NbDocks.astype('int16')\n",
    "readings.NbEmptyDocks = readings.NbEmptyDocks.astype('int16')\n",
    "readings.NbUnusableDocks = readings.NbUnusableDocks.astype('int16')\n",
    "readings.DewPt = readings.DewPt.astype('float16')\n",
    "readings.Humidity = readings.Humidity.astype('float16')\n",
    "readings.Pressure = readings.Pressure.astype('float16')\n",
    "readings.Temp = readings.Temp.astype('float16')\n",
    "readings.Visibility = readings.Visibility.astype('float16')\n",
    "readings.WindDirD = readings.WindDirD.astype('float16')\n",
    "readings.WindSpeed = readings.WindSpeed.astype('float16')\n",
    "\n",
    "readings.Fog = readings.Fog.astype('int8')\n",
    "readings.Rain = readings.Rain.astype('int8')\n",
    "\n",
    "end_time = time.time()\n",
    "print 'Modifying data types took %s' % (end_time - start_time)"
   ]
  },
  {
   "cell_type": "markdown",
   "metadata": {
    "collapsed": false
   },
   "source": [
    "### Modify Timestamp"
   ]
  },
  {
   "cell_type": "code",
   "execution_count": 34,
   "metadata": {
    "collapsed": false
   },
   "outputs": [
    {
     "name": "stdout",
     "output_type": "stream",
     "text": [
      "Changing timestamp took 380.950746059\n"
     ]
    }
   ],
   "source": [
    "start_time = time.time()\n",
    "\n",
    "readings['Holiday'] = readings.Timestamp.apply(lambda x: x.month == 5 and x.day == 30).astype('int8')\n",
    "readings['Weekday'] = readings.Timestamp.apply(lambda x: x.dayofweek < 5).astype('int8')\n",
    "readings['Weekend'] = readings.Timestamp.apply(lambda x: x.dayofweek > 4).astype('int8')\n",
    "readings['TimeOfYear'] = readings.Timestamp.apply(lambda x: (x - datetime(2016,1,1)).total_seconds())\n",
    "readings['TimeOfDay'] = readings.Timestamp.apply(lambda x: (x - x.replace(hour=0, minute=0, second=0, microsecond=0)).total_seconds())\n",
    "readings['WeekOfYear'] = readings.Timestamp.apply(lambda x: x.isocalendar()[1])\n",
    "\n",
    "end_time = time.time()\n",
    "print 'Changing timestamp took %s' % (end_time - start_time)"
   ]
  },
  {
   "cell_type": "markdown",
   "metadata": {},
   "source": [
    "### Re-arrange"
   ]
  },
  {
   "cell_type": "code",
   "execution_count": 35,
   "metadata": {
    "collapsed": true
   },
   "outputs": [],
   "source": [
    "readings.sort_values(by=['Id', 'Timestamp'], inplace=True)\n",
    "readings.set_index(['Id', 'Timestamp'], inplace=True)"
   ]
  },
  {
   "cell_type": "code",
   "execution_count": 36,
   "metadata": {
    "collapsed": false
   },
   "outputs": [
    {
     "name": "stdout",
     "output_type": "stream",
     "text": [
      "<class 'pandas.core.frame.DataFrame'>\n",
      "MultiIndex: 9221613 entries, (BikePoints_1, 2016-05-16 06:41:16.870000128) to (BikePoints_99, 2016-06-27 00:29:34.887000064)\n",
      "Columns: 26 entries, NbBikes to WeekOfYear\n",
      "dtypes: bool(4), float16(7), float64(2), int16(4), int64(1), int8(5), object(3)\n",
      "memory usage: 2.8 GB\n"
     ]
    }
   ],
   "source": [
    "readings.info(memory_usage='deep', verbose=False)"
   ]
  },
  {
   "cell_type": "markdown",
   "metadata": {},
   "source": [
    "### Autoregressive"
   ]
  },
  {
   "cell_type": "code",
   "execution_count": 37,
   "metadata": {
    "collapsed": true
   },
   "outputs": [],
   "source": [
    "import numpy as np\n",
    "\n",
    "def init_cols(df, periods, tag):\n",
    "    cols = []\n",
    "    for period in periods:\n",
    "        # add the columns to the df\n",
    "        label = '%s%d' % (tag, period)\n",
    "        df[label] = np.NaN\n",
    "        \n",
    "        # keep track of the columns that were added\n",
    "        cols.append(label)        \n",
    "    return cols\n",
    "\n",
    "def shift_values(values, shift, forward=True):\n",
    "    shifted = np.pad(values, pad_width=shift, mode='constant', constant_values=[-1])\n",
    "    if forward:\n",
    "        return shifted[:shift * (-2)]\n",
    "    else:\n",
    "        return shifted[shift * 2:]\n",
    "\n",
    "def add_periods(df, periods, mode):\n",
    "    cols = init_cols(df, periods, mode)\n",
    "    \n",
    "    forward = False if mode == 'TPlus' else True\n",
    "    \n",
    "    for i,col in enumerate(cols):\n",
    "        station_ids = df.index.get_level_values('Id').unique()        \n",
    "        for station_id in station_ids:            \n",
    "            window = df.loc[station_id]            \n",
    "            shifted = shift_values(window.NbBikes, periods[i], forward=forward)\n",
    "            df.loc[station_id, col] = shifted\n",
    "        df[col] = df[col].replace({-1: np.NaN})\n",
    "        \n",
    "    return cols"
   ]
  },
  {
   "cell_type": "markdown",
   "metadata": {},
   "source": [
    "## Split Dataset"
   ]
  },
  {
   "cell_type": "code",
   "execution_count": 38,
   "metadata": {
    "collapsed": false
   },
   "outputs": [],
   "source": [
    "split_training = lambda df: df[datetime(2016,5,15,0,0,0,0):datetime(2016,6,12,23,59,59,999999)]\n",
    "split_validation = lambda df: df[datetime(2016,6,13,0,0,0,0):datetime(2016,6,19,23,59,59,999999)]\n",
    "split_test = lambda df: df[datetime(2016,5,20,0,0,0,0):datetime(2016,6,26,23,59,59,999999)]"
   ]
  },
  {
   "cell_type": "markdown",
   "metadata": {},
   "source": [
    "## Model"
   ]
  },
  {
   "cell_type": "code",
   "execution_count": 39,
   "metadata": {
    "collapsed": false
   },
   "outputs": [],
   "source": [
    "def split_datasets(df, station_id):\n",
    "    station_df = df.loc[station_id]\n",
    "    training = split_training(station_df)\n",
    "    validation = split_validation(station_df)\n",
    "    test = split_test(station_df)\n",
    "    \n",
    "    return training, validation, test"
   ]
  },
  {
   "cell_type": "code",
   "execution_count": 40,
   "metadata": {
    "collapsed": true
   },
   "outputs": [],
   "source": [
    "import sys\n",
    "\n",
    "def clip_and_round(arr):\n",
    "    arr = np.clip(arr, 0, sys.maxint)\n",
    "    return np.round(arr)"
   ]
  },
  {
   "cell_type": "code",
   "execution_count": 41,
   "metadata": {
    "collapsed": false
   },
   "outputs": [],
   "source": [
    "import inspect\n",
    "\n",
    "from sklearn.base import BaseEstimator, RegressorMixin\n",
    "from sklearn.metrics import mean_squared_error\n",
    "\n",
    "from rpy2 import robjects\n",
    "from rpy2.robjects import pandas2ri\n",
    "from rpy2.robjects.packages import importr\n",
    "from rpy2.robjects import IntVector, Formula\n",
    "\n",
    "pandas2ri.activate()\n",
    "\n",
    "r = robjects.r\n",
    "base = importr('base')\n",
    "stats = importr('stats')\n",
    "mgcv = importr('mgcv')\n",
    "\n",
    "class GAMRegressor(BaseEstimator, RegressorMixin):  \n",
    "    \"\"\"An example of classifier\"\"\"\n",
    "\n",
    "    def __init__(self, features=None, formula_str=None,\n",
    "                 Fog_parametric=None, Rain_parametric=None, TempAndHumidity_k=None,\n",
    "                 TMinus1_k=None, TMinus2_k=None, \n",
    "                 TMinus6_k=None, TMinus12_k=None, \n",
    "                 TimeOfYear_k=None, \n",
    "                 TimeOfDay_1_k=None, TimeOfDay_2_k=None, TimeOfDay_3_k=None,\n",
    "                 TimeOfDay_1_by=None, TimeOfDay_2_by=None, TimeOfDay_3_by=None):\n",
    "        \n",
    "        args, _, _, values = inspect.getargvalues(inspect.currentframe())\n",
    "        values.pop(\"self\")\n",
    "\n",
    "        self.args_to_set = []\n",
    "        for arg, val in values.items():\n",
    "            # save a list of the arguments\n",
    "            if arg != 'features' and arg != 'formula_str':\n",
    "                self.args_to_set.append(arg)\n",
    "            setattr(self, arg, val)\n",
    "\n",
    "    def fit(self, X, y=None): \n",
    "        if self.formula_str is None:\n",
    "            features_dicts = self.build_features_dicts()\n",
    "            self.formula_str = self.build_formula_str(features_dicts)\n",
    "            #print self.formula_str\n",
    "            \n",
    "        self.gam = mgcv.gam(Formula(self.formula_str), data=X)\n",
    "        \n",
    "        return self\n",
    "\n",
    "    def predict(self, X):\n",
    "        assert (self.gam is not None), \"GAM must be set\"\n",
    "        p_val = clip_and_round(stats.predict(self.gam, newdata=X))\n",
    "        return p_val\n",
    "    \n",
    "    def score(self, X):\n",
    "        p_val = self.predict(X)\n",
    "        y_val = X.NbBikes\n",
    "        rmse = mean_squared_error(y_val, p_val)**0.5\n",
    "        return rmse * (-1)\n",
    "    \n",
    "    def build_features_dicts(self):\n",
    "        assert (self.features is not None), \"features must be set\"\n",
    "        \n",
    "        # initialize the dictionaries\n",
    "        features_dicts = {}\n",
    "        for feature in self.features:\n",
    "            features_dicts[feature] = {\n",
    "                'name': feature,\n",
    "                'bs': 'tp',\n",
    "                'sp': None,\n",
    "                'by': None,\n",
    "                'k': None,\n",
    "                'parametric': False\n",
    "            }\n",
    "            \n",
    "        # set parameter values\n",
    "        for arg in self.args_to_set:\n",
    "            val = getattr(self, arg)\n",
    "            if val is None:\n",
    "                continue\n",
    "            feature, parameter = arg.rsplit('_',1)\n",
    "            features_dicts[feature][parameter] = val\n",
    "            \n",
    "        return features_dicts\n",
    "    \n",
    "    def build_formula_str(self, features_dicts):\n",
    "        formula = 'NbBikes ~ '\n",
    "        for feature, feature_dict in features_dicts.iteritems():\n",
    "            if feature_dict['parametric']:\n",
    "                formula += '%(name)s+' % feature_dict\n",
    "                continue\n",
    "                                \n",
    "            tokens = feature_dict['name'].split('_')\n",
    "            name, index = (tokens[0],None) if len(tokens) == 1 else (tokens[0], tokens[1])\n",
    "            formula += \"s(%s\" % name.replace('And', ',')\n",
    "            \n",
    "            if feature_dict['bs'] is not None:\n",
    "                formula += \", bs='%s'\" % feature_dict['bs']\n",
    "            if feature_dict['sp'] is not None:\n",
    "                formula += \", sp=%0.3f\" % feature_dict['sp']\n",
    "            if feature_dict['by'] is not None:\n",
    "                formula += \", by=%s\" % feature_dict['by']\n",
    "            if feature_dict['k'] is not None:\n",
    "                formula += \", k=%s\" % feature_dict['k']\n",
    "                \n",
    "            formula += \")+\" % feature_dict\n",
    "        return formula[:-1]"
   ]
  },
  {
   "cell_type": "code",
   "execution_count": 42,
   "metadata": {
    "collapsed": true
   },
   "outputs": [],
   "source": [
    "from sklearn.linear_model import LinearRegression\n",
    "\n",
    "def fit_and_predict_lm(X_train, y_train, X_val):\n",
    "    lm = LinearRegression()\n",
    "    lm.fit(X_train, y_train)\n",
    "    return lm, clip_and_round(lm.predict(X_val))"
   ]
  },
  {
   "cell_type": "code",
   "execution_count": 43,
   "metadata": {
    "collapsed": false
   },
   "outputs": [],
   "source": [
    "def fit_and_predict_gam(training, validation, formula):\n",
    "    gam = GAMRegressor(formula_str=formula)\n",
    "    gam.fit(training)\n",
    "    return gam, clip_and_round(gam.predict(validation))"
   ]
  },
  {
   "cell_type": "code",
   "execution_count": 44,
   "metadata": {
    "collapsed": true
   },
   "outputs": [],
   "source": [
    "def model(df, station_ids, gam_formula, feature_cols, pred_col):\n",
    "    results = []\n",
    "\n",
    "    for station_id in station_ids:\n",
    "        print 'Fitting %s' % station_id\n",
    "            \n",
    "        training, validation, test = split_datasets(df, station_id)\n",
    "        X_train, y_train = training[feature_cols], training[pred_col]\n",
    "        X_val, y_val = validation[feature_cols], validation[pred_col]\n",
    "        \n",
    "        # Linear Model\n",
    "        lm_fit = fit_and_predict_lm(X_train, y_train, X_val)\n",
    "        lm_rmse = mean_squared_error(y_val, lm_fit[1])**0.5\n",
    "        \n",
    "        # GAM Model\n",
    "        gam_fit = fit_and_predict_gam(training, validation, gam_formula)\n",
    "        gam_rmse = mean_squared_error(y_val, gam_fit[1])**0.5\n",
    "        \n",
    "        results.append({'Id': station_id, 'LM': lm_rmse, 'GAM': gam_rmse, 'LM_p': lm_fit[1], 'GAM_p': gam_fit[1]})\n",
    "        \n",
    "    return results"
   ]
  },
  {
   "cell_type": "markdown",
   "metadata": {},
   "source": [
    "### Short Term"
   ]
  },
  {
   "cell_type": "code",
   "execution_count": 47,
   "metadata": {
    "collapsed": false
   },
   "outputs": [
    {
     "name": "stdout",
     "output_type": "stream",
     "text": [
      "Adding previous columns took 25.6322989464\n"
     ]
    }
   ],
   "source": [
    "# choose the columns to use in the model\n",
    "boolean_cols_short = ['Weekday', 'Weekend', 'Rain', 'Fog', 'Holiday']\n",
    "numeric_cols_short = ['Humidity', 'Temp', 'TimeOfDay', 'TimeOfYear']\n",
    "pred_col_short = 'NbBikes'\n",
    "\n",
    "feature_cols_short = numeric_cols_short + boolean_cols_short\n",
    "cols_short = [pred_col_short] + feature_cols_short\n",
    "\n",
    "# select the columns chosen columns\n",
    "readings_short = readings[cols_short].copy()\n",
    "\n",
    "# add the autoregressive columns\n",
    "start_time = time.time()\n",
    "minus_cols_short = add_periods(readings_short, [1, 2], 'TMinus')\n",
    "end_time = time.time()\n",
    "print 'Adding previous columns took %s' % (end_time - start_time)\n",
    "\n",
    "# update cols with autoregressive columns\n",
    "numeric_cols_short.extend(minus_cols_short)\n",
    "feature_cols_short.extend(minus_cols_short)\n",
    "cols_short.extend(minus_cols_short)\n",
    "\n",
    "# remove na\n",
    "readings_short.dropna(inplace=True)\n",
    "\n",
    "# standardize\n",
    "#from sklearn import preprocessing\n",
    "#scaler = preprocessing.StandardScaler()\n",
    "#readings_short[numeric_cols_short] = scaler.fit_transform(readings_short[numeric_cols_short])"
   ]
  },
  {
   "cell_type": "code",
   "execution_count": 19,
   "metadata": {
    "collapsed": false
   },
   "outputs": [
    {
     "name": "stdout",
     "output_type": "stream",
     "text": [
      "Fitting BikePoints_1\n",
      "Fitting BikePoints_10\n",
      "Fitting BikePoints_100\n",
      "Fitting BikePoints_101\n",
      "Fitting BikePoints_102\n",
      "Fitting BikePoints_103\n",
      "Fitting BikePoints_104\n",
      "Fitting BikePoints_105\n",
      "Fitting BikePoints_106\n",
      "Fitting BikePoints_107\n",
      "Fitting BikePoints_108\n",
      "Fitting BikePoints_109\n",
      "Fitting BikePoints_11\n",
      "Fitting BikePoints_110\n",
      "Fitting BikePoints_111\n",
      "Fitting BikePoints_112\n",
      "Fitting BikePoints_113\n",
      "Fitting BikePoints_114\n",
      "Fitting BikePoints_115\n",
      "Fitting BikePoints_116\n"
     ]
    }
   ],
   "source": [
    "gam_formula_short = \"NbBikes ~ s(Temp, Humidity, bs='tp') + s(TimeOfYear, bs='tp') + s(TimeOfDay, by=Weekday, bs='tp') \"  \n",
    "gam_formula_short += \"+ s(TimeOfDay, by=Weekend, bs='tp') + s(TimeOfDay, by=Holiday, bs='tp') + s(TMinus1, bs='tp') \"\n",
    "gam_formula_short += \"+ s(TMinus2, bs='tp') + Rain + Fog \"\n",
    "\n",
    "station_ids = readings_short.index.get_level_values('Id').unique()        \n",
    "results_short = model(readings_short, station_ids[0:20], gam_formula_short, feature_cols_short, pred_col_short)"
   ]
  },
  {
   "cell_type": "code",
   "execution_count": 42,
   "metadata": {
    "collapsed": false
   },
   "outputs": [
    {
     "data": {
      "text/plain": [
       "GAM    0.832606\n",
       "LM     0.829328\n",
       "dtype: float64"
      ]
     },
     "execution_count": 42,
     "metadata": {},
     "output_type": "execute_result"
    }
   ],
   "source": [
    "pd.DataFrame(results_short)[['Id', 'GAM', 'LM']].mean()"
   ]
  },
  {
   "cell_type": "markdown",
   "metadata": {},
   "source": [
    "### Mid Term"
   ]
  },
  {
   "cell_type": "code",
   "execution_count": 21,
   "metadata": {
    "collapsed": false
   },
   "outputs": [
    {
     "name": "stdout",
     "output_type": "stream",
     "text": [
      "Adding previous columns took 137.949821949\n",
      "Adding future columns took 71.4529399872\n"
     ]
    }
   ],
   "source": [
    "# choose the columns to use in the model\n",
    "boolean_cols_mid = ['Weekday', 'Weekend', 'Rain', 'Fog', 'Holiday']\n",
    "numeric_cols_mid = ['Humidity', 'Temp', 'TimeOfDay', 'TimeOfYear', 'WeekOfYear']\n",
    "pred_col_mid = 'NbBikes'\n",
    "\n",
    "feature_cols_mid = numeric_cols_mid + boolean_cols_mid\n",
    "cols_mid = [pred_col_mid] + feature_cols_mid\n",
    "\n",
    "# select the columns chosen columns\n",
    "readings_mid = readings[cols_mid].copy()\n",
    "\n",
    "# add the autoregressive columns\n",
    "start_time = time.time()\n",
    "minus_cols_mid = add_periods(readings_mid, [6, 12], 'TMinus')\n",
    "end_time = time.time()\n",
    "print 'Adding previous columns took %s' % (end_time - start_time)\n",
    "\n",
    "# update cols with autoregressive columns\n",
    "numeric_cols_mid.extend(minus_cols_mid)\n",
    "feature_cols_mid.extend(minus_cols_mid)\n",
    "cols_mid.extend(minus_cols_mid)\n",
    "\n",
    "# compute the target variable\n",
    "start_time = time.time()\n",
    "plus_cols_mid = add_periods(readings_mid, [12], 'TPlus')\n",
    "end_time = time.time()\n",
    "print 'Adding future columns took %s' % (end_time - start_time)\n",
    "\n",
    "# sawp target variable \n",
    "readings_mid.NbBikes = readings_mid[plus_cols_mid[0]]\n",
    "readings_mid.drop(plus_cols_mid[0], axis=1, inplace=True)\n",
    "\n",
    "# remove na\n",
    "readings_mid.dropna(inplace=True)"
   ]
  },
  {
   "cell_type": "code",
   "execution_count": 22,
   "metadata": {
    "collapsed": false,
    "scrolled": false
   },
   "outputs": [
    {
     "name": "stdout",
     "output_type": "stream",
     "text": [
      "Fitting BikePoints_1\n",
      "Fitting BikePoints_10\n",
      "Fitting BikePoints_100\n",
      "Fitting BikePoints_101\n",
      "Fitting BikePoints_102\n",
      "Fitting BikePoints_103\n",
      "Fitting BikePoints_104\n",
      "Fitting BikePoints_105\n",
      "Fitting BikePoints_106\n",
      "Fitting BikePoints_107\n",
      "Fitting BikePoints_108\n",
      "Fitting BikePoints_109\n",
      "Fitting BikePoints_11\n",
      "Fitting BikePoints_110\n",
      "Fitting BikePoints_111\n",
      "Fitting BikePoints_112\n",
      "Fitting BikePoints_113\n",
      "Fitting BikePoints_114\n",
      "Fitting BikePoints_115\n",
      "Fitting BikePoints_116\n",
      "Training took 64.1546440125\n"
     ]
    }
   ],
   "source": [
    "start_time = time.time()\n",
    "\n",
    "gam_formula_mid = \"NbBikes ~ s(Temp, Humidity, bs='tp') + s(TimeOfDay, by=Weekday, bs='tp') \"\n",
    "gam_formula_mid += \"+ s(TimeOfDay, by=Weekend, bs='tp') + s(TimeOfDay, by=Holiday, bs='tp') + s(TMinus6, bs='tp') \"\n",
    "gam_formula_mid += \"+ s(TMinus12, bs='tp') + Rain + Fog \"\n",
    "\n",
    "station_ids = readings_mid.index.get_level_values('Id').unique()        \n",
    "results_mid = model(readings_mid, station_ids[0:20], gam_formula_mid, feature_cols_mid, pred_col_mid)\n",
    "\n",
    "end_time = time.time()\n",
    "print 'Training took %s' % (end_time - start_time)"
   ]
  },
  {
   "cell_type": "code",
   "execution_count": 43,
   "metadata": {
    "collapsed": false
   },
   "outputs": [
    {
     "ename": "SyntaxError",
     "evalue": "unexpected EOF while parsing (<ipython-input-43-d9afcc059601>, line 1)",
     "output_type": "error",
     "traceback": [
      "\u001b[1;36m  File \u001b[1;32m\"<ipython-input-43-d9afcc059601>\"\u001b[1;36m, line \u001b[1;32m1\u001b[0m\n\u001b[1;33m    pd.DataFrame(results_mid)[['Id', 'GAM', 'LM']].mean(()\u001b[0m\n\u001b[1;37m                                                          ^\u001b[0m\n\u001b[1;31mSyntaxError\u001b[0m\u001b[1;31m:\u001b[0m unexpected EOF while parsing\n"
     ]
    }
   ],
   "source": [
    "pd.DataFrame(results_mid)[['Id', 'GAM', 'LM']].mean(()"
   ]
  },
  {
   "cell_type": "markdown",
   "metadata": {},
   "source": [
    "### Long Term"
   ]
  },
  {
   "cell_type": "code",
   "execution_count": 25,
   "metadata": {
    "collapsed": false
   },
   "outputs": [
    {
     "name": "stdout",
     "output_type": "stream",
     "text": [
      "Adding previous columns took 143.587667942\n",
      "Adding future columns took 63.72341609\n"
     ]
    }
   ],
   "source": [
    "# choose the columns to use in the model\n",
    "boolean_cols_long = ['Weekday', 'Weekend', 'Rain', 'Fog', 'Holiday']\n",
    "numeric_cols_long = ['Humidity', 'Temp', 'TimeOfDay', 'TimeOfYear']\n",
    "pred_col_long = 'NbBikes'\n",
    "\n",
    "feature_cols_long = numeric_cols_long + boolean_cols_long\n",
    "cols_long = [pred_col_long] + feature_cols_long\n",
    "\n",
    "# select the columns chosen columns\n",
    "readings_long = readings[cols_long].copy()\n",
    "\n",
    "# add the autoregressive columns\n",
    "start_time = time.time()\n",
    "minus_cols_long = add_periods(readings_long, [12, 24], 'TMinus')\n",
    "end_time = time.time()\n",
    "print 'Adding previous columns took %s' % (end_time - start_time)\n",
    "\n",
    "# update cols with autoregressive columns\n",
    "numeric_cols_long.extend(minus_cols_long)\n",
    "feature_cols_long.extend(minus_cols_long)\n",
    "cols_long.extend(minus_cols_long)\n",
    "\n",
    "# compute the target variable\n",
    "start_time = time.time()\n",
    "plus_cols_long = add_periods(readings_long, [36], 'TPlus')\n",
    "end_time = time.time()\n",
    "print 'Adding future columns took %s' % (end_time - start_time)\n",
    "\n",
    "# sawp target variable \n",
    "readings_long.NbBikes = readings_long[plus_cols_long[0]]\n",
    "readings_long.drop(plus_cols_long[0], axis=1, inplace=True)\n",
    "\n",
    "# remove na\n",
    "readings_long.dropna(inplace=True)"
   ]
  },
  {
   "cell_type": "code",
   "execution_count": 26,
   "metadata": {
    "collapsed": false
   },
   "outputs": [
    {
     "name": "stdout",
     "output_type": "stream",
     "text": [
      "Fitting BikePoints_1\n",
      "Fitting BikePoints_10\n",
      "Fitting BikePoints_100\n",
      "Fitting BikePoints_101\n",
      "Fitting BikePoints_102\n",
      "Fitting BikePoints_103\n",
      "Fitting BikePoints_104\n",
      "Fitting BikePoints_105\n",
      "Fitting BikePoints_106\n",
      "Fitting BikePoints_107\n",
      "Fitting BikePoints_108\n",
      "Fitting BikePoints_109\n",
      "Fitting BikePoints_11\n",
      "Fitting BikePoints_110\n",
      "Fitting BikePoints_111\n",
      "Fitting BikePoints_112\n",
      "Fitting BikePoints_113\n",
      "Fitting BikePoints_114\n",
      "Fitting BikePoints_115\n",
      "Fitting BikePoints_116\n"
     ]
    }
   ],
   "source": [
    "gam_formula_long = \"NbBikes ~ s(Temp, Humidity, bs='tp') + s(TimeOfDay, by=Weekday, bs='tp') \"  \n",
    "gam_formula_long += \"+ s(TimeOfDay, by=Weekend, bs='tp') + s(TimeOfDay, by=Holiday, bs='tp') + s(TMinus12, bs='tp') \"\n",
    "gam_formula_long += \"+ s(TMinus24, bs='tp') + Rain + Fog \"\n",
    "\n",
    "station_ids = readings_long.index.get_level_values('Id').unique()        \n",
    "results_long = model(readings_long, station_ids[0:20], gam_formula_long, feature_cols_long, pred_col_long)"
   ]
  },
  {
   "cell_type": "code",
   "execution_count": null,
   "metadata": {
    "collapsed": false
   },
   "outputs": [],
   "source": [
    "pd.DataFrame(results_long)[['Id', 'GAM', 'LM']].mean()"
   ]
  },
  {
   "cell_type": "markdown",
   "metadata": {},
   "source": [
    "### Grid Search"
   ]
  },
  {
   "cell_type": "code",
   "execution_count": 28,
   "metadata": {
    "collapsed": false
   },
   "outputs": [
    {
     "data": {
      "text/plain": [
       "GridSearchCV(cv=4, error_score='raise',\n",
       "       estimator=GAMRegressor(Fog_parametric=None, Rain_parametric=None, TMinus12_k=None,\n",
       "       TMinus1_k=None, TMinus2_k=None, TMinus6_k=None,\n",
       "       TempAndHumidity_k=None, TimeOfDay_1_by=None, TimeOfDay_1_k=None,\n",
       "       TimeOfDay_2_by=None, TimeOfDay_2_k=None, TimeOfDay_3_by=None,\n",
       "       TimeOfDay_3_k=None, TimeOfYear_k=None, features=None,\n",
       "       formula_str=None),\n",
       "       fit_params={}, iid=True, n_jobs=1,\n",
       "       param_grid=[{'features': [['TempAndHumidity', 'TimeOfDay_1', 'TimeOfDay_2', 'TimeOfDay_3', 'TMinus6', 'TMinus12', 'Rain', 'Fog']], 'TimeOfDay_3_by': ['Holiday'], 'TimeOfDay_1_by': ['Weekday'], 'TempAndHumidity_k': [16], 'TimeOfDay_1_k': [9], 'TMinus12_k': [7], 'TimeOfDay_2_k': [10], 'Rain_parametric': [True], 'TimeOfDay_3_k': [9], 'TMinus6_k': [8], 'Fog_parametric': [True], 'TimeOfDay_2_by': ['Weekend']}],\n",
       "       pre_dispatch='2*n_jobs', refit=True, scoring=None, verbose=0)"
      ]
     },
     "execution_count": 28,
     "metadata": {},
     "output_type": "execute_result"
    }
   ],
   "source": [
    "from sklearn.grid_search import GridSearchCV\n",
    "\n",
    "training, validation, test = split_datasets(readings_mid, 'BikePoints_102')\n",
    "search_dataset = pd.concat([training, validation])\n",
    "\n",
    "# features of the model\n",
    "features = ['TempAndHumidity', 'TimeOfDay_1', 'TimeOfDay_2', 'TimeOfDay_3', 'TMinus6', 'TMinus12', 'Rain', 'Fog']\n",
    "\n",
    "# parameters to tune via cross validation\n",
    "parameters = [{'TimeOfDay_1_by': ['Weekday'], 'TimeOfDay_2_by': ['Weekend'], 'TimeOfDay_3_by': ['Holiday'], \n",
    "               'Fog_parametric': [True], 'Rain_parametric': [True], \n",
    "               'TMinus6_k': [8], 'TMinus12_k': [7], 'TempAndHumidity_k': [16],\n",
    "               'TimeOfDay_1_k': [9], 'TimeOfDay_2_k': [10], 'TimeOfDay_3_k': [9],\n",
    "               #'TMinus6_sp': np.arange(0,1,0.2), 'TMinus12_sp': np.arange(0,1,0.2),\n",
    "               #'TimeOfDay_1_sp': np.arange(0,1,0.2), 'TimeOfDay_2_sp': np.arange(0,1,0.2), 'TimeOfDay_3_sp': np.arange(0,1,0.2),\n",
    "               'features': [features]}]\n",
    "\n",
    "# tuning hyper parameters \n",
    "clf = GridSearchCV(GAMRegressor(), parameters, cv=4)\n",
    "clf.fit(training)"
   ]
  },
  {
   "cell_type": "code",
   "execution_count": 29,
   "metadata": {
    "collapsed": false
   },
   "outputs": [
    {
     "name": "stdout",
     "output_type": "stream",
     "text": [
      "Best parameters set found on dev set:\n",
      "{'TimeOfDay_1_k': 9, 'TMinus12_k': 7, 'TimeOfDay_2_k': 10, 'Rain_parametric': True, 'TimeOfDay_3_by': 'Holiday', 'TimeOfDay_3_k': 9, 'TimeOfDay_1_by': 'Weekday', 'TempAndHumidity_k': 16, 'TMinus6_k': 8, 'Fog_parametric': True, 'TimeOfDay_2_by': 'Weekend', 'features': ['TempAndHumidity', 'TimeOfDay_1', 'TimeOfDay_2', 'TimeOfDay_3', 'TMinus6', 'TMinus12', 'Rain', 'Fog']}\n"
     ]
    }
   ],
   "source": [
    "print 'Best parameters set found on dev set:'\n",
    "print clf.best_params_"
   ]
  },
  {
   "cell_type": "code",
   "execution_count": 30,
   "metadata": {
    "collapsed": false
   },
   "outputs": [
    {
     "name": "stdout",
     "output_type": "stream",
     "text": [
      "Grid scores on development set:\n",
      "-2.567 (+/-0.510) for {'TimeOfDay_1_k': 9, 'TMinus12_k': 7, 'TimeOfDay_2_k': 10, 'Rain_parametric': True, 'TimeOfDay_3_by': 'Holiday', 'TimeOfDay_3_k': 9, 'TimeOfDay_1_by': 'Weekday', 'TempAndHumidity_k': 16, 'TMinus6_k': 8, 'Fog_parametric': True, 'TimeOfDay_2_by': 'Weekend', 'features': ['TempAndHumidity', 'TimeOfDay_1', 'TimeOfDay_2', 'TimeOfDay_3', 'TMinus6', 'TMinus12', 'Rain', 'Fog']}\n"
     ]
    }
   ],
   "source": [
    "print 'Grid scores on development set:'\n",
    "for params, mean_score, scores in clf.grid_scores_:\n",
    "    print '%0.3f (+/-%0.03f) for %r' % (mean_score, scores.std() * 2, params)"
   ]
  },
  {
   "cell_type": "code",
   "execution_count": 31,
   "metadata": {
    "collapsed": false
   },
   "outputs": [
    {
     "name": "stdout",
     "output_type": "stream",
     "text": [
      "The model is trained on the full development set.\n",
      "The scores are computed on the full evaluation set.\n"
     ]
    },
    {
     "data": {
      "text/plain": [
       "2.1434410704849132"
      ]
     },
     "execution_count": 31,
     "metadata": {},
     "output_type": "execute_result"
    }
   ],
   "source": [
    "print 'The model is trained on the full development set.'\n",
    "print 'The scores are computed on the full evaluation set.'\n",
    "p_test = clf.predict(validation)\n",
    "t_test = validation.NbBikes\n",
    "rmse = mean_squared_error(t_test, p_test)**0.5\n",
    "rmse"
   ]
  },
  {
   "cell_type": "code",
   "execution_count": 32,
   "metadata": {
    "collapsed": false
   },
   "outputs": [
    {
     "data": {
      "text/plain": [
       "2.082"
      ]
     },
     "execution_count": 32,
     "metadata": {},
     "output_type": "execute_result"
    }
   ],
   "source": [
    "2.082"
   ]
  },
  {
   "cell_type": "markdown",
   "metadata": {
    "collapsed": true
   },
   "source": [
    "## Chido"
   ]
  },
  {
   "cell_type": "code",
   "execution_count": 33,
   "metadata": {
    "collapsed": false
   },
   "outputs": [],
   "source": [
    "%load_ext rpy2.ipython"
   ]
  },
  {
   "cell_type": "code",
   "execution_count": 34,
   "metadata": {
    "collapsed": false
   },
   "outputs": [],
   "source": [
    "readings_mid2 = readings_mid.copy()\n",
    "readings_mid2.TimeOfYear = readings_mid2.TimeOfYear / 1000\n",
    "readings_mid2 = readings_mid2[readings_mid2.Weekday == 1]\n",
    "training, validation, test = split_datasets(readings_mid2, 'BikePoints_101')\n",
    "\n",
    "robjects.globalenv['training'] = training\n",
    "robjects.globalenv['validation'] = validation"
   ]
  },
  {
   "cell_type": "code",
   "execution_count": 35,
   "metadata": {
    "collapsed": false,
    "scrolled": false
   },
   "outputs": [
    {
     "data": {
      "text/plain": [
       "\n",
       "Family: gaussian \n",
       "Link function: identity \n",
       "\n",
       "Formula:\n",
       "NbBikes ~ s(Temp, Humidity, bs = \"tp\") + s(TimeOfYear, bs = \"tp\") + \n",
       "    s(TimeOfDay, by = Weekday, bs = \"tp\") + s(TMinus6, bs = \"tp\") + \n",
       "    s(TMinus12, bs = \"tp\") + Rain + Fog\n",
       "\n",
       "Parametric coefficients:\n",
       "            Estimate Std. Error t value Pr(>|t|)    \n",
       "(Intercept)  2.19889    0.01606   136.9   <2e-16 ***\n",
       "Rain         2.19889    0.01606   136.9   <2e-16 ***\n",
       "Fog          2.19889    0.01606   136.9   <2e-16 ***\n",
       "---\n",
       "Signif. codes:  0 ‘***’ 0.001 ‘**’ 0.01 ‘*’ 0.05 ‘.’ 0.1 ‘ ’ 1\n",
       "\n",
       "Approximate significance of smooth terms:\n",
       "                        edf Ref.df       F p-value    \n",
       "s(Temp,Humidity)     28.415 28.973   9.283 < 2e-16 ***\n",
       "s(TimeOfYear)         8.701  8.972  40.671 < 2e-16 ***\n",
       "s(TimeOfDay):Weekday  8.965  9.000 383.049 < 2e-16 ***\n",
       "s(TMinus6)            2.810  3.555  94.505 < 2e-16 ***\n",
       "s(TMinus12)           8.540  8.937   7.745 7.3e-11 ***\n",
       "---\n",
       "Signif. codes:  0 ‘***’ 0.001 ‘**’ 0.01 ‘*’ 0.05 ‘.’ 0.1 ‘ ’ 1\n",
       "\n",
       "Rank: 66/68\n",
       "R-sq.(adj) =  0.744   Deviance explained = 74.7%\n",
       "GCV = 13.442  Scale est. = 13.305    n = 5730\n",
       "[1] 5.065505\n"
      ]
     },
     "metadata": {},
     "output_type": "display_data"
    },
    {
     "data": {
      "image/png": "[encoded data removed]"
     },
     "metadata": {},
     "output_type": "display_data"
    },
    {
     "data": {
      "image/png": "[encoded data removed]"
     },
     "metadata": {},
     "output_type": "display_data"
    }
   ],
   "source": [
    "%%R\n",
    "\n",
    "library(mgcv)\n",
    "\n",
    "gamModel <- mgcv::gam(NbBikes ~ \n",
    "                      s(Temp, Humidity, bs='tp') \n",
    "                      + s(TimeOfYear, bs='tp') \n",
    "                      + s(TimeOfDay, by=Weekday, bs='tp')                  \n",
    "                      + s(TMinus6, bs='tp')\n",
    "                      + s(TMinus12, bs='tp')\n",
    "                      + Rain + Fog\n",
    "                      ,data=training)\n",
    "\n",
    "print(summary(gamModel))\n",
    "\n",
    "p_val <- predict(gamModel, newdata=validation)\n",
    "error <- validation$NbBikes - p_val\n",
    "rmse <- function(error)\n",
    "{\n",
    "    sqrt(mean(error^2))\n",
    "}\n",
    "print(rmse(error))\n",
    "    \n",
    "layout(matrix(1:3, ncol = 3))\n",
    "plot(gamModel, scale = 0)\n",
    "layout(1)\n",
    "    \n",
    "#layout(matrix(1:3, ncol = 3))\n",
    "#acf(resid(gamModel), lag.max = 36, main = \"ACF\")\n",
    "#pacf(resid(gamModel), lag.max = 36, main = \"pACF\")\n",
    "#layout(1)\n",
    "    \n",
    "#gamModel$lme"
   ]
  },
  {
   "cell_type": "code",
   "execution_count": 36,
   "metadata": {
    "collapsed": false
   },
   "outputs": [],
   "source": [
    "training, validation, test = split_datasets(readings_mid2, 'BikePoints_111')\n",
    "\n",
    "robjects.globalenv['training'] = training\n",
    "robjects.globalenv['validation'] = validation"
   ]
  },
  {
   "cell_type": "code",
   "execution_count": 37,
   "metadata": {
    "collapsed": false,
    "scrolled": false
   },
   "outputs": [
    {
     "data": {
      "text/plain": [
       "\n",
       "Family: gaussian \n",
       "Link function: identity \n",
       "\n",
       "Formula:\n",
       "NbBikes ~ s(Temp, Humidity, bs = \"tp\") + s(TimeOfDay, by = Weekday, \n",
       "    bs = \"tp\") + s(TMinus6, bs = \"tp\") + s(TMinus12, bs = \"tp\") + \n",
       "    Rain + Fog\n",
       "\n",
       "Parametric coefficients:\n",
       "            Estimate Std. Error t value Pr(>|t|)    \n",
       "(Intercept)   2.1061     0.0138   152.6   <2e-16 ***\n",
       "Rain          2.1061     0.0138   152.6   <2e-16 ***\n",
       "Fog           2.1061     0.0138   152.6   <2e-16 ***\n",
       "---\n",
       "Signif. codes:  0 ‘***’ 0.001 ‘**’ 0.01 ‘*’ 0.05 ‘.’ 0.1 ‘ ’ 1\n",
       "\n",
       "Approximate significance of smooth terms:\n",
       "                        edf Ref.df       F  p-value    \n",
       "s(Temp,Humidity)     27.909 28.911  12.608  < 2e-16 ***\n",
       "s(TimeOfDay):Weekday  8.743  8.980  13.968  < 2e-16 ***\n",
       "s(TMinus6)            8.285  8.824 203.539  < 2e-16 ***\n",
       "s(TMinus12)           7.615  8.491   9.883 3.06e-14 ***\n",
       "---\n",
       "Signif. codes:  0 ‘***’ 0.001 ‘**’ 0.01 ‘*’ 0.05 ‘.’ 0.1 ‘ ’ 1\n",
       "\n",
       "Rank: 57/59\n",
       "R-sq.(adj) =   0.83   Deviance explained = 83.2%\n",
       "GCV = 9.9131  Scale est. = 9.8205    n = 5732\n",
       "[1] 2.021413\n"
      ]
     },
     "metadata": {},
     "output_type": "display_data"
    },
    {
     "data": {
      "image/png": "[encoded data removed]"
     },
     "metadata": {},
     "output_type": "display_data"
    },
    {
     "data": {
      "image/png": "[encoded data removed]"
     },
     "metadata": {},
     "output_type": "display_data"
    }
   ],
   "source": [
    "%%R\n",
    "\n",
    "library(mgcv)\n",
    "\n",
    "gamModel <- mgcv::gam(NbBikes ~ \n",
    "                      s(Temp, Humidity, bs='tp') \n",
    "                      #+ s(TimeOfYear, bs='tp') \n",
    "                      + s(TimeOfDay, by=Weekday, bs='tp')  \n",
    "                      + s(TMinus6, bs='tp')\n",
    "                      + s(TMinus12, bs='tp')\n",
    "                      + Rain + Fog\n",
    "                      ,data=training)\n",
    "\n",
    "print(summary(gamModel))\n",
    "\n",
    "p_val <- predict(gamModel, newdata=validation)\n",
    "error <- validation$NbBikes - p_val\n",
    "rmse <- function(error)\n",
    "{\n",
    "    sqrt(mean(error^2))\n",
    "}\n",
    "print(rmse(error))\n",
    "    \n",
    "layout(matrix(1:3, ncol = 3))\n",
    "plot(gamModel, scale = 0)\n",
    "layout(1)\n",
    "    \n",
    "#layout(matrix(1:3, ncol = 3))\n",
    "#acf(resid(gamModel), lag.max = 36, main = \"ACF\")\n",
    "#pacf(resid(gamModel), lag.max = 36, main = \"pACF\")\n",
    "#layout(1)\n",
    "    \n",
    "#gamModel$lme"
   ]
  },
  {
   "cell_type": "code",
   "execution_count": 38,
   "metadata": {
    "collapsed": false
   },
   "outputs": [
    {
     "data": {
      "text/plain": [
       "2.281916"
      ]
     },
     "execution_count": 38,
     "metadata": {},
     "output_type": "execute_result"
    }
   ],
   "source": [
    "2.281916"
   ]
  },
  {
   "cell_type": "code",
   "execution_count": 39,
   "metadata": {
    "collapsed": false
   },
   "outputs": [
    {
     "data": {
      "text/html": [
       "<div>\n",
       "<table border=\"1\" class=\"dataframe\">\n",
       "  <thead>\n",
       "    <tr style=\"text-align: right;\">\n",
       "      <th></th>\n",
       "      <th>NbBikes</th>\n",
       "      <th>Source</th>\n",
       "      <th>tvalue</th>\n",
       "      <th>delta</th>\n",
       "      <th>mins</th>\n",
       "    </tr>\n",
       "    <tr>\n",
       "      <th>Timestamp</th>\n",
       "      <th></th>\n",
       "      <th></th>\n",
       "      <th></th>\n",
       "      <th></th>\n",
       "      <th></th>\n",
       "    </tr>\n",
       "  </thead>\n",
       "  <tbody>\n",
       "    <tr>\n",
       "      <th>2016-05-16 06:41:16.870000128</th>\n",
       "      <td>12</td>\n",
       "      <td>REAL</td>\n",
       "      <td>2016-05-16 06:41:16.870000128</td>\n",
       "      <td>00:00:00</td>\n",
       "      <td>0</td>\n",
       "    </tr>\n",
       "    <tr>\n",
       "      <th>2016-05-16 06:46:16.870000128</th>\n",
       "      <td>12</td>\n",
       "      <td>ARTIFICIAL</td>\n",
       "      <td>2016-05-16 06:46:16.870000128</td>\n",
       "      <td>00:05:00</td>\n",
       "      <td>5</td>\n",
       "    </tr>\n",
       "    <tr>\n",
       "      <th>2016-05-16 06:51:16.870000128</th>\n",
       "      <td>12</td>\n",
       "      <td>ARTIFICIAL</td>\n",
       "      <td>2016-05-16 06:51:16.870000128</td>\n",
       "      <td>00:05:00</td>\n",
       "      <td>5</td>\n",
       "    </tr>\n",
       "    <tr>\n",
       "      <th>2016-05-16 06:56:16.870000128</th>\n",
       "      <td>12</td>\n",
       "      <td>ARTIFICIAL</td>\n",
       "      <td>2016-05-16 06:56:16.870000128</td>\n",
       "      <td>00:05:00</td>\n",
       "      <td>5</td>\n",
       "    </tr>\n",
       "    <tr>\n",
       "      <th>2016-05-16 07:01:16.870000128</th>\n",
       "      <td>12</td>\n",
       "      <td>ARTIFICIAL</td>\n",
       "      <td>2016-05-16 07:01:16.870000128</td>\n",
       "      <td>00:05:00</td>\n",
       "      <td>5</td>\n",
       "    </tr>\n",
       "  </tbody>\n",
       "</table>\n",
       "</div>"
      ],
      "text/plain": [
       "                               NbBikes      Source  \\\n",
       "Timestamp                                            \n",
       "2016-05-16 06:41:16.870000128       12        REAL   \n",
       "2016-05-16 06:46:16.870000128       12  ARTIFICIAL   \n",
       "2016-05-16 06:51:16.870000128       12  ARTIFICIAL   \n",
       "2016-05-16 06:56:16.870000128       12  ARTIFICIAL   \n",
       "2016-05-16 07:01:16.870000128       12  ARTIFICIAL   \n",
       "\n",
       "                                                     tvalue    delta  mins  \n",
       "Timestamp                                                                   \n",
       "2016-05-16 06:41:16.870000128 2016-05-16 06:41:16.870000128 00:00:00     0  \n",
       "2016-05-16 06:46:16.870000128 2016-05-16 06:46:16.870000128 00:05:00     5  \n",
       "2016-05-16 06:51:16.870000128 2016-05-16 06:51:16.870000128 00:05:00     5  \n",
       "2016-05-16 06:56:16.870000128 2016-05-16 06:56:16.870000128 00:05:00     5  \n",
       "2016-05-16 07:01:16.870000128 2016-05-16 07:01:16.870000128 00:05:00     5  "
      ]
     },
     "execution_count": 39,
     "metadata": {},
     "output_type": "execute_result"
    }
   ],
   "source": [
    "df = readings.loc['BikePoints_1'][['NbBikes', 'Source']].copy()\n",
    "df['tvalue'] = df.index\n",
    "df['delta'] = (df['tvalue']-df['tvalue'].shift()).fillna(0)\n",
    "df['mins'] = df['delta'].apply(lambda x: x  / np.timedelta64(1,'m')).astype('int64') % (24*60)\n",
    "df.head()"
   ]
  },
  {
   "cell_type": "code",
   "execution_count": 40,
   "metadata": {
    "collapsed": false
   },
   "outputs": [
    {
     "name": "stdout",
     "output_type": "stream",
     "text": [
      "NbBikes                               13\n",
      "Source                        ARTIFICIAL\n",
      "tvalue     2016-05-27 07:59:56.216999936\n",
      "delta                    0 days 00:05:00\n",
      "mins                                   5\n",
      "Name: 2016-05-27 07:59:56.216999936, dtype: object\n",
      "\n",
      "NbBikes                               13\n",
      "Source                              REAL\n",
      "tvalue     2016-05-27 08:02:37.747000064\n",
      "delta             0 days 00:02:41.530000\n",
      "mins                                   2\n",
      "Name: 2016-05-27 08:02:37.747000064, dtype: object\n",
      "\n",
      "NbBikes                               12\n",
      "Source                              REAL\n",
      "tvalue     2016-05-27 08:07:40.576999936\n",
      "delta             0 days 00:05:02.829999\n",
      "mins                                   5\n",
      "Name: 2016-05-27 08:07:40.576999936, dtype: object\n"
     ]
    }
   ],
   "source": [
    "indx = df[df.mins == 2][0:1].index.values[0]\n",
    "loc = df.index.get_loc(indx)\n",
    "\n",
    "print df.iloc[loc-1]\n",
    "print\n",
    "print df.iloc[loc]\n",
    "print\n",
    "print df.iloc[loc+1]"
   ]
  },
  {
   "cell_type": "code",
   "execution_count": null,
   "metadata": {
    "collapsed": true
   },
   "outputs": [],
   "source": []
  }
 ],
 "metadata": {
  "kernelspec": {
   "display_name": "Python 2",
   "language": "python",
   "name": "python2"
  },
  "language_info": {
   "codemirror_mode": {
    "name": "ipython",
    "version": 2
   },
   "file_extension": ".py",
   "mimetype": "text/x-python",
   "name": "python",
   "nbconvert_exporter": "python",
   "pygments_lexer": "ipython2",
   "version": "2.7.11"
  }
 },
 "nbformat": 4,
 "nbformat_minor": 0
}
