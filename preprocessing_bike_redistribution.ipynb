{
 "cells": [
  {
   "cell_type": "markdown",
   "metadata": {},
   "source": [
    "# Bike Redistribution Preprocessing\n",
    "\n",
    "## Set Up"
   ]
  },
  {
   "cell_type": "code",
   "execution_count": 180,
   "metadata": {
    "collapsed": true
   },
   "outputs": [],
   "source": [
    "%matplotlib inline\n",
    "\n",
    "import logging\n",
    "import itertools\n",
    "import json\n",
    "import os\n",
    "import re\n",
    "import pickle\n",
    "import folium\n",
    "import random\n",
    "import pandas as pd\n",
    "import numpy as np\n",
    "import seaborn as sns\n",
    "import matplotlib.pyplot as plt\n",
    "\n",
    "from mpl_toolkits.basemap import Basemap\n",
    "from datetime import datetime\n",
    "from os import listdir\n",
    "from os.path import isfile, join\n",
    "from IPython.display import Image\n",
    "from datetime import date\n",
    "\n",
    "from src.data.parse_dataset import parse_dir, parse_json_files, get_file_list\n",
    "from src.data.string_format import format_name, to_short_name\n",
    "from src.data.visualization import lon_min_longitude, lon_min_latitude, lon_max_longitude, lon_max_latitude, lon_center_latitude, lon_center_longitude, create_london_map\n",
    "\n",
    "logger = logging.getLogger()\n",
    "logger.setLevel(logging.INFO)"
   ]
  },
  {
   "cell_type": "code",
   "execution_count": 181,
   "metadata": {
    "collapsed": false
   },
   "outputs": [],
   "source": [
    "collected = pd.read_csv('data/raw/redistribution/collected.csv', encoding='latin-1')\n",
    "distributed = pd.read_csv('data/raw/redistribution/distributed.csv', encoding='latin-1')\n",
    "stations = pickle.load(open('data/parsed/stations_dataset_final.p', 'rb'))"
   ]
  },
  {
   "cell_type": "markdown",
   "metadata": {},
   "source": [
    "## Technically Correct Data"
   ]
  },
  {
   "cell_type": "code",
   "execution_count": 182,
   "metadata": {
    "collapsed": false
   },
   "outputs": [],
   "source": [
    "# remove null entries, the dataset has very few features to support nulls\n",
    "collected.dropna(inplace=True)\n",
    "distributed.dropna(inplace=True)\n",
    "\n",
    "# convert columns to their appropriate datatypes\n",
    "collected['NbBikes'] = collected['NbBikes'].astype('uint16')\n",
    "distributed['NbBikes'] = distributed['NbBikes'].astype('uint16')\n",
    "\n",
    "# format station name\n",
    "distributed['Name'] = distributed['Name'].apply(format_name)\n",
    "collected['Name'] = collected['Name'].apply(format_name)\n",
    "\n",
    "distributed['Timestamp'] =  pd.to_datetime(distributed['Timestamp'], format='%d/%m/%Y %H:%M', errors='raise').dt.tz_localize('UTC')\n",
    "collected['Timestamp'] =  pd.to_datetime(collected['Timestamp'], format='%d/%m/%Y %H:%M', errors='raise').dt.tz_localize('UTC')"
   ]
  },
  {
   "cell_type": "markdown",
   "metadata": {},
   "source": [
    "### Distributed Cycles"
   ]
  },
  {
   "cell_type": "code",
   "execution_count": 183,
   "metadata": {
    "collapsed": false
   },
   "outputs": [
    {
     "name": "stdout",
     "output_type": "stream",
     "text": [
      "<class 'pandas.core.frame.DataFrame'>\n",
      "Int64Index: 39692 entries, 0 to 39691\n",
      "Data columns (total 3 columns):\n",
      "Timestamp    39692 non-null datetime64[ns, UTC]\n",
      "Name         39692 non-null object\n",
      "NbBikes      39692 non-null uint16\n",
      "dtypes: datetime64[ns, UTC](1), object(1), uint16(1)\n",
      "memory usage: 1007.8+ KB\n"
     ]
    }
   ],
   "source": [
    "distributed.info()"
   ]
  },
  {
   "cell_type": "markdown",
   "metadata": {},
   "source": [
    "### Collected Cycles"
   ]
  },
  {
   "cell_type": "code",
   "execution_count": 184,
   "metadata": {
    "collapsed": false
   },
   "outputs": [
    {
     "name": "stdout",
     "output_type": "stream",
     "text": [
      "<class 'pandas.core.frame.DataFrame'>\n",
      "Int64Index: 43488 entries, 0 to 43487\n",
      "Data columns (total 3 columns):\n",
      "Timestamp    43488 non-null datetime64[ns, UTC]\n",
      "Name         43488 non-null object\n",
      "NbBikes      43488 non-null uint16\n",
      "dtypes: datetime64[ns, UTC](1), object(1), uint16(1)\n",
      "memory usage: 1.1+ MB\n"
     ]
    }
   ],
   "source": [
    "collected.info()"
   ]
  },
  {
   "cell_type": "markdown",
   "metadata": {},
   "source": [
    "## Derive Data"
   ]
  },
  {
   "cell_type": "code",
   "execution_count": 185,
   "metadata": {
    "collapsed": false
   },
   "outputs": [],
   "source": [
    "distributed['ShortName'] = distributed['Name'].map(to_short_name)\n",
    "collected['ShortName'] = collected['Name'].map(to_short_name)"
   ]
  },
  {
   "cell_type": "markdown",
   "metadata": {
    "collapsed": true
   },
   "source": [
    "## Consistent Data"
   ]
  },
  {
   "cell_type": "markdown",
   "metadata": {},
   "source": [
    "### Distributed Cycles"
   ]
  },
  {
   "cell_type": "code",
   "execution_count": 186,
   "metadata": {
    "collapsed": false
   },
   "outputs": [
    {
     "data": {
      "text/html": [
       "<div>\n",
       "<table border=\"1\" class=\"dataframe\">\n",
       "  <thead>\n",
       "    <tr style=\"text-align: right;\">\n",
       "      <th></th>\n",
       "      <th>NbBikes</th>\n",
       "    </tr>\n",
       "  </thead>\n",
       "  <tbody>\n",
       "    <tr>\n",
       "      <th>count</th>\n",
       "      <td>39692.000000</td>\n",
       "    </tr>\n",
       "    <tr>\n",
       "      <th>mean</th>\n",
       "      <td>9.956717</td>\n",
       "    </tr>\n",
       "    <tr>\n",
       "      <th>std</th>\n",
       "      <td>5.458785</td>\n",
       "    </tr>\n",
       "    <tr>\n",
       "      <th>min</th>\n",
       "      <td>0.000000</td>\n",
       "    </tr>\n",
       "    <tr>\n",
       "      <th>25%</th>\n",
       "      <td>6.000000</td>\n",
       "    </tr>\n",
       "    <tr>\n",
       "      <th>50%</th>\n",
       "      <td>9.000000</td>\n",
       "    </tr>\n",
       "    <tr>\n",
       "      <th>75%</th>\n",
       "      <td>15.000000</td>\n",
       "    </tr>\n",
       "    <tr>\n",
       "      <th>max</th>\n",
       "      <td>36.000000</td>\n",
       "    </tr>\n",
       "  </tbody>\n",
       "</table>\n",
       "</div>"
      ],
      "text/plain": [
       "            NbBikes\n",
       "count  39692.000000\n",
       "mean       9.956717\n",
       "std        5.458785\n",
       "min        0.000000\n",
       "25%        6.000000\n",
       "50%        9.000000\n",
       "75%       15.000000\n",
       "max       36.000000"
      ]
     },
     "execution_count": 186,
     "metadata": {},
     "output_type": "execute_result"
    }
   ],
   "source": [
    "distributed.describe()"
   ]
  },
  {
   "cell_type": "markdown",
   "metadata": {},
   "source": [
    "#### Assign Station Id"
   ]
  },
  {
   "cell_type": "code",
   "execution_count": 187,
   "metadata": {
    "collapsed": false
   },
   "outputs": [],
   "source": [
    "def drop_multinomial(idxs, merged_incorrectly, merged_correctly):\n",
    "    # get the df of the given indexes\n",
    "    df = merged_incorrectly.loc[idxs]\n",
    "    \n",
    "    # get the counts of the station ids in the dataset\n",
    "    selector = merged_correctly['Id'].isin(df['Id'])\n",
    "    counts = merged_correctly[selector]['Id'].value_counts()\n",
    "    \n",
    "    # choose one station with the multinomial distribution\n",
    "    probs = counts / counts.sum()\n",
    "    multinomial_dist = np.random.multinomial(1, probs)\n",
    "    station_id = counts.index[np.argmax(multinomial_dist)]\n",
    "    \n",
    "    # drop the other ones\n",
    "    to_drop_selector = df['Id'] != station_id\n",
    "    to_drop = df[to_drop_selector].index.values\n",
    "    return to_drop    \n",
    "\n",
    "def drop_randomly(idxs, merged_incorrectly=None, merged_correctly=None):\n",
    "    idxs.remove(random.sample(idxs, 1)[0])\n",
    "    return idxs"
   ]
  },
  {
   "cell_type": "code",
   "execution_count": 188,
   "metadata": {
    "collapsed": false
   },
   "outputs": [],
   "source": [
    "def split_null(df):\n",
    "    return df[~df['Id'].isnull()].copy(), df[df['Id'].isnull()][['Timestamp', 'Name', 'NbBikes', 'ShortName']].copy()\n",
    "\n",
    "def assign_station_id(df, drop_using):\n",
    "    # merge using the full station name\n",
    "    merged = pd.merge(df, stations[['Id', 'Name']], how='left', left_on='Name', right_on='Name')\n",
    "    merged_on_name, remaining_null = split_null(merged)\n",
    "    print '%d readings could not be merged with the full station name' % len(remaining_null) \n",
    "    \n",
    "    if drop_using is None:\n",
    "        return merged_on_name\n",
    "    \n",
    "    # merge using the short name\n",
    "    merged = pd.merge(remaining_null, stations[['Id', 'ShortName']], how='left', left_on='ShortName', right_on='ShortName')\n",
    "    merged_on_shortname, remaining_null = split_null(merged)\n",
    "    print '%d readings could not be merged with the short station name' % len(remaining_null) \n",
    "\n",
    "    # drop duplicate entries from merging by short name\n",
    "    # select the duplicate entries only\n",
    "    selector = merged_on_shortname.duplicated(subset=['Name', 'Timestamp', 'NbBikes'], keep=False)\n",
    "    duplicates = pd.DataFrame(merged_on_shortname[selector])\n",
    "    # add the index as a column for selection\n",
    "    duplicates['Idx'] = duplicates.index\n",
    "    # group the duplicates\n",
    "    groups = duplicates.groupby(['Timestamp', 'ShortName'])['Idx'].aggregate(lambda x: set(x))\n",
    "    # select indexes to drop from each group\n",
    "    to_drop = []\n",
    "    for idxs in groups:\n",
    "        to_drop.extend(drop_using(idxs, merged_on_shortname, merged_on_name))\n",
    "    # drop selected indexes from dataframe\n",
    "    merged_on_shortname.drop(to_drop, inplace=True)\n",
    "        \n",
    "    return pd.concat([merged_on_name, merged_on_shortname, remaining_null]).sort_values(by=['Timestamp']).reset_index(drop=True)"
   ]
  },
  {
   "cell_type": "code",
   "execution_count": 189,
   "metadata": {
    "collapsed": false,
    "scrolled": false
   },
   "outputs": [
    {
     "name": "stdout",
     "output_type": "stream",
     "text": [
      "1738 readings could not be merged with the full station name\n",
      "15 readings could not be merged with the short station name\n"
     ]
    }
   ],
   "source": [
    "#distributed = assign_station_id(distributed, drop_multinomial)\n",
    "distributed = assign_station_id(distributed, drop_multinomial)"
   ]
  },
  {
   "cell_type": "code",
   "execution_count": 190,
   "metadata": {
    "collapsed": false
   },
   "outputs": [
    {
     "data": {
      "text/plain": [
       "array([u'Penton Street Depot'], dtype=object)"
      ]
     },
     "execution_count": 190,
     "metadata": {},
     "output_type": "execute_result"
    }
   ],
   "source": [
    "distributed[distributed['Id'].isnull()]['Name'].unique()"
   ]
  },
  {
   "cell_type": "code",
   "execution_count": 191,
   "metadata": {
    "collapsed": true
   },
   "outputs": [],
   "source": [
    "distributed.dropna(inplace=True)"
   ]
  },
  {
   "cell_type": "markdown",
   "metadata": {},
   "source": [
    "**These stations do not exist in our stations dataset so they will be removed.**"
   ]
  },
  {
   "cell_type": "code",
   "execution_count": 192,
   "metadata": {
    "collapsed": false,
    "scrolled": true
   },
   "outputs": [],
   "source": [
    "distributed = distributed.set_index(['Id', 'Timestamp']).sort_index()[['NbBikes', 'Name']]"
   ]
  },
  {
   "cell_type": "code",
   "execution_count": 193,
   "metadata": {
    "collapsed": false
   },
   "outputs": [
    {
     "data": {
      "text/plain": [
       "NbBikes     23\n",
       "Name       771\n",
       "dtype: int64"
      ]
     },
     "execution_count": 193,
     "metadata": {},
     "output_type": "execute_result"
    }
   ],
   "source": [
    "distributed.apply(lambda x:x.nunique())"
   ]
  },
  {
   "cell_type": "markdown",
   "metadata": {},
   "source": [
    "### Collected Cycles"
   ]
  },
  {
   "cell_type": "code",
   "execution_count": 194,
   "metadata": {
    "collapsed": false,
    "scrolled": true
   },
   "outputs": [
    {
     "data": {
      "text/html": [
       "<div>\n",
       "<table border=\"1\" class=\"dataframe\">\n",
       "  <thead>\n",
       "    <tr style=\"text-align: right;\">\n",
       "      <th></th>\n",
       "      <th>NbBikes</th>\n",
       "    </tr>\n",
       "  </thead>\n",
       "  <tbody>\n",
       "    <tr>\n",
       "      <th>count</th>\n",
       "      <td>43488.000000</td>\n",
       "    </tr>\n",
       "    <tr>\n",
       "      <th>mean</th>\n",
       "      <td>8.946215</td>\n",
       "    </tr>\n",
       "    <tr>\n",
       "      <th>std</th>\n",
       "      <td>5.180654</td>\n",
       "    </tr>\n",
       "    <tr>\n",
       "      <th>min</th>\n",
       "      <td>0.000000</td>\n",
       "    </tr>\n",
       "    <tr>\n",
       "      <th>25%</th>\n",
       "      <td>6.000000</td>\n",
       "    </tr>\n",
       "    <tr>\n",
       "      <th>50%</th>\n",
       "      <td>8.000000</td>\n",
       "    </tr>\n",
       "    <tr>\n",
       "      <th>75%</th>\n",
       "      <td>12.000000</td>\n",
       "    </tr>\n",
       "    <tr>\n",
       "      <th>max</th>\n",
       "      <td>36.000000</td>\n",
       "    </tr>\n",
       "  </tbody>\n",
       "</table>\n",
       "</div>"
      ],
      "text/plain": [
       "            NbBikes\n",
       "count  43488.000000\n",
       "mean       8.946215\n",
       "std        5.180654\n",
       "min        0.000000\n",
       "25%        6.000000\n",
       "50%        8.000000\n",
       "75%       12.000000\n",
       "max       36.000000"
      ]
     },
     "execution_count": 194,
     "metadata": {},
     "output_type": "execute_result"
    }
   ],
   "source": [
    "collected.describe()"
   ]
  },
  {
   "cell_type": "markdown",
   "metadata": {},
   "source": [
    "#### Assign Station Id"
   ]
  },
  {
   "cell_type": "code",
   "execution_count": 195,
   "metadata": {
    "collapsed": false,
    "scrolled": true
   },
   "outputs": [
    {
     "name": "stdout",
     "output_type": "stream",
     "text": [
      "1455 readings could not be merged with the full station name\n",
      "92 readings could not be merged with the short station name\n"
     ]
    }
   ],
   "source": [
    "collected = assign_station_id(collected, drop_multinomial)"
   ]
  },
  {
   "cell_type": "code",
   "execution_count": 196,
   "metadata": {
    "collapsed": false
   },
   "outputs": [
    {
     "data": {
      "text/plain": [
       "array([u'Penton Street Depot'], dtype=object)"
      ]
     },
     "execution_count": 196,
     "metadata": {},
     "output_type": "execute_result"
    }
   ],
   "source": [
    "collected[collected['Id'].isnull()]['Name'].unique()"
   ]
  },
  {
   "cell_type": "markdown",
   "metadata": {},
   "source": [
    "**These stations do not exist in our stations dataset so they will be removed.**"
   ]
  },
  {
   "cell_type": "code",
   "execution_count": 197,
   "metadata": {
    "collapsed": true
   },
   "outputs": [],
   "source": [
    "collected.dropna(inplace=True)"
   ]
  },
  {
   "cell_type": "code",
   "execution_count": 198,
   "metadata": {
    "collapsed": true
   },
   "outputs": [],
   "source": [
    "collected = collected.set_index(['Id', 'Timestamp']).sort_index()[['NbBikes', 'Name']]"
   ]
  },
  {
   "cell_type": "code",
   "execution_count": 199,
   "metadata": {
    "collapsed": false
   },
   "outputs": [
    {
     "data": {
      "text/plain": [
       "NbBikes     26\n",
       "Name       758\n",
       "dtype: int64"
      ]
     },
     "execution_count": 199,
     "metadata": {},
     "output_type": "execute_result"
    }
   ],
   "source": [
    "collected.apply(lambda x:x.nunique())"
   ]
  },
  {
   "cell_type": "markdown",
   "metadata": {},
   "source": [
    "## Build Datasets\n"
   ]
  },
  {
   "cell_type": "markdown",
   "metadata": {},
   "source": [
    "### Distributed"
   ]
  },
  {
   "cell_type": "code",
   "execution_count": 200,
   "metadata": {
    "collapsed": false
   },
   "outputs": [
    {
     "data": {
      "text/html": [
       "<div>\n",
       "<table border=\"1\" class=\"dataframe\">\n",
       "  <thead>\n",
       "    <tr style=\"text-align: right;\">\n",
       "      <th></th>\n",
       "      <th></th>\n",
       "      <th>NbBikes</th>\n",
       "      <th>Name</th>\n",
       "    </tr>\n",
       "    <tr>\n",
       "      <th>Id</th>\n",
       "      <th>Timestamp</th>\n",
       "      <th></th>\n",
       "      <th></th>\n",
       "    </tr>\n",
       "  </thead>\n",
       "  <tbody>\n",
       "    <tr>\n",
       "      <th rowspan=\"5\" valign=\"top\">BikePoints_1</th>\n",
       "      <th>2016-01-02 18:19:00+00:00</th>\n",
       "      <td>6</td>\n",
       "      <td>River Street, Clerkenwell</td>\n",
       "    </tr>\n",
       "    <tr>\n",
       "      <th>2016-01-05 10:49:00+00:00</th>\n",
       "      <td>10</td>\n",
       "      <td>River Street, Clerkenwell</td>\n",
       "    </tr>\n",
       "    <tr>\n",
       "      <th>2016-01-06 14:25:00+00:00</th>\n",
       "      <td>7</td>\n",
       "      <td>River Street, Clerkenwell</td>\n",
       "    </tr>\n",
       "    <tr>\n",
       "      <th>2016-01-08 11:14:00+00:00</th>\n",
       "      <td>12</td>\n",
       "      <td>River Street, Clerkenwell</td>\n",
       "    </tr>\n",
       "    <tr>\n",
       "      <th>2016-01-10 11:33:00+00:00</th>\n",
       "      <td>9</td>\n",
       "      <td>River Street, Clerkenwell</td>\n",
       "    </tr>\n",
       "  </tbody>\n",
       "</table>\n",
       "</div>"
      ],
      "text/plain": [
       "                                        NbBikes                       Name\n",
       "Id           Timestamp                                                    \n",
       "BikePoints_1 2016-01-02 18:19:00+00:00        6  River Street, Clerkenwell\n",
       "             2016-01-05 10:49:00+00:00       10  River Street, Clerkenwell\n",
       "             2016-01-06 14:25:00+00:00        7  River Street, Clerkenwell\n",
       "             2016-01-08 11:14:00+00:00       12  River Street, Clerkenwell\n",
       "             2016-01-10 11:33:00+00:00        9  River Street, Clerkenwell"
      ]
     },
     "execution_count": 200,
     "metadata": {},
     "output_type": "execute_result"
    }
   ],
   "source": [
    "distributed.head()"
   ]
  },
  {
   "cell_type": "code",
   "execution_count": 201,
   "metadata": {
    "collapsed": false
   },
   "outputs": [
    {
     "data": {
      "text/html": [
       "<div>\n",
       "<table border=\"1\" class=\"dataframe\">\n",
       "  <thead>\n",
       "    <tr style=\"text-align: right;\">\n",
       "      <th></th>\n",
       "      <th>NbBikes</th>\n",
       "    </tr>\n",
       "  </thead>\n",
       "  <tbody>\n",
       "    <tr>\n",
       "      <th>count</th>\n",
       "      <td>39677.000000</td>\n",
       "    </tr>\n",
       "    <tr>\n",
       "      <th>mean</th>\n",
       "      <td>9.957658</td>\n",
       "    </tr>\n",
       "    <tr>\n",
       "      <th>std</th>\n",
       "      <td>5.457354</td>\n",
       "    </tr>\n",
       "    <tr>\n",
       "      <th>min</th>\n",
       "      <td>0.000000</td>\n",
       "    </tr>\n",
       "    <tr>\n",
       "      <th>25%</th>\n",
       "      <td>6.000000</td>\n",
       "    </tr>\n",
       "    <tr>\n",
       "      <th>50%</th>\n",
       "      <td>9.000000</td>\n",
       "    </tr>\n",
       "    <tr>\n",
       "      <th>75%</th>\n",
       "      <td>15.000000</td>\n",
       "    </tr>\n",
       "    <tr>\n",
       "      <th>max</th>\n",
       "      <td>36.000000</td>\n",
       "    </tr>\n",
       "  </tbody>\n",
       "</table>\n",
       "</div>"
      ],
      "text/plain": [
       "            NbBikes\n",
       "count  39677.000000\n",
       "mean       9.957658\n",
       "std        5.457354\n",
       "min        0.000000\n",
       "25%        6.000000\n",
       "50%        9.000000\n",
       "75%       15.000000\n",
       "max       36.000000"
      ]
     },
     "execution_count": 201,
     "metadata": {},
     "output_type": "execute_result"
    }
   ],
   "source": [
    "distributed.describe()"
   ]
  },
  {
   "cell_type": "code",
   "execution_count": 202,
   "metadata": {
    "collapsed": false,
    "scrolled": true
   },
   "outputs": [
    {
     "name": "stdout",
     "output_type": "stream",
     "text": [
      "<class 'pandas.core.frame.DataFrame'>\n",
      "MultiIndex: 39677 entries, (BikePoints_1, 2016-01-02 18:19:00+00:00) to (BikePoints_99, 2016-06-28 17:54:00+00:00)\n",
      "Data columns (total 2 columns):\n",
      "NbBikes    39677 non-null uint16\n",
      "Name       39677 non-null object\n",
      "dtypes: object(1), uint16(1)\n",
      "memory usage: 8.2 MB\n"
     ]
    }
   ],
   "source": [
    "distributed.info(memory_usage='deep')"
   ]
  },
  {
   "cell_type": "code",
   "execution_count": 203,
   "metadata": {
    "collapsed": true
   },
   "outputs": [],
   "source": [
    "pickle.dump(distributed, open(\"data/parsed/distributed_dataset_final.p\", \"wb\"))"
   ]
  },
  {
   "cell_type": "markdown",
   "metadata": {},
   "source": [
    "### Collected"
   ]
  },
  {
   "cell_type": "code",
   "execution_count": 204,
   "metadata": {
    "collapsed": false
   },
   "outputs": [
    {
     "data": {
      "text/html": [
       "<div>\n",
       "<table border=\"1\" class=\"dataframe\">\n",
       "  <thead>\n",
       "    <tr style=\"text-align: right;\">\n",
       "      <th></th>\n",
       "      <th></th>\n",
       "      <th>NbBikes</th>\n",
       "      <th>Name</th>\n",
       "    </tr>\n",
       "    <tr>\n",
       "      <th>Id</th>\n",
       "      <th>Timestamp</th>\n",
       "      <th></th>\n",
       "      <th></th>\n",
       "    </tr>\n",
       "  </thead>\n",
       "  <tbody>\n",
       "    <tr>\n",
       "      <th>BikePoints_1</th>\n",
       "      <th>2016-01-18 17:12:00+00:00</th>\n",
       "      <td>9</td>\n",
       "      <td>River Street, Clerkenwell</td>\n",
       "    </tr>\n",
       "    <tr>\n",
       "      <th rowspan=\"4\" valign=\"top\">BikePoints_10</th>\n",
       "      <th>2016-01-06 08:21:00+00:00</th>\n",
       "      <td>6</td>\n",
       "      <td>Park Street, Bankside</td>\n",
       "    </tr>\n",
       "    <tr>\n",
       "      <th>2016-01-10 02:48:00+00:00</th>\n",
       "      <td>8</td>\n",
       "      <td>Park Street, Bankside</td>\n",
       "    </tr>\n",
       "    <tr>\n",
       "      <th>2016-01-13 08:36:00+00:00</th>\n",
       "      <td>11</td>\n",
       "      <td>Park Street, Bankside</td>\n",
       "    </tr>\n",
       "    <tr>\n",
       "      <th>2016-01-14 08:40:00+00:00</th>\n",
       "      <td>8</td>\n",
       "      <td>Park Street, Bankside</td>\n",
       "    </tr>\n",
       "  </tbody>\n",
       "</table>\n",
       "</div>"
      ],
      "text/plain": [
       "                                         NbBikes                       Name\n",
       "Id            Timestamp                                                    \n",
       "BikePoints_1  2016-01-18 17:12:00+00:00        9  River Street, Clerkenwell\n",
       "BikePoints_10 2016-01-06 08:21:00+00:00        6      Park Street, Bankside\n",
       "              2016-01-10 02:48:00+00:00        8      Park Street, Bankside\n",
       "              2016-01-13 08:36:00+00:00       11      Park Street, Bankside\n",
       "              2016-01-14 08:40:00+00:00        8      Park Street, Bankside"
      ]
     },
     "execution_count": 204,
     "metadata": {},
     "output_type": "execute_result"
    }
   ],
   "source": [
    "collected.head()"
   ]
  },
  {
   "cell_type": "code",
   "execution_count": 205,
   "metadata": {
    "collapsed": false
   },
   "outputs": [
    {
     "data": {
      "text/html": [
       "<div>\n",
       "<table border=\"1\" class=\"dataframe\">\n",
       "  <thead>\n",
       "    <tr style=\"text-align: right;\">\n",
       "      <th></th>\n",
       "      <th>NbBikes</th>\n",
       "    </tr>\n",
       "  </thead>\n",
       "  <tbody>\n",
       "    <tr>\n",
       "      <th>count</th>\n",
       "      <td>43396.000000</td>\n",
       "    </tr>\n",
       "    <tr>\n",
       "      <th>mean</th>\n",
       "      <td>8.938888</td>\n",
       "    </tr>\n",
       "    <tr>\n",
       "      <th>std</th>\n",
       "      <td>5.170141</td>\n",
       "    </tr>\n",
       "    <tr>\n",
       "      <th>min</th>\n",
       "      <td>0.000000</td>\n",
       "    </tr>\n",
       "    <tr>\n",
       "      <th>25%</th>\n",
       "      <td>6.000000</td>\n",
       "    </tr>\n",
       "    <tr>\n",
       "      <th>50%</th>\n",
       "      <td>8.000000</td>\n",
       "    </tr>\n",
       "    <tr>\n",
       "      <th>75%</th>\n",
       "      <td>12.000000</td>\n",
       "    </tr>\n",
       "    <tr>\n",
       "      <th>max</th>\n",
       "      <td>36.000000</td>\n",
       "    </tr>\n",
       "  </tbody>\n",
       "</table>\n",
       "</div>"
      ],
      "text/plain": [
       "            NbBikes\n",
       "count  43396.000000\n",
       "mean       8.938888\n",
       "std        5.170141\n",
       "min        0.000000\n",
       "25%        6.000000\n",
       "50%        8.000000\n",
       "75%       12.000000\n",
       "max       36.000000"
      ]
     },
     "execution_count": 205,
     "metadata": {},
     "output_type": "execute_result"
    }
   ],
   "source": [
    "collected.describe()"
   ]
  },
  {
   "cell_type": "code",
   "execution_count": 206,
   "metadata": {
    "collapsed": false
   },
   "outputs": [
    {
     "name": "stdout",
     "output_type": "stream",
     "text": [
      "<class 'pandas.core.frame.DataFrame'>\n",
      "MultiIndex: 43396 entries, (BikePoints_1, 2016-01-18 17:12:00+00:00) to (BikePoints_99, 2016-06-30 08:55:00+00:00)\n",
      "Data columns (total 2 columns):\n",
      "NbBikes    43396 non-null uint16\n",
      "Name       43396 non-null object\n",
      "dtypes: object(1), uint16(1)\n",
      "memory usage: 8.9 MB\n"
     ]
    }
   ],
   "source": [
    "collected.info(memory_usage='deep')"
   ]
  },
  {
   "cell_type": "code",
   "execution_count": 207,
   "metadata": {
    "collapsed": false
   },
   "outputs": [],
   "source": [
    "pickle.dump(collected, open(\"data/parsed/collected_dataset_final.p\", \"wb\"))"
   ]
  }
 ],
 "metadata": {
  "kernelspec": {
   "display_name": "Python 2",
   "language": "python",
   "name": "python2"
  },
  "language_info": {
   "codemirror_mode": {
    "name": "ipython",
    "version": 2
   },
   "file_extension": ".py",
   "mimetype": "text/x-python",
   "name": "python",
   "nbconvert_exporter": "python",
   "pygments_lexer": "ipython2",
   "version": "2.7.11"
  }
 },
 "nbformat": 4,
 "nbformat_minor": 0
}
