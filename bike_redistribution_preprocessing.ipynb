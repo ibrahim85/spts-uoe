{
 "cells": [
  {
   "cell_type": "markdown",
   "metadata": {},
   "source": [
    "# Bike Redistribution Preprocessing\n",
    "\n",
    "## Set Up"
   ]
  },
  {
   "cell_type": "code",
   "execution_count": 57,
   "metadata": {
    "collapsed": true
   },
   "outputs": [],
   "source": [
    "%matplotlib inline\n",
    "\n",
    "import logging\n",
    "import itertools\n",
    "import json\n",
    "import os\n",
    "import re\n",
    "import pickle\n",
    "import folium\n",
    "import random\n",
    "import pandas as pd\n",
    "import numpy as np\n",
    "import seaborn as sns\n",
    "import matplotlib.pyplot as plt\n",
    "\n",
    "from mpl_toolkits.basemap import Basemap\n",
    "from datetime import datetime\n",
    "from os import listdir\n",
    "from os.path import isfile, join\n",
    "from IPython.display import Image\n",
    "from datetime import date\n",
    "\n",
    "from src.data.parse_dataset import parse_dir, parse_json_files, get_file_list\n",
    "from src.data.string_format import format_name, to_short_name\n",
    "from src.data.visualization import lon_min_longitude, lon_min_latitude, lon_max_longitude, lon_max_latitude, lon_center_latitude, lon_center_longitude, create_london_map\n",
    "\n",
    "logger = logging.getLogger()\n",
    "logger.setLevel(logging.INFO)"
   ]
  },
  {
   "cell_type": "code",
   "execution_count": 58,
   "metadata": {
    "collapsed": false
   },
   "outputs": [],
   "source": [
    "collected = pd.read_csv('data/raw/redistribution/collected.csv', encoding='latin-1')\n",
    "distributed = pd.read_csv('data/raw/redistribution/distributed.csv', encoding='latin-1')\n",
    "stations = pickle.load(open('data/parsed/stations_dataset_final.p', 'rb'))"
   ]
  },
  {
   "cell_type": "markdown",
   "metadata": {},
   "source": [
    "## Technically Correct Data"
   ]
  },
  {
   "cell_type": "code",
   "execution_count": 59,
   "metadata": {
    "collapsed": false
   },
   "outputs": [],
   "source": [
    "# remove null entries, the dataset has very few features to support nulls\n",
    "collected.dropna(inplace=True)\n",
    "distributed.dropna(inplace=True)\n",
    "\n",
    "# convert columns to their appropriate datatypes\n",
    "collected['NbBikes'] = collected['NbBikes'].astype('uint16')\n",
    "distributed['NbBikes'] = distributed['NbBikes'].astype('uint16')\n",
    "\n",
    "# format station name\n",
    "distributed['Name'] = distributed['Name'].apply(format_name)\n",
    "collected['Name'] = collected['Name'].apply(format_name)\n",
    "\n",
    "distributed['Timestamp'] =  pd.to_datetime(distributed['Timestamp'], format='%d/%m/%Y %H:%M', errors='raise').dt.tz_localize('UTC')\n",
    "collected['Timestamp'] =  pd.to_datetime(collected['Timestamp'], format='%d/%m/%Y %H:%M', errors='raise').dt.tz_localize('UTC')"
   ]
  },
  {
   "cell_type": "markdown",
   "metadata": {},
   "source": [
    "### Distributed Cycles"
   ]
  },
  {
   "cell_type": "code",
   "execution_count": 60,
   "metadata": {
    "collapsed": false
   },
   "outputs": [
    {
     "name": "stdout",
     "output_type": "stream",
     "text": [
      "<class 'pandas.core.frame.DataFrame'>\n",
      "Int64Index: 39692 entries, 0 to 39691\n",
      "Data columns (total 3 columns):\n",
      "Timestamp    39692 non-null datetime64[ns, UTC]\n",
      "Name         39692 non-null object\n",
      "NbBikes      39692 non-null uint16\n",
      "dtypes: datetime64[ns, UTC](1), object(1), uint16(1)\n",
      "memory usage: 1007.8+ KB\n"
     ]
    }
   ],
   "source": [
    "distributed.info()"
   ]
  },
  {
   "cell_type": "markdown",
   "metadata": {},
   "source": [
    "### Collected Cycles"
   ]
  },
  {
   "cell_type": "code",
   "execution_count": 61,
   "metadata": {
    "collapsed": false
   },
   "outputs": [
    {
     "name": "stdout",
     "output_type": "stream",
     "text": [
      "<class 'pandas.core.frame.DataFrame'>\n",
      "Int64Index: 43488 entries, 0 to 43487\n",
      "Data columns (total 3 columns):\n",
      "Timestamp    43488 non-null datetime64[ns, UTC]\n",
      "Name         43488 non-null object\n",
      "NbBikes      43488 non-null uint16\n",
      "dtypes: datetime64[ns, UTC](1), object(1), uint16(1)\n",
      "memory usage: 1.1+ MB\n"
     ]
    }
   ],
   "source": [
    "collected.info()"
   ]
  },
  {
   "cell_type": "markdown",
   "metadata": {},
   "source": [
    "## Derive Data"
   ]
  },
  {
   "cell_type": "code",
   "execution_count": 62,
   "metadata": {
    "collapsed": false
   },
   "outputs": [],
   "source": [
    "distributed['ShortName'] = distributed['Name'].map(to_short_name)\n",
    "collected['ShortName'] = collected['Name'].map(to_short_name)"
   ]
  },
  {
   "cell_type": "markdown",
   "metadata": {
    "collapsed": true
   },
   "source": [
    "## Consistent Data"
   ]
  },
  {
   "cell_type": "markdown",
   "metadata": {},
   "source": [
    "### Distributed Cycles"
   ]
  },
  {
   "cell_type": "code",
   "execution_count": 63,
   "metadata": {
    "collapsed": false
   },
   "outputs": [
    {
     "data": {
      "text/html": [
       "<div>\n",
       "<table border=\"1\" class=\"dataframe\">\n",
       "  <thead>\n",
       "    <tr style=\"text-align: right;\">\n",
       "      <th></th>\n",
       "      <th>NbBikes</th>\n",
       "    </tr>\n",
       "  </thead>\n",
       "  <tbody>\n",
       "    <tr>\n",
       "      <th>count</th>\n",
       "      <td>39692.000000</td>\n",
       "    </tr>\n",
       "    <tr>\n",
       "      <th>mean</th>\n",
       "      <td>9.956717</td>\n",
       "    </tr>\n",
       "    <tr>\n",
       "      <th>std</th>\n",
       "      <td>5.458785</td>\n",
       "    </tr>\n",
       "    <tr>\n",
       "      <th>min</th>\n",
       "      <td>0.000000</td>\n",
       "    </tr>\n",
       "    <tr>\n",
       "      <th>25%</th>\n",
       "      <td>6.000000</td>\n",
       "    </tr>\n",
       "    <tr>\n",
       "      <th>50%</th>\n",
       "      <td>9.000000</td>\n",
       "    </tr>\n",
       "    <tr>\n",
       "      <th>75%</th>\n",
       "      <td>15.000000</td>\n",
       "    </tr>\n",
       "    <tr>\n",
       "      <th>max</th>\n",
       "      <td>36.000000</td>\n",
       "    </tr>\n",
       "  </tbody>\n",
       "</table>\n",
       "</div>"
      ],
      "text/plain": [
       "            NbBikes\n",
       "count  39692.000000\n",
       "mean       9.956717\n",
       "std        5.458785\n",
       "min        0.000000\n",
       "25%        6.000000\n",
       "50%        9.000000\n",
       "75%       15.000000\n",
       "max       36.000000"
      ]
     },
     "execution_count": 63,
     "metadata": {},
     "output_type": "execute_result"
    }
   ],
   "source": [
    "distributed.describe()"
   ]
  },
  {
   "cell_type": "markdown",
   "metadata": {},
   "source": [
    "#### Assign Station Id"
   ]
  },
  {
   "cell_type": "code",
   "execution_count": 64,
   "metadata": {
    "collapsed": false
   },
   "outputs": [],
   "source": [
    "def drop_multinomial(idxs, merged_incorrectly, merged_correctly):\n",
    "    # get the df of the given indexes\n",
    "    df = merged_incorrectly.loc[idxs]\n",
    "    \n",
    "    # get the counts of the station ids in the dataset\n",
    "    selector = merged_correctly['Id'].isin(df['Id'])\n",
    "    counts = merged_correctly[selector]['Id'].value_counts()\n",
    "    \n",
    "    # choose one station with the multinomial distribution\n",
    "    probs = counts / counts.sum()\n",
    "    multinomial_dist = np.random.multinomial(1, probs)\n",
    "    station_id = counts.index[np.argmax(multinomial_dist)]\n",
    "    \n",
    "    # drop the other ones\n",
    "    to_drop_selector = df['Id'] != station_id\n",
    "    to_drop = df[to_drop_selector].index.values\n",
    "    return to_drop    \n",
    "\n",
    "def drop_randomly(idxs, merged_incorrectly=None, merged_correctly=None):\n",
    "    idxs.remove(random.sample(idxs, 1)[0])\n",
    "    return idxs"
   ]
  },
  {
   "cell_type": "code",
   "execution_count": 65,
   "metadata": {
    "collapsed": false
   },
   "outputs": [],
   "source": [
    "def split_null(df):\n",
    "    return df[~df['Id'].isnull()].copy(), df[df['Id'].isnull()][['Timestamp', 'Name', 'NbBikes', 'ShortName']].copy()\n",
    "\n",
    "def assign_station_id(df, drop_using):\n",
    "    # merge using the full station name\n",
    "    merged = pd.merge(df, stations[['Id', 'Name']], how='left', left_on='Name', right_on='Name')\n",
    "    merged_on_name, remaining_null = split_null(merged)\n",
    "    print '%d readings could not be merged with the full station name' % len(remaining_null) \n",
    "    \n",
    "    if drop_using is None:\n",
    "        return merged_on_name\n",
    "    \n",
    "    # merge using the short name\n",
    "    merged = pd.merge(remaining_null, stations[['Id', 'ShortName']], how='left', left_on='ShortName', right_on='ShortName')\n",
    "    merged_on_shortname, remaining_null = split_null(merged)\n",
    "    print '%d readings could not be merged with the short station name' % len(remaining_null) \n",
    "    \n",
    "    # drop duplicate entries from merging by short name\n",
    "    # select the duplicate entries only\n",
    "    selector = merged_on_shortname.duplicated(subset=['Name', 'Timestamp', 'NbBikes'], keep=False)\n",
    "    duplicates = pd.DataFrame(merged_on_shortname[selector])\n",
    "    # add the index as a column for selection\n",
    "    duplicates['Idx'] = duplicates.index\n",
    "    # group the duplicates\n",
    "    groups = duplicates.groupby(['Timestamp', 'ShortName'])['Idx'].aggregate(lambda x: set(x))\n",
    "    # select indexes to drop from each group\n",
    "    to_drop = []\n",
    "    for idxs in groups:\n",
    "        to_drop.extend(drop_using(idxs, merged_on_shortname, merged_on_name))\n",
    "    # drop selected indexes from dataframe\n",
    "    merged_on_shortname.drop(to_drop, inplace=True)\n",
    "        \n",
    "    return pd.concat([merged_on_name, merged_on_shortname, remaining_null]).sort_values(by=['Timestamp']).reset_index(drop=True)"
   ]
  },
  {
   "cell_type": "code",
   "execution_count": 66,
   "metadata": {
    "collapsed": false,
    "scrolled": false
   },
   "outputs": [
    {
     "name": "stdout",
     "output_type": "stream",
     "text": [
      "1882 readings could not be merged with the full station name\n"
     ]
    }
   ],
   "source": [
    "#distributed = assign_station_id(distributed, drop_multinomial)\n",
    "distributed = assign_station_id(distributed, None)"
   ]
  },
  {
   "cell_type": "code",
   "execution_count": 67,
   "metadata": {
    "collapsed": false
   },
   "outputs": [
    {
     "data": {
      "text/plain": [
       "array([], dtype=object)"
      ]
     },
     "execution_count": 67,
     "metadata": {},
     "output_type": "execute_result"
    }
   ],
   "source": [
    "distributed[distributed['Id'].isnull()]['Name'].unique()"
   ]
  },
  {
   "cell_type": "markdown",
   "metadata": {},
   "source": [
    "**These stations do not exist in our stations dataset so they will be removed.**"
   ]
  },
  {
   "cell_type": "code",
   "execution_count": 68,
   "metadata": {
    "collapsed": true
   },
   "outputs": [],
   "source": [
    "distributed.dropna(inplace=True)"
   ]
  },
  {
   "cell_type": "code",
   "execution_count": 69,
   "metadata": {
    "collapsed": false
   },
   "outputs": [
    {
     "data": {
      "text/plain": [
       "Timestamp    0\n",
       "Name         0\n",
       "NbBikes      0\n",
       "ShortName    0\n",
       "Id           0\n",
       "dtype: int64"
      ]
     },
     "execution_count": 69,
     "metadata": {},
     "output_type": "execute_result"
    }
   ],
   "source": [
    "distributed.isnull().sum()"
   ]
  },
  {
   "cell_type": "code",
   "execution_count": 70,
   "metadata": {
    "collapsed": false
   },
   "outputs": [
    {
     "data": {
      "text/plain": [
       "Timestamp    34226\n",
       "Name           716\n",
       "NbBikes         23\n",
       "ShortName      708\n",
       "Id             716\n",
       "dtype: int64"
      ]
     },
     "execution_count": 70,
     "metadata": {},
     "output_type": "execute_result"
    }
   ],
   "source": [
    "distributed.apply(lambda x:x.nunique())"
   ]
  },
  {
   "cell_type": "markdown",
   "metadata": {},
   "source": [
    "### Collected Cycles"
   ]
  },
  {
   "cell_type": "code",
   "execution_count": 71,
   "metadata": {
    "collapsed": false
   },
   "outputs": [
    {
     "data": {
      "text/html": [
       "<div>\n",
       "<table border=\"1\" class=\"dataframe\">\n",
       "  <thead>\n",
       "    <tr style=\"text-align: right;\">\n",
       "      <th></th>\n",
       "      <th>NbBikes</th>\n",
       "    </tr>\n",
       "  </thead>\n",
       "  <tbody>\n",
       "    <tr>\n",
       "      <th>count</th>\n",
       "      <td>43488.000000</td>\n",
       "    </tr>\n",
       "    <tr>\n",
       "      <th>mean</th>\n",
       "      <td>8.946215</td>\n",
       "    </tr>\n",
       "    <tr>\n",
       "      <th>std</th>\n",
       "      <td>5.180654</td>\n",
       "    </tr>\n",
       "    <tr>\n",
       "      <th>min</th>\n",
       "      <td>0.000000</td>\n",
       "    </tr>\n",
       "    <tr>\n",
       "      <th>25%</th>\n",
       "      <td>6.000000</td>\n",
       "    </tr>\n",
       "    <tr>\n",
       "      <th>50%</th>\n",
       "      <td>8.000000</td>\n",
       "    </tr>\n",
       "    <tr>\n",
       "      <th>75%</th>\n",
       "      <td>12.000000</td>\n",
       "    </tr>\n",
       "    <tr>\n",
       "      <th>max</th>\n",
       "      <td>36.000000</td>\n",
       "    </tr>\n",
       "  </tbody>\n",
       "</table>\n",
       "</div>"
      ],
      "text/plain": [
       "            NbBikes\n",
       "count  43488.000000\n",
       "mean       8.946215\n",
       "std        5.180654\n",
       "min        0.000000\n",
       "25%        6.000000\n",
       "50%        8.000000\n",
       "75%       12.000000\n",
       "max       36.000000"
      ]
     },
     "execution_count": 71,
     "metadata": {},
     "output_type": "execute_result"
    }
   ],
   "source": [
    "collected.describe()"
   ]
  },
  {
   "cell_type": "markdown",
   "metadata": {},
   "source": [
    "#### Assign Station Id"
   ]
  },
  {
   "cell_type": "code",
   "execution_count": 72,
   "metadata": {
    "collapsed": false,
    "scrolled": true
   },
   "outputs": [
    {
     "name": "stdout",
     "output_type": "stream",
     "text": [
      "1740 readings could not be merged with the full station name\n"
     ]
    }
   ],
   "source": [
    "#collected = assign_station_id(collected, drop_multinomial)\n",
    "collected = assign_station_id(collected, None)"
   ]
  },
  {
   "cell_type": "code",
   "execution_count": 73,
   "metadata": {
    "collapsed": false
   },
   "outputs": [
    {
     "data": {
      "text/plain": [
       "array([], dtype=object)"
      ]
     },
     "execution_count": 73,
     "metadata": {},
     "output_type": "execute_result"
    }
   ],
   "source": [
    "collected[collected['Id'].isnull()]['Name'].unique()"
   ]
  },
  {
   "cell_type": "markdown",
   "metadata": {},
   "source": [
    "**These stations do not exist in our stations dataset so they will be removed.**"
   ]
  },
  {
   "cell_type": "code",
   "execution_count": 74,
   "metadata": {
    "collapsed": true
   },
   "outputs": [],
   "source": [
    "collected.dropna(inplace=True)"
   ]
  },
  {
   "cell_type": "code",
   "execution_count": 75,
   "metadata": {
    "collapsed": false
   },
   "outputs": [
    {
     "data": {
      "text/plain": [
       "Timestamp    0\n",
       "Name         0\n",
       "NbBikes      0\n",
       "ShortName    0\n",
       "Id           0\n",
       "dtype: int64"
      ]
     },
     "execution_count": 75,
     "metadata": {},
     "output_type": "execute_result"
    }
   ],
   "source": [
    "collected.isnull().sum()"
   ]
  },
  {
   "cell_type": "code",
   "execution_count": 76,
   "metadata": {
    "collapsed": false
   },
   "outputs": [
    {
     "data": {
      "text/plain": [
       "Timestamp    37199\n",
       "Name           707\n",
       "NbBikes         26\n",
       "ShortName      699\n",
       "Id             707\n",
       "dtype: int64"
      ]
     },
     "execution_count": 76,
     "metadata": {},
     "output_type": "execute_result"
    }
   ],
   "source": [
    "collected.apply(lambda x:x.nunique())"
   ]
  },
  {
   "cell_type": "markdown",
   "metadata": {},
   "source": [
    "## Build Datasets\n"
   ]
  },
  {
   "cell_type": "markdown",
   "metadata": {},
   "source": [
    "### Distributed"
   ]
  },
  {
   "cell_type": "code",
   "execution_count": 77,
   "metadata": {
    "collapsed": false
   },
   "outputs": [
    {
     "data": {
      "text/html": [
       "<div>\n",
       "<table border=\"1\" class=\"dataframe\">\n",
       "  <thead>\n",
       "    <tr style=\"text-align: right;\">\n",
       "      <th></th>\n",
       "      <th>Timestamp</th>\n",
       "      <th>Name</th>\n",
       "      <th>NbBikes</th>\n",
       "      <th>ShortName</th>\n",
       "      <th>Id</th>\n",
       "    </tr>\n",
       "  </thead>\n",
       "  <tbody>\n",
       "    <tr>\n",
       "      <th>0</th>\n",
       "      <td>2016-01-01 01:49:00+00:00</td>\n",
       "      <td>St. Peters Terrace, Fulham</td>\n",
       "      <td>11</td>\n",
       "      <td>St. Peters Terrace</td>\n",
       "      <td>BikePoints_729</td>\n",
       "    </tr>\n",
       "    <tr>\n",
       "      <th>1</th>\n",
       "      <td>2016-01-01 01:58:00+00:00</td>\n",
       "      <td>Aintree Street, Fulham</td>\n",
       "      <td>7</td>\n",
       "      <td>Aintree Street</td>\n",
       "      <td>BikePoints_616</td>\n",
       "    </tr>\n",
       "    <tr>\n",
       "      <th>2</th>\n",
       "      <td>2016-01-01 02:26:00+00:00</td>\n",
       "      <td>Shoreditch Park, Hoxton</td>\n",
       "      <td>14</td>\n",
       "      <td>Shoreditch Park</td>\n",
       "      <td>BikePoints_253</td>\n",
       "    </tr>\n",
       "    <tr>\n",
       "      <th>3</th>\n",
       "      <td>2016-01-01 02:39:00+00:00</td>\n",
       "      <td>Kingsway Southbound, Strand</td>\n",
       "      <td>10</td>\n",
       "      <td>Kingsway Southbound</td>\n",
       "      <td>BikePoints_594</td>\n",
       "    </tr>\n",
       "    <tr>\n",
       "      <th>4</th>\n",
       "      <td>2016-01-01 03:06:00+00:00</td>\n",
       "      <td>Fore Street, Guildhall</td>\n",
       "      <td>6</td>\n",
       "      <td>Fore Street</td>\n",
       "      <td>BikePoints_509</td>\n",
       "    </tr>\n",
       "  </tbody>\n",
       "</table>\n",
       "</div>"
      ],
      "text/plain": [
       "                  Timestamp                         Name  NbBikes  \\\n",
       "0 2016-01-01 01:49:00+00:00   St. Peters Terrace, Fulham       11   \n",
       "1 2016-01-01 01:58:00+00:00       Aintree Street, Fulham        7   \n",
       "2 2016-01-01 02:26:00+00:00      Shoreditch Park, Hoxton       14   \n",
       "3 2016-01-01 02:39:00+00:00  Kingsway Southbound, Strand       10   \n",
       "4 2016-01-01 03:06:00+00:00       Fore Street, Guildhall        6   \n",
       "\n",
       "             ShortName              Id  \n",
       "0   St. Peters Terrace  BikePoints_729  \n",
       "1       Aintree Street  BikePoints_616  \n",
       "2      Shoreditch Park  BikePoints_253  \n",
       "3  Kingsway Southbound  BikePoints_594  \n",
       "4          Fore Street  BikePoints_509  "
      ]
     },
     "execution_count": 77,
     "metadata": {},
     "output_type": "execute_result"
    }
   ],
   "source": [
    "distributed.head()"
   ]
  },
  {
   "cell_type": "code",
   "execution_count": 78,
   "metadata": {
    "collapsed": false
   },
   "outputs": [
    {
     "data": {
      "text/html": [
       "<div>\n",
       "<table border=\"1\" class=\"dataframe\">\n",
       "  <thead>\n",
       "    <tr style=\"text-align: right;\">\n",
       "      <th></th>\n",
       "      <th>NbBikes</th>\n",
       "    </tr>\n",
       "  </thead>\n",
       "  <tbody>\n",
       "    <tr>\n",
       "      <th>count</th>\n",
       "      <td>37810.000000</td>\n",
       "    </tr>\n",
       "    <tr>\n",
       "      <th>mean</th>\n",
       "      <td>9.953161</td>\n",
       "    </tr>\n",
       "    <tr>\n",
       "      <th>std</th>\n",
       "      <td>5.458986</td>\n",
       "    </tr>\n",
       "    <tr>\n",
       "      <th>min</th>\n",
       "      <td>0.000000</td>\n",
       "    </tr>\n",
       "    <tr>\n",
       "      <th>25%</th>\n",
       "      <td>6.000000</td>\n",
       "    </tr>\n",
       "    <tr>\n",
       "      <th>50%</th>\n",
       "      <td>9.000000</td>\n",
       "    </tr>\n",
       "    <tr>\n",
       "      <th>75%</th>\n",
       "      <td>15.000000</td>\n",
       "    </tr>\n",
       "    <tr>\n",
       "      <th>max</th>\n",
       "      <td>36.000000</td>\n",
       "    </tr>\n",
       "  </tbody>\n",
       "</table>\n",
       "</div>"
      ],
      "text/plain": [
       "            NbBikes\n",
       "count  37810.000000\n",
       "mean       9.953161\n",
       "std        5.458986\n",
       "min        0.000000\n",
       "25%        6.000000\n",
       "50%        9.000000\n",
       "75%       15.000000\n",
       "max       36.000000"
      ]
     },
     "execution_count": 78,
     "metadata": {},
     "output_type": "execute_result"
    }
   ],
   "source": [
    "distributed.describe()"
   ]
  },
  {
   "cell_type": "code",
   "execution_count": 79,
   "metadata": {
    "collapsed": false,
    "scrolled": true
   },
   "outputs": [
    {
     "name": "stdout",
     "output_type": "stream",
     "text": [
      "<class 'pandas.core.frame.DataFrame'>\n",
      "Int64Index: 37810 entries, 0 to 39691\n",
      "Data columns (total 5 columns):\n",
      "Timestamp    37810 non-null datetime64[ns, UTC]\n",
      "Name         37810 non-null object\n",
      "NbBikes      37810 non-null uint16\n",
      "ShortName    37810 non-null object\n",
      "Id           37810 non-null object\n",
      "dtypes: datetime64[ns, UTC](1), object(3), uint16(1)\n",
      "memory usage: 15.1 MB\n"
     ]
    }
   ],
   "source": [
    "distributed.info(memory_usage='deep')"
   ]
  },
  {
   "cell_type": "code",
   "execution_count": 80,
   "metadata": {
    "collapsed": true
   },
   "outputs": [],
   "source": [
    "pickle.dump(distributed, open(\"data/parsed/distributed_dataset_final.p\", \"wb\"))"
   ]
  },
  {
   "cell_type": "markdown",
   "metadata": {},
   "source": [
    "### Collected"
   ]
  },
  {
   "cell_type": "code",
   "execution_count": 81,
   "metadata": {
    "collapsed": false
   },
   "outputs": [
    {
     "data": {
      "text/html": [
       "<div>\n",
       "<table border=\"1\" class=\"dataframe\">\n",
       "  <thead>\n",
       "    <tr style=\"text-align: right;\">\n",
       "      <th></th>\n",
       "      <th>Timestamp</th>\n",
       "      <th>Name</th>\n",
       "      <th>NbBikes</th>\n",
       "      <th>ShortName</th>\n",
       "      <th>Id</th>\n",
       "    </tr>\n",
       "  </thead>\n",
       "  <tbody>\n",
       "    <tr>\n",
       "      <th>0</th>\n",
       "      <td>2016-01-01 01:35:00+00:00</td>\n",
       "      <td>Putney Pier, Wandsworth</td>\n",
       "      <td>18</td>\n",
       "      <td>Putney Pier</td>\n",
       "      <td>BikePoints_302</td>\n",
       "    </tr>\n",
       "    <tr>\n",
       "      <th>1</th>\n",
       "      <td>2016-01-01 01:48:00+00:00</td>\n",
       "      <td>Broadwick Street, Soho</td>\n",
       "      <td>8</td>\n",
       "      <td>Broadwick Street</td>\n",
       "      <td>BikePoints_260</td>\n",
       "    </tr>\n",
       "    <tr>\n",
       "      <th>3</th>\n",
       "      <td>2016-01-01 02:43:00+00:00</td>\n",
       "      <td>Belgrave Road, Victoria</td>\n",
       "      <td>7</td>\n",
       "      <td>Belgrave Road</td>\n",
       "      <td>BikePoints_268</td>\n",
       "    </tr>\n",
       "    <tr>\n",
       "      <th>4</th>\n",
       "      <td>2016-01-01 02:45:00+00:00</td>\n",
       "      <td>British Museum, Bloomsbury</td>\n",
       "      <td>0</td>\n",
       "      <td>British Museum</td>\n",
       "      <td>BikePoints_24</td>\n",
       "    </tr>\n",
       "    <tr>\n",
       "      <th>5</th>\n",
       "      <td>2016-01-01 02:48:00+00:00</td>\n",
       "      <td>West Smithfield Rotunda, Farringdon</td>\n",
       "      <td>8</td>\n",
       "      <td>West Smithfield Rotunda</td>\n",
       "      <td>BikePoints_203</td>\n",
       "    </tr>\n",
       "  </tbody>\n",
       "</table>\n",
       "</div>"
      ],
      "text/plain": [
       "                  Timestamp                                 Name  NbBikes  \\\n",
       "0 2016-01-01 01:35:00+00:00              Putney Pier, Wandsworth       18   \n",
       "1 2016-01-01 01:48:00+00:00               Broadwick Street, Soho        8   \n",
       "3 2016-01-01 02:43:00+00:00              Belgrave Road, Victoria        7   \n",
       "4 2016-01-01 02:45:00+00:00           British Museum, Bloomsbury        0   \n",
       "5 2016-01-01 02:48:00+00:00  West Smithfield Rotunda, Farringdon        8   \n",
       "\n",
       "                 ShortName              Id  \n",
       "0              Putney Pier  BikePoints_302  \n",
       "1         Broadwick Street  BikePoints_260  \n",
       "3            Belgrave Road  BikePoints_268  \n",
       "4           British Museum   BikePoints_24  \n",
       "5  West Smithfield Rotunda  BikePoints_203  "
      ]
     },
     "execution_count": 81,
     "metadata": {},
     "output_type": "execute_result"
    }
   ],
   "source": [
    "collected.head()"
   ]
  },
  {
   "cell_type": "code",
   "execution_count": 82,
   "metadata": {
    "collapsed": false
   },
   "outputs": [
    {
     "data": {
      "text/html": [
       "<div>\n",
       "<table border=\"1\" class=\"dataframe\">\n",
       "  <thead>\n",
       "    <tr style=\"text-align: right;\">\n",
       "      <th></th>\n",
       "      <th>NbBikes</th>\n",
       "    </tr>\n",
       "  </thead>\n",
       "  <tbody>\n",
       "    <tr>\n",
       "      <th>count</th>\n",
       "      <td>41748.000000</td>\n",
       "    </tr>\n",
       "    <tr>\n",
       "      <th>mean</th>\n",
       "      <td>8.978011</td>\n",
       "    </tr>\n",
       "    <tr>\n",
       "      <th>std</th>\n",
       "      <td>5.194398</td>\n",
       "    </tr>\n",
       "    <tr>\n",
       "      <th>min</th>\n",
       "      <td>0.000000</td>\n",
       "    </tr>\n",
       "    <tr>\n",
       "      <th>25%</th>\n",
       "      <td>6.000000</td>\n",
       "    </tr>\n",
       "    <tr>\n",
       "      <th>50%</th>\n",
       "      <td>8.000000</td>\n",
       "    </tr>\n",
       "    <tr>\n",
       "      <th>75%</th>\n",
       "      <td>12.000000</td>\n",
       "    </tr>\n",
       "    <tr>\n",
       "      <th>max</th>\n",
       "      <td>36.000000</td>\n",
       "    </tr>\n",
       "  </tbody>\n",
       "</table>\n",
       "</div>"
      ],
      "text/plain": [
       "            NbBikes\n",
       "count  41748.000000\n",
       "mean       8.978011\n",
       "std        5.194398\n",
       "min        0.000000\n",
       "25%        6.000000\n",
       "50%        8.000000\n",
       "75%       12.000000\n",
       "max       36.000000"
      ]
     },
     "execution_count": 82,
     "metadata": {},
     "output_type": "execute_result"
    }
   ],
   "source": [
    "collected.describe()"
   ]
  },
  {
   "cell_type": "code",
   "execution_count": 83,
   "metadata": {
    "collapsed": false
   },
   "outputs": [
    {
     "name": "stdout",
     "output_type": "stream",
     "text": [
      "<class 'pandas.core.frame.DataFrame'>\n",
      "Int64Index: 41748 entries, 0 to 43487\n",
      "Data columns (total 5 columns):\n",
      "Timestamp    41748 non-null datetime64[ns, UTC]\n",
      "Name         41748 non-null object\n",
      "NbBikes      41748 non-null uint16\n",
      "ShortName    41748 non-null object\n",
      "Id           41748 non-null object\n",
      "dtypes: datetime64[ns, UTC](1), object(3), uint16(1)\n",
      "memory usage: 16.7 MB\n"
     ]
    }
   ],
   "source": [
    "collected.info(memory_usage='deep')"
   ]
  },
  {
   "cell_type": "code",
   "execution_count": 84,
   "metadata": {
    "collapsed": false
   },
   "outputs": [],
   "source": [
    "pickle.dump(collected, open(\"data/parsed/collected_dataset_final.p\", \"wb\"))"
   ]
  }
 ],
 "metadata": {
  "kernelspec": {
   "display_name": "Python 2",
   "language": "python",
   "name": "python2"
  },
  "language_info": {
   "codemirror_mode": {
    "name": "ipython",
    "version": 2
   },
   "file_extension": ".py",
   "mimetype": "text/x-python",
   "name": "python",
   "nbconvert_exporter": "python",
   "pygments_lexer": "ipython2",
   "version": "2.7.11"
  }
 },
 "nbformat": 4,
 "nbformat_minor": 0
}
