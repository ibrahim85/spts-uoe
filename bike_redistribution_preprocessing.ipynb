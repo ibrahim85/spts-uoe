{
 "cells": [
  {
   "cell_type": "markdown",
   "metadata": {},
   "source": [
    "# Bike Redistribution Preprocessing\n",
    "\n",
    "## Set Up"
   ]
  },
  {
   "cell_type": "code",
   "execution_count": 1166,
   "metadata": {
    "collapsed": true
   },
   "outputs": [],
   "source": [
    "%matplotlib inline\n",
    "\n",
    "import logging\n",
    "import itertools\n",
    "import json\n",
    "import os\n",
    "import re\n",
    "import pickle\n",
    "import folium\n",
    "import random\n",
    "import pandas as pd\n",
    "import numpy as np\n",
    "import seaborn as sns\n",
    "import matplotlib.pyplot as plt\n",
    "\n",
    "from mpl_toolkits.basemap import Basemap\n",
    "from datetime import datetime\n",
    "from os import listdir\n",
    "from os.path import isfile, join\n",
    "from IPython.display import Image\n",
    "from datetime import date\n",
    "\n",
    "from src.data.parse_dataset import parse_dir, parse_json_files, get_file_list\n",
    "from src.data.string_format import format_name, to_short_name\n",
    "from src.data.visualization import lon_min_longitude, lon_min_latitude, lon_max_longitude, lon_max_latitude, lon_center_latitude, lon_center_longitude, create_london_map\n",
    "\n",
    "logger = logging.getLogger()\n",
    "logger.setLevel(logging.INFO)"
   ]
  },
  {
   "cell_type": "code",
   "execution_count": 1167,
   "metadata": {
    "collapsed": false
   },
   "outputs": [],
   "source": [
    "collected = pd.read_csv('data/raw/redistribution/collected.csv', encoding='latin-1')\n",
    "distributed = pd.read_csv('data/raw/redistribution/distributed.csv', encoding='latin-1')\n",
    "stations = pickle.load(open('data/parsed/stations_dataset_final.p', 'rb'))"
   ]
  },
  {
   "cell_type": "markdown",
   "metadata": {},
   "source": [
    "## Technically Correct Data"
   ]
  },
  {
   "cell_type": "code",
   "execution_count": 1168,
   "metadata": {
    "collapsed": false
   },
   "outputs": [],
   "source": [
    "# remove null entries, the dataset has very few features to support nulls\n",
    "collected.dropna(inplace=True)\n",
    "distributed.dropna(inplace=True)\n",
    "\n",
    "# convert columns to their appropriate datatypes\n",
    "collected['NbBikes'] = collected['NbBikes'].astype('uint16')\n",
    "distributed['NbBikes'] = distributed['NbBikes'].astype('uint16')\n",
    "\n",
    "# format station name\n",
    "distributed['Name'] = distributed['Name'].apply(format_name)\n",
    "collected['Name'] = collected['Name'].apply(format_name)\n",
    "\n",
    "distributed['Timestamp'] =  pd.to_datetime(distributed['Timestamp'], format='%d/%m/%Y %H:%M:%S', errors='raise')\n",
    "collected['Timestamp'] =  pd.to_datetime(collected['Timestamp'], format='%d/%m/%Y %H:%M:%S', errors='raise')"
   ]
  },
  {
   "cell_type": "markdown",
   "metadata": {},
   "source": [
    "### Distributed Cycles"
   ]
  },
  {
   "cell_type": "code",
   "execution_count": 1169,
   "metadata": {
    "collapsed": false
   },
   "outputs": [
    {
     "name": "stdout",
     "output_type": "stream",
     "text": [
      "<class 'pandas.core.frame.DataFrame'>\n",
      "Int64Index: 31124 entries, 0 to 31123\n",
      "Data columns (total 3 columns):\n",
      "Timestamp    31124 non-null datetime64[ns]\n",
      "Name         31124 non-null object\n",
      "NbBikes      31124 non-null uint16\n",
      "dtypes: datetime64[ns](1), object(1), uint16(1)\n",
      "memory usage: 790.3+ KB\n"
     ]
    }
   ],
   "source": [
    "distributed.info()"
   ]
  },
  {
   "cell_type": "markdown",
   "metadata": {},
   "source": [
    "### Collected Cycles"
   ]
  },
  {
   "cell_type": "code",
   "execution_count": 1170,
   "metadata": {
    "collapsed": false
   },
   "outputs": [
    {
     "name": "stdout",
     "output_type": "stream",
     "text": [
      "<class 'pandas.core.frame.DataFrame'>\n",
      "Int64Index: 31124 entries, 0 to 31123\n",
      "Data columns (total 3 columns):\n",
      "Timestamp    31124 non-null datetime64[ns]\n",
      "Name         31124 non-null object\n",
      "NbBikes      31124 non-null uint16\n",
      "dtypes: datetime64[ns](1), object(1), uint16(1)\n",
      "memory usage: 790.3+ KB\n"
     ]
    }
   ],
   "source": [
    "collected.info()"
   ]
  },
  {
   "cell_type": "markdown",
   "metadata": {},
   "source": [
    "## Derive Data"
   ]
  },
  {
   "cell_type": "code",
   "execution_count": 1171,
   "metadata": {
    "collapsed": false
   },
   "outputs": [],
   "source": [
    "distributed['ShortName'] = distributed['Name'].map(to_short_name)\n",
    "collected['ShortName'] = collected['Name'].map(to_short_name)"
   ]
  },
  {
   "cell_type": "markdown",
   "metadata": {
    "collapsed": true
   },
   "source": [
    "## Consistent Data"
   ]
  },
  {
   "cell_type": "markdown",
   "metadata": {},
   "source": [
    "### Distributed Cycles"
   ]
  },
  {
   "cell_type": "code",
   "execution_count": 1172,
   "metadata": {
    "collapsed": false
   },
   "outputs": [
    {
     "data": {
      "text/html": [
       "<div>\n",
       "<table border=\"1\" class=\"dataframe\">\n",
       "  <thead>\n",
       "    <tr style=\"text-align: right;\">\n",
       "      <th></th>\n",
       "      <th>NbBikes</th>\n",
       "    </tr>\n",
       "  </thead>\n",
       "  <tbody>\n",
       "    <tr>\n",
       "      <th>count</th>\n",
       "      <td>31124.000000</td>\n",
       "    </tr>\n",
       "    <tr>\n",
       "      <th>mean</th>\n",
       "      <td>9.894487</td>\n",
       "    </tr>\n",
       "    <tr>\n",
       "      <th>std</th>\n",
       "      <td>5.502689</td>\n",
       "    </tr>\n",
       "    <tr>\n",
       "      <th>min</th>\n",
       "      <td>0.000000</td>\n",
       "    </tr>\n",
       "    <tr>\n",
       "      <th>25%</th>\n",
       "      <td>6.000000</td>\n",
       "    </tr>\n",
       "    <tr>\n",
       "      <th>50%</th>\n",
       "      <td>9.000000</td>\n",
       "    </tr>\n",
       "    <tr>\n",
       "      <th>75%</th>\n",
       "      <td>15.000000</td>\n",
       "    </tr>\n",
       "    <tr>\n",
       "      <th>max</th>\n",
       "      <td>36.000000</td>\n",
       "    </tr>\n",
       "  </tbody>\n",
       "</table>\n",
       "</div>"
      ],
      "text/plain": [
       "            NbBikes\n",
       "count  31124.000000\n",
       "mean       9.894487\n",
       "std        5.502689\n",
       "min        0.000000\n",
       "25%        6.000000\n",
       "50%        9.000000\n",
       "75%       15.000000\n",
       "max       36.000000"
      ]
     },
     "execution_count": 1172,
     "metadata": {},
     "output_type": "execute_result"
    }
   ],
   "source": [
    "distributed.describe()"
   ]
  },
  {
   "cell_type": "markdown",
   "metadata": {},
   "source": [
    "#### Assign Station Id"
   ]
  },
  {
   "cell_type": "code",
   "execution_count": 1173,
   "metadata": {
    "collapsed": false
   },
   "outputs": [],
   "source": [
    "def drop_multinomial(idxs, merged_incorrectly, merged_correctly):\n",
    "    # get the df of the given indexes\n",
    "    df = merged_incorrectly.loc[idxs]\n",
    "    \n",
    "    # get the counts of the station ids in the dataset\n",
    "    selector = merged_correctly['Id'].isin(df['Id'])\n",
    "    counts = merged_correctly[selector]['Id'].value_counts()\n",
    "    \n",
    "    # choose one station with the multinomial distribution\n",
    "    probs = counts / counts.sum()\n",
    "    multinomial_dist = np.random.multinomial(1, probs)\n",
    "    station_id = counts.index[np.argmax(multinomial_dist)]\n",
    "    \n",
    "    # drop the other ones\n",
    "    to_drop_selector = df['Id'] != station_id\n",
    "    to_drop = df[to_drop_selector].index.values\n",
    "    return to_drop    \n",
    "\n",
    "def drop_randomly(idxs, merged_incorrectly=None, merged_correctly=None):\n",
    "    idxs.remove(random.sample(idxs, 1)[0])\n",
    "    return idxs"
   ]
  },
  {
   "cell_type": "code",
   "execution_count": 1174,
   "metadata": {
    "collapsed": false
   },
   "outputs": [],
   "source": [
    "def split_null(df):\n",
    "    return df[~df['Id'].isnull()].copy(), df[df['Id'].isnull()][['Timestamp', 'Name', 'NbBikes', 'ShortName']].copy()\n",
    "\n",
    "def assign_station_id(df, drop_using):\n",
    "    # merge using the full station name\n",
    "    merged = pd.merge(df, stations[['Id', 'Name']], how='left', left_on='Name', right_on='Name')\n",
    "    merged_on_name, remaining_null = split_null(merged)\n",
    "    print '%d readings could not be merged with the full station name' % len(remaining_null) \n",
    "    \n",
    "    # merge using the short name\n",
    "    merged = pd.merge(remaining_null, stations[['Id', 'ShortName']], how='left', left_on='ShortName', right_on='ShortName')\n",
    "    merged_on_shortname, remaining_null = split_null(merged)\n",
    "    print '%d readings could not be merged with the short station name' % len(remaining_null) \n",
    "    \n",
    "    # drop duplicate entries from merging by short name\n",
    "    # select the duplicate entries only\n",
    "    selector = merged_on_shortname.duplicated(subset=['Name', 'Timestamp', 'NbBikes'], keep=False)\n",
    "    duplicates = pd.DataFrame(merged_on_shortname[selector])\n",
    "    # add the index as a column for selection\n",
    "    duplicates['Idx'] = duplicates.index\n",
    "    # group the duplicates\n",
    "    groups = duplicates.groupby(['Timestamp', 'ShortName'])['Idx'].aggregate(lambda x: set(x))\n",
    "    # select indexes to drop from each group\n",
    "    to_drop = []\n",
    "    for idxs in groups:\n",
    "        to_drop.extend(drop_using(idxs, merged_on_shortname, merged_on_name))\n",
    "    # drop selected indexes from dataframe\n",
    "    merged_on_shortname.drop(to_drop, inplace=True)\n",
    "        \n",
    "    return pd.concat([merged_on_name, merged_on_shortname, remaining_null]).sort_values(by=['Timestamp']).reset_index(drop=True)"
   ]
  },
  {
   "cell_type": "code",
   "execution_count": 1175,
   "metadata": {
    "collapsed": false,
    "scrolled": false
   },
   "outputs": [
    {
     "name": "stdout",
     "output_type": "stream",
     "text": [
      "1777 readings could not be merged with the full station name\n",
      "147 readings could not be merged with the short station name\n"
     ]
    }
   ],
   "source": [
    "distributed = assign_station_id(distributed, drop_multinomial)"
   ]
  },
  {
   "cell_type": "code",
   "execution_count": 1176,
   "metadata": {
    "collapsed": false
   },
   "outputs": [
    {
     "data": {
      "text/plain": [
       "array([u'Embankment (Horse Guards), Westminster',\n",
       "       u'High Holborn, Covent Garden', u'Altab Ali Park, Whitechapel',\n",
       "       u'Kingsway, Covent Garden', u'Vaughan Way, Wapping',\n",
       "       u'Sidney Street, Stepney', u'Killick Street, Kings Cross',\n",
       "       u'Coborn Street, Mile End', u'South Quay West, Canary Wharf',\n",
       "       u'Churchill Place, Canary Wharf', u'Penton Street Depot'], dtype=object)"
      ]
     },
     "execution_count": 1176,
     "metadata": {},
     "output_type": "execute_result"
    }
   ],
   "source": [
    "distributed[distributed['Id'].isnull()]['Name'].unique()"
   ]
  },
  {
   "cell_type": "markdown",
   "metadata": {},
   "source": [
    "**These stations do not exist in our stations dataset so they will be removed.**"
   ]
  },
  {
   "cell_type": "code",
   "execution_count": 1177,
   "metadata": {
    "collapsed": true
   },
   "outputs": [],
   "source": [
    "distributed.dropna(inplace=True)"
   ]
  },
  {
   "cell_type": "code",
   "execution_count": 1178,
   "metadata": {
    "collapsed": false
   },
   "outputs": [
    {
     "data": {
      "text/plain": [
       "Id           0\n",
       "Name         0\n",
       "NbBikes      0\n",
       "ShortName    0\n",
       "Timestamp    0\n",
       "dtype: int64"
      ]
     },
     "execution_count": 1178,
     "metadata": {},
     "output_type": "execute_result"
    }
   ],
   "source": [
    "distributed.isnull().sum()"
   ]
  },
  {
   "cell_type": "code",
   "execution_count": 1179,
   "metadata": {
    "collapsed": false
   },
   "outputs": [
    {
     "data": {
      "text/plain": [
       "Id             736\n",
       "Name           770\n",
       "NbBikes         26\n",
       "ShortName      727\n",
       "Timestamp    28276\n",
       "dtype: int64"
      ]
     },
     "execution_count": 1179,
     "metadata": {},
     "output_type": "execute_result"
    }
   ],
   "source": [
    "distributed.apply(lambda x:x.nunique())"
   ]
  },
  {
   "cell_type": "markdown",
   "metadata": {},
   "source": [
    "### Collected Cycles"
   ]
  },
  {
   "cell_type": "code",
   "execution_count": 1180,
   "metadata": {
    "collapsed": false
   },
   "outputs": [
    {
     "data": {
      "text/html": [
       "<div>\n",
       "<table border=\"1\" class=\"dataframe\">\n",
       "  <thead>\n",
       "    <tr style=\"text-align: right;\">\n",
       "      <th></th>\n",
       "      <th>NbBikes</th>\n",
       "    </tr>\n",
       "  </thead>\n",
       "  <tbody>\n",
       "    <tr>\n",
       "      <th>count</th>\n",
       "      <td>31124.000000</td>\n",
       "    </tr>\n",
       "    <tr>\n",
       "      <th>mean</th>\n",
       "      <td>8.528403</td>\n",
       "    </tr>\n",
       "    <tr>\n",
       "      <th>std</th>\n",
       "      <td>5.071224</td>\n",
       "    </tr>\n",
       "    <tr>\n",
       "      <th>min</th>\n",
       "      <td>0.000000</td>\n",
       "    </tr>\n",
       "    <tr>\n",
       "      <th>25%</th>\n",
       "      <td>5.000000</td>\n",
       "    </tr>\n",
       "    <tr>\n",
       "      <th>50%</th>\n",
       "      <td>8.000000</td>\n",
       "    </tr>\n",
       "    <tr>\n",
       "      <th>75%</th>\n",
       "      <td>11.000000</td>\n",
       "    </tr>\n",
       "    <tr>\n",
       "      <th>max</th>\n",
       "      <td>36.000000</td>\n",
       "    </tr>\n",
       "  </tbody>\n",
       "</table>\n",
       "</div>"
      ],
      "text/plain": [
       "            NbBikes\n",
       "count  31124.000000\n",
       "mean       8.528403\n",
       "std        5.071224\n",
       "min        0.000000\n",
       "25%        5.000000\n",
       "50%        8.000000\n",
       "75%       11.000000\n",
       "max       36.000000"
      ]
     },
     "execution_count": 1180,
     "metadata": {},
     "output_type": "execute_result"
    }
   ],
   "source": [
    "collected.describe()"
   ]
  },
  {
   "cell_type": "markdown",
   "metadata": {},
   "source": [
    "#### Assign Station Id"
   ]
  },
  {
   "cell_type": "code",
   "execution_count": 1181,
   "metadata": {
    "collapsed": false,
    "scrolled": true
   },
   "outputs": [
    {
     "name": "stdout",
     "output_type": "stream",
     "text": [
      "1721 readings could not be merged with the full station name\n",
      "374 readings could not be merged with the short station name\n"
     ]
    }
   ],
   "source": [
    "collected = assign_station_id(collected, drop_multinomial)"
   ]
  },
  {
   "cell_type": "code",
   "execution_count": 1182,
   "metadata": {
    "collapsed": false
   },
   "outputs": [
    {
     "data": {
      "text/plain": [
       "array([u'Altab Ali Park, Whitechapel',\n",
       "       u'Embankment (Horse Guards), Westminster',\n",
       "       u'High Holborn, Covent Garden', u'Killick Street, Kings Cross',\n",
       "       u'Sidney Street, Stepney', u'Penton Street Depot',\n",
       "       u'Churchill Place, Canary Wharf', u'South Quay West, Canary Wharf',\n",
       "       u'Kingsway, Covent Garden', u'Vaughan Way, Wapping',\n",
       "       u'Coborn Street, Mile End', u'Mechanical Workshop Clapham',\n",
       "       u'Vereker Road, West Kensington'], dtype=object)"
      ]
     },
     "execution_count": 1182,
     "metadata": {},
     "output_type": "execute_result"
    }
   ],
   "source": [
    "collected[collected['Id'].isnull()]['Name'].unique()"
   ]
  },
  {
   "cell_type": "markdown",
   "metadata": {},
   "source": [
    "**These stations do not exist in our stations dataset so they will be removed.**"
   ]
  },
  {
   "cell_type": "code",
   "execution_count": 1183,
   "metadata": {
    "collapsed": true
   },
   "outputs": [],
   "source": [
    "collected.dropna(inplace=True)"
   ]
  },
  {
   "cell_type": "code",
   "execution_count": 1184,
   "metadata": {
    "collapsed": false
   },
   "outputs": [
    {
     "data": {
      "text/plain": [
       "Id           0\n",
       "Name         0\n",
       "NbBikes      0\n",
       "ShortName    0\n",
       "Timestamp    0\n",
       "dtype: int64"
      ]
     },
     "execution_count": 1184,
     "metadata": {},
     "output_type": "execute_result"
    }
   ],
   "source": [
    "collected.isnull().sum()"
   ]
  },
  {
   "cell_type": "code",
   "execution_count": 1185,
   "metadata": {
    "collapsed": false
   },
   "outputs": [
    {
     "data": {
      "text/plain": [
       "Id             703\n",
       "Name           706\n",
       "NbBikes         23\n",
       "ShortName      695\n",
       "Timestamp    27259\n",
       "dtype: int64"
      ]
     },
     "execution_count": 1185,
     "metadata": {},
     "output_type": "execute_result"
    }
   ],
   "source": [
    "collected.apply(lambda x:x.nunique())"
   ]
  },
  {
   "cell_type": "markdown",
   "metadata": {},
   "source": [
    "## Build Datasets\n"
   ]
  },
  {
   "cell_type": "markdown",
   "metadata": {},
   "source": [
    "### Distributed"
   ]
  },
  {
   "cell_type": "code",
   "execution_count": 1186,
   "metadata": {
    "collapsed": false
   },
   "outputs": [
    {
     "data": {
      "text/html": [
       "<div>\n",
       "<table border=\"1\" class=\"dataframe\">\n",
       "  <thead>\n",
       "    <tr style=\"text-align: right;\">\n",
       "      <th></th>\n",
       "      <th>Id</th>\n",
       "      <th>Name</th>\n",
       "      <th>NbBikes</th>\n",
       "      <th>ShortName</th>\n",
       "      <th>Timestamp</th>\n",
       "    </tr>\n",
       "  </thead>\n",
       "  <tbody>\n",
       "    <tr>\n",
       "      <th>0</th>\n",
       "      <td>BikePoints_531</td>\n",
       "      <td>Twig Folly Bridge, Mile End</td>\n",
       "      <td>14</td>\n",
       "      <td>Twig Folly Bridge</td>\n",
       "      <td>2015-01-01 08:45:00</td>\n",
       "    </tr>\n",
       "    <tr>\n",
       "      <th>1</th>\n",
       "      <td>BikePoints_722</td>\n",
       "      <td>Finnis Street, Bethnal Green</td>\n",
       "      <td>14</td>\n",
       "      <td>Finnis Street</td>\n",
       "      <td>2015-01-01 09:37:00</td>\n",
       "    </tr>\n",
       "    <tr>\n",
       "      <th>2</th>\n",
       "      <td>BikePoints_379</td>\n",
       "      <td>Turquoise Island, Notting Hill</td>\n",
       "      <td>10</td>\n",
       "      <td>Turquoise Island</td>\n",
       "      <td>2015-01-01 12:06:00</td>\n",
       "    </tr>\n",
       "    <tr>\n",
       "      <th>3</th>\n",
       "      <td>BikePoints_335</td>\n",
       "      <td>Tavistock Street, Covent Garden</td>\n",
       "      <td>18</td>\n",
       "      <td>Tavistock Street</td>\n",
       "      <td>2015-01-01 12:29:00</td>\n",
       "    </tr>\n",
       "    <tr>\n",
       "      <th>5</th>\n",
       "      <td>BikePoints_147</td>\n",
       "      <td>Portugal Street, Holborn</td>\n",
       "      <td>8</td>\n",
       "      <td>Portugal Street</td>\n",
       "      <td>2015-01-01 12:48:00</td>\n",
       "    </tr>\n",
       "  </tbody>\n",
       "</table>\n",
       "</div>"
      ],
      "text/plain": [
       "               Id                             Name  NbBikes  \\\n",
       "0  BikePoints_531      Twig Folly Bridge, Mile End       14   \n",
       "1  BikePoints_722     Finnis Street, Bethnal Green       14   \n",
       "2  BikePoints_379   Turquoise Island, Notting Hill       10   \n",
       "3  BikePoints_335  Tavistock Street, Covent Garden       18   \n",
       "5  BikePoints_147         Portugal Street, Holborn        8   \n",
       "\n",
       "           ShortName           Timestamp  \n",
       "0  Twig Folly Bridge 2015-01-01 08:45:00  \n",
       "1      Finnis Street 2015-01-01 09:37:00  \n",
       "2   Turquoise Island 2015-01-01 12:06:00  \n",
       "3   Tavistock Street 2015-01-01 12:29:00  \n",
       "5    Portugal Street 2015-01-01 12:48:00  "
      ]
     },
     "execution_count": 1186,
     "metadata": {},
     "output_type": "execute_result"
    }
   ],
   "source": [
    "distributed.head()"
   ]
  },
  {
   "cell_type": "code",
   "execution_count": 1187,
   "metadata": {
    "collapsed": false
   },
   "outputs": [
    {
     "data": {
      "text/html": [
       "<div>\n",
       "<table border=\"1\" class=\"dataframe\">\n",
       "  <thead>\n",
       "    <tr style=\"text-align: right;\">\n",
       "      <th></th>\n",
       "      <th>NbBikes</th>\n",
       "    </tr>\n",
       "  </thead>\n",
       "  <tbody>\n",
       "    <tr>\n",
       "      <th>count</th>\n",
       "      <td>30977.000000</td>\n",
       "    </tr>\n",
       "    <tr>\n",
       "      <th>mean</th>\n",
       "      <td>9.904994</td>\n",
       "    </tr>\n",
       "    <tr>\n",
       "      <th>std</th>\n",
       "      <td>5.499570</td>\n",
       "    </tr>\n",
       "    <tr>\n",
       "      <th>min</th>\n",
       "      <td>0.000000</td>\n",
       "    </tr>\n",
       "    <tr>\n",
       "      <th>25%</th>\n",
       "      <td>6.000000</td>\n",
       "    </tr>\n",
       "    <tr>\n",
       "      <th>50%</th>\n",
       "      <td>9.000000</td>\n",
       "    </tr>\n",
       "    <tr>\n",
       "      <th>75%</th>\n",
       "      <td>15.000000</td>\n",
       "    </tr>\n",
       "    <tr>\n",
       "      <th>max</th>\n",
       "      <td>36.000000</td>\n",
       "    </tr>\n",
       "  </tbody>\n",
       "</table>\n",
       "</div>"
      ],
      "text/plain": [
       "            NbBikes\n",
       "count  30977.000000\n",
       "mean       9.904994\n",
       "std        5.499570\n",
       "min        0.000000\n",
       "25%        6.000000\n",
       "50%        9.000000\n",
       "75%       15.000000\n",
       "max       36.000000"
      ]
     },
     "execution_count": 1187,
     "metadata": {},
     "output_type": "execute_result"
    }
   ],
   "source": [
    "distributed.describe()"
   ]
  },
  {
   "cell_type": "code",
   "execution_count": 1188,
   "metadata": {
    "collapsed": false
   },
   "outputs": [
    {
     "name": "stdout",
     "output_type": "stream",
     "text": [
      "<class 'pandas.core.frame.DataFrame'>\n",
      "Int64Index: 30977 entries, 0 to 31123\n",
      "Data columns (total 5 columns):\n",
      "Id           30977 non-null object\n",
      "Name         30977 non-null object\n",
      "NbBikes      30977 non-null uint16\n",
      "ShortName    30977 non-null object\n",
      "Timestamp    30977 non-null datetime64[ns]\n",
      "dtypes: datetime64[ns](1), object(3), uint16(1)\n",
      "memory usage: 12.4 MB\n"
     ]
    }
   ],
   "source": [
    "distributed.info(memory_usage='deep')"
   ]
  },
  {
   "cell_type": "code",
   "execution_count": 1189,
   "metadata": {
    "collapsed": true
   },
   "outputs": [],
   "source": [
    "pickle.dump(distributed, open(\"data/parsed/distributed_dataset_final.p\", \"wb\"))"
   ]
  },
  {
   "cell_type": "markdown",
   "metadata": {},
   "source": [
    "### Distributed"
   ]
  },
  {
   "cell_type": "code",
   "execution_count": 1190,
   "metadata": {
    "collapsed": false
   },
   "outputs": [
    {
     "data": {
      "text/html": [
       "<div>\n",
       "<table border=\"1\" class=\"dataframe\">\n",
       "  <thead>\n",
       "    <tr style=\"text-align: right;\">\n",
       "      <th></th>\n",
       "      <th>Id</th>\n",
       "      <th>Name</th>\n",
       "      <th>NbBikes</th>\n",
       "      <th>ShortName</th>\n",
       "      <th>Timestamp</th>\n",
       "    </tr>\n",
       "  </thead>\n",
       "  <tbody>\n",
       "    <tr>\n",
       "      <th>0</th>\n",
       "      <td>BikePoints_263</td>\n",
       "      <td>St. Mary Axe, Aldgate</td>\n",
       "      <td>5</td>\n",
       "      <td>St. Mary Axe</td>\n",
       "      <td>2015-01-01 07:29:00</td>\n",
       "    </tr>\n",
       "    <tr>\n",
       "      <th>1</th>\n",
       "      <td>BikePoints_46</td>\n",
       "      <td>Nesham Street, Wapping</td>\n",
       "      <td>5</td>\n",
       "      <td>Nesham Street</td>\n",
       "      <td>2015-01-01 07:50:00</td>\n",
       "    </tr>\n",
       "    <tr>\n",
       "      <th>3</th>\n",
       "      <td>BikePoints_282</td>\n",
       "      <td>Royal London Hospital, Whitechapel</td>\n",
       "      <td>4</td>\n",
       "      <td>Royal London Hospital</td>\n",
       "      <td>2015-01-01 08:12:00</td>\n",
       "    </tr>\n",
       "    <tr>\n",
       "      <th>4</th>\n",
       "      <td>BikePoints_461</td>\n",
       "      <td>Aston Street, Stepney</td>\n",
       "      <td>0</td>\n",
       "      <td>Aston Street</td>\n",
       "      <td>2015-01-01 08:28:00</td>\n",
       "    </tr>\n",
       "    <tr>\n",
       "      <th>5</th>\n",
       "      <td>BikePoints_460</td>\n",
       "      <td>Burdett Road, Mile End</td>\n",
       "      <td>10</td>\n",
       "      <td>Burdett Road</td>\n",
       "      <td>2015-01-01 09:03:00</td>\n",
       "    </tr>\n",
       "  </tbody>\n",
       "</table>\n",
       "</div>"
      ],
      "text/plain": [
       "               Id                                Name  NbBikes  \\\n",
       "0  BikePoints_263               St. Mary Axe, Aldgate        5   \n",
       "1   BikePoints_46              Nesham Street, Wapping        5   \n",
       "3  BikePoints_282  Royal London Hospital, Whitechapel        4   \n",
       "4  BikePoints_461               Aston Street, Stepney        0   \n",
       "5  BikePoints_460              Burdett Road, Mile End       10   \n",
       "\n",
       "               ShortName           Timestamp  \n",
       "0           St. Mary Axe 2015-01-01 07:29:00  \n",
       "1          Nesham Street 2015-01-01 07:50:00  \n",
       "3  Royal London Hospital 2015-01-01 08:12:00  \n",
       "4           Aston Street 2015-01-01 08:28:00  \n",
       "5           Burdett Road 2015-01-01 09:03:00  "
      ]
     },
     "execution_count": 1190,
     "metadata": {},
     "output_type": "execute_result"
    }
   ],
   "source": [
    "collected.head()"
   ]
  },
  {
   "cell_type": "code",
   "execution_count": 1191,
   "metadata": {
    "collapsed": false
   },
   "outputs": [
    {
     "data": {
      "text/html": [
       "<div>\n",
       "<table border=\"1\" class=\"dataframe\">\n",
       "  <thead>\n",
       "    <tr style=\"text-align: right;\">\n",
       "      <th></th>\n",
       "      <th>NbBikes</th>\n",
       "    </tr>\n",
       "  </thead>\n",
       "  <tbody>\n",
       "    <tr>\n",
       "      <th>count</th>\n",
       "      <td>30750.000000</td>\n",
       "    </tr>\n",
       "    <tr>\n",
       "      <th>mean</th>\n",
       "      <td>8.522244</td>\n",
       "    </tr>\n",
       "    <tr>\n",
       "      <th>std</th>\n",
       "      <td>5.061514</td>\n",
       "    </tr>\n",
       "    <tr>\n",
       "      <th>min</th>\n",
       "      <td>0.000000</td>\n",
       "    </tr>\n",
       "    <tr>\n",
       "      <th>25%</th>\n",
       "      <td>5.000000</td>\n",
       "    </tr>\n",
       "    <tr>\n",
       "      <th>50%</th>\n",
       "      <td>8.000000</td>\n",
       "    </tr>\n",
       "    <tr>\n",
       "      <th>75%</th>\n",
       "      <td>11.000000</td>\n",
       "    </tr>\n",
       "    <tr>\n",
       "      <th>max</th>\n",
       "      <td>36.000000</td>\n",
       "    </tr>\n",
       "  </tbody>\n",
       "</table>\n",
       "</div>"
      ],
      "text/plain": [
       "            NbBikes\n",
       "count  30750.000000\n",
       "mean       8.522244\n",
       "std        5.061514\n",
       "min        0.000000\n",
       "25%        5.000000\n",
       "50%        8.000000\n",
       "75%       11.000000\n",
       "max       36.000000"
      ]
     },
     "execution_count": 1191,
     "metadata": {},
     "output_type": "execute_result"
    }
   ],
   "source": [
    "collected.describe()"
   ]
  },
  {
   "cell_type": "code",
   "execution_count": 1192,
   "metadata": {
    "collapsed": false
   },
   "outputs": [
    {
     "name": "stdout",
     "output_type": "stream",
     "text": [
      "<class 'pandas.core.frame.DataFrame'>\n",
      "Int64Index: 30750 entries, 0 to 31123\n",
      "Data columns (total 5 columns):\n",
      "Id           30750 non-null object\n",
      "Name         30750 non-null object\n",
      "NbBikes      30750 non-null uint16\n",
      "ShortName    30750 non-null object\n",
      "Timestamp    30750 non-null datetime64[ns]\n",
      "dtypes: datetime64[ns](1), object(3), uint16(1)\n",
      "memory usage: 12.3 MB\n"
     ]
    }
   ],
   "source": [
    "collected.info(memory_usage='deep')"
   ]
  },
  {
   "cell_type": "code",
   "execution_count": 1193,
   "metadata": {
    "collapsed": false
   },
   "outputs": [],
   "source": [
    "pickle.dump(collected, open(\"data/parsed/collected_dataset_final.p\", \"wb\"))"
   ]
  }
 ],
 "metadata": {
  "kernelspec": {
   "display_name": "Python 2",
   "language": "python",
   "name": "python2"
  },
  "language_info": {
   "codemirror_mode": {
    "name": "ipython",
    "version": 2
   },
   "file_extension": ".py",
   "mimetype": "text/x-python",
   "name": "python",
   "nbconvert_exporter": "python",
   "pygments_lexer": "ipython2",
   "version": "2.7.11"
  }
 },
 "nbformat": 4,
 "nbformat_minor": 0
}
